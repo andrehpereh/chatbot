{
 "cells": [
  {
   "cell_type": "code",
   "execution_count": null,
   "id": "f178cfef-2782-4a77-b4f8-7d372a7c61f4",
   "metadata": {
    "tags": []
   },
   "outputs": [],
   "source": [
    "res = !gcloud config get core/project\n",
    "PROJECT_ID = res[0]\n",
    "SERVICE_ACCOUNT = 'gemma-vertexai-chatbot@able-analyst-416817.iam.gserviceaccount.com'\n",
    "from datetime import datetime\n",
    "CONTAINER_IMAGE_NAME=\"gemma-chatbot\"\n",
    "GCP_REGION='us-central1'\n",
    "TAG_NAME = 'masterv9'\n",
    "KAGGLE_USERNAME='andrehpereh1'\n",
    "KAGGLE_KEY='5859e39806d9456749dcbac685f04bc9'\n",
    "CONTAINER_IMAGE_NAME_DATA_PREP = f\"{CONTAINER_IMAGE_NAME}-data-preparation\"\n",
    "CONTAINER_IMAGE_NAME_FINE_TUNE = f\"{CONTAINER_IMAGE_NAME}-fine-tunning\"\n",
    "CONTAINER_IMAGE_NAME_RUN_APP = f\"{CONTAINER_IMAGE_NAME}-running-app\"\n",
    "CONTAINER_IMAGE_NAME_PIPELINE = f\"{CONTAINER_IMAGE_NAME}-pipeline-app\"\n",
    "CONTAINER_IMAGE_RUNNING_APP = f\"{CONTAINER_IMAGE_NAME}-running-app\"\n",
    "BUCKET_NAME = 'able-analyst-416817-chatbot-v1'\n",
    "# BUCKET_URI = f\"gs://{BUCKET_NAME}\"\n",
    "FINE_TUNE_FLAG=  False\n",
    "EPOCHS=12\n",
    "MODEL_NAME=\"gemma_2b_en\"\n",
    "\n",
    "substitutions=\"\"\"\n",
    "_CONTAINER_IMAGE_NAME_PIPELINE={},\\\n",
    "TAG_NAME={},\\\n",
    "_BUCKET_NAME={},\\\n",
    "_FINE_TUNE_FLAG={},\\\n",
    "_EPOCHS={},\\\n",
    "_MODEL_NAME={}\n",
    "\"\"\".format(\n",
    "           CONTAINER_IMAGE_NAME_PIPELINE,\n",
    "           TAG_NAME,\n",
    "           BUCKET_NAME,\n",
    "           FINE_TUNE_FLAG,\n",
    "           EPOCHS,\n",
    "           MODEL_NAME\n",
    "           ).strip()\n",
    "print(substitutions)\n",
    "!gcloud builds submit . --config \"components/pipeline/cloudbuild.yaml\" --substitutions {substitutions} --region={GCP_REGION}\n"
   ]
  },
  {
   "cell_type": "code",
   "execution_count": null,
   "id": "8f946012-e7f1-4438-ad6e-d662efe3f040",
   "metadata": {
    "tags": []
   },
   "outputs": [],
   "source": []
  },
  {
   "cell_type": "code",
   "execution_count": null,
   "id": "8c0b11ab-4f76-406e-87a8-5a7970c5fec2",
   "metadata": {
    "tags": []
   },
   "outputs": [],
   "source": [
    "import os\n",
    "\n",
    "CONTAINER_IMAGE_NAME=\"gemma-chatbot\"\n",
    "GCP_REGION = 'us-central1'\n",
    "TAG_NAME = 'masterv4'\n",
    "\n",
    "CONTAINER_IMAGE_NAME_PIPELINE = f\"{CONTAINER_IMAGE_NAME}-pipeline-app\"\n",
    "CONTAINER_IMAGE_RUNNING_APP = f\"{CONTAINER_IMAGE_NAME}-running-app\"\n",
    "\n",
    "#,_CONTAINER_IMAGE_RUNNING_APP={CONTAINER_IMAGE_RUNNING_APP}\n",
    "substitutions=f\"_CONTAINER_IMAGE_NAME_PIPELINE={CONTAINER_IMAGE_NAME_PIPELINE},TAG_NAME={TAG_NAME}\""
   ]
  },
  {
   "cell_type": "code",
   "execution_count": null,
   "id": "60f135a2-2060-418d-b9aa-98d86181abac",
   "metadata": {
    "tags": []
   },
   "outputs": [],
   "source": [
    "!gcloud builds submit . --config \"./cloudbuil_cloudrun.yaml\" --substitutions {substitutions} --region=us-central1"
   ]
  },
  {
   "cell_type": "code",
   "execution_count": null,
   "id": "36b8ed60-33ed-4ea9-888b-e62721c8728c",
   "metadata": {
    "tags": []
   },
   "outputs": [],
   "source": [
    "\n",
    "!gcloud functions deploy hello_world_trigger \\\n",
    "--gen2 \\\n",
    "--region='us-central1' \\\n",
    "--runtime=python39 \\\n",
    "--source='./components/cloud_functions/' \\\n",
    "--entry-point='trigger_pipeline_cloud_function' \\\n",
    "--trigger-topic='your-pipeline-trigger-topic' \\\n",
    "--memory='2048MB'"
   ]
  },
  {
   "cell_type": "code",
   "execution_count": null,
   "id": "ac5b43c6-efab-4e39-b7a2-0cb7367badce",
   "metadata": {
    "tags": []
   },
   "outputs": [],
   "source": [
    "import kfp\n",
    "kfp.__version__\n",
    "dir(kfp.dsl)"
   ]
  },
  {
   "cell_type": "code",
   "execution_count": null,
   "id": "978a7bfb-2182-44f1-a764-67e428f92352",
   "metadata": {
    "tags": []
   },
   "outputs": [],
   "source": [
    "from components.cloud_functions.main import trigger_pipeline_cloud_function\n",
    "import json\n",
    "\n",
    "data = {\n",
    "    \"user_name\": \"andrehpereh\",\n",
    "    \"files\": [\n",
    "        {\"file_path\": \"gs://personalize-chatbots-v1/andrehpereh/input_data/WhatsApp Chat with Anki.txt\", \"filename\": \"WhatsApp Chat with Anki.txt\"},\n",
    "        {\"file_path\": \"gs://personalize-chatbots-v1/andrehpereh/input_data/WhatsApp Chat with Ilse Flatmate.txt\", \"filename\": \"WhatsApp Chat with Ilse Flatmate.txt\"},\n",
    "        {\"file_path\": \"gs://personalize-chatbots-v1/andrehpereh/input_data/WhatsApp Chat with Michael.txt\", \"filename\": \"WhatsApp Chat with Michael.txt\"}\n",
    "    ],\n",
    "    \"blob_folder\": \"andrehpereh/input_data\",\n",
    "    \"model_name\": \"gemma_2b_en\",\n",
    "    \"epochs\": \"12\",\n",
    "    \"bucket_name\": \"personalize-chatbots-v1\",\n",
    "    \"project_id\": \"able-analyst-416817\"\n",
    "}\n",
    "\n",
    "# Convert dictionary to JSON string\n",
    "json_data = json.dumps(data)\n",
    "\n",
    "# Encode JSON string to bytes\n",
    "data_bytes = json_data.encode('utf-8')\n",
    "\n",
    "# Pass the encoded bytes to the function\n",
    "trigger_pipeline_cloud_function()\n"
   ]
  },
  {
   "cell_type": "code",
   "execution_count": null,
   "id": "6da46322-3139-4427-b552-1f444750a378",
   "metadata": {
    "tags": []
   },
   "outputs": [],
   "source": [
    "import os\n",
    "os.environ['KAGGLE_USERNAME'] = \"andrehpereh1\"\n",
    "os.environ['KAGGLE_KEY'] = \"5859e39806d9456749dcbac685f04bc9\"\n"
   ]
  },
  {
   "cell_type": "code",
   "execution_count": null,
   "id": "d508aa69-1810-4fc2-9a3d-735e55e4ccf0",
   "metadata": {
    "tags": []
   },
   "outputs": [],
   "source": [
    "import importlib\n",
    "import util\n",
    "importlib.reload(util)\n",
    "model_paths_and_config = util.get_model_paths_and_config(Config.MODEL_NAME)\n",
    "model_paths_and_config"
   ]
  },
  {
   "cell_type": "code",
   "execution_count": null,
   "id": "69027026-fb4f-4de3-9e5c-84f7ec881d29",
   "metadata": {
    "tags": []
   },
   "outputs": [],
   "source": [
    "Config.TRAIN_DATA_DIR, Config.BUCKET_NAME"
   ]
  },
  {
   "cell_type": "code",
   "execution_count": null,
   "id": "4b737395-4d42-4a7e-becf-9fbc07a2580d",
   "metadata": {
    "tags": []
   },
   "outputs": [],
   "source": [
    "data = process_whatsapp_chat(Config.BUCKET_NAME, Config.TRAIN_DATA_DIR)"
   ]
  },
  {
   "cell_type": "code",
   "execution_count": null,
   "id": "a4bc1897-d11a-4e8c-852c-af78ad7656cd",
   "metadata": {
    "tags": []
   },
   "outputs": [],
   "source": []
  },
  {
   "cell_type": "code",
   "execution_count": null,
   "id": "ab04ebef-6bad-4c2d-aced-34083491afce",
   "metadata": {
    "tags": []
   },
   "outputs": [],
   "source": [
    "model_paths_and_config"
   ]
  },
  {
   "cell_type": "code",
   "execution_count": null,
   "id": "67913c94-353d-43f3-8026-827aafdbbdbd",
   "metadata": {
    "tags": []
   },
   "outputs": [],
   "source": [
    "finetuned_weights_path = finetune_gemma(data=data[:50], model_paths=model_paths_and_config, fine_tune_flag=False, model_name=Config.MODEL_NAME, rank_lora=Config.SEQUENCE_LENGTH, sequence_length=Config.SEQUENCE_LENGTH, epochs=Config.EPOCHS, batch_size=Config.BATCH_SIZE)"
   ]
  },
  {
   "cell_type": "code",
   "execution_count": null,
   "id": "2b6d2d38-4f7b-4eca-bf72-31027d060ac6",
   "metadata": {
    "tags": []
   },
   "outputs": [],
   "source": [
    "from numba import cuda\n",
    "device = cuda.get_current_device()\n",
    "cuda.select_device(device.id)\n",
    "cuda.close()"
   ]
  },
  {
   "cell_type": "code",
   "execution_count": null,
   "id": "762d8ec4-0a5c-4718-a599-34b74305715c",
   "metadata": {
    "tags": []
   },
   "outputs": [],
   "source": [
    "type(finetuned_weights_path)\n",
    "print(model_paths_and_config['finetuned_weights_path'])\n",
    "print(model_paths_and_config['finetuned_model_dir'])"
   ]
  },
  {
   "cell_type": "code",
   "execution_count": null,
   "id": "8b8d15a7-6344-4faf-8a22-69f203a74676",
   "metadata": {
    "tags": []
   },
   "outputs": [],
   "source": [
    "!gsutil cp gs://able-analyst-416817-chatbot-v1/gemma_2b_en_raw/gemma_2b_en/model.weights.h5 ./test"
   ]
  },
  {
   "cell_type": "code",
   "execution_count": null,
   "id": "6fca7dfb-6fde-4a9f-b879-9be138a35564",
   "metadata": {
    "tags": []
   },
   "outputs": [],
   "source": [
    "finetuned_weights_path.save_weights(\"gs://able-analyst-416817-chatbot-v1/gemma_2b_en_raw/gemma_2b_en/test/model.weights.h5\")\n",
    "finetuned_weights_path.preprocessor.tokenizer.save_assets(\"gs://able-analyst-416817-chatbot-v1/gemma_2b_en_raw/gemma_2b_en/test\")"
   ]
  },
  {
   "cell_type": "code",
   "execution_count": null,
   "id": "511c2ed7-d7fc-4c1b-a73f-e44940701a88",
   "metadata": {
    "tags": []
   },
   "outputs": [],
   "source": [
    "output_dir = convert_checkpoints(\n",
    "    weights_file=model_paths_and_config['finetuned_weights_path'],\n",
    "    size=model_paths_and_config['model_size'],\n",
    "    output_dir=model_paths_and_config['huggingface_model_dir'],\n",
    "    vocab_path=model_paths_and_config['finetuned_vocab_path'],\n",
    ")\n"
   ]
  },
  {
   "cell_type": "code",
   "execution_count": null,
   "id": "202aae46-9fdc-40f6-9d3e-d4f7cb50278b",
   "metadata": {},
   "outputs": [],
   "source": [
    "output_dir=model_paths_and_config['huggingface_model_dir']"
   ]
  },
  {
   "cell_type": "code",
   "execution_count": null,
   "id": "4221ec4a-8da6-463b-943d-c4d66b9615df",
   "metadata": {
    "tags": []
   },
   "outputs": [],
   "source": [
    "model_paths_and_config, Config.BUCKET_NAME\n",
    "bucket_name, blob_name = os.path.dirname(\"gs://able-analyst-416817-chatbot-v1/gemma_2b_en_raw/gemma_2b_en/model.weights.h5\").lstrip(\"gs://\").split(\"/\", 1) \n",
    "bucket_name, blob_name"
   ]
  },
  {
   "cell_type": "code",
   "execution_count": null,
   "id": "ea9b7e0c-e4bd-4ed8-95a8-16eac527e81d",
   "metadata": {
    "tags": []
   },
   "outputs": [],
   "source": [
    "os.path.basename(\"gs://able-analyst-416817-chatbot-v1/gemma_2b_en_raw/gemma_2b_en/model.weights.h5\")"
   ]
  },
  {
   "cell_type": "code",
   "execution_count": null,
   "id": "97ad8c09-c59c-4424-8165-24e5716740e4",
   "metadata": {},
   "outputs": [],
   "source": [
    "destination_path = upload2bs(local_directory = output_dir, bucket_name = Config.BUCKET_NAME, destination_subfolder = model_paths_and_config['deployed_model_blob'])"
   ]
  },
  {
   "cell_type": "code",
   "execution_count": null,
   "id": "98ac8551-f497-4b79-b6bd-41b5034c3011",
   "metadata": {
    "tags": []
   },
   "outputs": [],
   "source": [
    "import importlib\n",
    "import util\n",
    "importlib.reload(util)\n",
    "\n",
    "util.download_all_from_blob(Config.BUCKET_NAME, \"gemma_2b_en_raw/gemma_2b_en\", './')"
   ]
  },
  {
   "cell_type": "code",
   "execution_count": null,
   "id": "fe16877b-31ae-44c2-8b07-d90e5ad9e849",
   "metadata": {
    "tags": []
   },
   "outputs": [],
   "source": [
    "Config.BUCKET_NAME\n",
    "model_paths_and_config['huggingface_model_dir']"
   ]
  },
  {
   "cell_type": "code",
   "execution_count": null,
   "id": "86b9a6a6-9cf8-4fb4-a9e2-69f867cc31c4",
   "metadata": {
    "tags": []
   },
   "outputs": [],
   "source": [
    "model_paths_and_config['deployed_model_blob']"
   ]
  },
  {
   "cell_type": "code",
   "execution_count": null,
   "id": "acea5a28-8c3c-44d7-87aa-1952de6c3a63",
   "metadata": {},
   "outputs": [],
   "source": [
    "aiplatform.init(project=Config.PROJECT_ID, location=Config.REGION, staging_bucket=Config.BUCKET_URI)"
   ]
  },
  {
   "cell_type": "code",
   "execution_count": null,
   "id": "61b32639-f0ac-459a-924b-db590770a837",
   "metadata": {
    "tags": []
   },
   "outputs": [],
   "source": [
    "import datetime\n",
    "VLLM_DOCKER_URI = \"us-docker.pkg.dev/vertex-ai/vertex-vision-model-garden-dockers/pytorch-vllm-serve:20240220_0936_RC01\"\n",
    "\n",
    "\n",
    "def get_job_name_with_datetime(prefix: str) -> str:\n",
    "    suffix = datetime.datetime.now().strftime(\"_%Y%m%d_%H%M%S\")\n",
    "    return f\"{prefix}{suffix}\"\n",
    "\n",
    "\n",
    "def deploy_model_vllm(\n",
    "    model_name: str,\n",
    "    model_uri: str,\n",
    "    service_account: str,\n",
    "    machine_type: str = \"g2-standard-8\",\n",
    "    accelerator_type: str = \"NVIDIA_L4\",\n",
    "    accelerator_count: int = 1,\n",
    "    max_model_len: int = 8192,\n",
    "    dtype: str = \"bfloat16\",\n",
    ") -> tuple[aiplatform.Model, aiplatform.Endpoint]:\n",
    "    # Upload the model to \"Model Registry\"\n",
    "    job_name = get_job_name_with_datetime(model_name)\n",
    "    vllm_args = [\n",
    "        \"--host=0.0.0.0\",\n",
    "        \"--port=7080\",\n",
    "        f\"--tensor-parallel-size={accelerator_count}\",\n",
    "        \"--swap-space=16\",\n",
    "        \"--gpu-memory-utilization=0.95\",\n",
    "        f\"--max-model-len={max_model_len}\",\n",
    "        f\"--dtype={dtype}\",\n",
    "        \"--disable-log-stats\",\n",
    "    ]\n",
    "    model = aiplatform.Model.upload(\n",
    "        display_name=job_name,\n",
    "        artifact_uri=model_uri,\n",
    "        serving_container_image_uri=VLLM_DOCKER_URI,\n",
    "        serving_container_command=[\"python\", \"-m\", \"vllm.entrypoints.api_server\"],\n",
    "        serving_container_args=vllm_args,\n",
    "        serving_container_ports=[7080],\n",
    "        serving_container_predict_route=\"/generate\",\n",
    "        serving_container_health_route=\"/ping\",\n",
    "    )\n",
    "\n",
    "    # Deploy the model to an endpoint to serve \"Online predictions\"\n",
    "    endpoint = aiplatform.Endpoint.create(display_name=f\"{model_name}-endpoint\")\n",
    "    model.deploy(\n",
    "        endpoint=endpoint,\n",
    "        machine_type=machine_type,\n",
    "        accelerator_type=accelerator_type,\n",
    "        accelerator_count=accelerator_count,\n",
    "        deploy_request_timeout=1800,\n",
    "        service_account=service_account,\n",
    "    )\n",
    "\n",
    "    return model, endpoint"
   ]
  },
  {
   "cell_type": "code",
   "execution_count": null,
   "id": "c07dfde0-7192-48af-9730-d3b692cf878a",
   "metadata": {
    "tags": []
   },
   "outputs": [],
   "source": [
    "# Set up artificially since the model was already in a bucket\n",
    "model_paths_and_config['deployed_model_uri'] = 'gs://able-analyst-416817-chatbot-v1/gemma_2b_en/20240314162107'\n",
    "model_paths_and_config['model_name_vllm']"
   ]
  },
  {
   "cell_type": "code",
   "execution_count": null,
   "id": "251fc433-3657-434e-a64c-6b351bf143ae",
   "metadata": {
    "tags": []
   },
   "outputs": [],
   "source": [
    "max_model_len = 2048\n",
    "\n",
    "model, endpoint = deploy_model_vllm(\n",
    "    model_name=model_paths_and_config['model_name_vllm'],\n",
    "    model_uri=model_paths_and_config['deployed_model_uri'],\n",
    "    service_account=Config.SERVICE_ACCOUNT,\n",
    "    machine_type=model_paths_and_config['machine_type'],\n",
    "    accelerator_type=model_paths_and_config['accelerator_type'],\n",
    "    accelerator_count=model_paths_and_config['accelerator_count'],\n",
    "    max_model_len=max_model_len,\n",
    ")"
   ]
  },
  {
   "cell_type": "code",
   "execution_count": null,
   "id": "69dc40ff-d622-423b-8c43-f066e93907e8",
   "metadata": {
    "tags": []
   },
   "outputs": [],
   "source": []
  },
  {
   "cell_type": "code",
   "execution_count": null,
   "id": "d88520f0-174a-4cb7-97c4-41a1fbcaca81",
   "metadata": {},
   "outputs": [],
   "source": []
  },
  {
   "cell_type": "code",
   "execution_count": null,
   "id": "b0e2a926-dac3-4dfd-a184-515685b4b657",
   "metadata": {
    "tags": []
   },
   "outputs": [],
   "source": []
  },
  {
   "cell_type": "code",
   "execution_count": null,
   "id": "0f6f329e-9925-42fe-8362-3ca5c97f1cb0",
   "metadata": {
    "tags": []
   },
   "outputs": [],
   "source": [
    "TEST_EXAMPLES = [\n",
    "    \"What is the plan for tonight?\",\n",
    "    \"What would you like to drink?\",\n",
    "    \"Are you coming tonight?\"\n",
    "]\n",
    "\n",
    "# Prompt template for the training data and the finetuning tests\n",
    "PROMPT_TEMPLATE = \"Sender:\\n{instruction}\\n\\nAndres Perez:\\n{response}\"\n",
    "\n",
    "TEST_PROMPTS = [\n",
    "    PROMPT_TEMPLATE.format(instruction=example, response=\"\")\n",
    "    for example in TEST_EXAMPLES\n",
    "]\n",
    "\n",
    "def test_vertexai_endpoint(endpoint: aiplatform.Endpoint):\n",
    "    for question, prompt in zip(TEST_EXAMPLES, TEST_PROMPTS):\n",
    "        instance = {\n",
    "            \"prompt\": prompt,\n",
    "            \"max_tokens\": 56,\n",
    "            \"temperature\": 0.0,\n",
    "            \"top_p\": 1.0,\n",
    "            \"top_k\": 1,\n",
    "            \"raw_response\": True,\n",
    "        }\n",
    "        response = endpoint.predict(instances=[instance])\n",
    "        output = response.predictions[0]\n",
    "        print(f\"{question}\\n{output}\\n{'- '*40}\")\n",
    "\n",
    "\n",
    "test_vertexai_endpoint(endpoint)"
   ]
  },
  {
   "cell_type": "code",
   "execution_count": null,
   "id": "518bd694-aa5b-45f4-934a-894c33b2bf8a",
   "metadata": {
    "tags": []
   },
   "outputs": [],
   "source": [
    "res = !gcloud config get core/project\n",
    "PROJECT_ID = res[0]\n",
    "SERVICE_ACCOUNT = 'gemma-vertexai-chatbot@able-analyst-416817.iam.gserviceaccount.com'\n",
    "from datetime import datetime\n",
    "CONTAINER_IMAGE_NAME=\"gemma-chatbot\"\n",
    "GCP_REGION='us-central1'\n",
    "IMAGE_NAME=\"gemma-chatbot\"\n",
    "TAG_NAME = 'latest'\n",
    "KAGGLE_USERNAME='andrehpereh1'\n",
    "KAGGLE_KEY='5859e39806d9456749dcbac685f04bc9'"
   ]
  },
  {
   "cell_type": "code",
   "execution_count": null,
   "id": "60d98f42-6a85-4324-81a7-dd1c6b5bab4b",
   "metadata": {
    "tags": []
   },
   "outputs": [],
   "source": [
    "SUBSTITUTIONS=\"\"\"\n",
    "_CONTAINER_IMAGE_NAME={},\\\n",
    "TAG_NAME={}\\\n",
    "\"\"\".format(\n",
    "           f\"{CONTAINER_IMAGE_NAME}-data-preparation\",\n",
    "           TAG_NAME, \n",
    "           ).strip()\n",
    "print(SUBSTITUTIONS)\n"
   ]
  },
  {
   "cell_type": "code",
   "execution_count": null,
   "id": "dfd38dea-1f7f-486d-bf3e-1b3a1f69582c",
   "metadata": {
    "tags": []
   },
   "outputs": [],
   "source": [
    "# Runs the data_preparation component image. (Development, when tested should be moved to the main cloudbuild in the project folder)\n",
    "# Pay attention to the \".\" after summit. Might need some changes when move to the master pipeline.\n",
    "!gcloud builds submit . --timeout=15m --config \"components/data_preparation/cloudbuild.yaml\" --substitutions {SUBSTITUTIONS} --region={GCP_REGION}\n",
    "# DO not forget the tag\n",
    "#!docker run gcr.io/able-analyst-416817/gemma-chatbot-data-preparation:latest data_ingestion.py --bucket-name 'able-analyst-416817-chatbot-v1' --directory 'input_data/andrehpereh'"
   ]
  },
  {
   "cell_type": "code",
   "execution_count": null,
   "id": "1a0d0f14-b406-4a5a-bc6b-fa4e8da5cc62",
   "metadata": {
    "tags": []
   },
   "outputs": [],
   "source": []
  },
  {
   "cell_type": "code",
   "execution_count": null,
   "id": "9250f9bf-5bf0-4bd2-8f5f-3f10daf9dc8c",
   "metadata": {
    "tags": []
   },
   "outputs": [],
   "source": [
    "SUBSTITUTIONS=\"\"\"\n",
    "_CONTAINER_IMAGE_NAME={},\\\n",
    "_KAGGLE_USERNAME={},\\\n",
    "_KAGGLE_KEY={},\\\n",
    "TAG_NAME={}\\\n",
    "\"\"\".format(\n",
    "           f\"{CONTAINER_IMAGE_NAME}-fine-tunning\",\n",
    "           KAGGLE_USERNAME,\n",
    "           KAGGLE_KEY,\n",
    "           TAG_NAME, \n",
    "           ).strip()\n",
    "print(SUBSTITUTIONS)\n",
    "\n",
    "# Builds image\n",
    "!gcloud builds submit . --config \"components/fine_tunning/cloudbuild.yaml\" --substitutions {SUBSTITUTIONS} --region={GCP_REGION}\n"
   ]
  },
  {
   "cell_type": "code",
   "execution_count": null,
   "id": "8ef60c94-45b0-4cf2-a7d1-cf96b3f6ad6a",
   "metadata": {
    "tags": []
   },
   "outputs": [],
   "source": []
  },
  {
   "cell_type": "code",
   "execution_count": null,
   "id": "0452fcec-bd44-4ab8-801b-e6f804b5a432",
   "metadata": {
    "tags": []
   },
   "outputs": [],
   "source": []
  },
  {
   "cell_type": "code",
   "execution_count": null,
   "id": "e961b567-3239-4c10-915f-67fd98515c95",
   "metadata": {
    "tags": []
   },
   "outputs": [],
   "source": [
    "import json\n",
    "\n",
    "data = [\"Sender: FoooodddAndres Perez: Coming :)\", \"Sender: Can I maybe borrow your iron? Andres Perez: It\\'s not my iron But yeah haha Or is it?\"]\n",
    "model_paths = \"\"\"{\"finetuned_model_dir\": \"./gemma_2b_en\", \"finetuned_weights_path\": \"./gemma_2b_en/model.weights.h5\"}\"\"\"\n",
    "print(len(data))\n",
    "model_paths = json.dumps(model_paths)\n",
    "#!docker run gcr.io/able-analyst-416817/gemma-chatbot-fine-tunning:latest trainer.py --data {data} --model-paths {model_paths}"
   ]
  },
  {
   "cell_type": "code",
   "execution_count": null,
   "id": "090fa27a-121a-4954-8ddc-973415226bd5",
   "metadata": {
    "tags": []
   },
   "outputs": [],
   "source": [
    "!python ./components/fine_tunning/trainer.py --data {data} --model-paths {model_paths}"
   ]
  },
  {
   "cell_type": "code",
   "execution_count": null,
   "id": "6eb2aa69-a793-4a4f-b8e4-92731c92b6ac",
   "metadata": {
    "tags": []
   },
   "outputs": [],
   "source": [
    "model_paths_and_config['huggingface_model_dir']"
   ]
  },
  {
   "cell_type": "code",
   "execution_count": null,
   "id": "d2d84c44-c65c-4ae1-9a4c-6d293f139495",
   "metadata": {
    "tags": []
   },
   "outputs": [],
   "source": [
    "!python ./components/fine_tunning/conversion_function.py --weights-file {model_paths_and_config['finetuned_weights_path']} --size {model_paths_and_config['model_size']} --vocab-path {model_paths_and_config['finetuned_vocab_path']} --output-dir {model_paths_and_config['huggingface_model_dir']}"
   ]
  },
  {
   "cell_type": "code",
   "execution_count": null,
   "id": "48f6c134-bd9a-4fda-8e29-31ef6c8aea4e",
   "metadata": {},
   "outputs": [],
   "source": [
    "output_dir = convert_checkpoints(\n",
    "    weights_file=model_paths_and_config['finetuned_weights_path'],\n",
    "    size=model_paths_and_config['model_size'],\n",
    "    output_dir=model_paths_and_config['huggingface_model_dir'],\n",
    "    vocab_path=model_paths_and_config['finetuned_vocab_path'],\n",
    ")"
   ]
  },
  {
   "cell_type": "code",
   "execution_count": null,
   "id": "e6404c6c-d998-4253-bbf3-3f83b29abe94",
   "metadata": {
    "tags": []
   },
   "outputs": [],
   "source": [
    "import json\n",
    "SUBSTITUTIONS=\"\"\"\n",
    "_CONTAINER_IMAGE_NAME={},\\\n",
    "TAG_NAME={}\\\n",
    "\"\"\".format(\n",
    "           f\"{CONTAINER_IMAGE_NAME}-experimental\",\n",
    "           TAG_NAME,\n",
    "           ).strip()\n",
    "print(SUBSTITUTIONS)\n",
    "data = '\"[\\\\\"Sender: FoooodddAndres Perez: Coming :)\\\\\", \\\\\"Sender: Can I maybe borrow your iron? Andres Perez: It\\'s not my iron But yeah haha Or is it?\\\\\"]\"'\n",
    "model_paths = \"\"\"{\"finetuned_model_dir\": \"./gemma_2b_en\", \"finetuned_weights_path\": \"./gemma_2b_en/model.weights.h5\"}\"\"\"\n",
    "data_json = json.dumps(data)\n",
    "model_paths_json = json.dumps(model_paths)\n",
    "#!gcloud builds submit . --timeout=15m --config \"components/experimental/cloudbuild.yaml\" --substitutions {SUBSTITUTIONS} --region={GCP_REGION}\n",
    "!docker run gcr.io/able-analyst-416817/gemma-chatbot-experimental:latest experimental.py {data_json} {model_paths_json}\n"
   ]
  },
  {
   "cell_type": "code",
   "execution_count": null,
   "id": "bff6c518-79e1-4ec6-a832-39ae6f364ed6",
   "metadata": {
    "tags": []
   },
   "outputs": [],
   "source": [
    "#Re-runs the image to restart the website, service account might be needed with this one.  (Development, when tested should be moved to the main cloudbuild in the project folder)\n",
    "SUBSTITUTIONS=\"\"\"\n",
    "_CONTAINER_IMAGE_NAME={},\\\n",
    "_GCP_REGION={},\\\n",
    "TAG_NAME={}\\\n",
    "\"\"\".format(\n",
    "           f\"{CONTAINER_IMAGE_NAME}-running-app\",\n",
    "           GCP_REGION,\n",
    "           TAG_NAME, \n",
    "           ).strip()\n",
    "print(SUBSTITUTIONS)\n",
    "!gcloud builds submit . --timeout=15m --config \"components/app_flask/cloudbuild.yaml\" --substitutions {SUBSTITUTIONS} --region={GCP_REGION}\n",
    "#!gcloud builds submit . --timeout=15m --config \"cloudbuild.yaml\" --substitutions {SUBSTITUTIONS} --region={GCP_REGION}\n"
   ]
  },
  {
   "cell_type": "code",
   "execution_count": null,
   "id": "30e1cae7-c300-4cd1-aa97-c7fef2efaa5a",
   "metadata": {
    "tags": []
   },
   "outputs": [],
   "source": []
  },
  {
   "cell_type": "code",
   "execution_count": null,
   "id": "4b05aa3f-9a40-41db-8553-b65d7dee4352",
   "metadata": {
    "tags": []
   },
   "outputs": [],
   "source": [
    "SUBSTITUTIONS=\"\"\"\n",
    "_CONTAINER_IMAGE_NAME={},\\\n",
    "_GCP_REGION={},\\\n",
    "TAG_NAME={}\\\n",
    "\"\"\".format(\n",
    "           f\"{CONTAINER_IMAGE_NAME}-running-app\",\n",
    "           GCP_REGION,\n",
    "           TAG_NAME, \n",
    "           ).strip()\n",
    "print(SUBSTITUTIONS)\n",
    "!gcloud builds submit . --timeout=15m --config \"components/app_flask/cloudbuild.yaml\" --substitutions {SUBSTITUTIONS} --region={GCP_REGION}\n",
    "#!gcloud builds submit . --timeout=15m --config \"cloudbuild.yaml\" --substitutions {SUBSTITUTIONS} --region={GCP_REGION}"
   ]
  },
  {
   "cell_type": "code",
   "execution_count": null,
   "id": "8cb10f3c-b135-470b-a74b-0c825e0f0761",
   "metadata": {},
   "outputs": [],
   "source": []
  },
  {
   "cell_type": "code",
   "execution_count": null,
   "id": "e0aa1979-e2f1-41ce-a3f4-bab8465866e5",
   "metadata": {
    "tags": []
   },
   "outputs": [],
   "source": []
  },
  {
   "cell_type": "code",
   "execution_count": null,
   "id": "53b974a3-cab2-425e-bfc5-dcb01d45b5ba",
   "metadata": {
    "tags": []
   },
   "outputs": [],
   "source": [
    "from config import Config\n",
    "from util import get_model_paths_and_config, upload2bs\n",
    "\n",
    "res = !gcloud config get core/project\n",
    "PROJECT_ID = res[0]\n",
    "from google.cloud import compute_v1\n",
    "\n",
    "project = PROJECT_ID  # Replace with your project ID\n",
    "\n",
    "# Regions to consider\n",
    "regions = [\"us-central1\", \"europe-west4\", \"asia-east1\"]  \n",
    "\n",
    "client = compute_v1.AcceleratorTypesClient()\n",
    "\n",
    "for region in regions:\n",
    "    zone_client = compute_v1.ZonesClient()\n",
    "    all_zones = zone_client.list(project=project)\n",
    "\n",
    "    zone_list = [zone for zone in all_zones if zone.region == f\"regions/{region}\"]\n",
    "\n",
    "    for zone in zone_list:\n",
    "        result = client.describe(\n",
    "            project=project, zone=zone.name, accelerator_type=\"nvidia-l4\"\n",
    "        )\n",
    "        # If the result isn't an error, the 'nvidia-l4' type is available\n",
    "        GCP_REGION = region  # Update your region variable\n",
    "        break "
   ]
  },
  {
   "cell_type": "code",
   "execution_count": null,
   "id": "11402c19-d1b8-4b8c-a959-932ca09fcf18",
   "metadata": {
    "tags": []
   },
   "outputs": [],
   "source": []
  },
  {
   "cell_type": "code",
   "execution_count": null,
   "id": "5cf7ac36-bc0e-4e00-928f-1c7247b9685e",
   "metadata": {
    "tags": []
   },
   "outputs": [],
   "source": []
  },
  {
   "cell_type": "code",
   "execution_count": null,
   "id": "09398956-e97e-411b-a1fe-9e05ff61e6d9",
   "metadata": {
    "tags": []
   },
   "outputs": [],
   "source": [
    "!bq mk chatbot"
   ]
  },
  {
   "cell_type": "code",
   "execution_count": null,
   "id": "34a52d27-b74b-4211-b650-7f16444fe8b1",
   "metadata": {
    "tags": []
   },
   "outputs": [],
   "source": [
    "from google.cloud import bigquery\n",
    "import os\n",
    "\n",
    "# Construct a BigQuery client object\n",
    "os.environ['PROJECT_ID'] = 'able-analyst-416817'\n",
    "client = bigquery.Client(os.environ.get('PROJECT_ID'))\n",
    "\n",
    "# Define your dataset and table information\n",
    "project_id = os.environ.get('PROJECT_ID')\n",
    "project = os.environ.get('PROJECT_ID')"
   ]
  },
  {
   "cell_type": "code",
   "execution_count": null,
   "id": "dafdfdea-c57b-4a26-ac5f-2775ff291bbb",
   "metadata": {
    "tags": []
   },
   "outputs": [],
   "source": [
    "\n",
    "dataset_id = \"chatbot\"\n",
    "table_id = \"users\" \n",
    "\n",
    "# Schema definition\n",
    "schema = [\n",
    "    # bigquery.SchemaField(\"user_id\", \"INTEGER\", mode=\"REQUIRED\"),\n",
    "    bigquery.SchemaField(\"email\", \"STRING\", mode=\"REQUIRED\"),\n",
    "    bigquery.SchemaField(\"password_hash\", \"STRING\", mode=\"REQUIRED\"),\n",
    "    bigquery.SchemaField(\"created_at\", \"TIMESTAMP\", description=\"Record creation timestamp\")  \n",
    "    #bigquery.SchemaField(\"salt\", \"STRING\", mode=\"REQUIRED\"),\n",
    "    #bigquery.SchemaField(\"created_at\", \"TIMESTAMP\", mode=\"REQUIRED\"),\n",
    "    #bigquery.SchemaField(\"last_login\", \"TIMESTAMP\", mode=\"NULLABLE\") \n",
    "]\n",
    "\n",
    "# Create a table object\n",
    "table = bigquery.Table(project_id + \".\" + dataset_id + \".\" + table_id, schema=schema)\n",
    "\n",
    "# Create the table in BigQuery\n",
    "table = client.create_table(table)  \n",
    "print(\"Created table {}.{}.{}\".format(table.project, table.dataset_id, table.table_id))\n"
   ]
  },
  {
   "cell_type": "code",
   "execution_count": null,
   "id": "b41c1b33-ba5a-4b0f-aef8-c7a872f1a6fe",
   "metadata": {
    "tags": []
   },
   "outputs": [],
   "source": [
    "dataset_id = \"chatbot\"\n",
    "table_id = \"user_training_status\" "
   ]
  },
  {
   "cell_type": "code",
   "execution_count": null,
   "id": "fed69c43-8407-460b-bd2d-1ac0ed39a610",
   "metadata": {
    "tags": []
   },
   "outputs": [],
   "source": [
    "# Schema definition\n",
    "schema = [\n",
    "    bigquery.SchemaField(\"email\", \"STRING\", mode=\"REQUIRED\"),\n",
    "    bigquery.SchemaField(\"training_status\", \"BOOL\", mode=\"REQUIRED\"),\n",
    "    bigquery.SchemaField(\"end_point\", \"STRING\", mode=\"NULLABLE\"),\n",
    "    bigquery.SchemaField(\"created_at\", \"TIMESTAMP\", description=\"Record creation timestamp\")  \n",
    "]\n",
    "\n",
    "# Create a table object\n",
    "table = bigquery.Table(project_id + \".\" + dataset_id + \".\" + table_id, schema=schema)\n",
    "\n",
    "# Create the table in BigQuery\n",
    "table = client.create_table(table)  \n",
    "print(\"Created table {}.{}.{}\".format(table.project, table.dataset_id, table.table_id))"
   ]
  },
  {
   "cell_type": "code",
   "execution_count": null,
   "id": "f319dab7-7bf8-4346-9d43-952f158d9fa0",
   "metadata": {
    "tags": []
   },
   "outputs": [],
   "source": [
    "dataset_id = \"chatbot\"\n",
    "table_id = \"users_endpoints\" "
   ]
  },
  {
   "cell_type": "code",
   "execution_count": null,
   "id": "f8af8d90-a372-40a9-a08b-5284ad58321d",
   "metadata": {},
   "outputs": [],
   "source": [
    "schema = [\n",
    "    bigquery.SchemaField(\"email\", \"STRING\", mode=\"REQUIRED\"),\n",
    "    bigquery.SchemaField(\"training_status\", \"BOOL\", mode=\"REQUIRED\"),\n",
    "    bigquery.SchemaField(\"end_point\", \"STRING\", mode=\"NULLABLE\"),\n",
    "    bigquery.SchemaField(\"created_at\", \"TIMESTAMP\", description=\"Record creation timestamp\")  \n",
    "]\n",
    "\n",
    "# Create a table object\n",
    "table = bigquery.Table(project_id + \".\" + dataset_id + \".\" + table_id, schema=schema)\n",
    "\n",
    "# Create the table in BigQuery\n",
    "table = client.create_table(table)  \n",
    "print(\"Created table {}.{}.{}\".format(table.project, table.dataset_id, table.table_id))"
   ]
  },
  {
   "cell_type": "code",
   "execution_count": null,
   "id": "8dc4f405-127a-44db-8937-76a56866689a",
   "metadata": {
    "tags": []
   },
   "outputs": [],
   "source": [
    "from kfp import dsl"
   ]
  },
  {
   "cell_type": "code",
   "execution_count": null,
   "id": "af5b4e23-227e-40bb-9158-b4b5b5951a7e",
   "metadata": {
    "tags": []
   },
   "outputs": [],
   "source": [
    "from google.cloud import bigquery\n",
    "#This part can be wrapped in a function.\n",
    "query = f\"\"\"\n",
    "UPDATE `{os.environ.get('PROJECT_ID')}.{DATASET_ID}.{USER_TRAINING_STATUS}`\n",
    "SET end_point = '{endpoint_resource}'  \n",
    "WHERE email = '{email}' \n",
    "\"\"\"\n",
    "# Create a query job configuration\n",
    "job_config = bigquery.QueryJobConfig()\n",
    "\n",
    "# Execute the update query\n",
    "query_job = client.query(query, job_config=job_config)\n",
    "query_job.result() \n",
    "\n",
    "print(\"End point has been stored.\")\n"
   ]
  },
  {
   "cell_type": "code",
   "execution_count": null,
   "id": "34f9bed4-ff5d-4bc7-b8bf-dde6ec82ac09",
   "metadata": {},
   "outputs": [],
   "source": []
  },
  {
   "cell_type": "code",
   "execution_count": null,
   "id": "ebc0cca0-72a6-42d8-b738-328e0add6fc4",
   "metadata": {
    "tags": []
   },
   "outputs": [],
   "source": []
  },
  {
   "cell_type": "code",
   "execution_count": null,
   "id": "fe300209-7695-45e5-8f3e-79f49969d4d8",
   "metadata": {
    "tags": []
   },
   "outputs": [],
   "source": [
    "project"
   ]
  },
  {
   "cell_type": "code",
   "execution_count": null,
   "id": "b1eaf461-bbfa-467b-86e4-88e62caea3c2",
   "metadata": {},
   "outputs": [],
   "source": [
    "import os\n",
    "from google.cloud import bigquery\n",
    "DATASET_ID = 'chatbot' # This should be moved to a config file\n",
    "USER_TRAINING_STATUS = 'user_training_status' # This should be moved to a config file\n",
    "#This part can be wrapped in a function\n",
    "email = 'andreshperesh@gmail.com'\n",
    "\n",
    "resource_uri = \"https://us-central1-aiplatform.googleapis.com/v1/projects/24796876098/locations/us-central1/endpoints/2572265671740096512/operations/6634221199406661632\"\n",
    "\n",
    "print(\"This is the passed end pooint\", resource_uri)\n",
    "\n",
    "print(\"This is the project\", project)\n",
    "\n",
    "client = bigquery.Client(project)\n",
    "print(\"This is the client\", client)\n",
    "table_ref = client.dataset(DATASET_ID).table(USER_TRAINING_STATUS)\n",
    "table = client.get_table(table_ref)\n",
    "row_to_insert = {\n",
    "    'email': email,\n",
    "    'end_point': resource_uri,\n",
    "    'training_status': True\n",
    "}\n",
    "client.insert_rows(table, [row_to_insert]) \n",
    "errors = client.insert_rows(table, [row_to_insert])\n",
    "if errors:  # Check if there were errors\n",
    "    print(\"The model has been trained, but error updating resource_uri for {}: {}\".format(email, errors))\n",
    "else:\n",
    "    print(\"User training has been updated\")\n",
    "print(\"End point has been stored.\")\n"
   ]
  },
  {
   "cell_type": "code",
   "execution_count": null,
   "id": "3ee126b2-b9c1-4c46-93e1-4e92a861ce05",
   "metadata": {
    "tags": []
   },
   "outputs": [],
   "source": [
    "import logging\n",
    "import re  \n",
    "\n",
    "# ... rest of your imports ...\n",
    "\n",
    "def predict_custom_trained_model_sample(\n",
    "  project: str,\n",
    "  endpoint_id: str,\n",
    "  location: str = \"us-central1\",\n",
    "  api_endpoint: str = \"us-central1-aiplatform.googleapis.com\",\n",
    "  user_input: str = input\n",
    "):\n",
    "    \n",
    "    \"\"\"\n",
    "    `instances` can be either single instance of type dict or a list\n",
    "    of instances.\n",
    "    \"\"\"\n",
    "    logging.basicConfig(level=logging.INFO)  # Set up basic logging\n",
    "\n",
    "    prompt_input = f\"Sender:\\n{user_input}\\n\\nAndres Perez:\\n\",\n",
    "    instances = {'prompt': prompt_input[0], 'max_tokens': 256, 'temperature': 1.4, 'top_p': 0.8, 'top_k': 4}\n",
    "\n",
    "    # The AI Platform services require regional API endpoints.\n",
    "    client_options = {\"api_endpoint\": api_endpoint}\n",
    "    # Initialize client that will be used to create and send requests.\n",
    "    # This client only needs to be created once, and can be reused for multiple requests.\n",
    "    client = aiplatform.gapic.PredictionServiceClient(client_options=client_options)\n",
    "\n",
    "    try: \n",
    "        # The format of each instance should conform to the deployed model's prediction input schema.\n",
    "        instances = instances if isinstance(instances, list) else [instances]\n",
    "        instances = [\n",
    "          json_format.ParseDict(instance_dict, Value()) for instance_dict in instances\n",
    "        ]\n",
    "        parameters_dict = {}\n",
    "        parameters = json_format.ParseDict(parameters_dict, Value())\n",
    "        endpoint = client.endpoint_path(\n",
    "          project=project, location=location, endpoint=endpoint_id\n",
    "        )\n",
    "\n",
    "        response = client.predict(\n",
    "          endpoint=endpoint, instances=instances, parameters=parameters\n",
    "        )\n",
    "\n",
    "        # The predictions are a google.protobuf.Value representation of the model's predictions.\n",
    "        predictions = response.predictions\n",
    "        pattern = r\"Perez:\\nOutput:\\n(.*)\"\n",
    "        match = re.search(pattern, predictions[0])\n",
    "\n",
    "    if match:\n",
    "        return match.group(1)\n",
    "    else:\n",
    "        logging.warning(\"Prediction not found in the response\")\n",
    "        return \"Error: Prediction not found in the response.\"\n",
    "\n",
    "    except Exception as e:  # Log any exceptions\n",
    "        logging.error(\"Prediction failed: %s\", e) \n",
    "        return \"Error: Problem generating response.\"\n"
   ]
  },
  {
   "cell_type": "code",
   "execution_count": null,
   "id": "e4bf6c94-56d4-4e74-8364-00e2af0a26a7",
   "metadata": {
    "tags": []
   },
   "outputs": [],
   "source": [
    "import re\n",
    "\n",
    "string = \"https://us-central1-aiplatform.googleapis.com/v1/projects/24796876098/locations/us-central1/endpoints/2572265671740096512/operations/6634221199406661632\"\n",
    "\n",
    "pattern = r\"\\/projects\\/([^\\/]+)\\/locations\\/([^\\/]+)\\/endpoints\\/([^\\/]+)\\/operations\\/([^\\/]+)\"\n",
    "\n",
    "match = re.search(pattern, string)\n",
    "\n",
    "if match:\n",
    "    project_id = match.group(1)\n",
    "    location = match.group(2)\n",
    "    endpoint_id = match.group(3)\n",
    "    operation_id = match.group(4)\n",
    "\n",
    "    print(\"Project ID:\", project_id)\n",
    "    print(\"Location:\", location)\n",
    "    print(\"Endpoint ID:\", endpoint_id)"
   ]
  },
  {
   "cell_type": "code",
   "execution_count": null,
   "id": "cc9eac52-5aa7-4fd9-8e16-a22323f5a2cb",
   "metadata": {
    "tags": []
   },
   "outputs": [],
   "source": [
    "with open('Wednesday at 12-33 AM.txt', 'r') as file:\n",
    "    contents = file.read()\n",
    "    print(contents)"
   ]
  },
  {
   "cell_type": "code",
   "execution_count": 2,
   "id": "90da5fe5-1df8-4391-ba2c-f97b97b8cf1a",
   "metadata": {
    "tags": []
   },
   "outputs": [
    {
     "name": "stdout",
     "output_type": "stream",
     "text": [
      "metal-sky-419309\n"
     ]
    }
   ],
   "source": [
    "res = !gcloud config get core/project\n",
    "PROJECT_ID = res[0]\n",
    "import os\n",
    "print(PROJECT_ID)\n",
    "os.environ['PROJECT_ID'] = PROJECT_ID\n",
    "project_id = PROJECT_ID"
   ]
  },
  {
   "cell_type": "code",
   "execution_count": 7,
   "id": "dc3ad00a-7aaf-4cb0-ad67-2bc700e1bf68",
   "metadata": {
    "tags": []
   },
   "outputs": [],
   "source": [
    "import vertexai\n",
    "from vertexai.generative_models import GenerativeModel, ChatSession\n",
    "\n",
    "project_id = project_id\n",
    "location = \"us-central1\"\n",
    "vertexai.init(project=project_id, location=location)\n",
    "model = GenerativeModel(\"gemini-1.5-pro-preview-0409\")\n",
    "chat = model.start_chat()\n",
    "\n",
    "def get_chat_response(chat: ChatSession, prompt: str) -> str:\n",
    "    text_response = []\n",
    "    responses = chat.send_message(prompt, stream=True)\n",
    "    for chunk in responses:\n",
    "        text_response.append(chunk.text)\n",
    "    return \"\".join(text_response)"
   ]
  },
  {
   "cell_type": "code",
   "execution_count": 8,
   "id": "c575c169-6b59-4256-b8de-4f51495dc5dd",
   "metadata": {
    "tags": []
   },
   "outputs": [
    {
     "name": "stdout",
     "output_type": "stream",
     "text": [
      "The colors of a rainbow are:\n",
      "\n",
      "1. Red\n",
      "2. Orange\n",
      "3. Yellow\n",
      "4. Green\n",
      "5. Blue\n",
      "6. Indigo\n",
      "7. Violet \n",
      "\n"
     ]
    }
   ],
   "source": [
    "prompt = \"What are all the colors in a rainbow?\"\n",
    "print(get_chat_response(chat, prompt))"
   ]
  },
  {
   "cell_type": "code",
   "execution_count": 26,
   "id": "3c2b047b-3260-4ce1-b71d-57182295a83c",
   "metadata": {
    "tags": []
   },
   "outputs": [],
   "source": [
    "yes = \"\"\"Write an article based on the following Python code. The article is intended for intermediate-level Python audience.. The article  about  a chatbot described briefly below.\n",
    "\n",
    "\"I turned myself into a chatbot. Go chat with my virtual bot.\n",
    "\n",
    "Do you know that feeling when you're learning about machine learning and you want to go beyond tutorials? That's how I felt, and it led me to build a website where anyone can create their own custom chatbot!\n",
    "\n",
    "This project has been an awesome way to get my hands on #LLMs, #finetunning, #Kubernetes, #Containers, #MachineLearning, #Pipelineorchestration, #GoogleCloud, and #chatbots:\n",
    "\n",
    "#Python + #GoogleCloud:\n",
    "Python has been the backbone of this entire project. Here's how it integrates with the Google Cloud tools I've been using:\n",
    "\n",
    "#VertexAI: My go-to for building, training, and deploying those chatbot models.\n",
    "#KFP (KufeFlow Pipelines): KFP helped me orchestrate the complex machine learning pipelines involved in training the chatbot.\n",
    "#BigQuery: lets me interact with and manage user data.\n",
    "#CloudStorage: Where all the raw conversations that train the chatbots live.\n",
    "#GemmaModels: I leveraged Gemma pre-trained models as a starting point for fine-tuning the chatbot's responses.\n",
    "#GeminiAPI: Turns my transcripts into the kind of data the system can learn from.\n",
    "#Containers #Docker: I containerized each component of the pipeline for the chatbot to make it portable and scalable across different environments.\n",
    "#CloudFunctions: These serverless functions were used to trigger the chatbot training pipeline whenever a new user registered.\n",
    "#Pub/Sub: The backbone of communication, letting my system seamlessly notify components when a new chatbot is born.\n",
    "#Flask: For that friendly website where the magic happens.\n",
    "#CloudBuild & #GitHub: Streamlining my code management and deployment has added a whole new layer of professionalism to the project.\n",
    "\n",
    "Finally, I signed up on the website and fed it with a few of my old transcripts into the system to see what it would come up with. Turns out, it's kind of weird to have an AI version of yourself!\n",
    "\n",
    "The full code is below. Write the article well articulated, link the different topics, components and make a nice story telling about it. Make it as detailed as possible.\"\"\""
   ]
  },
  {
   "cell_type": "code",
   "execution_count": 27,
   "id": "f98a60e9-1ed7-4961-b724-5244930d74f3",
   "metadata": {
    "tags": []
   },
   "outputs": [
    {
     "data": {
      "text/plain": [
       "'Write an article based on the following Python code. The article is intended for intermediate-level Python audience.. The article  about  a chatbot described briefly below.\\n\\n\"I turned myself into a chatbot. Go chat with my virtual bot.\\n\\nDo you know that feeling when you\\'re learning about machine learning and you want to go beyond tutorials? That\\'s how I felt, and it led me to build a website where anyone can create their own custom chatbot!\\n\\nThis project has been an awesome way to get my hands on #LLMs, #finetunning, #Kubernetes, #Containers, #MachineLearning, #Pipelineorchestration, #GoogleCloud, and #chatbots:\\n\\n#Python + #GoogleCloud:\\nPython has been the backbone of this entire project. Here\\'s how it integrates with the Google Cloud tools I\\'ve been using:\\n\\n#VertexAI: My go-to for building, training, and deploying those chatbot models.\\n#KFP (KufeFlow Pipelines): KFP helped me orchestrate the complex machine learning pipelines involved in training the chatbot.\\n#BigQuery: lets me interact with and manage user data.\\n#CloudStorage: Where all the raw conversations that train the chatbots live.\\n#GemmaModels: I leveraged Gemma pre-trained models as a starting point for fine-tuning the chatbot\\'s responses.\\n#GeminiAPI: Turns my transcripts into the kind of data the system can learn from.\\n#Containers #Docker: I containerized each component of the pipeline for the chatbot to make it portable and scalable across different environments.\\n#CloudFunctions: These serverless functions were used to trigger the chatbot training pipeline whenever a new user registered.\\n#Pub/Sub: The backbone of communication, letting my system seamlessly notify components when a new chatbot is born.\\n#Flask: For that friendly website where the magic happens.\\n#CloudBuild & #GitHub: Streamlining my code management and deployment has added a whole new layer of professionalism to the project.\\n\\nFinally, I signed up on the website and fed it with a few of my old transcripts into the system to see what it would come up with. Turns out, it\\'s kind of weird to have an AI version of yourself!\\n\\nThe full code is below. Write the article well articulated, link the different topics, components and make a nice story telling about it. Make it as detailed as possible.'"
      ]
     },
     "execution_count": 27,
     "metadata": {},
     "output_type": "execute_result"
    }
   ],
   "source": [
    "yes"
   ]
  },
  {
   "cell_type": "code",
   "execution_count": 28,
   "id": "4c625f7a-95bb-4a0a-853e-ea3ef112482d",
   "metadata": {
    "tags": []
   },
   "outputs": [],
   "source": [
    "import os\n",
    "\n",
    "def scan_and_append_text(directory_path, output_file=\"gigantic_code.txt\"):\n",
    "    \"\"\"Scans a directory recursively, reads code files, and appends content to an output file with filename separators.\n",
    "\n",
    "    Args:\n",
    "        directory_path (str): The path to the directory to scan.\n",
    "        output_file (str, optional): The name of the output file. Defaults to \"gigantic_code.txt\".\n",
    "    \"\"\"\n",
    "\n",
    "    with open(output_file, 'a') as output:  # Open output file in append mode\n",
    "        for root, _, files in os.walk(directory_path):\n",
    "            for file in files:\n",
    "                if file.endswith(('.py', '.java', '.js', '.cpp', '.c', 'html', 'css', 'Dockerfile')):  # Add your code file extensions\n",
    "                    file_path = os.path.join(root, file)\n",
    "                    try:\n",
    "                        output.write(f'\\n--- File: {file_path} ---\\n')  # File separator with name\n",
    "                        with open(file_path, 'r') as f:\n",
    "                            output.write(f.read())  # Read and append\n",
    "                    except (IOError, OSError) as e:\n",
    "                        print(f\"Error reading file: {file_path} - {e}\")\n",
    "# Example usage\n",
    "directory_to_scan = \"./\" \n",
    "scan_and_append_text(directory_to_scan)\n",
    "with open(\"gigantic_code.txt\", 'r') as f:\n",
    "    all_text = f.read()\n",
    "\n",
    "res = get_chat_response(chat, yes + all_text)\n",
    "\n"
   ]
  },
  {
   "cell_type": "code",
   "execution_count": 29,
   "id": "fe1c897d-ac68-4018-b58d-f5ec7bd31574",
   "metadata": {
    "tags": []
   },
   "outputs": [
    {
     "name": "stdout",
     "output_type": "stream",
     "text": [
      "## Crafting Your Digital Twin: A Comprehensive Guide to Building Personalized Chatbots with Python and Google Cloud\n",
      "\n",
      "Have you ever wished you could have a conversation with an AI version of yourself? This project delves into the captivating world of personalized chatbot creation, using Python and Google Cloud Platform (GCP) to build chatbots that reflect your unique conversational style and personality.\n",
      "\n",
      "**Motivation: Beyond Generic Chatbots**\n",
      "\n",
      "While numerous tutorials offer guidance on building basic chatbots, this project ventures beyond the ordinary. It leverages the power of Large Language Models (LLMs) like Gemma and fine-tuning techniques to create a truly personalized chatbot experience. Users can provide their chat transcripts and text files, enabling the system to learn and adapt to their specific way of communicating. \n",
      "\n",
      "**The Technological Orchestra:**\n",
      "\n",
      "This project harnesses a symphony of cutting-edge technologies:\n",
      "\n",
      "*   **Python:** The conductor of our orchestra, coordinating the script and interaction with various APIs.\n",
      "*   **Google Cloud Platform:**\n",
      "    *   **Vertex AI:** The stage where the chatbot models are built, trained, and deployed. It provides the computational power and scalability needed for efficient model development. \n",
      "    *   **Kubeflow Pipelines (KFP):** Orchestrates the complex machine learning pipeline, ensuring a smooth and automated workflow from data preparation to model deployment. \n",
      "    *   **BigQuery:** Serves as the data warehouse, storing and managing user information, including signup details and training status. \n",
      "    *   **Cloud Storage:** Acts as the repository for raw conversational data and the trained chatbot models, providing a central location for data management. \n",
      "    *   **Gemma Models:** Pre-trained LLMs from KerasNLP, forming the foundation of our chatbots and providing a strong starting point for personalization. \n",
      "    *   **Gemini API:** A powerful tool that transforms user-provided transcripts into a structured format suitable for training the LLM, enabling the model to learn from real conversation data.\n",
      "    *   **Containers (Docker):** Packages each component of the pipeline into portable and scalable units, ensuring flexibility and ease of deployment across different environments. \n",
      "    *   **Cloud Functions:** Serverless functions that act as triggers for the chatbot training pipeline, automatically initiating the process upon user registration and data upload.\n",
      "    *   **Pub/Sub:** The communication channel that allows different components of the system to seamlessly exchange information and events, ensuring a coordinated and efficient workflow.\n",
      "*   **Flask:** The framework used to build the user-friendly web interface where users can interact with their personalized chatbots.\n",
      "*   **Cloud Build & GitHub:** Facilitates streamlined code management and deployment, adding a layer of professionalism and reproducibility to the project. \n",
      "\n",
      "**Deconstructing the Code:**\n",
      "\n",
      "1.  **Data Ingestion and Preparation:**\n",
      "\n",
      "    *   **The Starting Point:** Users begin by uploading their chat transcripts and text files to Cloud Storage.\n",
      "    *   **WhatsApp Chat Processing (`process_whatsapp_chat` in `data_ingestion.py`):** This function meticulously analyzes WhatsApp chat transcripts, extracting speaker names, messages, and timestamps. It then structures the conversations into pairs of messages, forming the building blocks for training data.\n",
      "    *   **Transcript Transformation (`process_transcripts` in `data_ingestion.py`):** This function employs the Gemini API to take user-provided transcripts and generate responses, simulating a back-and-forth conversation. This enriches the training data with a natural conversational flow, enabling the chatbot to learn how to respond more effectively.\n",
      "    *   **Data Preparation (`data_preparation` in `data_ingestion.py`):** This function combines the processed WhatsApp chats and transcripts into a unified format, ready for LLM training. The data is organized as a list of conversational exchanges, capturing the user's unique way of communicating. \n",
      "\n",
      "2.  **Model Training and Fine-tuning:**\n",
      "\n",
      "    *   **The Gemma Model Foundation:** A pre-trained Gemma model from KerasNLP is loaded. This model possesses a vast understanding of language and can generate human-like text, serving as an excellent starting point for personalization. \n",
      "    *   **Fine-tuning for Personalization (`finetune_gemma` in `trainer.py`):** The pre-trained Gemma model undergoes fine-tuning using the user's prepared conversation data. This process adjusts the model's parameters to adapt its responses to the user's specific language patterns, vocabulary, and conversational style. \n",
      "\n",
      "3.  **Model Conversion and Deployment:**\n",
      "\n",
      "    *   **Conversion to Hugging Face Format (`conversion_function.py` and `export_gemma_to_hf.py`):** These scripts facilitate the conversion of the fine-tuned Keras model into the Hugging Face format, ensuring compatibility with Vertex AI for deployment. The converted model is then stored in Cloud Storage. \n",
      "    *   **Pipeline Orchestration (`pipeline.py`):** This script defines the Kubeflow Pipelines pipeline that orchestrates the entire process, automating data preparation, model training, conversion, and deployment. The pipeline ensures a seamless and efficient workflow, reducing manual intervention. \n",
      "    *   **Automated Triggering (`trigger_pipeline.py` and `main.py`):** A Cloud Function, triggered by Pub/Sub, automatically kicks off the Kubeflow pipeline when a new user registers and uploads their data. This automation makes the process seamless and user-friendly. \n",
      "\n",
      "4.  **Web Interface:**\n",
      "\n",
      "    *   **The User Interaction Hub (`app.py` in `./components/app_flask/app`):** This Flask application serves as the backend for the web interface, handling user interactions like registration, login, data upload, and communication with the deployed model on Vertex AI for generating chatbot responses.\n",
      "    *   **The Front-End Experience (`*.html`, `*.js`, `*.css` in `./components/app_flask/app/static`):** These files define the structure, behavior, and visual design of the web interface, providing users with an intuitive and visually appealing platform to interact with their personalized chatbot.\n",
      "\n",
      "**Conclusion: Your Digital Twin Awaits**\n",
      "\n",
      "This project demonstrates the power of combining Python with Google Cloud to build personalized chatbots that go beyond simple responses. By fine-tuning LLMs on user-specific data and utilizing GCP services for efficient training and deployment, we create chatbots that can truly reflect individual communication styles. The journey into the world of personalized AI conversations has just begun!\n",
      "\n"
     ]
    }
   ],
   "source": [
    "print(res)"
   ]
  },
  {
   "cell_type": "code",
   "execution_count": null,
   "id": "d9dce9eb-38a0-43c6-8e9c-3f7215fc3262",
   "metadata": {
    "tags": []
   },
   "outputs": [],
   "source": [
    "\n",
    "from vertexai.preview.generative_models import GenerativeModel\n",
    "gemini_pro_model = GenerativeModel(\"gemini-1.0-pro\")"
   ]
  },
  {
   "cell_type": "code",
   "execution_count": null,
   "id": "6721de39-1933-4f24-9ccd-563644559125",
   "metadata": {
    "tags": []
   },
   "outputs": [],
   "source": [
    "from vertexai import generative_models \n",
    "import vertexai\n",
    "vertexai.__version__"
   ]
  },
  {
   "cell_type": "code",
   "execution_count": null,
   "id": "6fcf3411-a4c4-498a-83fb-267662f2288e",
   "metadata": {
    "tags": []
   },
   "outputs": [],
   "source": [
    "from google.cloud import bigquery\n",
    "import os\n",
    "\n",
    "# Construct a BigQuery client object\n",
    "os.environ['PROJECT_ID'] = 'able-analyst-416817'\n",
    "client = bigquery.Client(os.environ.get('PROJECT_ID'))\n",
    "\n",
    "# Define your dataset and table information\n",
    "project_id = os.environ.get('PROJECT_ID')\n",
    "project = os.environ.get('PROJECT_ID')"
   ]
  },
  {
   "cell_type": "code",
   "execution_count": null,
   "id": "bc327a85-1db9-4687-9b9e-918d7ca8e764",
   "metadata": {
    "tags": []
   },
   "outputs": [],
   "source": [
    "from components.data_preparation import data_ingestion\n",
    "yup = data_ingestion.data_preparation(\n",
    "    bucket_name = 'personalize-chatbots-v1', directory = 'andrehpereh/input_data/',\n",
    "    gemini_pro_model= gemini_pro_model, pair_count=6, data_augmentation_iter=1\n",
    ")"
   ]
  },
  {
   "cell_type": "code",
   "execution_count": null,
   "id": "82b1ac9d-c6af-4fa9-a9df-ce2d420868a8",
   "metadata": {
    "tags": []
   },
   "outputs": [],
   "source": []
  },
  {
   "cell_type": "code",
   "execution_count": null,
   "id": "218769f5-1910-4424-b1e2-8d12b88a7bf0",
   "metadata": {
    "tags": []
   },
   "outputs": [],
   "source": [
    "\n",
    "def translate_text(target: str, text: str) -> dict:\n",
    "    \"\"\"Translates text into the target language.\n",
    "\n",
    "    Target must be an ISO 639-1 language code.\n",
    "    See https://g.co/cloud/translate/v2/translate-reference#supported_languages\n",
    "    \"\"\"\n",
    "    from google.cloud import translate_v2 as translate\n",
    "\n",
    "    translate_client = translate.Client()\n",
    "\n",
    "    if isinstance(text, bytes):\n",
    "        text = text.decode(\"utf-8\")\n",
    "\n",
    "    # Text can also be a sequence of strings, in which case this method\n",
    "    # will return a sequence of results for each text.\n",
    "    result = translate_client.translate(text, target_language=target)\n",
    "\n",
    "    print(\"Text: {}\".format(result[\"input\"]))\n",
    "    print(\"Translation: {}\".format(result[\"translatedText\"]))\n",
    "    print(\"Detected source language: {}\".format(result[\"detectedSourceLanguage\"]))\n",
    "\n",
    "    return result\n",
    "\n"
   ]
  },
  {
   "cell_type": "code",
   "execution_count": null,
   "id": "3ca20d31-1b40-4189-a0bd-63e88f7a4b99",
   "metadata": {
    "tags": []
   },
   "outputs": [],
   "source": [
    "with open('./input_data/whatsapp_spanish.txt', 'r') as f:\n",
    "    lines = f.readlines()\n",
    "\n",
    "lines[3]"
   ]
  },
  {
   "cell_type": "code",
   "execution_count": null,
   "id": "39eb8f08-019b-4924-bc84-27b8a1594985",
   "metadata": {
    "tags": []
   },
   "outputs": [],
   "source": []
  },
  {
   "cell_type": "code",
   "execution_count": null,
   "id": "bf40dd8d-8999-4236-a65f-4a88268c3e77",
   "metadata": {},
   "outputs": [],
   "source": [
    "# Imports the Google Cloud Translation library\n",
    "from google.cloud import translate\n",
    "\n",
    "\n",
    "# Initialize Translation client\n",
    "def translate_text(\n",
    "    text: str = \"YOUR_TEXT_TO_TRANSLATE\", project_id: str = \"YOUR_PROJECT_ID\"\n",
    ") -> translate.TranslationServiceClient:\n",
    "    \"\"\"Translating Text.\"\"\"\n",
    "\n",
    "    client = translate.TranslationServiceClient()\n",
    "\n",
    "    location = \"global\"\n",
    "\n",
    "    parent = f\"projects/{project_id}/locations/{location}\"\n",
    "\n",
    "    # Translate text from English to French\n",
    "    # Detail on supported types can be found here:\n",
    "    # https://cloud.google.com/translate/docs/supported-formats\n",
    "    response = client.translate_text(\n",
    "        request={\n",
    "            \"parent\": parent,\n",
    "            \"contents\": [text],\n",
    "            \"mime_type\": \"text/plain\",  # mime types: text/plain, text/html\n",
    "            \"source_language_code\": \"en-US\",\n",
    "            \"target_language_code\": \"fr\",\n",
    "        }\n",
    "    )\n",
    "\n",
    "    # Display the translation for each input text provided\n",
    "    for translation in response.translations:\n",
    "        print(f\"Translated text: {translation.translated_text}\")\n",
    "\n",
    "    return response\n"
   ]
  },
  {
   "cell_type": "code",
   "execution_count": null,
   "id": "ec31999c-4215-43a8-848a-f15d3ed80b47",
   "metadata": {
    "tags": []
   },
   "outputs": [],
   "source": [
    "def list_languages_with_target(target: str) -> dict:\n",
    "    \"\"\"Lists all available languages and localizes them to the target language.\n",
    "\n",
    "    Target must be an ISO 639-1 language code.\n",
    "    See https://g.co/cloud/translate/v2/translate-reference#supported_languages\n",
    "    \"\"\"\n",
    "    from google.cloud import translate_v2 as translate\n",
    "\n",
    "    translate_client = translate.Client()\n",
    "\n",
    "    results = translate_client.get_languages(target_language=target)\n",
    "\n",
    "    for language in results:\n",
    "        print(\"{name} ({language})\".format(**language))\n",
    "\n",
    "    return results\n",
    "list_languages_with_target('en')"
   ]
  },
  {
   "cell_type": "code",
   "execution_count": null,
   "id": "e3f63c92-6014-4306-a4d0-2b91fbbf4cc5",
   "metadata": {
    "tags": []
   },
   "outputs": [],
   "source": [
    "def list_languages() -> dict:\n",
    "    \"\"\"Lists all available languages.\"\"\"\n",
    "    from google.cloud import translate_v2 as translate\n",
    "\n",
    "    translate_client = translate.Client()\n",
    "\n",
    "    results = translate_client.get_languages()\n",
    "\n",
    "    for language in results:\n",
    "        print(\"{name} ({language})\".format(**language))\n",
    "\n",
    "    return results\n",
    "\n",
    "\n"
   ]
  },
  {
   "cell_type": "code",
   "execution_count": null,
   "id": "b60e8225-3530-4d6d-b924-5adb29fdcda3",
   "metadata": {
    "tags": []
   },
   "outputs": [],
   "source": [
    "from google.cloud import storage\n",
    "bucket_name = 'personalize-chatbots-v1'\n",
    "blob_name = 'hermi_test/hermi_whatsapp.txt'\n",
    "storage_client = storage.Client()\n",
    "bucket = storage_client.get_bucket(bucket_name)\n",
    "blob = bucket.blob(blob_name)\n",
    "contents = blob.download_as_string().decode('utf-8')\n"
   ]
  },
  {
   "cell_type": "code",
   "execution_count": null,
   "id": "72aa7829-e1ad-4435-b514-005e71d43370",
   "metadata": {
    "tags": []
   },
   "outputs": [],
   "source": [
    "len(contents)"
   ]
  },
  {
   "cell_type": "code",
   "execution_count": null,
   "id": "93d24a6e-306b-4dc7-81aa-c1a4cb30bf30",
   "metadata": {
    "tags": []
   },
   "outputs": [],
   "source": [
    "contents[0]"
   ]
  },
  {
   "cell_type": "code",
   "execution_count": null,
   "id": "90787233-de02-41df-843c-6a92663236dc",
   "metadata": {
    "tags": []
   },
   "outputs": [],
   "source": [
    "res = translate_text('en', contents)\n"
   ]
  },
  {
   "cell_type": "code",
   "execution_count": null,
   "id": "dbaf887d-8c37-4a37-b643-304ed62d40bf",
   "metadata": {
    "tags": []
   },
   "outputs": [],
   "source": [
    "print(res[\"translatedText\"][350:750])"
   ]
  },
  {
   "cell_type": "code",
   "execution_count": null,
   "id": "852d5bcc-09c0-494d-821a-1ddf56d2625b",
   "metadata": {
    "tags": []
   },
   "outputs": [],
   "source": []
  },
  {
   "cell_type": "code",
   "execution_count": null,
   "id": "a45159c3-0189-4f20-9f5f-0e9dce92a8d5",
   "metadata": {},
   "outputs": [],
   "source": []
  }
 ],
 "metadata": {
  "environment": {
   "kernel": "python3",
   "name": "tf2-gpu.2-15.m119",
   "type": "gcloud",
   "uri": "us-docker.pkg.dev/deeplearning-platform-release/gcr.io/tf2-gpu.2-15:m119"
  },
  "kernelspec": {
   "display_name": "Python 3",
   "language": "python",
   "name": "python3"
  },
  "language_info": {
   "codemirror_mode": {
    "name": "ipython",
    "version": 3
   },
   "file_extension": ".py",
   "mimetype": "text/x-python",
   "name": "python",
   "nbconvert_exporter": "python",
   "pygments_lexer": "ipython3",
   "version": "3.10.14"
  }
 },
 "nbformat": 4,
 "nbformat_minor": 5
}
