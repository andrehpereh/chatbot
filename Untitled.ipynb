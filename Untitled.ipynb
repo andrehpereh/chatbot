{
 "cells": [
  {
   "cell_type": "code",
   "execution_count": null,
   "id": "8b5ec7c1-1e80-4be7-9d73-043bbbb9b4e8",
   "metadata": {},
   "outputs": [],
   "source": []
  },
  {
   "cell_type": "code",
   "execution_count": 16,
   "id": "56ea9444-bd83-44e8-8cd3-7fa40cae015e",
   "metadata": {
    "tags": []
   },
   "outputs": [],
   "source": [
    "res = !gcloud config get core/project\n",
    "PROJECT_ID = res[0]\n",
    "SERVICE_ACCOUNT = 'gemma-vertexai-chatbot@able-analyst-416817.iam.gserviceaccount.com'\n",
    "from datetime import datetime\n",
    "CONTAINER_IMAGE_NAME=\"gemma-chatbot\"\n",
    "GCP_REGION='us-central1'\n",
    "TAG_NAME = 'latest'\n",
    "KAGGLE_USERNAME='andrehpereh1'\n",
    "KAGGLE_KEY='5859e39806d9456749dcbac685f04bc9'\n",
    "CONTAINER_IMAGE_NAME_DATA_PREP = f\"{CONTAINER_IMAGE_NAME}-data-preparation\"\n",
    "CONTAINER_IMAGE_NAME_FINE_TUNE = f\"{CONTAINER_IMAGE_NAME}-fine-tunning\"\n",
    "CONTAINER_IMAGE_NAME_RUN_APP = f\"{CONTAINER_IMAGE_NAME}-running-app\"\n",
    "CONTAINER_IMAGE_NAME_PIPELINE = f\"{CONTAINER_IMAGE_NAME}-pipeline-app\"\n",
    "BUCKET_NAME = 'able-analyst-416817-chatbot-v1'\n",
    "BUCKET_URI = f\"gs://{BUCKET_NAME}\"\n",
    "FINE_TUNE_FLAG=  True\n",
    "EPOCHS=15\n",
    "MODEL_NAME=\"gemma_2b_en\"\n"
   ]
  },
  {
   "cell_type": "code",
   "execution_count": null,
   "id": "4efb8fdb-fb38-41b2-adec-c23e82577771",
   "metadata": {},
   "outputs": [],
   "source": [
    "SUBSTITUTIONS=\"\"\"\n",
    "_CONTAINER_IMAGE_NAME_DATA_PREP={},\\\n",
    "TAG_NAME={}\\\n",
    "\"\"\".format(\n",
    "           CONTAINER_IMAGE_NAME_DATA_PREP,\n",
    "           TAG_NAME, \n",
    "           ).strip()\n",
    "print(SUBSTITUTIONS)\n",
    "\n",
    "# Runs the data_preparation component image. (Development, when tested should be moved to the main cloudbuild in the project folder)\n",
    "# Pay attention to the \".\" after summit. Might need some changes when move to the master pipeline.\n",
    "!gcloud builds submit . --timeout=15m --config \"components/data_preparation/cloudbuild.yaml\" --substitutions {SUBSTITUTIONS} --region={GCP_REGION}\n",
    "# DO not forget the tag"
   ]
  },
  {
   "cell_type": "code",
   "execution_count": null,
   "id": "5e348a00-9742-41d7-b16f-3b1538dc6672",
   "metadata": {},
   "outputs": [],
   "source": [
    "#!docker run gcr.io/able-analyst-416817/gemma-chatbot-data-preparation:latest data_ingestion.py --bucket-name 'able-analyst-416817-chatbot-v1' --directory 'input_data/andrehpereh'"
   ]
  },
  {
   "cell_type": "code",
   "execution_count": null,
   "id": "f92bc864-cf50-48d3-b50f-d781d6598660",
   "metadata": {},
   "outputs": [],
   "source": []
  },
  {
   "cell_type": "code",
   "execution_count": null,
   "id": "0cfb1a23-f805-4f92-9146-16cb101a4d52",
   "metadata": {},
   "outputs": [],
   "source": [
    "SUBSTITUTIONS=\"\"\"\n",
    "_CONTAINER_IMAGE_NAME_FINE_TUNE={},\\\n",
    "_KAGGLE_USERNAME={},\\\n",
    "_KAGGLE_KEY={},\\\n",
    "TAG_NAME={}\\\n",
    "\"\"\".format(\n",
    "           CONTAINER_IMAGE_NAME_FINE_TUNE,\n",
    "           KAGGLE_USERNAME,\n",
    "           KAGGLE_KEY,\n",
    "           TAG_NAME, \n",
    "           ).strip()\n",
    "print(SUBSTITUTIONS)\n",
    "\n",
    "# Builds image\n",
    "!gcloud builds submit . --config \"components/fine_tunning/cloudbuild.yaml\" --substitutions {SUBSTITUTIONS} --region={GCP_REGION}"
   ]
  },
  {
   "cell_type": "code",
   "execution_count": null,
   "id": "abd61e9c-6cc9-4b86-9c44-c15f620facfe",
   "metadata": {},
   "outputs": [],
   "source": [
    "import json\n",
    "\n",
    "data = [\"Sender: FoooodddAndres Perez: Coming :)\", \"Sender: Can I maybe borrow your iron? Andres Perez: It\\'s not my iron But yeah haha Or is it?\"]\n",
    "model_paths = \"\"\"{\"finetuned_model_dir\": \"./gemma_2b_en\", \"finetuned_weights_path\": \"./gemma_2b_en/model.weights.h5\"}\"\"\"\n",
    "print(len(data))\n",
    "model_paths = json.dumps(model_paths)\n",
    "#!docker run gcr.io/able-analyst-416817/gemma-chatbot-fine-tunning:latest trainer.py --data {data} --model-paths {model_paths}\n",
    "#!python ./components/fine_tunning/trainer.py --data {data} --model-paths {model_paths}\n",
    "#!python ./components/fine_tunning/conversion_function.py --weights-file {model_paths_and_config['finetuned_weights_path']} --size {model_paths_and_config['model_size']} --vocab-path {model_paths_and_config['finetuned_vocab_path']} --output-dir {model_paths_and_config['huggingface_model_dir']}"
   ]
  },
  {
   "cell_type": "code",
   "execution_count": null,
   "id": "588ed344-320c-4cb3-82b2-d94467dc5f0e",
   "metadata": {},
   "outputs": [],
   "source": []
  },
  {
   "cell_type": "code",
   "execution_count": null,
   "id": "ba87d49e-615a-475a-a9e8-6e53760d9dce",
   "metadata": {},
   "outputs": [],
   "source": [
    "SUBSTITUTIONS=\"\"\"\n",
    "_CONTAINER_IMAGE_NAME_RUN_APP={},\\\n",
    "_GCP_REGION={},\\\n",
    "TAG_NAME={}\\\n",
    "\"\"\".format(\n",
    "           CONTAINER_IMAGE_NAME_RUN_APP,\n",
    "           GCP_REGION,\n",
    "           TAG_NAME, \n",
    "           ).strip()\n",
    "print(SUBSTITUTIONS)\n",
    "!gcloud builds submit . --timeout=15m --config \"components/app_flask/cloudbuild.yaml\" --substitutions {SUBSTITUTIONS} --region={GCP_REGION}"
   ]
  },
  {
   "cell_type": "code",
   "execution_count": 12,
   "id": "7e1e4f3e-2dd2-4b7c-9218-3b48ee2d2afb",
   "metadata": {},
   "outputs": [
    {
     "name": "stdout",
     "output_type": "stream",
     "text": [
      "./gemma_2b_en\n",
      "This is the dictionary {'model_size': '2b', 'finetuned_model_dir': './gemma_2b_en', 'finetuned_weights_path': './gemma_2b_en/model.weights.h5', 'finetuned_vocab_path': './gemma_2b_en/vocabulary.spm', 'huggingface_model_dir': './gemma_2b_en_huggingface', 'deployed_model_blob': 'gemma_2b_en/20240323192751', 'deployed_model_uri': 'gs://able-analyst-416817-chatbot-v1/gemma_2b_en/20240323192751', 'fine_tuned_keras_blob': 'gemma_2b_en/keras/20240323192751', 'model_name_vllm': 'gemma_2b_en-vllm', 'machine_type': 'g2-standard-8', 'accelerator_type': 'NVIDIA_L4', 'accelerator_count': 1}\n",
      "/home/jupyter/chatbot/fine_tune_pipeline_test.json\n"
     ]
    }
   ],
   "source": [
    "!kfp dsl compile --py './components/pipeline/pipeline/pipeline.py' --output \"fine_tune_pipeline_test.json\" --function fine_tune_pipeline"
   ]
  },
  {
   "cell_type": "code",
   "execution_count": 11,
   "id": "12ad583b-7665-46ff-86a0-480e3895161e",
   "metadata": {
    "tags": []
   },
   "outputs": [
    {
     "name": "stdout",
     "output_type": "stream",
     "text": [
      "/home/jupyter/chatbot\n"
     ]
    }
   ],
   "source": [
    "!pwd"
   ]
  },
  {
   "cell_type": "code",
   "execution_count": null,
   "id": "6f671c3e-7269-4712-8adc-c5831e4bcc95",
   "metadata": {
    "tags": []
   },
   "outputs": [],
   "source": [
    "SUBSTITUTIONS=\"\"\"\n",
    "_CONTAINER_IMAGE_NAME_PIPELINE={},\\\n",
    "TAG_NAME={},\\\n",
    "_BUCKET_NAME={},\\\n",
    "_FINE_TUNE_FLAG={},\\\n",
    "_EPOCHS={},\\\n",
    "_MODEL_NAME={},\\\n",
    "_BUCKET_URI={},\\\n",
    "\"\"\".format(\n",
    "           CONTAINER_IMAGE_NAME_PIPELINE,\n",
    "           #GCP_REGION,\n",
    "           TAG_NAME,\n",
    "           BUCKET_NAME,\n",
    "           FINE_TUNE_FLAG,\n",
    "           EPOCHS,\n",
    "           MODEL_NAME,\n",
    "           #SERVICE_ACCOUNT,\n",
    "           BUCKET_URI\n",
    "           ).strip()\n",
    "print(SUBSTITUTIONS)\n",
    "!gcloud builds submit . --timeout=15m --config \"components/pipeline/cloudbuild.yaml\" --substitutions {SUBSTITUTIONS} --region={GCP_REGION}"
   ]
  },
  {
   "cell_type": "code",
   "execution_count": null,
   "id": "d2698c87-c7d7-4e80-8ea3-b6cca3f923b7",
   "metadata": {
    "tags": []
   },
   "outputs": [],
   "source": []
  },
  {
   "cell_type": "code",
   "execution_count": null,
   "id": "0bddc6bd-8c72-47fe-ac82-339e55b45638",
   "metadata": {
    "tags": []
   },
   "outputs": [],
   "source": []
  },
  {
   "cell_type": "code",
   "execution_count": null,
   "id": "5290781a-2b70-4823-8668-ebd8ce3022b4",
   "metadata": {
    "tags": []
   },
   "outputs": [],
   "source": [
    "!python \"./components/pipeline/pipeline.py\""
   ]
  },
  {
   "cell_type": "code",
   "execution_count": null,
   "id": "d7ad76d7-5a6b-4b27-ad0e-633679ee2fdd",
   "metadata": {
    "tags": []
   },
   "outputs": [],
   "source": [
    "!docker pull gcr.io/able-analyst-416817/gemma-chatbot-pipeline-app"
   ]
  },
  {
   "cell_type": "code",
   "execution_count": null,
   "id": "0e6a1251-caa0-4f0c-b3e1-b4ff0f46c4e6",
   "metadata": {},
   "outputs": [],
   "source": [
    "!gcloud builds submit . --timeout=15m --config \"components/data_preparation/cloudbuild.yaml\" --substitutions {SUBSTITUTIONS} --region={GCP_REGION}"
   ]
  },
  {
   "cell_type": "code",
   "execution_count": 27,
   "id": "538bc302-ec53-432b-a9fd-7dec88d6cf87",
   "metadata": {
    "tags": []
   },
   "outputs": [
    {
     "name": "stdout",
     "output_type": "stream",
     "text": [
      "This is all {'steps': [{'name': 'gcr.io/cloud-builders/docker', 'args': ['build', '-t', 'gcr.io/$PROJECT_ID/$_CONTAINER_IMAGE_NAME_DATA_PREP:$TAG_NAME', '.'], 'dir': './components/data_preparation'}, {'name': 'gcr.io/cloud-builders/docker', 'args': ['push', 'gcr.io/$PROJECT_ID/$_CONTAINER_IMAGE_NAME_DATA_PREP:$TAG_NAME']}, {'name': 'gcr.io/cloud-builders/docker', 'args': ['build', '-t', 'gcr.io/$PROJECT_ID/$_CONTAINER_IMAGE_NAME_FINE_TUNE:$TAG_NAME', '--build-arg', 'KAGGLE_KEY=$_KAGGLE_KEY', '--build-arg', 'KAGGLE_USERNAME=$_KAGGLE_USERNAME', '.'], 'dir': './components/fine_tunning'}, {'name': 'gcr.io/cloud-builders/docker', 'args': ['push', 'gcr.io/$PROJECT_ID/$_CONTAINER_IMAGE_NAME_FINE_TUNE:$TAG_NAME']}, {'name': 'gcr.io/cloud-builders/docker', 'args': ['build', '-t', 'gcr.io/$PROJECT_ID/$_CONTAINER_IMAGE_NAME_PIPELINE:$TAG_NAME', '.'], 'dir': './components/pipeline'}, {'name': 'gcr.io/cloud-builders/docker', 'args': ['push', 'gcr.io/$PROJECT_ID/$_CONTAINER_IMAGE_NAME_PIPELINE:$TAG_NAME']}, {'name': 'gcr.io/$PROJECT_ID/$_CONTAINER_IMAGE_NAME_PIPELINE:$TAG_NAME', 'dir': './components/pipeline', 'args': ['python', 'pipeline.py'], 'env': ['BUCKET_NAME=$_BUCKET_NAME', 'BUCKET_URI=$_BUCKET_URI', 'FINE_TUNE_FLAG=$_FINE_TUNE_FLAG', 'EPOCHS=$_EPOCHS', 'MODEL_NAME=$_MODEL_NAME']}]}\n"
     ]
    }
   ],
   "source": [
    "from cluodbuild_compiler import merge_cloudbuild_files, format_substitutions\n",
    "child_files = [ \n",
    "    \"./components/data_preparation/cloudbuild.yaml\", \n",
    "    \"./components/fine_tunning/cloudbuild.yaml\", \n",
    "    \"./components/pipeline/cloudbuild.yaml\"\n",
    "    \n",
    "]\n",
    "descriptions = [ \n",
    "    \"Data Preparation\",\n",
    "    \"Model Training\", \n",
    "    \"Vertex AI Pipeline Deployment\"\n",
    "]\n",
    "simon = merge_cloudbuild_files(child_files, descriptions)"
   ]
  },
  {
   "cell_type": "code",
   "execution_count": 28,
   "id": "11adf089-f57e-49f9-9c74-35663941f73c",
   "metadata": {
    "tags": []
   },
   "outputs": [
    {
     "data": {
      "text/plain": [
       "{'_BUCKET_NAME',\n",
       " '_BUCKET_URI',\n",
       " '_CONTAINER_IMAGE_NAME_DATA_PREP',\n",
       " '_CONTAINER_IMAGE_NAME_FINE_TUNE',\n",
       " '_CONTAINER_IMAGE_NAME_PIPELINE',\n",
       " '_EPOCHS',\n",
       " '_FINE_TUNE_FLAG',\n",
       " '_KAGGLE_KEY',\n",
       " '_KAGGLE_USERNAME',\n",
       " '_MODEL_NAME'}"
      ]
     },
     "execution_count": 28,
     "metadata": {},
     "output_type": "execute_result"
    }
   ],
   "source": [
    "simon"
   ]
  },
  {
   "cell_type": "code",
   "execution_count": null,
   "id": "5b523745-28ed-4547-b5c2-05867ebf4edf",
   "metadata": {
    "tags": []
   },
   "outputs": [],
   "source": []
  },
  {
   "cell_type": "code",
   "execution_count": 29,
   "id": "a02f61af-fd2f-4ac6-bf2b-b6de97507b07",
   "metadata": {
    "tags": []
   },
   "outputs": [
    {
     "name": "stdout",
     "output_type": "stream",
     "text": [
      "_CONTAINER_IMAGE_NAME_DATA_PREP=gemma-chatbot-data-preparation,_CONTAINER_IMAGE_NAME_FINE_TUNE=gemma-chatbot-fine-tunning,_CONTAINER_IMAGE_NAME_PIPELINE=gemma-chatbot-pipeline-app,_BUCKET_NAME=able-analyst-416817-chatbot-v1,_BUCKET_URI=gs://able-analyst-416817-chatbot-v1,_KAGGLE_USERNAME=andrehpereh1,_KAGGLE_KEY=5859e39806d9456749dcbac685f04bc9,_FINE_TUNE_FLAG=True,_EPOCHS=12,_MODEL_NAME=gemma_7b_en,TAG_NAME=latest\n"
     ]
    }
   ],
   "source": [
    "SUBSTITUTIONS=\"\"\"\n",
    "_CONTAINER_IMAGE_NAME_DATA_PREP={},\\\n",
    "_CONTAINER_IMAGE_NAME_FINE_TUNE={},\\\n",
    "_CONTAINER_IMAGE_NAME_PIPELINE={},\\\n",
    "_BUCKET_NAME={},\\\n",
    "_BUCKET_URI={},\\\n",
    "_KAGGLE_USERNAME={},\\\n",
    "_KAGGLE_KEY={},\\\n",
    "_FINE_TUNE_FLAG={},\\\n",
    "_EPOCHS={},\\\n",
    "_MODEL_NAME={},\\\n",
    "TAG_NAME={}\\\n",
    "\"\"\".format(\n",
    "      CONTAINER_IMAGE_NAME_DATA_PREP,\n",
    "      CONTAINER_IMAGE_NAME_FINE_TUNE,\n",
    "      CONTAINER_IMAGE_NAME_PIPELINE,\n",
    "      BUCKET_NAME,\n",
    "      BUCKET_URI,\n",
    "      KAGGLE_USERNAME,\n",
    "      KAGGLE_KEY,\n",
    "      FINE_TUNE_FLAG,\n",
    "      EPOCHS,\n",
    "      MODEL_NAME,\n",
    "      TAG_NAME, \n",
    "      ).strip()\n",
    "print(SUBSTITUTIONS)"
   ]
  },
  {
   "cell_type": "code",
   "execution_count": null,
   "id": "590d0666-b0e6-4926-b830-7c2e62518110",
   "metadata": {
    "tags": []
   },
   "outputs": [
    {
     "name": "stdout",
     "output_type": "stream",
     "text": [
      "Creating temporary tarball archive of 91 file(s) totalling 2.1 MiB before compression.\n",
      "Uploading tarball of [.] to [gs://able-analyst-416817_cloudbuild/source/1711302836.576119-2de04af69b334371a31eda3d0d6a5464.tgz]\n",
      "Created [https://cloudbuild.googleapis.com/v1/projects/able-analyst-416817/locations/us-central1/builds/14506064-e446-4e47-a873-fb8ca20d6d82].\n",
      "Logs are available at [ https://console.cloud.google.com/cloud-build/builds;region=us-central1/14506064-e446-4e47-a873-fb8ca20d6d82?project=24796876098 ].\n",
      "----------------------------- REMOTE BUILD OUTPUT ------------------------------\n",
      "starting build \"14506064-e446-4e47-a873-fb8ca20d6d82\"\n",
      "\n",
      "FETCHSOURCE\n",
      "Fetching storage object: gs://able-analyst-416817_cloudbuild/source/1711302836.576119-2de04af69b334371a31eda3d0d6a5464.tgz#1711302837175031\n",
      "Copying gs://able-analyst-416817_cloudbuild/source/1711302836.576119-2de04af69b334371a31eda3d0d6a5464.tgz#1711302837175031...\n",
      "/ [1 files][750.8 KiB/750.8 KiB]                                                \n",
      "Operation completed over 1 objects/750.8 KiB.\n",
      "BUILD\n",
      "Starting Step #0\n",
      "Step #0: Already have image (with digest): gcr.io/cloud-builders/docker\n",
      "Step #0: Sending build context to Docker daemon  24.58kB\n",
      "Step #0: Step 1/10 : FROM python:3.9-slim\n",
      "Step #0: 3.9-slim: Pulling from library/python\n",
      "Step #0: 8a1e25ce7c4f: Already exists\n",
      "Step #0: 1103112ebfc4: Pulling fs layer\n",
      "Step #0: 6e52db3290c0: Pulling fs layer\n",
      "Step #0: 937bce5dbc70: Pulling fs layer\n",
      "Step #0: 05e63546fee1: Pulling fs layer\n",
      "Step #0: 05e63546fee1: Waiting\n",
      "Step #0: 937bce5dbc70: Verifying Checksum\n",
      "Step #0: 937bce5dbc70: Download complete\n",
      "Step #0: 1103112ebfc4: Verifying Checksum\n",
      "Step #0: 1103112ebfc4: Download complete\n",
      "Step #0: 05e63546fee1: Verifying Checksum\n",
      "Step #0: 05e63546fee1: Download complete\n",
      "Step #0: 6e52db3290c0: Verifying Checksum\n",
      "Step #0: 6e52db3290c0: Download complete\n",
      "Step #0: 1103112ebfc4: Pull complete\n",
      "Step #0: 6e52db3290c0: Pull complete\n",
      "Step #0: 937bce5dbc70: Pull complete\n",
      "Step #0: 05e63546fee1: Pull complete\n",
      "Step #0: Digest: sha256:df78d66895cd3b12ec57c451f9776192a535688e27ab8a72c03896b17dbb4b98\n",
      "Step #0: Status: Downloaded newer image for python:3.9-slim\n",
      "Step #0:  ---> 500c1b793e9d\n",
      "Step #0: Step 2/10 : WORKDIR /app\n",
      "Step #0:  ---> Running in bab024fcbacd\n",
      "Step #0: Removing intermediate container bab024fcbacd\n",
      "Step #0:  ---> 368b85f5e609\n",
      "Step #0: Step 3/10 : COPY requirements.txt .\n",
      "Step #0:  ---> abf3027aadae\n",
      "Step #0: Step 4/10 : RUN pip install -U -r requirements.txt\n",
      "Step #0:  ---> Running in 0f37acd3c6bd\n",
      "Step #0: Collecting google-cloud-storage==2.14.0\n",
      "Step #0:   Downloading google_cloud_storage-2.14.0-py2.py3-none-any.whl (121 kB)\n",
      "Step #0:      ━━━━━━━━━━━━━━━━━━━━━━━━━━━━━━━━━━━━━━━ 121.6/121.6 kB 1.4 MB/s eta 0:00:00\n",
      "Step #0: Collecting google-crc32c<2.0dev,>=1.0\n",
      "Step #0:   Downloading google_crc32c-1.5.0-cp39-cp39-manylinux_2_17_x86_64.manylinux2014_x86_64.whl (32 kB)\n",
      "Step #0: Collecting google-cloud-core<3.0dev,>=2.3.0\n",
      "Step #0:   Downloading google_cloud_core-2.4.1-py2.py3-none-any.whl (29 kB)\n",
      "Step #0: Collecting google-api-core!=2.0.*,!=2.1.*,!=2.2.*,!=2.3.0,<3.0.0dev,>=1.31.5\n",
      "Step #0:   Downloading google_api_core-2.18.0-py3-none-any.whl (138 kB)\n",
      "Step #0:      ━━━━━━━━━━━━━━━━━━━━━━━━━━━━━━━━━━━━━━━ 138.3/138.3 kB 3.3 MB/s eta 0:00:00\n",
      "Step #0: Collecting google-auth<3.0dev,>=2.23.3\n",
      "Step #0:   Downloading google_auth-2.29.0-py2.py3-none-any.whl (189 kB)\n",
      "Step #0:      ━━━━━━━━━━━━━━━━━━━━━━━━━━━━━━━━━━━━━━ 189.2/189.2 kB 12.6 MB/s eta 0:00:00\n",
      "Step #0: Collecting google-resumable-media>=2.6.0\n",
      "Step #0:   Downloading google_resumable_media-2.7.0-py2.py3-none-any.whl (80 kB)\n",
      "Step #0:      ━━━━━━━━━━━━━━━━━━━━━━━━━━━━━━━━━━━━━━━━ 80.6/80.6 kB 15.2 MB/s eta 0:00:00\n",
      "Step #0: Collecting requests<3.0.0dev,>=2.18.0\n",
      "Step #0:   Downloading requests-2.31.0-py3-none-any.whl (62 kB)\n",
      "Step #0:      ━━━━━━━━━━━━━━━━━━━━━━━━━━━━━━━━━━━━━━━━ 62.6/62.6 kB 9.6 MB/s eta 0:00:00\n",
      "Step #0: Collecting protobuf!=3.20.0,!=3.20.1,!=4.21.0,!=4.21.1,!=4.21.2,!=4.21.3,!=4.21.4,!=4.21.5,<5.0.0.dev0,>=3.19.5\n",
      "Step #0:   Downloading protobuf-4.25.3-cp37-abi3-manylinux2014_x86_64.whl (294 kB)\n",
      "Step #0:      ━━━━━━━━━━━━━━━━━━━━━━━━━━━━━━━━━━━━━━ 294.6/294.6 kB 16.2 MB/s eta 0:00:00\n",
      "Step #0: Collecting proto-plus<2.0.0dev,>=1.22.3\n",
      "Step #0:   Downloading proto_plus-1.23.0-py3-none-any.whl (48 kB)\n",
      "Step #0:      ━━━━━━━━━━━━━━━━━━━━━━━━━━━━━━━━━━━━━━━━ 48.8/48.8 kB 8.3 MB/s eta 0:00:00\n"
     ]
    }
   ],
   "source": [
    "!gcloud builds submit . --config \"./master_cloudbuild.json\" --substitutions {SUBSTITUTIONS} --region={GCP_REGION}"
   ]
  },
  {
   "cell_type": "code",
   "execution_count": null,
   "id": "7829947f-513a-4c2a-87c2-c0644cd417af",
   "metadata": {
    "tags": []
   },
   "outputs": [],
   "source": []
  },
  {
   "cell_type": "code",
   "execution_count": null,
   "id": "bc3449a7-6c22-4f74-a1dc-695b3454d526",
   "metadata": {
    "tags": []
   },
   "outputs": [],
   "source": []
  },
  {
   "cell_type": "code",
   "execution_count": null,
   "id": "51b16b58-4948-4ac3-8e62-4bf44a276f68",
   "metadata": {
    "tags": []
   },
   "outputs": [],
   "source": []
  },
  {
   "cell_type": "code",
   "execution_count": null,
   "id": "c6bae1df-efbf-408e-b9d3-89aa40b8e148",
   "metadata": {
    "tags": []
   },
   "outputs": [],
   "source": []
  },
  {
   "cell_type": "code",
   "execution_count": null,
   "id": "a428edba-6c98-49dc-a6c7-e2cfe63daf15",
   "metadata": {},
   "outputs": [],
   "source": []
  }
 ],
 "metadata": {
  "environment": {
   "kernel": "python3",
   "name": "tf2-gpu.2-15.m118",
   "type": "gcloud",
   "uri": "us-docker.pkg.dev/deeplearning-platform-release/gcr.io/tf2-gpu.2-15:m118"
  },
  "kernelspec": {
   "display_name": "Python 3",
   "language": "python",
   "name": "python3"
  },
  "language_info": {
   "codemirror_mode": {
    "name": "ipython",
    "version": 3
   },
   "file_extension": ".py",
   "mimetype": "text/x-python",
   "name": "python",
   "nbconvert_exporter": "python",
   "pygments_lexer": "ipython3",
   "version": "3.10.13"
  }
 },
 "nbformat": 4,
 "nbformat_minor": 5
}
