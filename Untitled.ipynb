{
 "cells": [
  {
   "cell_type": "code",
   "execution_count": null,
   "id": "8b5ec7c1-1e80-4be7-9d73-043bbbb9b4e8",
   "metadata": {},
   "outputs": [],
   "source": [
    "import os\n",
    "os.environ['PROJECT_ID'] = 'able-analyst-416817'\n",
    "print(os.environ.get('PROJECT_ID'))"
   ]
  },
  {
   "cell_type": "code",
   "execution_count": 7,
   "id": "56ea9444-bd83-44e8-8cd3-7fa40cae015e",
   "metadata": {
    "tags": []
   },
   "outputs": [],
   "source": [
    "res = !gcloud config get core/project\n",
    "PROJECT_ID = res[0]\n",
    "SERVICE_ACCOUNT = 'gemma-vertexai-chatbot@able-analyst-416817.iam.gserviceaccount.com'\n",
    "from datetime import datetime\n",
    "CONTAINER_IMAGE_NAME=\"gemma-chatbot\"\n",
    "GCP_REGION='us-central1'\n",
    "TAG_NAME = 'masterv6'\n",
    "KAGGLE_USERNAME='andrehpereh1'\n",
    "KAGGLE_KEY='5859e39806d9456749dcbac685f04bc9'\n",
    "CONTAINER_IMAGE_NAME_DATA_PREP = f\"{CONTAINER_IMAGE_NAME}-data-preparation\"\n",
    "CONTAINER_IMAGE_NAME_FINE_TUNE = f\"{CONTAINER_IMAGE_NAME}-fine-tunning\"\n",
    "CONTAINER_IMAGE_NAME_RUN_APP = f\"{CONTAINER_IMAGE_NAME}-running-app\"\n",
    "CONTAINER_IMAGE_NAME_PIPELINE = f\"{CONTAINER_IMAGE_NAME}-pipeline-app\"\n",
    "CONTAINER_IMAGE_RUNNING_APP = f\"{CONTAINER_IMAGE_NAME}-running-app\"\n",
    "BUCKET_NAME = 'able-analyst-416817-chatbot-v1'\n",
    "# BUCKET_URI = f\"gs://{BUCKET_NAME}\"\n",
    "FINE_TUNE_FLAG=  False\n",
    "EPOCHS=12\n",
    "MODEL_NAME=\"gemma_2b_en\"\n"
   ]
  },
  {
   "cell_type": "code",
   "execution_count": null,
   "id": "5f4acc04-293c-4e1f-889a-efd74f3e143f",
   "metadata": {
    "tags": []
   },
   "outputs": [],
   "source": [
    "user = os.getenv(\"USER_NAME\", \"\")\n",
    "print(os.path.join(user , \"jhdbcjd\"))\n",
    "print(os.path.join(\"cdsac\", user))\n"
   ]
  },
  {
   "cell_type": "code",
   "execution_count": null,
   "id": "32f79510-84ba-420b-a56d-996e1afd5577",
   "metadata": {
    "tags": []
   },
   "outputs": [],
   "source": [
    "CONTAINER_IMAGE_RUNNING_APP"
   ]
  },
  {
   "cell_type": "code",
   "execution_count": 8,
   "id": "4efb8fdb-fb38-41b2-adec-c23e82577771",
   "metadata": {},
   "outputs": [
    {
     "name": "stdout",
     "output_type": "stream",
     "text": [
      "_CONTAINER_IMAGE_NAME_DATA_PREP=gemma-chatbot-data-preparation,TAG_NAME=masterv6\n",
      "Creating temporary tarball archive of 141 file(s) totalling 933.5 KiB before compression.\n",
      "Uploading tarball of [.] to [gs://able-analyst-416817_cloudbuild/source/1712075584.470694-9c21310dffc84cfb88603052916c4419.tgz]\n",
      "Created [https://cloudbuild.googleapis.com/v1/projects/able-analyst-416817/locations/us-central1/builds/768a4e1a-4597-4977-ac8c-b462c527f5e0].\n",
      "Logs are available at [ https://console.cloud.google.com/cloud-build/builds;region=us-central1/768a4e1a-4597-4977-ac8c-b462c527f5e0?project=24796876098 ].\n",
      "----------------------------- REMOTE BUILD OUTPUT ------------------------------\n",
      "starting build \"768a4e1a-4597-4977-ac8c-b462c527f5e0\"\n",
      "\n",
      "FETCHSOURCE\n",
      "Fetching storage object: gs://able-analyst-416817_cloudbuild/source/1712075584.470694-9c21310dffc84cfb88603052916c4419.tgz#1712075585046158\n",
      "Copying gs://able-analyst-416817_cloudbuild/source/1712075584.470694-9c21310dffc84cfb88603052916c4419.tgz#1712075585046158...\n",
      "/ [1 files][482.9 KiB/482.9 KiB]                                                \n",
      "Operation completed over 1 objects/482.9 KiB.\n",
      "BUILD\n",
      "Starting Step #0 - \"DP_A\"\n",
      "Step #0 - \"DP_A\": Already have image (with digest): gcr.io/cloud-builders/docker\n",
      "Step #0 - \"DP_A\": Sending build context to Docker daemon  35.33kB\n",
      "Step #0 - \"DP_A\": Step 1/10 : FROM python:3.9-slim\n",
      "Step #0 - \"DP_A\": 3.9-slim: Pulling from library/python\n",
      "Step #0 - \"DP_A\": 8a1e25ce7c4f: Already exists\n",
      "Step #0 - \"DP_A\": 1103112ebfc4: Pulling fs layer\n",
      "Step #0 - \"DP_A\": 6e52db3290c0: Pulling fs layer\n",
      "Step #0 - \"DP_A\": 937bce5dbc70: Pulling fs layer\n",
      "Step #0 - \"DP_A\": 05e63546fee1: Pulling fs layer\n",
      "Step #0 - \"DP_A\": 05e63546fee1: Waiting\n",
      "Step #0 - \"DP_A\": 937bce5dbc70: Verifying Checksum\n",
      "Step #0 - \"DP_A\": 937bce5dbc70: Download complete\n",
      "Step #0 - \"DP_A\": 1103112ebfc4: Verifying Checksum\n",
      "Step #0 - \"DP_A\": 1103112ebfc4: Download complete\n",
      "Step #0 - \"DP_A\": 6e52db3290c0: Verifying Checksum\n",
      "Step #0 - \"DP_A\": 6e52db3290c0: Download complete\n",
      "Step #0 - \"DP_A\": 05e63546fee1: Verifying Checksum\n",
      "Step #0 - \"DP_A\": 05e63546fee1: Download complete\n",
      "Step #0 - \"DP_A\": 1103112ebfc4: Pull complete\n",
      "Step #0 - \"DP_A\": 6e52db3290c0: Pull complete\n",
      "Step #0 - \"DP_A\": 937bce5dbc70: Pull complete\n",
      "Step #0 - \"DP_A\": 05e63546fee1: Pull complete\n",
      "Step #0 - \"DP_A\": Digest: sha256:0b4b0801ae9ae61bb57bc738b1efbe4e16b927fd581774c8edfed90f0e0f01ad\n",
      "Step #0 - \"DP_A\": Status: Downloaded newer image for python:3.9-slim\n",
      "Step #0 - \"DP_A\":  ---> 04efcd1709fb\n",
      "Step #0 - \"DP_A\": Step 2/10 : WORKDIR /app\n",
      "Step #0 - \"DP_A\":  ---> Running in b4a888a3d72a\n",
      "Step #0 - \"DP_A\": Removing intermediate container b4a888a3d72a\n",
      "Step #0 - \"DP_A\":  ---> 6b970bc6e781\n",
      "Step #0 - \"DP_A\": Step 3/10 : COPY requirements.txt .\n",
      "Step #0 - \"DP_A\":  ---> 212cf8a90041\n",
      "Step #0 - \"DP_A\": Step 4/10 : RUN pip install -U -r requirements.txt\n",
      "Step #0 - \"DP_A\":  ---> Running in 4532452d4587\n",
      "Step #0 - \"DP_A\": Collecting google-cloud-storage==2.14.0\n",
      "Step #0 - \"DP_A\":   Downloading google_cloud_storage-2.14.0-py2.py3-none-any.whl (121 kB)\n",
      "Step #0 - \"DP_A\":      ━━━━━━━━━━━━━━━━━━━━━━━━━━━━━━━━━━━━━━━ 121.6/121.6 kB 1.4 MB/s eta 0:00:00\n",
      "Step #0 - \"DP_A\": Collecting vertexai==1.46.0\n",
      "Step #0 - \"DP_A\":   Downloading vertexai-1.46.0-py3-none-any.whl (7.0 kB)\n",
      "Step #0 - \"DP_A\": Collecting google-resumable-media>=2.6.0\n",
      "Step #0 - \"DP_A\":   Downloading google_resumable_media-2.7.0-py2.py3-none-any.whl (80 kB)\n",
      "Step #0 - \"DP_A\":      ━━━━━━━━━━━━━━━━━━━━━━━━━━━━━━━━━━━━━━━━ 80.6/80.6 kB 5.6 MB/s eta 0:00:00\n",
      "Step #0 - \"DP_A\": Collecting google-auth<3.0dev,>=2.23.3\n",
      "Step #0 - \"DP_A\":   Downloading google_auth-2.29.0-py2.py3-none-any.whl (189 kB)\n",
      "Step #0 - \"DP_A\":      ━━━━━━━━━━━━━━━━━━━━━━━━━━━━━━━━━━━━━━━ 189.2/189.2 kB 4.2 MB/s eta 0:00:00\n",
      "Step #0 - \"DP_A\": Collecting google-crc32c<2.0dev,>=1.0\n",
      "Step #0 - \"DP_A\":   Downloading google_crc32c-1.5.0-cp39-cp39-manylinux_2_17_x86_64.manylinux2014_x86_64.whl (32 kB)\n",
      "Step #0 - \"DP_A\": Collecting requests<3.0.0dev,>=2.18.0\n",
      "Step #0 - \"DP_A\":   Downloading requests-2.31.0-py3-none-any.whl (62 kB)\n",
      "Step #0 - \"DP_A\":      ━━━━━━━━━━━━━━━━━━━━━━━━━━━━━━━━━━━━━━━━ 62.6/62.6 kB 4.4 MB/s eta 0:00:00\n",
      "Step #0 - \"DP_A\": Collecting google-cloud-core<3.0dev,>=2.3.0\n",
      "Step #0 - \"DP_A\":   Downloading google_cloud_core-2.4.1-py2.py3-none-any.whl (29 kB)\n",
      "Step #0 - \"DP_A\": Collecting google-api-core!=2.0.*,!=2.1.*,!=2.2.*,!=2.3.0,<3.0.0dev,>=1.31.5\n",
      "Step #0 - \"DP_A\":   Downloading google_api_core-2.18.0-py3-none-any.whl (138 kB)\n",
      "Step #0 - \"DP_A\":      ━━━━━━━━━━━━━━━━━━━━━━━━━━━━━━━━━━━━━━ 138.3/138.3 kB 14.4 MB/s eta 0:00:00\n",
      "Step #0 - \"DP_A\": Collecting google-cloud-aiplatform==1.46.0\n",
      "Step #0 - \"DP_A\":   Downloading google_cloud_aiplatform-1.46.0-py2.py3-none-any.whl (4.3 MB)\n",
      "Step #0 - \"DP_A\":      ━━━━━━━━━━━━━━━━━━━━━━━━━━━━━━━━━━━━━━━━ 4.3/4.3 MB 15.6 MB/s eta 0:00:00\n",
      "Step #0 - \"DP_A\": Collecting packaging>=14.3\n",
      "Step #0 - \"DP_A\":   Downloading packaging-24.0-py3-none-any.whl (53 kB)\n",
      "Step #0 - \"DP_A\":      ━━━━━━━━━━━━━━━━━━━━━━━━━━━━━━━━━━━━━━━━ 53.5/53.5 kB 8.8 MB/s eta 0:00:00\n",
      "Step #0 - \"DP_A\": Collecting google-cloud-resource-manager<3.0.0dev,>=1.3.3\n",
      "Step #0 - \"DP_A\":   Downloading google_cloud_resource_manager-1.12.3-py2.py3-none-any.whl (333 kB)\n",
      "Step #0 - \"DP_A\":      ━━━━━━━━━━━━━━━━━━━━━━━━━━━━━━━━━━━━━━ 333.7/333.7 kB 17.1 MB/s eta 0:00:00\n",
      "Step #0 - \"DP_A\": Collecting docstring-parser<1\n",
      "Step #0 - \"DP_A\":   Downloading docstring_parser-0.16-py3-none-any.whl (36 kB)\n",
      "Step #0 - \"DP_A\": Collecting proto-plus<2.0.0dev,>=1.22.0\n",
      "Step #0 - \"DP_A\":   Downloading proto_plus-1.23.0-py3-none-any.whl (48 kB)\n",
      "Step #0 - \"DP_A\":      ━━━━━━━━━━━━━━━━━━━━━━━━━━━━━━━━━━━━━━━━ 48.8/48.8 kB 8.3 MB/s eta 0:00:00\n",
      "Step #0 - \"DP_A\": Collecting shapely<3.0.0dev\n",
      "Step #0 - \"DP_A\":   Downloading shapely-2.0.3-cp39-cp39-manylinux_2_17_x86_64.manylinux2014_x86_64.whl (2.5 MB)\n",
      "Step #0 - \"DP_A\":      ━━━━━━━━━━━━━━━━━━━━━━━━━━━━━━━━━━━━━━━━ 2.5/2.5 MB 15.8 MB/s eta 0:00:00\n",
      "Step #0 - \"DP_A\": Collecting google-cloud-bigquery!=3.20.0,<4.0.0dev,>=1.15.0\n",
      "Step #0 - \"DP_A\":   Downloading google_cloud_bigquery-3.20.1-py2.py3-none-any.whl (233 kB)\n",
      "Step #0 - \"DP_A\":      ━━━━━━━━━━━━━━━━━━━━━━━━━━━━━━━━━━━━━━ 233.4/233.4 kB 13.0 MB/s eta 0:00:00\n",
      "Step #0 - \"DP_A\": Collecting protobuf!=3.20.0,!=3.20.1,!=4.21.0,!=4.21.1,!=4.21.2,!=4.21.3,!=4.21.4,!=4.21.5,<5.0.0dev,>=3.19.5\n",
      "Step #0 - \"DP_A\":   Downloading protobuf-4.25.3-cp37-abi3-manylinux2014_x86_64.whl (294 kB)\n",
      "Step #0 - \"DP_A\":      ━━━━━━━━━━━━━━━━━━━━━━━━━━━━━━━━━━━━━━ 294.6/294.6 kB 13.8 MB/s eta 0:00:00\n",
      "Step #0 - \"DP_A\": Collecting pydantic<3\n",
      "Step #0 - \"DP_A\":   Downloading pydantic-2.6.4-py3-none-any.whl (394 kB)\n",
      "Step #0 - \"DP_A\":      ━━━━━━━━━━━━━━━━━━━━━━━━━━━━━━━━━━━━━━ 394.9/394.9 kB 13.8 MB/s eta 0:00:00\n",
      "Step #0 - \"DP_A\": Collecting googleapis-common-protos<2.0.dev0,>=1.56.2\n",
      "Step #0 - \"DP_A\":   Downloading googleapis_common_protos-1.63.0-py2.py3-none-any.whl (229 kB)\n",
      "Step #0 - \"DP_A\":      ━━━━━━━━━━━━━━━━━━━━━━━━━━━━━━━━━━━━━━ 229.1/229.1 kB 12.7 MB/s eta 0:00:00\n",
      "Step #0 - \"DP_A\": Collecting rsa<5,>=3.1.4\n",
      "Step #0 - \"DP_A\":   Downloading rsa-4.9-py3-none-any.whl (34 kB)\n",
      "Step #0 - \"DP_A\": Collecting cachetools<6.0,>=2.0.0\n",
      "Step #0 - \"DP_A\":   Downloading cachetools-5.3.3-py3-none-any.whl (9.3 kB)\n",
      "Step #0 - \"DP_A\": Collecting pyasn1-modules>=0.2.1\n",
      "Step #0 - \"DP_A\":   Downloading pyasn1_modules-0.4.0-py3-none-any.whl (181 kB)\n",
      "Step #0 - \"DP_A\":      ━━━━━━━━━━━━━━━━━━━━━━━━━━━━━━━━━━━━━━ 181.2/181.2 kB 13.3 MB/s eta 0:00:00\n",
      "Step #0 - \"DP_A\": Collecting certifi>=2017.4.17\n",
      "Step #0 - \"DP_A\":   Downloading certifi-2024.2.2-py3-none-any.whl (163 kB)\n",
      "Step #0 - \"DP_A\":      ━━━━━━━━━━━━━━━━━━━━━━━━━━━━━━━━━━━━━━ 163.8/163.8 kB 12.9 MB/s eta 0:00:00\n",
      "Step #0 - \"DP_A\": Collecting urllib3<3,>=1.21.1\n",
      "Step #0 - \"DP_A\":   Downloading urllib3-2.2.1-py3-none-any.whl (121 kB)\n",
      "Step #0 - \"DP_A\":      ━━━━━━━━━━━━━━━━━━━━━━━━━━━━━━━━━━━━━━ 121.1/121.1 kB 11.3 MB/s eta 0:00:00\n",
      "Step #0 - \"DP_A\": Collecting idna<4,>=2.5\n",
      "Step #0 - \"DP_A\":   Downloading idna-3.6-py3-none-any.whl (61 kB)\n",
      "Step #0 - \"DP_A\":      ━━━━━━━━━━━━━━━━━━━━━━━━━━━━━━━━━━━━━━━━ 61.6/61.6 kB 11.6 MB/s eta 0:00:00\n",
      "Step #0 - \"DP_A\": Collecting charset-normalizer<4,>=2\n",
      "Step #0 - \"DP_A\":   Downloading charset_normalizer-3.3.2-cp39-cp39-manylinux_2_17_x86_64.manylinux2014_x86_64.whl (142 kB)\n",
      "Step #0 - \"DP_A\":      ━━━━━━━━━━━━━━━━━━━━━━━━━━━━━━━━━━━━━━ 142.3/142.3 kB 12.3 MB/s eta 0:00:00\n",
      "Step #0 - \"DP_A\": Collecting grpcio<2.0dev,>=1.33.2\n",
      "Step #0 - \"DP_A\":   Downloading grpcio-1.62.1-cp39-cp39-manylinux_2_17_x86_64.manylinux2014_x86_64.whl (5.6 MB)\n",
      "Step #0 - \"DP_A\":      ━━━━━━━━━━━━━━━━━━━━━━━━━━━━━━━━━━━━━━━━ 5.6/5.6 MB 11.0 MB/s eta 0:00:00\n",
      "Step #0 - \"DP_A\": Collecting grpcio-status<2.0.dev0,>=1.33.2\n",
      "Step #0 - \"DP_A\":   Downloading grpcio_status-1.62.1-py3-none-any.whl (14 kB)\n",
      "Step #0 - \"DP_A\": Collecting python-dateutil<3.0dev,>=2.7.2\n",
      "Step #0 - \"DP_A\":   Downloading python_dateutil-2.9.0.post0-py2.py3-none-any.whl (229 kB)\n",
      "Step #0 - \"DP_A\":      ━━━━━━━━━━━━━━━━━━━━━━━━━━━━━━━━━━━━━━━ 229.9/229.9 kB 6.9 MB/s eta 0:00:00\n",
      "Step #0 - \"DP_A\": Collecting grpc-google-iam-v1<1.0.0dev,>=0.12.4\n",
      "Step #0 - \"DP_A\":   Downloading grpc_google_iam_v1-0.13.0-py2.py3-none-any.whl (25 kB)\n",
      "Step #0 - \"DP_A\": Collecting pyasn1<0.7.0,>=0.4.6\n",
      "Step #0 - \"DP_A\":   Downloading pyasn1-0.6.0-py2.py3-none-any.whl (85 kB)\n",
      "Step #0 - \"DP_A\":      ━━━━━━━━━━━━━━━━━━━━━━━━━━━━━━━━━━━━━━━━ 85.3/85.3 kB 5.9 MB/s eta 0:00:00\n",
      "Step #0 - \"DP_A\": Collecting pydantic-core==2.16.3\n",
      "Step #0 - \"DP_A\":   Downloading pydantic_core-2.16.3-cp39-cp39-manylinux_2_17_x86_64.manylinux2014_x86_64.whl (2.2 MB)\n",
      "Step #0 - \"DP_A\":      ━━━━━━━━━━━━━━━━━━━━━━━━━━━━━━━━━━━━━━━━ 2.2/2.2 MB 6.5 MB/s eta 0:00:00\n",
      "Step #0 - \"DP_A\": Collecting annotated-types>=0.4.0\n",
      "Step #0 - \"DP_A\":   Downloading annotated_types-0.6.0-py3-none-any.whl (12 kB)\n",
      "Step #0 - \"DP_A\": Collecting typing-extensions>=4.6.1\n",
      "Step #0 - \"DP_A\":   Downloading typing_extensions-4.10.0-py3-none-any.whl (33 kB)\n",
      "Step #0 - \"DP_A\": Collecting numpy<2,>=1.14\n",
      "Step #0 - \"DP_A\":   Downloading numpy-1.26.4-cp39-cp39-manylinux_2_17_x86_64.manylinux2014_x86_64.whl (18.2 MB)\n",
      "Step #0 - \"DP_A\":      ━━━━━━━━━━━━━━━━━━━━━━━━━━━━━━━━━━━━━━━━ 18.2/18.2 MB 1.6 MB/s eta 0:00:00\n",
      "Step #0 - \"DP_A\": Collecting six>=1.5\n",
      "Step #0 - \"DP_A\":   Downloading six-1.16.0-py2.py3-none-any.whl (11 kB)\n",
      "Step #0 - \"DP_A\": Installing collected packages: urllib3, typing-extensions, six, pyasn1, protobuf, packaging, numpy, idna, grpcio, google-crc32c, docstring-parser, charset-normalizer, certifi, cachetools, annotated-types, shapely, rsa, requests, python-dateutil, pydantic-core, pyasn1-modules, proto-plus, googleapis-common-protos, google-resumable-media, pydantic, grpcio-status, google-auth, grpc-google-iam-v1, google-api-core, google-cloud-core, google-cloud-storage, google-cloud-resource-manager, google-cloud-bigquery, google-cloud-aiplatform, vertexai\n",
      "Step #0 - \"DP_A\": Successfully installed annotated-types-0.6.0 cachetools-5.3.3 certifi-2024.2.2 charset-normalizer-3.3.2 docstring-parser-0.16 google-api-core-2.18.0 google-auth-2.29.0 google-cloud-aiplatform-1.46.0 google-cloud-bigquery-3.20.1 google-cloud-core-2.4.1 google-cloud-resource-manager-1.12.3 google-cloud-storage-2.14.0 google-crc32c-1.5.0 google-resumable-media-2.7.0 googleapis-common-protos-1.63.0 grpc-google-iam-v1-0.13.0 grpcio-1.62.1 grpcio-status-1.62.1 idna-3.6 numpy-1.26.4 packaging-24.0 proto-plus-1.23.0 protobuf-4.25.3 pyasn1-0.6.0 pyasn1-modules-0.4.0 pydantic-2.6.4 pydantic-core-2.16.3 python-dateutil-2.9.0.post0 requests-2.31.0 rsa-4.9 shapely-2.0.3 six-1.16.0 typing-extensions-4.10.0 urllib3-2.2.1 vertexai-1.46.0\n",
      "Step #0 - \"DP_A\": \u001b[91mWARNING: Running pip as the 'root' user can result in broken permissions and conflicting behaviour with the system package manager. It is recommended to use a virtual environment instead: https://pip.pypa.io/warnings/venv\n",
      "Step #0 - \"DP_A\": \u001b[0m\u001b[91m\n",
      "Step #0 - \"DP_A\": [notice] A new release of pip is available: 23.0.1 -> 24.0\n",
      "Step #0 - \"DP_A\": [notice] To update, run: pip install --upgrade pip\n",
      "Step #0 - \"DP_A\": \u001b[0mRemoving intermediate container 4532452d4587\n",
      "Step #0 - \"DP_A\":  ---> 26037d780c3b\n",
      "Step #0 - \"DP_A\": Step 5/10 : COPY . /app\n",
      "Step #0 - \"DP_A\":  ---> 90bbbe690842\n",
      "Step #0 - \"DP_A\": Step 6/10 : WORKDIR /app\n",
      "Step #0 - \"DP_A\":  ---> Running in feb42f80b777\n",
      "Step #0 - \"DP_A\": Removing intermediate container feb42f80b777\n",
      "Step #0 - \"DP_A\":  ---> 295925aa1cae\n",
      "Step #0 - \"DP_A\": Step 7/10 : RUN ls\n",
      "Step #0 - \"DP_A\":  ---> Running in 36f84e097be8\n",
      "Step #0 - \"DP_A\": Dockerfile\n",
      "Step #0 - \"DP_A\": __pycache__\n",
      "Step #0 - \"DP_A\": cloudbuild.yaml\n",
      "Step #0 - \"DP_A\": data_ingestion.py\n",
      "Step #0 - \"DP_A\": prompt.json\n",
      "Step #0 - \"DP_A\": requirements.txt\n",
      "Step #0 - \"DP_A\": task.py\n",
      "Step #0 - \"DP_A\": Removing intermediate container 36f84e097be8\n",
      "Step #0 - \"DP_A\":  ---> 6b59eb3ea240\n",
      "Step #0 - \"DP_A\": Step 8/10 : RUN pwd\n",
      "Step #0 - \"DP_A\":  ---> Running in cd6705243921\n",
      "Step #0 - \"DP_A\": /app\n",
      "Step #0 - \"DP_A\": Removing intermediate container cd6705243921\n",
      "Step #0 - \"DP_A\":  ---> 42b1b332f9d9\n",
      "Step #0 - \"DP_A\": Step 9/10 : RUN pip list\n",
      "Step #0 - \"DP_A\":  ---> Running in 8b43b66b1916\n",
      "Step #0 - \"DP_A\": Package                       Version\n",
      "Step #0 - \"DP_A\": ----------------------------- -----------\n",
      "Step #0 - \"DP_A\": annotated-types               0.6.0\n",
      "Step #0 - \"DP_A\": cachetools                    5.3.3\n",
      "Step #0 - \"DP_A\": certifi                       2024.2.2\n",
      "Step #0 - \"DP_A\": charset-normalizer            3.3.2\n",
      "Step #0 - \"DP_A\": docstring_parser              0.16\n",
      "Step #0 - \"DP_A\": google-api-core               2.18.0\n",
      "Step #0 - \"DP_A\": google-auth                   2.29.0\n",
      "Step #0 - \"DP_A\": google-cloud-aiplatform       1.46.0\n",
      "Step #0 - \"DP_A\": google-cloud-bigquery         3.20.1\n",
      "Step #0 - \"DP_A\": google-cloud-core             2.4.1\n",
      "Step #0 - \"DP_A\": google-cloud-resource-manager 1.12.3\n",
      "Step #0 - \"DP_A\": google-cloud-storage          2.14.0\n",
      "Step #0 - \"DP_A\": google-crc32c                 1.5.0\n",
      "Step #0 - \"DP_A\": google-resumable-media        2.7.0\n",
      "Step #0 - \"DP_A\": googleapis-common-protos      1.63.0\n",
      "Step #0 - \"DP_A\": grpc-google-iam-v1            0.13.0\n",
      "Step #0 - \"DP_A\": grpcio                        1.62.1\n",
      "Step #0 - \"DP_A\": grpcio-status                 1.62.1\n",
      "Step #0 - \"DP_A\": idna                          3.6\n",
      "Step #0 - \"DP_A\": numpy                         1.26.4\n",
      "Step #0 - \"DP_A\": packaging                     24.0\n",
      "Step #0 - \"DP_A\": pip                           23.0.1\n",
      "Step #0 - \"DP_A\": proto-plus                    1.23.0\n",
      "Step #0 - \"DP_A\": protobuf                      4.25.3\n",
      "Step #0 - \"DP_A\": pyasn1                        0.6.0\n",
      "Step #0 - \"DP_A\": pyasn1_modules                0.4.0\n",
      "Step #0 - \"DP_A\": pydantic                      2.6.4\n",
      "Step #0 - \"DP_A\": pydantic_core                 2.16.3\n",
      "Step #0 - \"DP_A\": python-dateutil               2.9.0.post0\n",
      "Step #0 - \"DP_A\": requests                      2.31.0\n",
      "Step #0 - \"DP_A\": rsa                           4.9\n",
      "Step #0 - \"DP_A\": setuptools                    58.1.0\n",
      "Step #0 - \"DP_A\": shapely                       2.0.3\n",
      "Step #0 - \"DP_A\": six                           1.16.0\n",
      "Step #0 - \"DP_A\": typing_extensions             4.10.0\n",
      "Step #0 - \"DP_A\": urllib3                       2.2.1\n",
      "Step #0 - \"DP_A\": vertexai                      1.46.0\n",
      "Step #0 - \"DP_A\": wheel                         0.43.0\n",
      "Step #0 - \"DP_A\": \u001b[91m\n",
      "Step #0 - \"DP_A\": [notice] A new release of pip is available: 23.0.1 -> 24.0\n",
      "Step #0 - \"DP_A\": [notice] To update, run: pip install --upgrade pip\n",
      "Step #0 - \"DP_A\": \u001b[0mRemoving intermediate container 8b43b66b1916\n",
      "Step #0 - \"DP_A\":  ---> 30bb50787632\n",
      "Step #0 - \"DP_A\": Step 10/10 : ENTRYPOINT [\"python\"]\n",
      "Step #0 - \"DP_A\":  ---> Running in bca117492a7c\n",
      "Step #0 - \"DP_A\": Removing intermediate container bca117492a7c\n",
      "Step #0 - \"DP_A\":  ---> 988b755d08cb\n",
      "Step #0 - \"DP_A\": Successfully built 988b755d08cb\n",
      "Step #0 - \"DP_A\": Successfully tagged gcr.io/able-analyst-416817/gemma-chatbot-data-preparation:masterv6\n",
      "Finished Step #0 - \"DP_A\"\n",
      "Starting Step #1 - \"DP_B\"\n",
      "Step #1 - \"DP_B\": Already have image (with digest): gcr.io/cloud-builders/docker\n",
      "Step #1 - \"DP_B\": The push refers to repository [gcr.io/able-analyst-416817/gemma-chatbot-data-preparation]\n",
      "Step #1 - \"DP_B\": 9efa6e8306ee: Preparing\n",
      "Step #1 - \"DP_B\": fc67c7d66963: Preparing\n",
      "Step #1 - \"DP_B\": 65e0defbef84: Preparing\n",
      "Step #1 - \"DP_B\": 11081b3da2d0: Preparing\n",
      "Step #1 - \"DP_B\": d0a2d25b2d0b: Preparing\n",
      "Step #1 - \"DP_B\": 5d78e4c3c132: Preparing\n",
      "Step #1 - \"DP_B\": 9138b29cde77: Preparing\n",
      "Step #1 - \"DP_B\": 4c8474755d1b: Preparing\n",
      "Step #1 - \"DP_B\": c8f253aef560: Preparing\n",
      "Step #1 - \"DP_B\": a483da8ab3e9: Preparing\n",
      "Step #1 - \"DP_B\": 5d78e4c3c132: Waiting\n",
      "Step #1 - \"DP_B\": 9138b29cde77: Waiting\n",
      "Step #1 - \"DP_B\": 4c8474755d1b: Waiting\n",
      "Step #1 - \"DP_B\": c8f253aef560: Waiting\n",
      "Step #1 - \"DP_B\": a483da8ab3e9: Waiting\n",
      "Step #1 - \"DP_B\": fc67c7d66963: Pushed\n",
      "Step #1 - \"DP_B\": 9efa6e8306ee: Pushed\n",
      "Step #1 - \"DP_B\": 11081b3da2d0: Pushed\n",
      "Step #1 - \"DP_B\": 5d78e4c3c132: Layer already exists\n",
      "Step #1 - \"DP_B\": 9138b29cde77: Layer already exists\n",
      "Step #1 - \"DP_B\": 4c8474755d1b: Layer already exists\n",
      "Step #1 - \"DP_B\": d0a2d25b2d0b: Pushed\n",
      "Step #1 - \"DP_B\": c8f253aef560: Layer already exists\n",
      "Step #1 - \"DP_B\": a483da8ab3e9: Layer already exists\n",
      "Step #1 - \"DP_B\": 65e0defbef84: Pushed\n",
      "Step #1 - \"DP_B\": masterv6: digest: sha256:0abd64e12bedc34385446232ee0499c7e7fdfafd73ef8013b119810350cc74bb size: 2413\n",
      "Finished Step #1 - \"DP_B\"\n",
      "PUSH\n",
      "DONE\n",
      "--------------------------------------------------------------------------------\n",
      "ID                                    CREATE_TIME                DURATION  SOURCE                                                                                             IMAGES  STATUS\n",
      "768a4e1a-4597-4977-ac8c-b462c527f5e0  2024-04-02T16:33:05+00:00  1M7S      gs://able-analyst-416817_cloudbuild/source/1712075584.470694-9c21310dffc84cfb88603052916c4419.tgz  -       SUCCESS\n"
     ]
    }
   ],
   "source": [
    "substitutions=\"\"\"\n",
    "_CONTAINER_IMAGE_NAME_DATA_PREP={},\\\n",
    "TAG_NAME={}\\\n",
    "\"\"\".format(\n",
    "           CONTAINER_IMAGE_NAME_DATA_PREP,\n",
    "           TAG_NAME, \n",
    "           ).strip()\n",
    "print(substitutions)\n",
    "\n",
    "# Runs the data_preparation component image. (Development, when tested should be moved to the main cloudbuild in the project folder)\n",
    "# Pay attention to the \".\" after summit. Might need some changes when move to the master pipeline.\n",
    "!gcloud builds submit . --timeout=15m --config \"components/data_preparation/cloudbuild.yaml\" --substitutions {substitutions} --region={GCP_REGION}\n",
    "# DO not forget the tag"
   ]
  },
  {
   "cell_type": "code",
   "execution_count": null,
   "id": "5e348a00-9742-41d7-b16f-3b1538dc6672",
   "metadata": {},
   "outputs": [],
   "source": [
    "#!docker run gcr.io/able-analyst-416817/gemma-chatbot-data-preparation:latest data_ingestion.py --bucket-name 'able-analyst-416817-chatbot-v1' --directory 'input_data/andrehpereh'"
   ]
  },
  {
   "cell_type": "code",
   "execution_count": 4,
   "id": "f92bc864-cf50-48d3-b50f-d781d6598660",
   "metadata": {},
   "outputs": [
    {
     "name": "stdout",
     "output_type": "stream",
     "text": [
      "1.46.0\n"
     ]
    }
   ],
   "source": [
    "import vertexai\n",
    "print(vertexai.__version__)"
   ]
  },
  {
   "cell_type": "code",
   "execution_count": null,
   "id": "0cfb1a23-f805-4f92-9146-16cb101a4d52",
   "metadata": {},
   "outputs": [],
   "source": [
    "substitutions=\"\"\"\n",
    "_CONTAINER_IMAGE_NAME_FINE_TUNE={},\\\n",
    "_KAGGLE_USERNAME={},\\\n",
    "_KAGGLE_KEY={},\\\n",
    "TAG_NAME={}\\\n",
    "\"\"\".format(\n",
    "           CONTAINER_IMAGE_NAME_FINE_TUNE,\n",
    "           KAGGLE_USERNAME,\n",
    "           KAGGLE_KEY,\n",
    "           TAG_NAME, \n",
    "           ).strip()\n",
    "print(substitutions)\n",
    "\n",
    "# Builds image\n",
    "!gcloud builds submit . --config \"components/fine_tunning/cloudbuild.yaml\" --substitutions {substitutions} --region={GCP_REGION}"
   ]
  },
  {
   "cell_type": "code",
   "execution_count": null,
   "id": "abd61e9c-6cc9-4b86-9c44-c15f620facfe",
   "metadata": {},
   "outputs": [],
   "source": [
    "import json\n",
    "\n",
    "data = [\"Sender: FoooodddAndres Perez: Coming :)\", \"Sender: Can I maybe borrow your iron? Andres Perez: It\\'s not my iron But yeah haha Or is it?\"]\n",
    "model_paths = \"\"\"{\"finetuned_model_dir\": \"./gemma_2b_en\", \"finetuned_weights_path\": \"./gemma_2b_en/model.weights.h5\"}\"\"\"\n",
    "print(len(data))\n",
    "model_paths = json.dumps(model_paths)\n",
    "#!docker run gcr.io/able-analyst-416817/gemma-chatbot-fine-tunning:latest trainer.py --data {data} --model-paths {model_paths}\n",
    "#!python ./components/fine_tunning/trainer.py --data {data} --model-paths {model_paths}\n",
    "#!python ./components/fine_tunning/conversion_function.py --weights-file {model_paths_and_config['finetuned_weights_path']} --size {model_paths_and_config['model_size']} --vocab-path {model_paths_and_config['finetuned_vocab_path']} --output-dir {model_paths_and_config['huggingface_model_dir']}"
   ]
  },
  {
   "cell_type": "code",
   "execution_count": null,
   "id": "588ed344-320c-4cb3-82b2-d94467dc5f0e",
   "metadata": {},
   "outputs": [],
   "source": []
  },
  {
   "cell_type": "code",
   "execution_count": null,
   "id": "ba87d49e-615a-475a-a9e8-6e53760d9dce",
   "metadata": {},
   "outputs": [],
   "source": [
    "substitutions=\"\"\"\n",
    "_CONTAINER_IMAGE_NAME_RUN_APP={},\\\n",
    "_GCP_REGION={},\\\n",
    "TAG_NAME={}\\\n",
    "\"\"\".format(\n",
    "           CONTAINER_IMAGE_NAME_RUN_APP,\n",
    "           GCP_REGION,\n",
    "           TAG_NAME, \n",
    "           ).strip()\n",
    "print(substitutions)\n",
    "!gcloud builds submit . --timeout=15m --config \"components/app_flask/cloudbuild.yaml\" --substitutions {substitutions} --region={GCP_REGION}"
   ]
  },
  {
   "cell_type": "code",
   "execution_count": null,
   "id": "7e1e4f3e-2dd2-4b7c-9218-3b48ee2d2afb",
   "metadata": {},
   "outputs": [],
   "source": [
    "!kfp dsl compile --py './components/pipeline/pipeline/pipeline.py' --output \"fine_tune_pipeline_test.json\" --function fine_tune_pipeline"
   ]
  },
  {
   "cell_type": "code",
   "execution_count": null,
   "id": "12ad583b-7665-46ff-86a0-480e3895161e",
   "metadata": {
    "tags": []
   },
   "outputs": [],
   "source": [
    "!pwd"
   ]
  },
  {
   "cell_type": "code",
   "execution_count": null,
   "id": "6f671c3e-7269-4712-8adc-c5831e4bcc95",
   "metadata": {
    "tags": []
   },
   "outputs": [],
   "source": [
    "substitutions=\"\"\"\n",
    "_CONTAINER_IMAGE_NAME_PIPELINE={},\\\n",
    "TAG_NAME={},\\\n",
    "_BUCKET_NAME={},\\\n",
    "_FINE_TUNE_FLAG={},\\\n",
    "_EPOCHS={},\\\n",
    "_MODEL_NAME={}\n",
    "\"\"\".format(\n",
    "           CONTAINER_IMAGE_NAME_PIPELINE,\n",
    "           TAG_NAME,\n",
    "           BUCKET_NAME,\n",
    "           FINE_TUNE_FLAG,\n",
    "           EPOCHS,\n",
    "           MODEL_NAME\n",
    "           ).strip()\n",
    "print(substitutions)\n",
    "!gcloud builds submit . --config \"components/pipeline/cloudbuild.yaml\" --substitutions {substitutions} --region={GCP_REGION}"
   ]
  },
  {
   "cell_type": "code",
   "execution_count": null,
   "id": "5290781a-2b70-4823-8668-ebd8ce3022b4",
   "metadata": {
    "tags": []
   },
   "outputs": [],
   "source": [
    "# !python \"./components/pipeline/pipeline.py\""
   ]
  },
  {
   "cell_type": "code",
   "execution_count": null,
   "id": "d7ad76d7-5a6b-4b27-ad0e-633679ee2fdd",
   "metadata": {
    "tags": []
   },
   "outputs": [],
   "source": [
    "substitutions=f\"_CONTAINER_IMAGE_RUNNING_APP={CONTAINER_IMAGE_RUNNING_APP},TAG_NAME={TAG_NAME}\"\n",
    "print(substitutions)\n",
    "!gcloud builds submit . --config \"./components/app_flask/cloudbuild.yaml\" --substitutions {substitutions} --region={GCP_REGION}"
   ]
  },
  {
   "cell_type": "code",
   "execution_count": null,
   "id": "0e6a1251-caa0-4f0c-b3e1-b4ff0f46c4e6",
   "metadata": {
    "tags": []
   },
   "outputs": [],
   "source": [
    "PROD_TAG = 'master_v4'\n",
    "substitutions=f\"_CONTAINER_IMAGE_RUNNING_APP={CONTAINER_IMAGE_RUNNING_APP},_PROD_TAG={PROD_TAG}\"\n",
    "!gcloud builds submit . --config \"cloudbuil_cloudrun.yaml\" --substitutions {substitutions} --region={GCP_REGION}"
   ]
  },
  {
   "cell_type": "code",
   "execution_count": 1,
   "id": "538bc302-ec53-432b-a9fd-7dec88d6cf87",
   "metadata": {
    "tags": []
   },
   "outputs": [
    {
     "name": "stdout",
     "output_type": "stream",
     "text": [
      "This is all {'steps': [{'name': 'gcr.io/cloud-builders/docker', 'args': ['build', '-t', 'gcr.io/$PROJECT_ID/$_CONTAINER_IMAGE_NAME_DATA_PREP:$TAG_NAME', '.'], 'dir': './components/data_preparation', 'id': 'DP_A', 'waitFor': ['-']}, {'name': 'gcr.io/cloud-builders/docker', 'args': ['push', 'gcr.io/$PROJECT_ID/$_CONTAINER_IMAGE_NAME_DATA_PREP:$TAG_NAME'], 'id': 'DP_B', 'waitFor': ['DP_A']}, {'name': 'gcr.io/cloud-builders/docker', 'args': ['build', '-t', 'gcr.io/$PROJECT_ID/$_CONTAINER_IMAGE_NAME_FINE_TUNE:$TAG_NAME', '--build-arg', 'KAGGLE_KEY=$_KAGGLE_KEY', '--build-arg', 'KAGGLE_USERNAME=$_KAGGLE_USERNAME', '.'], 'dir': './components/fine_tunning', 'id': 'FT_A', 'waitFor': ['-']}, {'name': 'gcr.io/cloud-builders/docker', 'args': ['push', 'gcr.io/$PROJECT_ID/$_CONTAINER_IMAGE_NAME_FINE_TUNE:$TAG_NAME'], 'id': 'FT_B', 'waitFor': ['FT_A']}, {'name': 'gcr.io/cloud-builders/docker', 'args': ['build', '-t', 'gcr.io/$PROJECT_ID/$_CONTAINER_IMAGE_NAME_PIPELINE:$TAG_NAME', '.'], 'dir': './components/pipeline', 'id': 'P_A', 'waitFor': ['-']}, {'name': 'gcr.io/cloud-builders/docker', 'args': ['push', 'gcr.io/$PROJECT_ID/$_CONTAINER_IMAGE_NAME_PIPELINE:$TAG_NAME'], 'id': 'P_B', 'waitFor': ['P_A']}, {'name': 'gcr.io/$PROJECT_ID/$_CONTAINER_IMAGE_NAME_PIPELINE:$TAG_NAME', 'dir': './components/pipeline', 'args': ['python', 'pipeline.py'], 'env': ['BUCKET_NAME=$_BUCKET_NAME', 'FINE_TUNE_FLAG=$_FINE_TUNE_FLAG', 'EPOCHS=$_EPOCHS', 'MODEL_NAME=$_MODEL_NAME', 'TAG_NAME=$TAG_NAME', 'PROJECT_ID=$PROJECT_ID']}, {'name': 'gcr.io/cloud-builders/docker', 'args': ['build', '-t', 'gcr.io/$PROJECT_ID/$_CONTAINER_IMAGE_RUNNING_APP:$TAG_NAME', '.'], 'dir': './components/app_flask', 'id': 'APP_A', 'waitFor': ['-']}, {'name': 'gcr.io/cloud-builders/docker', 'args': ['push', 'gcr.io/$PROJECT_ID/$_CONTAINER_IMAGE_RUNNING_APP:$TAG_NAME'], 'id': 'APP_B', 'waitFor': ['APP_A']}, {'name': 'gcr.io/cloud-builders/gcloud', 'args': ['run', 'deploy', 'chattingbotdev', '--image', 'gcr.io/$PROJECT_ID/$_CONTAINER_IMAGE_RUNNING_APP:$TAG_NAME', '--region', '$LOCATION', '--platform', 'managed', '--allow-unauthenticated', '--port', '5000'], 'id': 'APP_C', 'waitFor': ['APP_B']}]}\n"
     ]
    }
   ],
   "source": [
    "from cluodbuild_compiler import merge_cloudbuild_files, find_missing_elements\n",
    "child_files = [ \n",
    "    \"./components/data_preparation/cloudbuild.yaml\", \n",
    "    \"./components/fine_tunning/cloudbuild.yaml\", \n",
    "    \"./components/pipeline/cloudbuild.yaml\",\n",
    "    \"./components/app_flask/cloudbuild.yaml\"\n",
    "]\n",
    "\n",
    "descriptions = [ \n",
    "    \"Data Preparation\",\n",
    "    \"Model Training\", \n",
    "    \"Vertex AI Pipeline Deployment\",\n",
    "    \"App flask application (Cloud Run)\"\n",
    "]\n",
    "all_variables = merge_cloudbuild_files(child_files, descriptions, timeout_hours = 20)"
   ]
  },
  {
   "cell_type": "code",
   "execution_count": null,
   "id": "30b93d85-e688-4360-bb2f-dc880b6c98fd",
   "metadata": {
    "tags": []
   },
   "outputs": [],
   "source": [
    "substitutions=f\"_CONTAINER_IMAGE_NAME_DATA_PREP={CONTAINER_IMAGE_NAME_DATA_PREP},_CONTAINER_IMAGE_NAME_FINE_TUNE={CONTAINER_IMAGE_NAME_FINE_TUNE}\\\n",
    ",_CONTAINER_IMAGE_NAME_PIPELINE={CONTAINER_IMAGE_NAME_PIPELINE},_CONTAINER_IMAGE_RUNNING_APP={CONTAINER_IMAGE_RUNNING_APP},_BUCKET_NAME={BUCKET_NAME}\\\n",
    "_KAGGLE_USERNAME={KAGGLE_USERNAME},_KAGGLE_KEY={KAGGLE_KEY},_KAGGLE_USERNAME={KAGGLE_USERNAME},_FINE_TUNE_FLAG={FINE_TUNE_FLAG},_EPOCHS={EPOCHS},_MODEL_NAME={MODEL_NAME},TAG_NAME={TAG_NAME}\"\n",
    "print(substitutions)"
   ]
  },
  {
   "cell_type": "code",
   "execution_count": null,
   "id": "cb7fca8a-cd28-4bc5-943d-bffb1615ab42",
   "metadata": {
    "tags": []
   },
   "outputs": [],
   "source": [
    "missing_elements = find_missing_elements(all_variables, substitutions)\n",
    "print(missing_elements)\n"
   ]
  },
  {
   "cell_type": "code",
   "execution_count": null,
   "id": "590d0666-b0e6-4926-b830-7c2e62518110",
   "metadata": {
    "tags": []
   },
   "outputs": [],
   "source": [
    "!gcloud builds submit . --config \"./master_cloudbuild.json\" --substitutions {substitutions} --region={GCP_REGION}"
   ]
  },
  {
   "cell_type": "code",
   "execution_count": null,
   "id": "7829947f-513a-4c2a-87c2-c0644cd417af",
   "metadata": {
    "tags": []
   },
   "outputs": [],
   "source": [
    "from werkzeug.datastructures import FileStorage"
   ]
  },
  {
   "cell_type": "code",
   "execution_count": null,
   "id": "bc3449a7-6c22-4f74-a1dc-695b3454d526",
   "metadata": {
    "tags": []
   },
   "outputs": [],
   "source": [
    "from google.cloud import bigquery, storage, pubsub_v1"
   ]
  },
  {
   "cell_type": "code",
   "execution_count": null,
   "id": "51b16b58-4948-4ac3-8e62-4bf44a276f68",
   "metadata": {
    "tags": []
   },
   "outputs": [],
   "source": [
    "!gcloud pubsub subscriptions pull"
   ]
  },
  {
   "cell_type": "code",
   "execution_count": null,
   "id": "c6bae1df-efbf-408e-b9d3-89aa40b8e148",
   "metadata": {
    "tags": []
   },
   "outputs": [],
   "source": [
    "!gcloud pubsub subscriptions pull --auto-ack your-pipeline-trigger-topic-sub"
   ]
  },
  {
   "cell_type": "code",
   "execution_count": null,
   "id": "a428edba-6c98-49dc-a6c7-e2cfe63daf15",
   "metadata": {},
   "outputs": [],
   "source": [
    "import os\n",
    "from google.cloud import pubsub_v1\n",
    "\n",
    "# Project and subscription details\n",
    "project_id = \"able-analyst-416817\"  \n",
    "subscription_name = \"your-pipeline-trigger-topic-sub\"\n",
    "\n",
    "# Create Subscriber client\n",
    "subscriber = pubsub_v1.SubscriberClient()\n",
    "subscription_path = subscriber.subscription_path(project_id, subscription_name)\n",
    "\n",
    "def callback(message):\n",
    "    print(f\"Received message: {message.data}\")\n",
    "    message.ack()  # Acknowledge the message\n",
    "\n",
    "# Pulling messages\n",
    "streaming_pull_future = subscriber.subscribe(subscription_path, callback=callback)\n",
    "print(f\"Listening for messages on {subscription_path}..\\n\")\n",
    "\n",
    "# Wrap subscriber in a 'with' block to automatically close the client when done.\n",
    "with subscriber:\n",
    "    try:\n",
    "        # When `timeout` is notset, result() will block indefinitely,\n",
    "        # unless an exception is encountered.\n",
    "        streaming_pull_future.result()  # Continuously pulls messages\n",
    "    except TimeoutError: \n",
    "        streaming_pull_future.cancel()  # Trigger shutdown\n",
    "        streaming_pull_future.result()  # Block until shutdown is complete \n"
   ]
  },
  {
   "cell_type": "code",
   "execution_count": null,
   "id": "97b082d8-111f-4973-ad6c-56a8dbdc1a77",
   "metadata": {},
   "outputs": [],
   "source": [
    "! gcloud functions logs read \\\n",
    "  --gen2 \\\n",
    "  --region='us-central1' \\\n",
    "  --limit=5 \\\n",
    "  'function-1'"
   ]
  },
  {
   "cell_type": "code",
   "execution_count": null,
   "id": "c41cdb33-d6b9-4ec7-a2dc-13a34441bf0e",
   "metadata": {},
   "outputs": [],
   "source": [
    "!gcloud builds submit . --config \"./master_cloudbuild.json\" --substitutions {substitutions} --region={GCP_REGION}"
   ]
  }
 ],
 "metadata": {
  "environment": {
   "kernel": "python3",
   "name": "tf2-cpu.2-11.m118",
   "type": "gcloud",
   "uri": "us-docker.pkg.dev/deeplearning-platform-release/gcr.io/tf2-cpu.2-11:m118"
  },
  "kernelspec": {
   "display_name": "Python 3 (Local)",
   "language": "python",
   "name": "python3"
  },
  "language_info": {
   "codemirror_mode": {
    "name": "ipython",
    "version": 3
   },
   "file_extension": ".py",
   "mimetype": "text/x-python",
   "name": "python",
   "nbconvert_exporter": "python",
   "pygments_lexer": "ipython3",
   "version": "3.10.13"
  }
 },
 "nbformat": 4,
 "nbformat_minor": 5
}
