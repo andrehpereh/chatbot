{
 "cells": [
  {
   "cell_type": "code",
   "execution_count": null,
   "id": "8b5ec7c1-1e80-4be7-9d73-043bbbb9b4e8",
   "metadata": {},
   "outputs": [],
   "source": [
    "import os\n",
    "os.environ['PROJECT_ID'] = 'able-analyst-416817'\n",
    "print(os.environ.get('PROJECT_ID'))"
   ]
  },
  {
   "cell_type": "code",
   "execution_count": 5,
   "id": "56ea9444-bd83-44e8-8cd3-7fa40cae015e",
   "metadata": {
    "tags": []
   },
   "outputs": [],
   "source": [
    "res = !gcloud config get core/project\n",
    "PROJECT_ID = res[0]\n",
    "SERVICE_ACCOUNT = 'gemma-vertexai-chatbot@able-analyst-416817.iam.gserviceaccount.com'\n",
    "from datetime import datetime\n",
    "CONTAINER_IMAGE_NAME=\"gemma-chatbot\"\n",
    "GCP_REGION='us-central1'\n",
    "TAG_NAME = 'latest'\n",
    "KAGGLE_USERNAME='andrehpereh1'\n",
    "KAGGLE_KEY='5859e39806d9456749dcbac685f04bc9'\n",
    "CONTAINER_IMAGE_NAME_DATA_PREP = f\"{CONTAINER_IMAGE_NAME}-data-preparation\"\n",
    "CONTAINER_IMAGE_NAME_FINE_TUNE = f\"{CONTAINER_IMAGE_NAME}-fine-tunning\"\n",
    "CONTAINER_IMAGE_NAME_RUN_APP = f\"{CONTAINER_IMAGE_NAME}-running-app\"\n",
    "CONTAINER_IMAGE_NAME_PIPELINE = f\"{CONTAINER_IMAGE_NAME}-pipeline-app\"\n",
    "CONTAINER_IMAGE_RUNNING_APP = f\"{CONTAINER_IMAGE_NAME}-running-app\"\n",
    "BUCKET_NAME = 'able-analyst-416817-chatbot-v1'\n",
    "# BUCKET_URI = f\"gs://{BUCKET_NAME}\"\n",
    "FINE_TUNE_FLAG=  False\n",
    "EPOCHS=12\n",
    "MODEL_NAME=\"gemma_2b_en\"\n"
   ]
  },
  {
   "cell_type": "code",
   "execution_count": 6,
   "id": "5f4acc04-293c-4e1f-889a-efd74f3e143f",
   "metadata": {
    "tags": []
   },
   "outputs": [
    {
     "ename": "NameError",
     "evalue": "name 'os' is not defined",
     "output_type": "error",
     "traceback": [
      "\u001b[0;31m---------------------------------------------------------------------------\u001b[0m",
      "\u001b[0;31mNameError\u001b[0m                                 Traceback (most recent call last)",
      "Cell \u001b[0;32mIn[6], line 1\u001b[0m\n\u001b[0;32m----> 1\u001b[0m user \u001b[38;5;241m=\u001b[39m \u001b[43mos\u001b[49m\u001b[38;5;241m.\u001b[39mgetenv(\u001b[38;5;124m\"\u001b[39m\u001b[38;5;124mUSER_NAME\u001b[39m\u001b[38;5;124m\"\u001b[39m, \u001b[38;5;124m\"\u001b[39m\u001b[38;5;124m\"\u001b[39m)\n\u001b[1;32m      2\u001b[0m \u001b[38;5;28mprint\u001b[39m(os\u001b[38;5;241m.\u001b[39mpath\u001b[38;5;241m.\u001b[39mjoin(user , \u001b[38;5;124m\"\u001b[39m\u001b[38;5;124mjhdbcjd\u001b[39m\u001b[38;5;124m\"\u001b[39m))\n\u001b[1;32m      3\u001b[0m \u001b[38;5;28mprint\u001b[39m(os\u001b[38;5;241m.\u001b[39mpath\u001b[38;5;241m.\u001b[39mjoin(\u001b[38;5;124m\"\u001b[39m\u001b[38;5;124mcdsac\u001b[39m\u001b[38;5;124m\"\u001b[39m, user))\n",
      "\u001b[0;31mNameError\u001b[0m: name 'os' is not defined"
     ]
    }
   ],
   "source": [
    "user = os.getenv(\"USER_NAME\", \"\")\n",
    "print(os.path.join(user , \"jhdbcjd\"))\n",
    "print(os.path.join(\"cdsac\", user))\n"
   ]
  },
  {
   "cell_type": "code",
   "execution_count": 7,
   "id": "32f79510-84ba-420b-a56d-996e1afd5577",
   "metadata": {
    "tags": []
   },
   "outputs": [
    {
     "data": {
      "text/plain": [
       "'gemma-chatbot-running-app'"
      ]
     },
     "execution_count": 7,
     "metadata": {},
     "output_type": "execute_result"
    }
   ],
   "source": [
    "CONTAINER_IMAGE_RUNNING_APP"
   ]
  },
  {
   "cell_type": "code",
   "execution_count": null,
   "id": "4efb8fdb-fb38-41b2-adec-c23e82577771",
   "metadata": {},
   "outputs": [],
   "source": [
    "substitutions=\"\"\"\n",
    "_CONTAINER_IMAGE_NAME_DATA_PREP={},\\\n",
    "TAG_NAME={}\\\n",
    "\"\"\".format(\n",
    "           CONTAINER_IMAGE_NAME_DATA_PREP,\n",
    "           TAG_NAME, \n",
    "           ).strip()\n",
    "print(substitutions)\n",
    "\n",
    "# Runs the data_preparation component image. (Development, when tested should be moved to the main cloudbuild in the project folder)\n",
    "# Pay attention to the \".\" after summit. Might need some changes when move to the master pipeline.\n",
    "!gcloud builds submit . --timeout=15m --config \"components/data_preparation/cloudbuild.yaml\" --substitutions {substitutions} --region={GCP_REGION}\n",
    "# DO not forget the tag"
   ]
  },
  {
   "cell_type": "code",
   "execution_count": null,
   "id": "5e348a00-9742-41d7-b16f-3b1538dc6672",
   "metadata": {},
   "outputs": [],
   "source": [
    "#!docker run gcr.io/able-analyst-416817/gemma-chatbot-data-preparation:latest data_ingestion.py --bucket-name 'able-analyst-416817-chatbot-v1' --directory 'input_data/andrehpereh'"
   ]
  },
  {
   "cell_type": "code",
   "execution_count": null,
   "id": "f92bc864-cf50-48d3-b50f-d781d6598660",
   "metadata": {},
   "outputs": [],
   "source": []
  },
  {
   "cell_type": "code",
   "execution_count": null,
   "id": "0cfb1a23-f805-4f92-9146-16cb101a4d52",
   "metadata": {},
   "outputs": [],
   "source": [
    "substitutions=\"\"\"\n",
    "_CONTAINER_IMAGE_NAME_FINE_TUNE={},\\\n",
    "_KAGGLE_USERNAME={},\\\n",
    "_KAGGLE_KEY={},\\\n",
    "TAG_NAME={}\\\n",
    "\"\"\".format(\n",
    "           CONTAINER_IMAGE_NAME_FINE_TUNE,\n",
    "           KAGGLE_USERNAME,\n",
    "           KAGGLE_KEY,\n",
    "           TAG_NAME, \n",
    "           ).strip()\n",
    "print(substitutions)\n",
    "\n",
    "# Builds image\n",
    "!gcloud builds submit . --config \"components/fine_tunning/cloudbuild.yaml\" --substitutions {substitutions} --region={GCP_REGION}"
   ]
  },
  {
   "cell_type": "code",
   "execution_count": null,
   "id": "abd61e9c-6cc9-4b86-9c44-c15f620facfe",
   "metadata": {},
   "outputs": [],
   "source": [
    "import json\n",
    "\n",
    "data = [\"Sender: FoooodddAndres Perez: Coming :)\", \"Sender: Can I maybe borrow your iron? Andres Perez: It\\'s not my iron But yeah haha Or is it?\"]\n",
    "model_paths = \"\"\"{\"finetuned_model_dir\": \"./gemma_2b_en\", \"finetuned_weights_path\": \"./gemma_2b_en/model.weights.h5\"}\"\"\"\n",
    "print(len(data))\n",
    "model_paths = json.dumps(model_paths)\n",
    "#!docker run gcr.io/able-analyst-416817/gemma-chatbot-fine-tunning:latest trainer.py --data {data} --model-paths {model_paths}\n",
    "#!python ./components/fine_tunning/trainer.py --data {data} --model-paths {model_paths}\n",
    "#!python ./components/fine_tunning/conversion_function.py --weights-file {model_paths_and_config['finetuned_weights_path']} --size {model_paths_and_config['model_size']} --vocab-path {model_paths_and_config['finetuned_vocab_path']} --output-dir {model_paths_and_config['huggingface_model_dir']}"
   ]
  },
  {
   "cell_type": "code",
   "execution_count": null,
   "id": "588ed344-320c-4cb3-82b2-d94467dc5f0e",
   "metadata": {},
   "outputs": [],
   "source": []
  },
  {
   "cell_type": "code",
   "execution_count": null,
   "id": "ba87d49e-615a-475a-a9e8-6e53760d9dce",
   "metadata": {},
   "outputs": [],
   "source": [
    "substitutions=\"\"\"\n",
    "_CONTAINER_IMAGE_NAME_RUN_APP={},\\\n",
    "_GCP_REGION={},\\\n",
    "TAG_NAME={}\\\n",
    "\"\"\".format(\n",
    "           CONTAINER_IMAGE_NAME_RUN_APP,\n",
    "           GCP_REGION,\n",
    "           TAG_NAME, \n",
    "           ).strip()\n",
    "print(substitutions)\n",
    "!gcloud builds submit . --timeout=15m --config \"components/app_flask/cloudbuild.yaml\" --substitutions {substitutions} --region={GCP_REGION}"
   ]
  },
  {
   "cell_type": "code",
   "execution_count": null,
   "id": "7e1e4f3e-2dd2-4b7c-9218-3b48ee2d2afb",
   "metadata": {},
   "outputs": [],
   "source": [
    "!kfp dsl compile --py './components/pipeline/pipeline/pipeline.py' --output \"fine_tune_pipeline_test.json\" --function fine_tune_pipeline"
   ]
  },
  {
   "cell_type": "code",
   "execution_count": null,
   "id": "12ad583b-7665-46ff-86a0-480e3895161e",
   "metadata": {
    "tags": []
   },
   "outputs": [],
   "source": [
    "!pwd"
   ]
  },
  {
   "cell_type": "code",
   "execution_count": null,
   "id": "6f671c3e-7269-4712-8adc-c5831e4bcc95",
   "metadata": {
    "tags": []
   },
   "outputs": [],
   "source": [
    "substitutions=\"\"\"\n",
    "_CONTAINER_IMAGE_NAME_PIPELINE={},\\\n",
    "TAG_NAME={},\\\n",
    "_BUCKET_NAME={},\\\n",
    "_FINE_TUNE_FLAG={},\\\n",
    "_EPOCHS={},\\\n",
    "_MODEL_NAME={}\n",
    "\"\"\".format(\n",
    "           CONTAINER_IMAGE_NAME_PIPELINE,\n",
    "           TAG_NAME,\n",
    "           BUCKET_NAME,\n",
    "           FINE_TUNE_FLAG,\n",
    "           EPOCHS,\n",
    "           MODEL_NAME\n",
    "           ).strip()\n",
    "print(substitutions)\n",
    "!gcloud builds submit . --config \"components/pipeline/cloudbuild.yaml\" --substitutions {substitutions} --region={GCP_REGION}"
   ]
  },
  {
   "cell_type": "code",
   "execution_count": null,
   "id": "5290781a-2b70-4823-8668-ebd8ce3022b4",
   "metadata": {
    "tags": []
   },
   "outputs": [],
   "source": [
    "# !python \"./components/pipeline/pipeline.py\""
   ]
  },
  {
   "cell_type": "code",
   "execution_count": null,
   "id": "d7ad76d7-5a6b-4b27-ad0e-633679ee2fdd",
   "metadata": {
    "tags": []
   },
   "outputs": [],
   "source": [
    "substitutions=f\"_CONTAINER_IMAGE_RUNNING_APP={CONTAINER_IMAGE_RUNNING_APP},TAG_NAME={TAG_NAME}\"\n",
    "print(substitutions)\n",
    "!gcloud builds submit . --config \"./components/app_flask/cloudbuild.yaml\" --substitutions {substitutions} --region={GCP_REGION}"
   ]
  },
  {
   "cell_type": "code",
   "execution_count": null,
   "id": "0e6a1251-caa0-4f0c-b3e1-b4ff0f46c4e6",
   "metadata": {
    "tags": []
   },
   "outputs": [],
   "source": []
  },
  {
   "cell_type": "code",
   "execution_count": 9,
   "id": "538bc302-ec53-432b-a9fd-7dec88d6cf87",
   "metadata": {
    "tags": []
   },
   "outputs": [
    {
     "name": "stdout",
     "output_type": "stream",
     "text": [
      "This is all {'steps': [{'name': 'gcr.io/cloud-builders/docker', 'args': ['build', '-t', 'gcr.io/$PROJECT_ID/$_CONTAINER_IMAGE_NAME_DATA_PREP:$TAG_NAME', '.'], 'dir': './components/data_preparation', 'id': 'DP_A', 'waitFor': ['-']}, {'name': 'gcr.io/cloud-builders/docker', 'args': ['push', 'gcr.io/$PROJECT_ID/$_CONTAINER_IMAGE_NAME_DATA_PREP:$TAG_NAME'], 'id': 'DP_B', 'waitFor': ['DP_A']}, {'name': 'gcr.io/cloud-builders/docker', 'args': ['build', '-t', 'gcr.io/$PROJECT_ID/$_CONTAINER_IMAGE_NAME_FINE_TUNE:$TAG_NAME', '--build-arg', 'KAGGLE_KEY=$_KAGGLE_KEY', '--build-arg', 'KAGGLE_USERNAME=$_KAGGLE_USERNAME', '.'], 'dir': './components/fine_tunning', 'id': 'FT_A', 'waitFor': ['-']}, {'name': 'gcr.io/cloud-builders/docker', 'args': ['push', 'gcr.io/$PROJECT_ID/$_CONTAINER_IMAGE_NAME_FINE_TUNE:$TAG_NAME'], 'id': 'FT_B', 'waitFor': ['FT_A']}, {'name': 'gcr.io/cloud-builders/docker', 'args': ['build', '-t', 'gcr.io/$PROJECT_ID/$_CONTAINER_IMAGE_NAME_PIPELINE:$TAG_NAME', '.'], 'dir': './components/pipeline', 'id': 'P_A', 'waitFor': ['-']}, {'name': 'gcr.io/cloud-builders/docker', 'args': ['push', 'gcr.io/$PROJECT_ID/$_CONTAINER_IMAGE_NAME_PIPELINE:$TAG_NAME'], 'id': 'P_B', 'waitFor': ['P_A']}, {'name': 'gcr.io/$PROJECT_ID/$_CONTAINER_IMAGE_NAME_PIPELINE:$TAG_NAME', 'dir': './components/pipeline', 'args': ['python', 'pipeline.py'], 'env': ['BUCKET_NAME=$_BUCKET_NAME', 'FINE_TUNE_FLAG=$_FINE_TUNE_FLAG', 'EPOCHS=$_EPOCHS', 'MODEL_NAME=$_MODEL_NAME', 'TAG_NAME=$TAG_NAME']}, {'name': 'gcr.io/cloud-builders/docker', 'args': ['build', '-t', 'gcr.io/$PROJECT_ID/$_CONTAINER_IMAGE_RUNNING_APP:$TAG_NAME', '.'], 'dir': './components/app_flask', 'id': 'APP_A', 'waitFor': ['-']}, {'name': 'gcr.io/cloud-builders/docker', 'args': ['push', 'gcr.io/$PROJECT_ID/$_CONTAINER_IMAGE_RUNNING_APP:$TAG_NAME'], 'id': 'APP_B', 'waitFor': ['APP_A']}, {'name': 'gcr.io/cloud-builders/gcloud', 'args': ['run', 'deploy', 'chattingbotdev', '--image', 'gcr.io/$PROJECT_ID/$_CONTAINER_IMAGE_RUNNING_APP:$TAG_NAME', '--region', '$LOCATION', '--platform', 'managed', '--allow-unauthenticated', '--port', '5000'], 'id': 'APP_C', 'waitFor': ['APP_B']}]}\n"
     ]
    }
   ],
   "source": [
    "from cluodbuild_compiler import merge_cloudbuild_files, find_missing_elements\n",
    "child_files = [ \n",
    "    \"./components/data_preparation/cloudbuild.yaml\", \n",
    "    \"./components/fine_tunning/cloudbuild.yaml\", \n",
    "    \"./components/pipeline/cloudbuild.yaml\",\n",
    "    \"./components/app_flask/cloudbuild.yaml\"\n",
    "]\n",
    "\n",
    "descriptions = [ \n",
    "    \"Data Preparation\",\n",
    "    \"Model Training\", \n",
    "    \"Vertex AI Pipeline Deployment\",\n",
    "    \"App flask application (Cloud Run)\"\n",
    "]\n",
    "all_variables = merge_cloudbuild_files(child_files, descriptions, timeout_hours = 20)"
   ]
  },
  {
   "cell_type": "code",
   "execution_count": null,
   "id": "30b93d85-e688-4360-bb2f-dc880b6c98fd",
   "metadata": {
    "tags": []
   },
   "outputs": [],
   "source": [
    "substitutions=f\"_CONTAINER_IMAGE_NAME_DATA_PREP={CONTAINER_IMAGE_NAME_DATA_PREP},_CONTAINER_IMAGE_NAME_FINE_TUNE={CONTAINER_IMAGE_NAME_FINE_TUNE}\\\n",
    ",_CONTAINER_IMAGE_NAME_PIPELINE={CONTAINER_IMAGE_NAME_PIPELINE},_CONTAINER_IMAGE_RUNNING_APP={CONTAINER_IMAGE_RUNNING_APP},_BUCKET_NAME={BUCKET_NAME}\\\n",
    "_KAGGLE_USERNAME={KAGGLE_USERNAME},_KAGGLE_KEY={KAGGLE_KEY},_KAGGLE_USERNAME={KAGGLE_USERNAME},_FINE_TUNE_FLAG={FINE_TUNE_FLAG},_EPOCHS={EPOCHS},_MODEL_NAME={MODEL_NAME},TAG_NAME={TAG_NAME}\"\n",
    "print(substitutions)"
   ]
  },
  {
   "cell_type": "code",
   "execution_count": null,
   "id": "cb7fca8a-cd28-4bc5-943d-bffb1615ab42",
   "metadata": {
    "tags": []
   },
   "outputs": [],
   "source": [
    "missing_elements = find_missing_elements(all_variables, substitutions)\n",
    "print(missing_elements)\n"
   ]
  },
  {
   "cell_type": "code",
   "execution_count": null,
   "id": "590d0666-b0e6-4926-b830-7c2e62518110",
   "metadata": {
    "tags": []
   },
   "outputs": [],
   "source": [
    "!gcloud builds submit . --config \"./master_cloudbuild.json\" --substitutions {substitutions} --region={GCP_REGION}"
   ]
  },
  {
   "cell_type": "code",
   "execution_count": null,
   "id": "7829947f-513a-4c2a-87c2-c0644cd417af",
   "metadata": {
    "tags": []
   },
   "outputs": [],
   "source": [
    "from werkzeug.datastructures import FileStorage"
   ]
  },
  {
   "cell_type": "code",
   "execution_count": null,
   "id": "bc3449a7-6c22-4f74-a1dc-695b3454d526",
   "metadata": {
    "tags": []
   },
   "outputs": [],
   "source": [
    "from google.cloud import bigquery, storage, pubsub_v1"
   ]
  },
  {
   "cell_type": "code",
   "execution_count": null,
   "id": "51b16b58-4948-4ac3-8e62-4bf44a276f68",
   "metadata": {
    "tags": []
   },
   "outputs": [],
   "source": [
    "!gcloud pubsub subscriptions pull"
   ]
  },
  {
   "cell_type": "code",
   "execution_count": null,
   "id": "c6bae1df-efbf-408e-b9d3-89aa40b8e148",
   "metadata": {
    "tags": []
   },
   "outputs": [],
   "source": [
    "!gcloud pubsub subscriptions pull --auto-ack your-pipeline-trigger-topic-sub"
   ]
  },
  {
   "cell_type": "code",
   "execution_count": null,
   "id": "a428edba-6c98-49dc-a6c7-e2cfe63daf15",
   "metadata": {},
   "outputs": [],
   "source": [
    "import os\n",
    "from google.cloud import pubsub_v1\n",
    "\n",
    "# Project and subscription details\n",
    "project_id = \"able-analyst-416817\"  \n",
    "subscription_name = \"your-pipeline-trigger-topic-sub\"\n",
    "\n",
    "# Create Subscriber client\n",
    "subscriber = pubsub_v1.SubscriberClient()\n",
    "subscription_path = subscriber.subscription_path(project_id, subscription_name)\n",
    "\n",
    "def callback(message):\n",
    "    print(f\"Received message: {message.data}\")\n",
    "    message.ack()  # Acknowledge the message\n",
    "\n",
    "# Pulling messages\n",
    "streaming_pull_future = subscriber.subscribe(subscription_path, callback=callback)\n",
    "print(f\"Listening for messages on {subscription_path}..\\n\")\n",
    "\n",
    "# Wrap subscriber in a 'with' block to automatically close the client when done.\n",
    "with subscriber:\n",
    "    try:\n",
    "        # When `timeout` is notset, result() will block indefinitely,\n",
    "        # unless an exception is encountered.\n",
    "        streaming_pull_future.result()  # Continuously pulls messages\n",
    "    except TimeoutError: \n",
    "        streaming_pull_future.cancel()  # Trigger shutdown\n",
    "        streaming_pull_future.result()  # Block until shutdown is complete \n"
   ]
  },
  {
   "cell_type": "code",
   "execution_count": null,
   "id": "97b082d8-111f-4973-ad6c-56a8dbdc1a77",
   "metadata": {},
   "outputs": [],
   "source": [
    "! gcloud functions logs read \\\n",
    "  --gen2 \\\n",
    "  --region='us-central1' \\\n",
    "  --limit=5 \\\n",
    "  'function-1'"
   ]
  },
  {
   "cell_type": "code",
   "execution_count": null,
   "id": "c41cdb33-d6b9-4ec7-a2dc-13a34441bf0e",
   "metadata": {},
   "outputs": [],
   "source": [
    "!gcloud builds submit . --config \"./master_cloudbuild.json\" --substitutions {substitutions} --region={GCP_REGION}"
   ]
  }
 ],
 "metadata": {
  "environment": {
   "kernel": "python3",
   "name": "tf2-cpu.2-11.m118",
   "type": "gcloud",
   "uri": "us-docker.pkg.dev/deeplearning-platform-release/gcr.io/tf2-cpu.2-11:m118"
  },
  "kernelspec": {
   "display_name": "Python 3 (Local)",
   "language": "python",
   "name": "python3"
  },
  "language_info": {
   "codemirror_mode": {
    "name": "ipython",
    "version": 3
   },
   "file_extension": ".py",
   "mimetype": "text/x-python",
   "name": "python",
   "nbconvert_exporter": "python",
   "pygments_lexer": "ipython3",
   "version": "3.10.13"
  }
 },
 "nbformat": 4,
 "nbformat_minor": 5
}
