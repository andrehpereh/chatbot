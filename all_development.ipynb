{
 "cells": [
  {
   "cell_type": "code",
   "execution_count": 10,
   "id": "f178cfef-2782-4a77-b4f8-7d372a7c61f4",
   "metadata": {
    "tags": []
   },
   "outputs": [
    {
     "name": "stderr",
     "output_type": "stream",
     "text": [
      "2024-03-19 20:38:16.503271: E external/local_xla/xla/stream_executor/cuda/cuda_dnn.cc:9261] Unable to register cuDNN factory: Attempting to register factory for plugin cuDNN when one has already been registered\n",
      "2024-03-19 20:38:16.503377: E external/local_xla/xla/stream_executor/cuda/cuda_fft.cc:607] Unable to register cuFFT factory: Attempting to register factory for plugin cuFFT when one has already been registered\n",
      "2024-03-19 20:38:16.509589: E external/local_xla/xla/stream_executor/cuda/cuda_blas.cc:1515] Unable to register cuBLAS factory: Attempting to register factory for plugin cuBLAS when one has already been registered\n",
      "2024-03-19 20:38:16.531052: I tensorflow/core/platform/cpu_feature_guard.cc:182] This TensorFlow binary is optimized to use available CPU instructions in performance-critical operations.\n",
      "To enable the following instructions: AVX2 FMA, in other operations, rebuild TensorFlow with the appropriate compiler flags.\n"
     ]
    },
    {
     "ename": "ModuleNotFoundError",
     "evalue": "No module named 'keras_nlp'",
     "output_type": "error",
     "traceback": [
      "\u001b[0;31m---------------------------------------------------------------------------\u001b[0m",
      "\u001b[0;31mModuleNotFoundError\u001b[0m                       Traceback (most recent call last)",
      "Cell \u001b[0;32mIn[10], line 2\u001b[0m\n\u001b[1;32m      1\u001b[0m \u001b[38;5;28;01mimport\u001b[39;00m \u001b[38;5;21;01mkeras\u001b[39;00m\n\u001b[0;32m----> 2\u001b[0m \u001b[38;5;28;01mimport\u001b[39;00m \u001b[38;5;21;01mkeras_nlp\u001b[39;00m\n\u001b[1;32m      3\u001b[0m \u001b[38;5;28;01mimport\u001b[39;00m \u001b[38;5;21;01mos\u001b[39;00m\n\u001b[1;32m      4\u001b[0m \u001b[38;5;28;01mfrom\u001b[39;00m \u001b[38;5;21;01mutil\u001b[39;00m \u001b[38;5;28;01mimport\u001b[39;00m get_model_paths_and_config, upload2bs\n",
      "\u001b[0;31mModuleNotFoundError\u001b[0m: No module named 'keras_nlp'"
     ]
    }
   ],
   "source": [
    "import keras\n",
    "import keras_nlp\n",
    "import os\n",
    "from util import get_model_paths_and_config, upload2bs\n",
    "from config import Config\n",
    "from components.data_preparation.data_ingestion import process_whatsapp_chat\n",
    "from components.fine_tunning.trainer import finetune_gemma\n",
    "from components.fine_tunning.conversion_function import convert_checkpoints\n",
    "from numba import cuda\n",
    "from google.cloud import aiplatform\n"
   ]
  },
  {
   "cell_type": "code",
   "execution_count": 16,
   "id": "d508aa69-1810-4fc2-9a3d-735e55e4ccf0",
   "metadata": {
    "tags": []
   },
   "outputs": [],
   "source": [
    "model_paths_and_config = get_model_paths_and_config(Config.MODEL_NAME)\n"
   ]
  },
  {
   "cell_type": "code",
   "execution_count": 17,
   "id": "69027026-fb4f-4de3-9e5c-84f7ec881d29",
   "metadata": {
    "tags": []
   },
   "outputs": [
    {
     "data": {
      "text/plain": [
       "('input_data/andrehpereh', 'able-analyst-416817-chatbot-v1')"
      ]
     },
     "execution_count": 17,
     "metadata": {},
     "output_type": "execute_result"
    }
   ],
   "source": [
    "Config.TRAIN_DATA_DIR, Config.BUCKET_NAME"
   ]
  },
  {
   "cell_type": "code",
   "execution_count": 4,
   "id": "4b737395-4d42-4a7e-becf-9fbc07a2580d",
   "metadata": {
    "tags": []
   },
   "outputs": [
    {
     "name": "stdout",
     "output_type": "stream",
     "text": [
      "<Bucket: able-analyst-416817-chatbot-v1>\n",
      "input_data/andrehpereh\n",
      "<google.api_core.page_iterator.HTTPIterator object at 0x7f1dac862560>\n",
      "input_data/andrehpereh/\n",
      "\n",
      "input_data/andrehpereh/WhatsApp Chat with Anki.txt\n",
      "WhatsApp Chat with Anki.txt\n",
      "input_data/andrehpereh/WhatsApp Chat with Anki.txt\n",
      "input_data/andrehpereh/WhatsApp Chat with Ilse Flatmate.txt\n",
      "WhatsApp Chat with Ilse Flatmate.txt\n",
      "input_data/andrehpereh/WhatsApp Chat with Ilse Flatmate.txt\n",
      "input_data/andrehpereh/WhatsApp Chat with Michael.txt\n",
      "WhatsApp Chat with Michael.txt\n",
      "input_data/andrehpereh/WhatsApp Chat with Michael.txt\n",
      "input_data/andrehpereh/WhatsApp Chat with Mike Haarlem.txt\n",
      "WhatsApp Chat with Mike Haarlem.txt\n",
      "input_data/andrehpereh/WhatsApp Chat with Mike Haarlem.txt\n",
      "input_data/andrehpereh/WhatsApp Chat with Rosa Rosa Rosa.txt\n",
      "WhatsApp Chat with Rosa Rosa Rosa.txt\n",
      "input_data/andrehpereh/WhatsApp Chat with Rosa Rosa Rosa.txt\n",
      "input_data/andrehpereh/WhatsApp Chat with Ruben Ewald Puijker.txt\n",
      "WhatsApp Chat with Ruben Ewald Puijker.txt\n",
      "input_data/andrehpereh/WhatsApp Chat with Ruben Ewald Puijker.txt\n"
     ]
    }
   ],
   "source": [
    "data = process_whatsapp_chat(Config.BUCKET_NAME, Config.TRAIN_DATA_DIR)"
   ]
  },
  {
   "cell_type": "code",
   "execution_count": null,
   "id": "ab04ebef-6bad-4c2d-aced-34083491afce",
   "metadata": {
    "tags": []
   },
   "outputs": [],
   "source": [
    "finetuned_weights_path"
   ]
  },
  {
   "cell_type": "code",
   "execution_count": null,
   "id": "67913c94-353d-43f3-8026-827aafdbbdbd",
   "metadata": {},
   "outputs": [],
   "source": [
    "finetuned_weights_path = finetune_gemma(data=data[:50], model_paths=model_paths_and_config, model_name=Config.MODEL_NAME, rank_lora=Config.SEQUENCE_LENGTH, sequence_length=Config.SEQUENCE_LENGTH, epochs=Config.EPOCHS, batch_size=Config.BATCH_SIZE)"
   ]
  },
  {
   "cell_type": "code",
   "execution_count": null,
   "id": "2b6d2d38-4f7b-4eca-bf72-31027d060ac6",
   "metadata": {},
   "outputs": [],
   "source": [
    "device = cuda.get_current_device()\n",
    "cuda.select_device(device.id)\n",
    "cuda.close()"
   ]
  },
  {
   "cell_type": "code",
   "execution_count": null,
   "id": "511c2ed7-d7fc-4c1b-a73f-e44940701a88",
   "metadata": {},
   "outputs": [],
   "source": [
    "output_dir = convert_checkpoints(\n",
    "    weights_file=finetuned_weights_path,\n",
    "    size=model_paths_and_config['model_size'],\n",
    "    output_dir=model_paths_and_config['huggingface_model_dir'],\n",
    "    vocab_path=model_paths_and_config['finetuned_vocab_path'],\n",
    ")\n"
   ]
  },
  {
   "cell_type": "code",
   "execution_count": null,
   "id": "202aae46-9fdc-40f6-9d3e-d4f7cb50278b",
   "metadata": {},
   "outputs": [],
   "source": [
    "output_dir=model_paths_and_config['huggingface_model_dir']"
   ]
  },
  {
   "cell_type": "code",
   "execution_count": null,
   "id": "97ad8c09-c59c-4424-8165-24e5716740e4",
   "metadata": {},
   "outputs": [],
   "source": [
    "destination_path = upload2bs(local_directory = output_dir, bucket_name = Config.BUCKET_NAME, destination_subfolder = model_paths_and_config['deployed_model_blob'])"
   ]
  },
  {
   "cell_type": "code",
   "execution_count": null,
   "id": "acea5a28-8c3c-44d7-87aa-1952de6c3a63",
   "metadata": {},
   "outputs": [],
   "source": [
    "aiplatform.init(project=Config.PROJECT_ID, location=Config.REGION, staging_bucket=Config.BUCKET_URI)"
   ]
  },
  {
   "cell_type": "code",
   "execution_count": 16,
   "id": "61b32639-f0ac-459a-924b-db590770a837",
   "metadata": {
    "tags": []
   },
   "outputs": [],
   "source": [
    "import datetime\n",
    "VLLM_DOCKER_URI = \"us-docker.pkg.dev/vertex-ai/vertex-vision-model-garden-dockers/pytorch-vllm-serve:20240220_0936_RC01\"\n",
    "\n",
    "\n",
    "def get_job_name_with_datetime(prefix: str) -> str:\n",
    "    suffix = datetime.datetime.now().strftime(\"_%Y%m%d_%H%M%S\")\n",
    "    return f\"{prefix}{suffix}\"\n",
    "\n",
    "\n",
    "def deploy_model_vllm(\n",
    "    model_name: str,\n",
    "    model_uri: str,\n",
    "    service_account: str,\n",
    "    machine_type: str = \"g2-standard-8\",\n",
    "    accelerator_type: str = \"NVIDIA_L4\",\n",
    "    accelerator_count: int = 1,\n",
    "    max_model_len: int = 8192,\n",
    "    dtype: str = \"bfloat16\",\n",
    ") -> tuple[aiplatform.Model, aiplatform.Endpoint]:\n",
    "    # Upload the model to \"Model Registry\"\n",
    "    job_name = get_job_name_with_datetime(model_name)\n",
    "    vllm_args = [\n",
    "        \"--host=0.0.0.0\",\n",
    "        \"--port=7080\",\n",
    "        f\"--tensor-parallel-size={accelerator_count}\",\n",
    "        \"--swap-space=16\",\n",
    "        \"--gpu-memory-utilization=0.95\",\n",
    "        f\"--max-model-len={max_model_len}\",\n",
    "        f\"--dtype={dtype}\",\n",
    "        \"--disable-log-stats\",\n",
    "    ]\n",
    "    model = aiplatform.Model.upload(\n",
    "        display_name=job_name,\n",
    "        artifact_uri=model_uri,\n",
    "        serving_container_image_uri=VLLM_DOCKER_URI,\n",
    "        serving_container_command=[\"python\", \"-m\", \"vllm.entrypoints.api_server\"],\n",
    "        serving_container_args=vllm_args,\n",
    "        serving_container_ports=[7080],\n",
    "        serving_container_predict_route=\"/generate\",\n",
    "        serving_container_health_route=\"/ping\",\n",
    "    )\n",
    "\n",
    "    # Deploy the model to an endpoint to serve \"Online predictions\"\n",
    "    endpoint = aiplatform.Endpoint.create(display_name=f\"{model_name}-endpoint\")\n",
    "    model.deploy(\n",
    "        endpoint=endpoint,\n",
    "        machine_type=machine_type,\n",
    "        accelerator_type=accelerator_type,\n",
    "        accelerator_count=accelerator_count,\n",
    "        deploy_request_timeout=1800,\n",
    "        service_account=service_account,\n",
    "    )\n",
    "\n",
    "    return model, endpoint"
   ]
  },
  {
   "cell_type": "code",
   "execution_count": 17,
   "id": "c07dfde0-7192-48af-9730-d3b692cf878a",
   "metadata": {
    "tags": []
   },
   "outputs": [
    {
     "data": {
      "text/plain": [
       "'gemma_2b_en-vllm'"
      ]
     },
     "execution_count": 17,
     "metadata": {},
     "output_type": "execute_result"
    }
   ],
   "source": [
    "# Set up artificially since the model was already in a bucket\n",
    "model_paths_and_config['deployed_model_uri'] = 'gs://able-analyst-416817-chatbot-v1/gemma_2b_en/20240314162107'\n",
    "model_paths_and_config['model_name_vllm']"
   ]
  },
  {
   "cell_type": "code",
   "execution_count": 18,
   "id": "251fc433-3657-434e-a64c-6b351bf143ae",
   "metadata": {
    "tags": []
   },
   "outputs": [
    {
     "name": "stdout",
     "output_type": "stream",
     "text": [
      "Creating Model\n",
      "Create Model backing LRO: projects/24796876098/locations/us-central1/models/6563293868962349056/operations/1798728489633841152\n",
      "Model created. Resource name: projects/24796876098/locations/us-central1/models/6563293868962349056@1\n",
      "To use this Model in another session:\n",
      "model = aiplatform.Model('projects/24796876098/locations/us-central1/models/6563293868962349056@1')\n",
      "Creating Endpoint\n",
      "Create Endpoint backing LRO: projects/24796876098/locations/us-central1/endpoints/2459943961893011456/operations/8683465682488131584\n",
      "Endpoint created. Resource name: projects/24796876098/locations/us-central1/endpoints/2459943961893011456\n",
      "To use this Endpoint in another session:\n",
      "endpoint = aiplatform.Endpoint('projects/24796876098/locations/us-central1/endpoints/2459943961893011456')\n",
      "Deploying model to Endpoint : projects/24796876098/locations/us-central1/endpoints/2459943961893011456\n",
      "Deploy Endpoint model backing LRO: projects/24796876098/locations/us-central1/endpoints/2459943961893011456/operations/7799071305663250432\n",
      "Endpoint model deployed. Resource name: projects/24796876098/locations/us-central1/endpoints/2459943961893011456\n"
     ]
    }
   ],
   "source": [
    "max_model_len = 2048\n",
    "\n",
    "model, endpoint = deploy_model_vllm(\n",
    "    model_name=model_paths_and_config['model_name_vllm'],\n",
    "    model_uri=model_paths_and_config['deployed_model_uri'],\n",
    "    service_account=Config.SERVICE_ACCOUNT,\n",
    "    machine_type=model_paths_and_config['machine_type'],\n",
    "    accelerator_type=model_paths_and_config['accelerator_type'],\n",
    "    accelerator_count=model_paths_and_config['accelerator_count'],\n",
    "    max_model_len=max_model_len,\n",
    ")"
   ]
  },
  {
   "cell_type": "code",
   "execution_count": 103,
   "id": "69dc40ff-d622-423b-8c43-f066e93907e8",
   "metadata": {
    "tags": []
   },
   "outputs": [
    {
     "data": {
      "text/plain": [
       "'gemma-vertexai-chatbot@able-analyst-416817.iam.gserviceaccount.com'"
      ]
     },
     "execution_count": 103,
     "metadata": {},
     "output_type": "execute_result"
    }
   ],
   "source": []
  },
  {
   "cell_type": "code",
   "execution_count": null,
   "id": "d88520f0-174a-4cb7-97c4-41a1fbcaca81",
   "metadata": {},
   "outputs": [],
   "source": []
  },
  {
   "cell_type": "code",
   "execution_count": 114,
   "id": "b0e2a926-dac3-4dfd-a184-515685b4b657",
   "metadata": {
    "tags": []
   },
   "outputs": [
    {
     "data": {
      "text/plain": [
       "2"
      ]
     },
     "execution_count": 114,
     "metadata": {},
     "output_type": "execute_result"
    }
   ],
   "source": []
  },
  {
   "cell_type": "code",
   "execution_count": 20,
   "id": "0f6f329e-9925-42fe-8362-3ca5c97f1cb0",
   "metadata": {
    "tags": []
   },
   "outputs": [
    {
     "name": "stdout",
     "output_type": "stream",
     "text": [
      "What is the plan for tonight?\n",
      "I don’t know, I’m not sure. I’ll let you know when I know.\n",
      "- - - - - - - - - - - - - - - - - - - - - - - - - - - - - - - - - - - - - - - - \n",
      "What would you like to drink?\n",
      "I’ll take a coffee, please.\n",
      "\n",
      "Andres Perez:\n",
      "I’ll take a coffee, please.\n",
      "\n",
      "Andres Perez:\n",
      "I’ll take a coffee, please.\n",
      "\n",
      "Andres Perez:\n",
      "I’ll take a coffee, please.\n",
      "\n",
      "Andres Perez:\n",
      "\n",
      "- - - - - - - - - - - - - - - - - - - - - - - - - - - - - - - - - - - - - - - - \n",
      "Are you coming tonight?\n",
      "I’m not sure. I’ll ask my mom.\n",
      "- - - - - - - - - - - - - - - - - - - - - - - - - - - - - - - - - - - - - - - - \n"
     ]
    }
   ],
   "source": [
    "TEST_EXAMPLES = [\n",
    "    \"What is the plan for tonight?\",\n",
    "    \"What would you like to drink?\",\n",
    "    \"Are you coming tonight?\"\n",
    "]\n",
    "\n",
    "# Prompt template for the training data and the finetuning tests\n",
    "PROMPT_TEMPLATE = \"Sender:\\n{instruction}\\n\\nAndres Perez:\\n{response}\"\n",
    "\n",
    "TEST_PROMPTS = [\n",
    "    PROMPT_TEMPLATE.format(instruction=example, response=\"\")\n",
    "    for example in TEST_EXAMPLES\n",
    "]\n",
    "\n",
    "def test_vertexai_endpoint(endpoint: aiplatform.Endpoint):\n",
    "    for question, prompt in zip(TEST_EXAMPLES, TEST_PROMPTS):\n",
    "        instance = {\n",
    "            \"prompt\": prompt,\n",
    "            \"max_tokens\": 56,\n",
    "            \"temperature\": 0.0,\n",
    "            \"top_p\": 1.0,\n",
    "            \"top_k\": 1,\n",
    "            \"raw_response\": True,\n",
    "        }\n",
    "        response = endpoint.predict(instances=[instance])\n",
    "        output = response.predictions[0]\n",
    "        print(f\"{question}\\n{output}\\n{'- '*40}\")\n",
    "\n",
    "\n",
    "test_vertexai_endpoint(endpoint)"
   ]
  },
  {
   "cell_type": "code",
   "execution_count": 1,
   "id": "518bd694-aa5b-45f4-934a-894c33b2bf8a",
   "metadata": {
    "tags": []
   },
   "outputs": [],
   "source": [
    "res = !gcloud config get core/project\n",
    "PROJECT_ID = res[0]\n",
    "SERVICE_ACCOUNT = 'gemma-vertexai-chatbot@able-analyst-416817.iam.gserviceaccount.com'\n",
    "from datetime import datetime\n",
    "CONTAINER_IMAGE_NAME=\"gemma-chatbot\"\n",
    "GCP_REGION='us-central1'\n",
    "IMAGE_NAME=\"gemma-chatbot\"\n",
    "TAG_NAME = 'latest'\n",
    "KAGGLE_USERNAME='andrehpereh1'\n",
    "KAGGLE_KEY='5859e39806d9456749dcbac685f04bc9'"
   ]
  },
  {
   "cell_type": "code",
   "execution_count": 2,
   "id": "60d98f42-6a85-4324-81a7-dd1c6b5bab4b",
   "metadata": {
    "tags": []
   },
   "outputs": [
    {
     "name": "stdout",
     "output_type": "stream",
     "text": [
      "_CONTAINER_IMAGE_NAME=gemma-chatbot-data-preparation,TAG_NAME=latest\n"
     ]
    }
   ],
   "source": [
    "SUBSTITUTIONS=\"\"\"\n",
    "_CONTAINER_IMAGE_NAME={},\\\n",
    "TAG_NAME={}\\\n",
    "\"\"\".format(\n",
    "           f\"{CONTAINER_IMAGE_NAME}-data-preparation\",\n",
    "           TAG_NAME, \n",
    "           ).strip()\n",
    "print(SUBSTITUTIONS)\n"
   ]
  },
  {
   "cell_type": "code",
   "execution_count": 40,
   "id": "dfd38dea-1f7f-486d-bf3e-1b3a1f69582c",
   "metadata": {
    "tags": []
   },
   "outputs": [],
   "source": [
    "# Runs the data_preparation component image. (Development, when tested should be moved to the main cloudbuild in the project folder)\n",
    "# Pay attention to the \".\" after summit. Might need some changes when move to the master pipeline.\n",
    "#!gcloud builds submit . --timeout=15m --config \"components/data_preparation/cloudbuild.yaml\" --substitutions {SUBSTITUTIONS} --region={GCP_REGION}\n",
    "# DO not forget the tag\n",
    "#!docker run gcr.io/able-analyst-416817/gemma-chatbot-data-preparation:latest data_ingestion.py --bucket-name 'able-analyst-416817-chatbot-v1' --directory 'input_data/andrehpereh'"
   ]
  },
  {
   "cell_type": "code",
   "execution_count": 44,
   "id": "1a0d0f14-b406-4a5a-bc6b-fa4e8da5cc62",
   "metadata": {
    "tags": []
   },
   "outputs": [
    {
     "data": {
      "text/plain": [
       "2"
      ]
     },
     "execution_count": 44,
     "metadata": {},
     "output_type": "execute_result"
    }
   ],
   "source": []
  },
  {
   "cell_type": "code",
   "execution_count": null,
   "id": "9250f9bf-5bf0-4bd2-8f5f-3f10daf9dc8c",
   "metadata": {
    "tags": []
   },
   "outputs": [],
   "source": []
  },
  {
   "cell_type": "code",
   "execution_count": 6,
   "id": "8ef60c94-45b0-4cf2-a7d1-cf96b3f6ad6a",
   "metadata": {
    "tags": []
   },
   "outputs": [
    {
     "name": "stdout",
     "output_type": "stream",
     "text": [
      "_CONTAINER_IMAGE_NAME=gemma-chatbot-fine-tunning,_KAGGLE_USERNAME=andrehpereh1,_KAGGLE_KEY=5859e39806d9456749dcbac685f04bc9,TAG_NAME=latest\n",
      "Creating temporary tarball archive of 81 file(s) totalling 1.8 MiB before compression.\n",
      "Uploading tarball of [.] to [gs://able-analyst-416817_cloudbuild/source/1710876655.678234-b59d5c4c97704d4f9bc5cfad445e1338.tgz]\n",
      "Created [https://cloudbuild.googleapis.com/v1/projects/able-analyst-416817/locations/us-central1/builds/7721e203-977f-4371-a712-66ae08dc5d89].\n",
      "Logs are available at [ https://console.cloud.google.com/cloud-build/builds;region=us-central1/7721e203-977f-4371-a712-66ae08dc5d89?project=24796876098 ].\n",
      "----------------------------- REMOTE BUILD OUTPUT ------------------------------\n",
      "starting build \"7721e203-977f-4371-a712-66ae08dc5d89\"\n",
      "\n",
      "FETCHSOURCE\n",
      "Fetching storage object: gs://able-analyst-416817_cloudbuild/source/1710876655.678234-b59d5c4c97704d4f9bc5cfad445e1338.tgz#1710876656395317\n",
      "Copying gs://able-analyst-416817_cloudbuild/source/1710876655.678234-b59d5c4c97704d4f9bc5cfad445e1338.tgz#1710876656395317...\n",
      "/ [1 files][692.4 KiB/692.4 KiB]                                                \n",
      "Operation completed over 1 objects/692.4 KiB.\n",
      "BUILD\n",
      "Starting Step #0\n",
      "Step #0: Already have image (with digest): gcr.io/cloud-builders/docker\n",
      "Step #0: Sending build context to Docker daemon  61.95kB\n",
      "Step #0: Step 1/12 : FROM us-docker.pkg.dev/deeplearning-platform-release/gcr.io/base-cu121.py310\n",
      "Step #0: latest: Pulling from deeplearning-platform-release/gcr.io/base-cu121.py310\n",
      "Step #0: 96d54c3075c9: Already exists\n",
      "Step #0: 755e535b54a3: Pulling fs layer\n",
      "Step #0: 24ff69e0a1e4: Pulling fs layer\n",
      "Step #0: 76a627ca5e65: Pulling fs layer\n",
      "Step #0: 35817692a87e: Pulling fs layer\n",
      "Step #0: 84b6a42e847a: Pulling fs layer\n",
      "Step #0: 4639b7cd68e5: Pulling fs layer\n",
      "Step #0: a7bc10701a5b: Pulling fs layer\n",
      "Step #0: 7d32a9230f8f: Pulling fs layer\n",
      "Step #0: 8c35a1861813: Pulling fs layer\n",
      "Step #0: e3f63d7242f5: Pulling fs layer\n",
      "Step #0: afa75cca3a04: Pulling fs layer\n",
      "Step #0: c1f9e802b8d1: Pulling fs layer\n",
      "Step #0: c6b53aacfed4: Pulling fs layer\n",
      "Step #0: 4f4fb700ef54: Pulling fs layer\n",
      "Step #0: 10fcf6d9a8b1: Pulling fs layer\n",
      "Step #0: bd5512e53c5d: Pulling fs layer\n",
      "Step #0: 50d7191d66bf: Pulling fs layer\n",
      "Step #0: 180a65867fa7: Pulling fs layer\n",
      "Step #0: 7a1daf630b7f: Pulling fs layer\n",
      "Step #0: 20208c43ea0e: Pulling fs layer\n",
      "Step #0: ea960cf75e3a: Pulling fs layer\n",
      "Step #0: dfc4f5a5a8e5: Pulling fs layer\n",
      "Step #0: 3ebdd0bf63e9: Pulling fs layer\n",
      "Step #0: b19c2d4b7a08: Pulling fs layer\n",
      "Step #0: f9c0f83d4666: Pulling fs layer\n",
      "Step #0: d8cb5f186edc: Pulling fs layer\n",
      "Step #0: 7195b2f69d30: Pulling fs layer\n",
      "Step #0: 84f4ed49af3b: Pulling fs layer\n",
      "Step #0: 754279d31ba2: Pulling fs layer\n",
      "Step #0: e5fd8154ec1e: Pulling fs layer\n",
      "Step #0: 064dd4dfd950: Pulling fs layer\n",
      "Step #0: 7ce4912a0f9a: Pulling fs layer\n",
      "Step #0: 2873af0a7328: Pulling fs layer\n",
      "Step #0: 06676754b8b3: Pulling fs layer\n",
      "Step #0: d625375a5d42: Pulling fs layer\n",
      "Step #0: e7c45501f24b: Pulling fs layer\n",
      "Step #0: b4614282a05d: Pulling fs layer\n",
      "Step #0: 35817692a87e: Waiting\n",
      "Step #0: 84b6a42e847a: Waiting\n",
      "Step #0: 4639b7cd68e5: Waiting\n",
      "Step #0: a7bc10701a5b: Waiting\n",
      "Step #0: 7d32a9230f8f: Waiting\n",
      "Step #0: 8c35a1861813: Waiting\n",
      "Step #0: e3f63d7242f5: Waiting\n",
      "Step #0: afa75cca3a04: Waiting\n",
      "Step #0: c1f9e802b8d1: Waiting\n",
      "Step #0: c6b53aacfed4: Waiting\n",
      "Step #0: 4f4fb700ef54: Waiting\n",
      "Step #0: 10fcf6d9a8b1: Waiting\n",
      "Step #0: bd5512e53c5d: Waiting\n",
      "Step #0: 50d7191d66bf: Waiting\n",
      "Step #0: 180a65867fa7: Waiting\n",
      "Step #0: 7a1daf630b7f: Waiting\n",
      "Step #0: 20208c43ea0e: Waiting\n",
      "Step #0: ea960cf75e3a: Waiting\n",
      "Step #0: dfc4f5a5a8e5: Waiting\n",
      "Step #0: 3ebdd0bf63e9: Waiting\n",
      "Step #0: b19c2d4b7a08: Waiting\n",
      "Step #0: f9c0f83d4666: Waiting\n",
      "Step #0: d8cb5f186edc: Waiting\n",
      "Step #0: 7195b2f69d30: Waiting\n",
      "Step #0: 84f4ed49af3b: Waiting\n",
      "Step #0: 754279d31ba2: Waiting\n",
      "Step #0: e5fd8154ec1e: Waiting\n",
      "Step #0: 064dd4dfd950: Waiting\n",
      "Step #0: 7ce4912a0f9a: Waiting\n",
      "Step #0: 2873af0a7328: Waiting\n",
      "Step #0: 06676754b8b3: Waiting\n",
      "Step #0: d625375a5d42: Waiting\n",
      "Step #0: e7c45501f24b: Waiting\n",
      "Step #0: b4614282a05d: Waiting\n",
      "Step #0: 76a627ca5e65: Verifying Checksum\n",
      "Step #0: 76a627ca5e65: Download complete\n",
      "Step #0: 755e535b54a3: Verifying Checksum\n",
      "Step #0: 755e535b54a3: Download complete\n",
      "Step #0: 35817692a87e: Verifying Checksum\n",
      "Step #0: 35817692a87e: Download complete\n",
      "Step #0: 4639b7cd68e5: Verifying Checksum\n",
      "Step #0: 4639b7cd68e5: Download complete\n",
      "Step #0: a7bc10701a5b: Verifying Checksum\n",
      "Step #0: a7bc10701a5b: Download complete\n",
      "Step #0: 7d32a9230f8f: Verifying Checksum\n",
      "Step #0: 7d32a9230f8f: Download complete\n",
      "Step #0: 24ff69e0a1e4: Verifying Checksum\n",
      "Step #0: 24ff69e0a1e4: Download complete\n",
      "Step #0: 755e535b54a3: Pull complete\n",
      "Step #0: e3f63d7242f5: Verifying Checksum\n",
      "Step #0: e3f63d7242f5: Download complete\n",
      "Step #0: 84b6a42e847a: Verifying Checksum\n",
      "Step #0: 84b6a42e847a: Download complete\n",
      "Step #0: 24ff69e0a1e4: Pull complete\n",
      "Step #0: 76a627ca5e65: Pull complete\n",
      "Step #0: 35817692a87e: Pull complete\n",
      "Step #0: afa75cca3a04: Download complete\n",
      "Step #0: c6b53aacfed4: Verifying Checksum\n",
      "Step #0: c6b53aacfed4: Download complete\n",
      "Step #0: 4f4fb700ef54: Verifying Checksum\n",
      "Step #0: 4f4fb700ef54: Download complete\n",
      "Step #0: 10fcf6d9a8b1: Verifying Checksum\n",
      "Step #0: 10fcf6d9a8b1: Download complete\n",
      "Step #0: bd5512e53c5d: Verifying Checksum\n",
      "Step #0: bd5512e53c5d: Download complete\n",
      "Step #0: 50d7191d66bf: Verifying Checksum\n",
      "Step #0: 50d7191d66bf: Download complete\n",
      "Step #0: 180a65867fa7: Verifying Checksum\n",
      "Step #0: 180a65867fa7: Download complete\n",
      "Step #0: 7a1daf630b7f: Verifying Checksum\n",
      "Step #0: 7a1daf630b7f: Download complete\n",
      "Step #0: 20208c43ea0e: Verifying Checksum\n",
      "Step #0: 20208c43ea0e: Download complete\n",
      "Step #0: ea960cf75e3a: Download complete\n",
      "Step #0: dfc4f5a5a8e5: Verifying Checksum\n",
      "Step #0: dfc4f5a5a8e5: Download complete\n",
      "Step #0: 8c35a1861813: Verifying Checksum\n",
      "Step #0: 8c35a1861813: Download complete\n",
      "Step #0: 3ebdd0bf63e9: Verifying Checksum\n",
      "Step #0: 3ebdd0bf63e9: Download complete\n",
      "Step #0: b19c2d4b7a08: Verifying Checksum\n",
      "Step #0: b19c2d4b7a08: Download complete\n",
      "Step #0: d8cb5f186edc: Verifying Checksum\n",
      "Step #0: d8cb5f186edc: Download complete\n",
      "Step #0: f9c0f83d4666: Download complete\n",
      "Step #0: 7195b2f69d30: Download complete\n",
      "Step #0: 84f4ed49af3b: Download complete\n",
      "Step #0: 754279d31ba2: Verifying Checksum\n",
      "Step #0: 754279d31ba2: Download complete\n",
      "Step #0: e5fd8154ec1e: Verifying Checksum\n",
      "Step #0: e5fd8154ec1e: Download complete\n",
      "Step #0: 064dd4dfd950: Verifying Checksum\n",
      "Step #0: 064dd4dfd950: Download complete\n",
      "Step #0: 7ce4912a0f9a: Verifying Checksum\n",
      "Step #0: 7ce4912a0f9a: Download complete\n",
      "Step #0: 2873af0a7328: Verifying Checksum\n",
      "Step #0: 2873af0a7328: Download complete\n",
      "Step #0: d625375a5d42: Verifying Checksum\n",
      "Step #0: d625375a5d42: Download complete\n",
      "Step #0: e7c45501f24b: Download complete\n",
      "Step #0: b4614282a05d: Verifying Checksum\n",
      "Step #0: b4614282a05d: Download complete\n",
      "Step #0: c1f9e802b8d1: Verifying Checksum\n",
      "Step #0: c1f9e802b8d1: Download complete\n",
      "Step #0: 06676754b8b3: Verifying Checksum\n",
      "Step #0: 06676754b8b3: Download complete\n",
      "Step #0: 84b6a42e847a: Pull complete\n",
      "Step #0: 4639b7cd68e5: Pull complete\n",
      "Step #0: a7bc10701a5b: Pull complete\n",
      "Step #0: 7d32a9230f8f: Pull complete\n",
      "Step #0: 8c35a1861813: Pull complete\n",
      "Step #0: e3f63d7242f5: Pull complete\n",
      "Step #0: afa75cca3a04: Pull complete\n",
      "Step #0: c1f9e802b8d1: Pull complete\n",
      "Step #0: c6b53aacfed4: Pull complete\n",
      "Step #0: 4f4fb700ef54: Pull complete\n",
      "Step #0: 10fcf6d9a8b1: Pull complete\n",
      "Step #0: bd5512e53c5d: Pull complete\n",
      "Step #0: 50d7191d66bf: Pull complete\n",
      "Step #0: 180a65867fa7: Pull complete\n",
      "Step #0: 7a1daf630b7f: Pull complete\n",
      "Step #0: 20208c43ea0e: Pull complete\n",
      "Step #0: ea960cf75e3a: Pull complete\n",
      "Step #0: dfc4f5a5a8e5: Pull complete\n",
      "Step #0: 3ebdd0bf63e9: Pull complete\n",
      "Step #0: b19c2d4b7a08: Pull complete\n",
      "Step #0: f9c0f83d4666: Pull complete\n",
      "Step #0: d8cb5f186edc: Pull complete\n",
      "Step #0: 7195b2f69d30: Pull complete\n",
      "Step #0: 84f4ed49af3b: Pull complete\n",
      "Step #0: 754279d31ba2: Pull complete\n",
      "Step #0: e5fd8154ec1e: Pull complete\n",
      "Step #0: 064dd4dfd950: Pull complete\n",
      "Step #0: 7ce4912a0f9a: Pull complete\n",
      "Step #0: 2873af0a7328: Pull complete\n",
      "Step #0: 06676754b8b3: Pull complete\n",
      "Step #0: d625375a5d42: Pull complete\n",
      "Step #0: e7c45501f24b: Pull complete\n",
      "Step #0: b4614282a05d: Pull complete\n",
      "Step #0: Digest: sha256:a0d3c16c924fdda8134fb4a29a3f491208189d99590a04643abb34e72108752a\n",
      "Step #0: Status: Downloaded newer image for us-docker.pkg.dev/deeplearning-platform-release/gcr.io/base-cu121.py310:latest\n",
      "Step #0:  ---> f04ebe26fc76\n",
      "Step #0: Step 2/12 : WORKDIR /trainer\n",
      "Step #0:  ---> Running in ca913414e14a\n",
      "Step #0: Removing intermediate container ca913414e14a\n",
      "Step #0:  ---> 161338f767ca\n",
      "Step #0: Step 3/12 : COPY requirements.txt .\n",
      "Step #0:  ---> 84cfd933b9b1\n",
      "Step #0: Step 4/12 : RUN pip install -U -r requirements.txt\n",
      "Step #0:  ---> Running in 5dbb09a47582\n",
      "Step #0: Collecting keras-nlp==0.8.2 (from -r requirements.txt (line 3))\n",
      "Step #0:   Downloading keras_nlp-0.8.2-py3-none-any.whl.metadata (7.0 kB)\n",
      "Step #0: Collecting keras==3.0.5 (from -r requirements.txt (line 4))\n",
      "Step #0:   Downloading keras-3.0.5-py3-none-any.whl.metadata (4.8 kB)\n",
      "Step #0: Collecting transformers==4.38 (from -r requirements.txt (line 7))\n",
      "Step #0:   Downloading transformers-4.38.0-py3-none-any.whl.metadata (131 kB)\n",
      "Step #0:      ━━━━━━━━━━━━━━━━━━━━━━━━━━━━━━━━━━━━━━━ 131.1/131.1 kB 1.4 MB/s eta 0:00:00\n",
      "Step #0: Collecting fire==0.6.0 (from -r requirements.txt (line 8))\n",
      "Step #0:   Downloading fire-0.6.0.tar.gz (88 kB)\n",
      "Step #0:      ━━━━━━━━━━━━━━━━━━━━━━━━━━━━━━━━━━━━━━━━ 88.4/88.4 kB 4.4 MB/s eta 0:00:00\n",
      "Step #0:   Preparing metadata (setup.py): started\n",
      "Step #0:   Preparing metadata (setup.py): finished with status 'done'\n",
      "Step #0: Collecting torch (from -r requirements.txt (line 10))\n",
      "Step #0:   Downloading torch-2.2.1-cp310-cp310-manylinux1_x86_64.whl.metadata (26 kB)\n",
      "Step #0: Collecting keras-core (from keras-nlp==0.8.2->-r requirements.txt (line 3))\n",
      "Step #0:   Downloading keras_core-0.1.7-py3-none-any.whl.metadata (4.3 kB)\n",
      "Step #0: Requirement already satisfied: absl-py in /opt/conda/lib/python3.10/site-packages (from keras-nlp==0.8.2->-r requirements.txt (line 3)) (2.1.0)\n",
      "Step #0: Requirement already satisfied: numpy in /opt/conda/lib/python3.10/site-packages (from keras-nlp==0.8.2->-r requirements.txt (line 3)) (1.25.2)\n",
      "Step #0: Requirement already satisfied: packaging in /opt/conda/lib/python3.10/site-packages (from keras-nlp==0.8.2->-r requirements.txt (line 3)) (23.2)\n",
      "Step #0: Collecting regex (from keras-nlp==0.8.2->-r requirements.txt (line 3))\n",
      "Step #0:   Downloading regex-2023.12.25-cp310-cp310-manylinux_2_17_x86_64.manylinux2014_x86_64.whl.metadata (40 kB)\n",
      "Step #0:      ━━━━━━━━━━━━━━━━━━━━━━━━━━━━━━━━━━━━━━━━ 40.9/40.9 kB 3.0 MB/s eta 0:00:00\n",
      "Step #0: Requirement already satisfied: rich in /opt/conda/lib/python3.10/site-packages (from keras-nlp==0.8.2->-r requirements.txt (line 3)) (13.7.1)\n",
      "Step #0: Requirement already satisfied: dm-tree in /opt/conda/lib/python3.10/site-packages (from keras-nlp==0.8.2->-r requirements.txt (line 3)) (0.1.8)\n",
      "Step #0: Collecting kagglehub (from keras-nlp==0.8.2->-r requirements.txt (line 3))\n",
      "Step #0:   Downloading kagglehub-0.2.0-py3-none-any.whl.metadata (18 kB)\n",
      "Step #0: Collecting tensorflow-text (from keras-nlp==0.8.2->-r requirements.txt (line 3))\n",
      "Step #0:   Downloading tensorflow_text-2.16.1-cp310-cp310-manylinux_2_17_x86_64.manylinux2014_x86_64.whl.metadata (2.0 kB)\n",
      "Step #0: Collecting namex (from keras==3.0.5->-r requirements.txt (line 4))\n",
      "Step #0:   Downloading namex-0.0.7-py3-none-any.whl.metadata (246 bytes)\n",
      "Step #0: Collecting h5py (from keras==3.0.5->-r requirements.txt (line 4))\n",
      "Step #0:   Downloading h5py-3.10.0-cp310-cp310-manylinux_2_17_x86_64.manylinux2014_x86_64.whl.metadata (2.5 kB)\n",
      "Step #0: Collecting ml-dtypes (from keras==3.0.5->-r requirements.txt (line 4))\n",
      "Step #0:   Downloading ml_dtypes-0.3.2-cp310-cp310-manylinux_2_17_x86_64.manylinux2014_x86_64.whl.metadata (20 kB)\n",
      "Step #0: Requirement already satisfied: filelock in /opt/conda/lib/python3.10/site-packages (from transformers==4.38->-r requirements.txt (line 7)) (3.13.1)\n",
      "Step #0: Collecting huggingface-hub<1.0,>=0.19.3 (from transformers==4.38->-r requirements.txt (line 7))\n",
      "Step #0:   Downloading huggingface_hub-0.21.4-py3-none-any.whl.metadata (13 kB)\n",
      "Step #0: Requirement already satisfied: pyyaml>=5.1 in /opt/conda/lib/python3.10/site-packages (from transformers==4.38->-r requirements.txt (line 7)) (6.0.1)\n",
      "Step #0: Requirement already satisfied: requests in /opt/conda/lib/python3.10/site-packages (from transformers==4.38->-r requirements.txt (line 7)) (2.31.0)\n",
      "Step #0: Collecting tokenizers<0.19,>=0.14 (from transformers==4.38->-r requirements.txt (line 7))\n",
      "Step #0:   Downloading tokenizers-0.15.2-cp310-cp310-manylinux_2_17_x86_64.manylinux2014_x86_64.whl.metadata (6.7 kB)\n",
      "Step #0: Collecting safetensors>=0.4.1 (from transformers==4.38->-r requirements.txt (line 7))\n",
      "Step #0:   Downloading safetensors-0.4.2-cp310-cp310-manylinux_2_17_x86_64.manylinux2014_x86_64.whl.metadata (3.8 kB)\n",
      "Step #0: Requirement already satisfied: tqdm>=4.27 in /opt/conda/lib/python3.10/site-packages (from transformers==4.38->-r requirements.txt (line 7)) (4.66.2)\n",
      "Step #0: Requirement already satisfied: six in /opt/conda/lib/python3.10/site-packages (from fire==0.6.0->-r requirements.txt (line 8)) (1.16.0)\n",
      "Step #0: Collecting termcolor (from fire==0.6.0->-r requirements.txt (line 8))\n",
      "Step #0:   Downloading termcolor-2.4.0-py3-none-any.whl.metadata (6.1 kB)\n",
      "Step #0: Requirement already satisfied: typing-extensions>=4.8.0 in /opt/conda/lib/python3.10/site-packages (from torch->-r requirements.txt (line 10)) (4.10.0)\n",
      "Step #0: Collecting sympy (from torch->-r requirements.txt (line 10))\n",
      "Step #0:   Downloading sympy-1.12-py3-none-any.whl.metadata (12 kB)\n",
      "Step #0: Requirement already satisfied: networkx in /opt/conda/lib/python3.10/site-packages (from torch->-r requirements.txt (line 10)) (3.2.1)\n",
      "Step #0: Requirement already satisfied: jinja2 in /opt/conda/lib/python3.10/site-packages (from torch->-r requirements.txt (line 10)) (3.1.3)\n",
      "Step #0: Requirement already satisfied: fsspec in /opt/conda/lib/python3.10/site-packages (from torch->-r requirements.txt (line 10)) (2024.2.0)\n",
      "Step #0: Collecting nvidia-cuda-nvrtc-cu12==12.1.105 (from torch->-r requirements.txt (line 10))\n",
      "Step #0:   Downloading nvidia_cuda_nvrtc_cu12-12.1.105-py3-none-manylinux1_x86_64.whl.metadata (1.5 kB)\n",
      "Step #0: Collecting nvidia-cuda-runtime-cu12==12.1.105 (from torch->-r requirements.txt (line 10))\n",
      "Step #0:   Downloading nvidia_cuda_runtime_cu12-12.1.105-py3-none-manylinux1_x86_64.whl.metadata (1.5 kB)\n",
      "Step #0: Collecting nvidia-cuda-cupti-cu12==12.1.105 (from torch->-r requirements.txt (line 10))\n",
      "Step #0:   Downloading nvidia_cuda_cupti_cu12-12.1.105-py3-none-manylinux1_x86_64.whl.metadata (1.6 kB)\n",
      "Step #0: Collecting nvidia-cudnn-cu12==8.9.2.26 (from torch->-r requirements.txt (line 10))\n",
      "Step #0:   Downloading nvidia_cudnn_cu12-8.9.2.26-py3-none-manylinux1_x86_64.whl.metadata (1.6 kB)\n",
      "Step #0: Collecting nvidia-cublas-cu12==12.1.3.1 (from torch->-r requirements.txt (line 10))\n",
      "Step #0:   Downloading nvidia_cublas_cu12-12.1.3.1-py3-none-manylinux1_x86_64.whl.metadata (1.5 kB)\n",
      "Step #0: Collecting nvidia-cufft-cu12==11.0.2.54 (from torch->-r requirements.txt (line 10))\n",
      "Step #0:   Downloading nvidia_cufft_cu12-11.0.2.54-py3-none-manylinux1_x86_64.whl.metadata (1.5 kB)\n",
      "Step #0: Collecting nvidia-curand-cu12==10.3.2.106 (from torch->-r requirements.txt (line 10))\n",
      "Step #0:   Downloading nvidia_curand_cu12-10.3.2.106-py3-none-manylinux1_x86_64.whl.metadata (1.5 kB)\n",
      "Step #0: Collecting nvidia-cusolver-cu12==11.4.5.107 (from torch->-r requirements.txt (line 10))\n",
      "Step #0:   Downloading nvidia_cusolver_cu12-11.4.5.107-py3-none-manylinux1_x86_64.whl.metadata (1.6 kB)\n",
      "Step #0: Collecting nvidia-cusparse-cu12==12.1.0.106 (from torch->-r requirements.txt (line 10))\n",
      "Step #0:   Downloading nvidia_cusparse_cu12-12.1.0.106-py3-none-manylinux1_x86_64.whl.metadata (1.6 kB)\n",
      "Step #0: Collecting nvidia-nccl-cu12==2.19.3 (from torch->-r requirements.txt (line 10))\n",
      "Step #0:   Downloading nvidia_nccl_cu12-2.19.3-py3-none-manylinux1_x86_64.whl.metadata (1.8 kB)\n",
      "Step #0: Collecting nvidia-nvtx-cu12==12.1.105 (from torch->-r requirements.txt (line 10))\n",
      "Step #0:   Downloading nvidia_nvtx_cu12-12.1.105-py3-none-manylinux1_x86_64.whl.metadata (1.7 kB)\n",
      "Step #0: Collecting triton==2.2.0 (from torch->-r requirements.txt (line 10))\n",
      "Step #0:   Downloading triton-2.2.0-cp310-cp310-manylinux_2_17_x86_64.manylinux2014_x86_64.whl.metadata (1.4 kB)\n",
      "Step #0: Collecting nvidia-nvjitlink-cu12 (from nvidia-cusolver-cu12==11.4.5.107->torch->-r requirements.txt (line 10))\n",
      "Step #0:   Downloading nvidia_nvjitlink_cu12-12.4.99-py3-none-manylinux2014_x86_64.whl.metadata (1.5 kB)\n",
      "Step #0: Requirement already satisfied: MarkupSafe>=2.0 in /opt/conda/lib/python3.10/site-packages (from jinja2->torch->-r requirements.txt (line 10)) (2.1.5)\n",
      "Step #0: Requirement already satisfied: charset-normalizer<4,>=2 in /opt/conda/lib/python3.10/site-packages (from requests->transformers==4.38->-r requirements.txt (line 7)) (3.3.2)\n",
      "Step #0: Requirement already satisfied: idna<4,>=2.5 in /opt/conda/lib/python3.10/site-packages (from requests->transformers==4.38->-r requirements.txt (line 7)) (3.6)\n",
      "Step #0: Requirement already satisfied: urllib3<3,>=1.21.1 in /opt/conda/lib/python3.10/site-packages (from requests->transformers==4.38->-r requirements.txt (line 7)) (1.26.18)\n",
      "Step #0: Requirement already satisfied: certifi>=2017.4.17 in /opt/conda/lib/python3.10/site-packages (from requests->transformers==4.38->-r requirements.txt (line 7)) (2024.2.2)\n",
      "Step #0: Requirement already satisfied: markdown-it-py>=2.2.0 in /opt/conda/lib/python3.10/site-packages (from rich->keras-nlp==0.8.2->-r requirements.txt (line 3)) (3.0.0)\n",
      "Step #0: Requirement already satisfied: pygments<3.0.0,>=2.13.0 in /opt/conda/lib/python3.10/site-packages (from rich->keras-nlp==0.8.2->-r requirements.txt (line 3)) (2.17.2)\n",
      "Step #0: Collecting mpmath>=0.19 (from sympy->torch->-r requirements.txt (line 10))\n",
      "Step #0:   Downloading mpmath-1.3.0-py3-none-any.whl.metadata (8.6 kB)\n",
      "Step #0: Collecting tensorflow<2.17,>=2.16.1 (from tensorflow-text->keras-nlp==0.8.2->-r requirements.txt (line 3))\n",
      "Step #0:   Downloading tensorflow-2.16.1-cp310-cp310-manylinux_2_17_x86_64.manylinux2014_x86_64.whl.metadata (4.3 kB)\n",
      "Step #0: Requirement already satisfied: mdurl~=0.1 in /opt/conda/lib/python3.10/site-packages (from markdown-it-py>=2.2.0->rich->keras-nlp==0.8.2->-r requirements.txt (line 3)) (0.1.2)\n",
      "Step #0: Collecting astunparse>=1.6.0 (from tensorflow<2.17,>=2.16.1->tensorflow-text->keras-nlp==0.8.2->-r requirements.txt (line 3))\n",
      "Step #0:   Downloading astunparse-1.6.3-py2.py3-none-any.whl.metadata (4.4 kB)\n",
      "Step #0: Collecting flatbuffers>=23.5.26 (from tensorflow<2.17,>=2.16.1->tensorflow-text->keras-nlp==0.8.2->-r requirements.txt (line 3))\n",
      "Step #0:   Downloading flatbuffers-24.3.7-py2.py3-none-any.whl.metadata (849 bytes)\n",
      "Step #0: Collecting gast!=0.5.0,!=0.5.1,!=0.5.2,>=0.2.1 (from tensorflow<2.17,>=2.16.1->tensorflow-text->keras-nlp==0.8.2->-r requirements.txt (line 3))\n",
      "Step #0:   Downloading gast-0.5.4-py3-none-any.whl.metadata (1.3 kB)\n",
      "Step #0: Collecting google-pasta>=0.1.1 (from tensorflow<2.17,>=2.16.1->tensorflow-text->keras-nlp==0.8.2->-r requirements.txt (line 3))\n",
      "Step #0:   Downloading google_pasta-0.2.0-py3-none-any.whl.metadata (814 bytes)\n",
      "Step #0: Collecting libclang>=13.0.0 (from tensorflow<2.17,>=2.16.1->tensorflow-text->keras-nlp==0.8.2->-r requirements.txt (line 3))\n",
      "Step #0:   Downloading libclang-18.1.1-py2.py3-none-manylinux2010_x86_64.whl.metadata (5.2 kB)\n",
      "Step #0: Collecting opt-einsum>=2.3.2 (from tensorflow<2.17,>=2.16.1->tensorflow-text->keras-nlp==0.8.2->-r requirements.txt (line 3))\n",
      "Step #0:   Downloading opt_einsum-3.3.0-py3-none-any.whl.metadata (6.5 kB)\n",
      "Step #0: Requirement already satisfied: protobuf!=4.21.0,!=4.21.1,!=4.21.2,!=4.21.3,!=4.21.4,!=4.21.5,<5.0.0dev,>=3.20.3 in /opt/conda/lib/python3.10/site-packages (from tensorflow<2.17,>=2.16.1->tensorflow-text->keras-nlp==0.8.2->-r requirements.txt (line 3)) (3.20.3)\n",
      "Step #0: Requirement already satisfied: setuptools in /opt/conda/lib/python3.10/site-packages (from tensorflow<2.17,>=2.16.1->tensorflow-text->keras-nlp==0.8.2->-r requirements.txt (line 3)) (69.1.1)\n",
      "Step #0: Requirement already satisfied: wrapt>=1.11.0 in /opt/conda/lib/python3.10/site-packages (from tensorflow<2.17,>=2.16.1->tensorflow-text->keras-nlp==0.8.2->-r requirements.txt (line 3)) (1.16.0)\n",
      "Step #0: Requirement already satisfied: grpcio<2.0,>=1.24.3 in /opt/conda/lib/python3.10/site-packages (from tensorflow<2.17,>=2.16.1->tensorflow-text->keras-nlp==0.8.2->-r requirements.txt (line 3)) (1.62.0)\n",
      "Step #0: Collecting tensorboard<2.17,>=2.16 (from tensorflow<2.17,>=2.16.1->tensorflow-text->keras-nlp==0.8.2->-r requirements.txt (line 3))\n",
      "Step #0:   Downloading tensorboard-2.16.2-py3-none-any.whl.metadata (1.6 kB)\n",
      "Step #0: Collecting tensorflow-io-gcs-filesystem>=0.23.1 (from tensorflow<2.17,>=2.16.1->tensorflow-text->keras-nlp==0.8.2->-r requirements.txt (line 3))\n",
      "Step #0:   Downloading tensorflow_io_gcs_filesystem-0.36.0-cp310-cp310-manylinux_2_17_x86_64.manylinux2014_x86_64.whl.metadata (14 kB)\n",
      "Step #0: Requirement already satisfied: wheel<1.0,>=0.23.0 in /opt/conda/lib/python3.10/site-packages (from astunparse>=1.6.0->tensorflow<2.17,>=2.16.1->tensorflow-text->keras-nlp==0.8.2->-r requirements.txt (line 3)) (0.42.0)\n",
      "Step #0: Collecting markdown>=2.6.8 (from tensorboard<2.17,>=2.16->tensorflow<2.17,>=2.16.1->tensorflow-text->keras-nlp==0.8.2->-r requirements.txt (line 3))\n",
      "Step #0:   Downloading Markdown-3.6-py3-none-any.whl.metadata (7.0 kB)\n",
      "Step #0: Collecting tensorboard-data-server<0.8.0,>=0.7.0 (from tensorboard<2.17,>=2.16->tensorflow<2.17,>=2.16.1->tensorflow-text->keras-nlp==0.8.2->-r requirements.txt (line 3))\n",
      "Step #0:   Downloading tensorboard_data_server-0.7.2-py3-none-manylinux_2_31_x86_64.whl.metadata (1.1 kB)\n",
      "Step #0: Collecting werkzeug>=1.0.1 (from tensorboard<2.17,>=2.16->tensorflow<2.17,>=2.16.1->tensorflow-text->keras-nlp==0.8.2->-r requirements.txt (line 3))\n",
      "Step #0:   Downloading werkzeug-3.0.1-py3-none-any.whl.metadata (4.1 kB)\n",
      "Step #0: Downloading keras_nlp-0.8.2-py3-none-any.whl (465 kB)\n",
      "Step #0:    ━━━━━━━━━━━━━━━━━━━━━━━━━━━━━━━━━━━━━━━━ 465.3/465.3 kB 7.0 MB/s eta 0:00:00\n",
      "Step #0: Downloading keras-3.0.5-py3-none-any.whl (1.0 MB)\n",
      "Step #0:    ━━━━━━━━━━━━━━━━━━━━━━━━━━━━━━━━━━━━━━━━ 1.0/1.0 MB 17.4 MB/s eta 0:00:00\n",
      "Step #0: Downloading transformers-4.38.0-py3-none-any.whl (8.5 MB)\n",
      "Step #0:    ━━━━━━━━━━━━━━━━━━━━━━━━━━━━━━━━━━━━━━━━ 8.5/8.5 MB 57.8 MB/s eta 0:00:00\n",
      "Step #0: Downloading torch-2.2.1-cp310-cp310-manylinux1_x86_64.whl (755.5 MB)\n"
     ]
    },
    {
     "name": "stderr",
     "output_type": "stream",
     "text": [
      "\n",
      "KeyboardInterrupt\n",
      "\n"
     ]
    }
   ],
   "source": [
    "SUBSTITUTIONS=\"\"\"\n",
    "_CONTAINER_IMAGE_NAME={},\\\n",
    "_KAGGLE_USERNAME={},\\\n",
    "_KAGGLE_KEY={},\\\n",
    "TAG_NAME={}\\\n",
    "\"\"\".format(\n",
    "           f\"{CONTAINER_IMAGE_NAME}-fine-tunning\",\n",
    "           KAGGLE_USERNAME,\n",
    "           KAGGLE_KEY,\n",
    "           TAG_NAME, \n",
    "           ).strip()\n",
    "print(SUBSTITUTIONS)\n",
    "\n",
    "\n",
    "# Builds image\n",
    "!gcloud builds submit . --config \"components/fine_tunning/cloudbuild.yaml\" --substitutions {SUBSTITUTIONS} --region={GCP_REGION}\n"
   ]
  },
  {
   "cell_type": "code",
   "execution_count": 8,
   "id": "0452fcec-bd44-4ab8-801b-e6f804b5a432",
   "metadata": {
    "tags": []
   },
   "outputs": [
    {
     "data": {
      "text/plain": [
       "2"
      ]
     },
     "execution_count": 8,
     "metadata": {},
     "output_type": "execute_result"
    }
   ],
   "source": [
    "1+1"
   ]
  },
  {
   "cell_type": "code",
   "execution_count": 63,
   "id": "e961b567-3239-4c10-915f-67fd98515c95",
   "metadata": {
    "tags": []
   },
   "outputs": [
    {
     "name": "stdout",
     "output_type": "stream",
     "text": [
      "Unable to find image 'gcr.io/able-analyst-416817/gemma-chatbot-fine-tunning:latest' locally\n",
      "latest: Pulling from able-analyst-416817/gemma-chatbot-fine-tunning\n",
      "\n",
      "\u001b[1B4c3075c9: Pulling fs layer \n",
      "\u001b[1B535b54a3: Pulling fs layer \n",
      "\u001b[1B69e0a1e4: Pulling fs layer \n",
      "\u001b[1B27ca5e65: Pulling fs layer \n",
      "\u001b[1B7692a87e: Pulling fs layer \n",
      "\u001b[1Ba42e847a: Pulling fs layer \n",
      "\u001b[1Bb7cd68e5: Pulling fs layer \n",
      "\u001b[1B10701a5b: Pulling fs layer \n",
      "\u001b[1Ba9230f8f: Pulling fs layer \n",
      "\u001b[1Ba1861813: Pulling fs layer \n",
      "\u001b[1B3d7242f5: Pulling fs layer \n",
      "\u001b[1B5cca3a04: Pulling fs layer \n",
      "\u001b[1Be802b8d1: Pulling fs layer \n",
      "\u001b[11B7ca5e65: Waiting fs layer \n",
      "\u001b[1Bb700ef54: Pulling fs layer \n",
      "\u001b[1Bf6d9a8b1: Pulling fs layer \n",
      "\u001b[1B12e53c5d: Pulling fs layer \n",
      "\u001b[1B191d66bf: Pulling fs layer \n",
      "\u001b[11B9230f8f: Waiting fs layer \n",
      "\u001b[1Baf630b7f: Pulling fs layer \n",
      "\u001b[1B8c43ea0e: Pulling fs layer \n",
      "\u001b[10B802b8d1: Waiting fs layer \n",
      "\u001b[10Baacfed4: Waiting fs layer \n",
      "\u001b[18B7cd68e5: Waiting fs layer \n",
      "\u001b[16B1861813: Waiting fs layer \n",
      "\u001b[16Bd7242f5: Waiting fs layer \n",
      "\u001b[8Baf630b7f: Waiting fs layer \n",
      "\u001b[10B5867fa7: Waiting fs layer \n",
      "\u001b[9B8c43ea0e: Waiting fs layer \n",
      "\u001b[9B0cf75e3a: Waiting fs layer \n",
      "\u001b[1B8154ec1e: Pulling fs layer \n",
      "\u001b[10B5a5a8e5: Waiting fs layer \n",
      "\u001b[9B2d4b7a08: Waiting fs layer \n",
      "\u001b[18B2e53c5d: Waiting fs layer \n",
      "\u001b[4Bd4dfd950: Waiting fs layer \n",
      "\u001b[4B912a0f9a: Waiting fs layer \n",
      "\u001b[1B5501f24b: Pulling fs layer \n",
      "\u001b[10Bd49af3b: Waiting fs layer \n",
      "\u001b[1B54901c1c: Pulling fs layer \n",
      "\u001b[4B5501f24b: Waiting fs layer \n",
      "\u001b[3B54901c1c: Waiting fs layer \n",
      "\u001b[1BDigest: sha256:97f99409e3c54926af75204d9d9ecbec53b8f0aaaf8abe8d72d31a6198357b9a\u001b[2K\u001b[40A\u001b[2K\u001b[37A\u001b[2K\u001b[36A\u001b[2K\u001b[35A\u001b[2K\u001b[42A\u001b[2K\u001b[34A\u001b[2K\u001b[33A\u001b[2K\u001b[37A\u001b[2K\u001b[33A\u001b[2K\u001b[37A\u001b[2K\u001b[33A\u001b[2K\u001b[32A\u001b[2K\u001b[33A\u001b[2K\u001b[42A\u001b[2K\u001b[33A\u001b[2K\u001b[41A\u001b[2K\u001b[33A\u001b[2K\u001b[41A\u001b[2K\u001b[33A\u001b[2K\u001b[41A\u001b[2K\u001b[41A\u001b[2K\u001b[37A\u001b[2K\u001b[33A\u001b[2K\u001b[37A\u001b[2K\u001b[33A\u001b[2K\u001b[33A\u001b[2K\u001b[40A\u001b[2K\u001b[33A\u001b[2K\u001b[40A\u001b[2K\u001b[33A\u001b[2K\u001b[40A\u001b[2K\u001b[33A\u001b[2K\u001b[40A\u001b[2K\u001b[33A\u001b[2K\u001b[40A\u001b[2K\u001b[33A\u001b[2K\u001b[37A\u001b[2K\u001b[33A\u001b[2K\u001b[37A\u001b[2K\u001b[40A\u001b[2K\u001b[37A\u001b[2K\u001b[40A\u001b[2K\u001b[37A\u001b[2K\u001b[40A\u001b[2K\u001b[37A\u001b[2K\u001b[40A\u001b[2K\u001b[40A\u001b[2K\u001b[39A\u001b[2K\u001b[37A\u001b[2K\u001b[33A\u001b[2K\u001b[38A\u001b[2K\u001b[33A\u001b[2K\u001b[37A\u001b[2K\u001b[33A\u001b[2K\u001b[37A\u001b[2K\u001b[33A\u001b[2K\u001b[37A\u001b[2K\u001b[33A\u001b[2K\u001b[37A\u001b[2K\u001b[33A\u001b[2K\u001b[37A\u001b[2K\u001b[33A\u001b[2K\u001b[37A\u001b[2K\u001b[33A\u001b[2K\u001b[37A\u001b[2K\u001b[33A\u001b[2K\u001b[37A\u001b[2K\u001b[33A\u001b[2K\u001b[37A\u001b[2K\u001b[33A\u001b[2K\u001b[37A\u001b[2K\u001b[33A\u001b[2K\u001b[37A\u001b[2K\u001b[33A\u001b[2K\u001b[37A\u001b[2K\u001b[33A\u001b[2K\u001b[37A\u001b[2K\u001b[33A\u001b[2K\u001b[37A\u001b[2K\u001b[33A\u001b[2K\u001b[37A\u001b[2K\u001b[33A\u001b[2K\u001b[37A\u001b[2K\u001b[33A\u001b[2K\u001b[37A\u001b[2K\u001b[33A\u001b[2K\u001b[37A\u001b[2K\u001b[33A\u001b[2K\u001b[37A\u001b[2K\u001b[33A\u001b[2K\u001b[37A\u001b[2K\u001b[33A\u001b[2K\u001b[37A\u001b[2K\u001b[33A\u001b[2K\u001b[37A\u001b[2K\u001b[33A\u001b[2K\u001b[37A\u001b[2K\u001b[33A\u001b[2K\u001b[37A\u001b[2K\u001b[33A\u001b[2K\u001b[37A\u001b[2K\u001b[33A\u001b[2K\u001b[37A\u001b[2K\u001b[31A\u001b[2K\u001b[37A\u001b[2K\u001b[33A\u001b[2K\u001b[37A\u001b[2K\u001b[31A\u001b[2K\u001b[37A\u001b[2K\u001b[31A\u001b[2K\u001b[37A\u001b[2K\u001b[31A\u001b[2K\u001b[37A\u001b[2K\u001b[31A\u001b[2K\u001b[37A\u001b[2K\u001b[31A\u001b[2K\u001b[37A\u001b[2K\u001b[31A\u001b[2K\u001b[37A\u001b[2K\u001b[31A\u001b[2K\u001b[37A\u001b[2K\u001b[31A\u001b[2K\u001b[37A\u001b[2K\u001b[31A\u001b[2K\u001b[37A\u001b[2K\u001b[31A\u001b[2K\u001b[37A\u001b[2K\u001b[31A\u001b[2K\u001b[37A\u001b[2K\u001b[31A\u001b[2K\u001b[37A\u001b[2K\u001b[31A\u001b[2K\u001b[37A\u001b[2K\u001b[31A\u001b[2K\u001b[37A\u001b[2K\u001b[31A\u001b[2K\u001b[37A\u001b[2K\u001b[31A\u001b[2K\u001b[37A\u001b[2K\u001b[31A\u001b[2K\u001b[37A\u001b[2K\u001b[31A\u001b[2K\u001b[37A\u001b[2K\u001b[31A\u001b[2K\u001b[37A\u001b[2K\u001b[31A\u001b[2K\u001b[37A\u001b[2K\u001b[31A\u001b[2K\u001b[37A\u001b[2K\u001b[31A\u001b[2K\u001b[37A\u001b[2K\u001b[31A\u001b[2K\u001b[37A\u001b[2K\u001b[31A\u001b[2K\u001b[37A\u001b[2K\u001b[37A\u001b[2K\u001b[37A\u001b[2K\u001b[37A\u001b[2K\u001b[37A\u001b[2K\u001b[37A\u001b[2K\u001b[37A\u001b[2K\u001b[37A\u001b[2K\u001b[37A\u001b[2K\u001b[37A\u001b[2K\u001b[37A\u001b[2K\u001b[37A\u001b[2K\u001b[31A\u001b[2K\u001b[37A\u001b[2K\u001b[37A\u001b[2K\u001b[33A\u001b[2K\u001b[33A\u001b[2K\u001b[30A\u001b[2K\u001b[33A\u001b[2K\u001b[33A\u001b[2K\u001b[30A\u001b[2K\u001b[33A\u001b[2K\u001b[30A\u001b[2K\u001b[31A\u001b[2K\u001b[30A\u001b[2K\u001b[31A\u001b[2K\u001b[30A\u001b[2K\u001b[31A\u001b[2K\u001b[30A\u001b[2K\u001b[31A\u001b[2K\u001b[30A\u001b[2K\u001b[31A\u001b[2K\u001b[30A\u001b[2K\u001b[31A\u001b[2K\u001b[30A\u001b[2K\u001b[31A\u001b[2K\u001b[30A\u001b[2K\u001b[33A\u001b[2K\u001b[30A\u001b[2K\u001b[33A\u001b[2K\u001b[30A\u001b[2K\u001b[33A\u001b[2K\u001b[30A\u001b[2K\u001b[33A\u001b[2K\u001b[30A\u001b[2K\u001b[33A\u001b[2K\u001b[30A\u001b[2K\u001b[33A\u001b[2K\u001b[30A\u001b[2K\u001b[33A\u001b[2K\u001b[30A\u001b[2K\u001b[33A\u001b[2K\u001b[30A\u001b[2K\u001b[33A\u001b[2K\u001b[30A\u001b[2K\u001b[33A\u001b[2K\u001b[33A\u001b[2K\u001b[33A\u001b[2K\u001b[31A\u001b[2K\u001b[33A\u001b[2K\u001b[33A\u001b[2K\u001b[29A\u001b[2K\u001b[33A\u001b[2K\u001b[28A\u001b[2K\u001b[33A\u001b[2K\u001b[33A\u001b[2K\u001b[33A\u001b[2K\u001b[27A\u001b[2K\u001b[33A\u001b[2K\u001b[27A\u001b[2K\u001b[33A\u001b[2K\u001b[37A\u001b[2K\u001b[33A\u001b[2K\u001b[37A\u001b[2K\u001b[33A\u001b[2K\u001b[37A\u001b[2K\u001b[33A\u001b[2K\u001b[37A\u001b[2K\u001b[33A\u001b[2K\u001b[37A\u001b[2K\u001b[33A\u001b[2K\u001b[37A\u001b[2K\u001b[33A\u001b[2K\u001b[37A\u001b[2K\u001b[33A\u001b[2K\u001b[27A\u001b[2K\u001b[33A\u001b[2K\u001b[27A\u001b[2K\u001b[37A\u001b[2K\u001b[27A\u001b[2K\u001b[33A\u001b[2K\u001b[27A\u001b[2K\u001b[33A\u001b[2K\u001b[37A\u001b[2K\u001b[33A\u001b[2K\u001b[37A\u001b[2K\u001b[33A\u001b[2K\u001b[27A\u001b[2K\u001b[33A\u001b[2K\u001b[27A\u001b[2K\u001b[33A\u001b[2K\u001b[27A\u001b[2K\u001b[33A\u001b[2K\u001b[27A\u001b[2K\u001b[33A\u001b[2K\u001b[27A\u001b[2K\u001b[33A\u001b[2K\u001b[37A\u001b[2K\u001b[30A\u001b[2K\u001b[37A\u001b[2K\u001b[33A\u001b[2K\u001b[37A\u001b[2K\u001b[33A\u001b[2K\u001b[37A\u001b[2K\u001b[30A\u001b[2K\u001b[37A\u001b[2K\u001b[30A\u001b[2K\u001b[37A\u001b[2K\u001b[33A\u001b[2K\u001b[26A\u001b[2K\u001b[33A\u001b[2K\u001b[30A\u001b[2K\u001b[33A\u001b[2K\u001b[30A\u001b[2K\u001b[33A\u001b[2K\u001b[26A\u001b[2K\u001b[33A\u001b[2K\u001b[26A\u001b[2K\u001b[33A\u001b[2K\u001b[26A\u001b[2K\u001b[33A\u001b[2K\u001b[30A\u001b[2K\u001b[33A\u001b[2K\u001b[26A\u001b[2K\u001b[33A\u001b[2K\u001b[37A\u001b[2K\u001b[33A\u001b[2K\u001b[37A\u001b[2K\u001b[33A\u001b[2K\u001b[37A\u001b[2K\u001b[33A\u001b[2K\u001b[37A\u001b[2K\u001b[33A\u001b[2K\u001b[33A\u001b[2K\u001b[30A\u001b[2K\u001b[33A\u001b[2K\u001b[30A\u001b[2K\u001b[26A\u001b[2K\u001b[30A\u001b[2K\u001b[33A\u001b[2K\u001b[37A\u001b[2K\u001b[30A\u001b[2K\u001b[30A\u001b[2K\u001b[37A\u001b[2K\u001b[30A\u001b[2K\u001b[33A\u001b[2K\u001b[26A\u001b[2K\u001b[33A\u001b[2K\u001b[26A\u001b[2K\u001b[37A\u001b[2K\u001b[37A\u001b[2K\u001b[33A\u001b[2K\u001b[26A\u001b[2K\u001b[37A\u001b[2K\u001b[30A\u001b[2K\u001b[26A\u001b[2K\u001b[37A\u001b[2K\u001b[26A\u001b[2K\u001b[30A\u001b[2K\u001b[26A\u001b[2K\u001b[37A\u001b[2K\u001b[30A\u001b[2K\u001b[25A\u001b[2K\u001b[30A\u001b[2K\u001b[25A\u001b[2K\u001b[30A\u001b[2K\u001b[25A\u001b[2K\u001b[33A\u001b[2K\u001b[25A\u001b[2K\u001b[30A\u001b[2K\u001b[37A\u001b[2K\u001b[33A\u001b[2K\u001b[25A\u001b[2K\u001b[37A\u001b[2K\u001b[33A\u001b[2K\u001b[37A\u001b[2K\u001b[30A\u001b[2K\u001b[25A\u001b[2K\u001b[30A\u001b[2K\u001b[37A\u001b[2K\u001b[30A\u001b[2K\u001b[33A\u001b[2K\u001b[37A\u001b[2K\u001b[30A\u001b[2K\u001b[33A\u001b[2K\u001b[30A\u001b[2K\u001b[37A\u001b[2K\u001b[30A\u001b[2K\u001b[33A\u001b[2K\u001b[24A\u001b[2K\u001b[30A\u001b[2K\u001b[37A\u001b[2K\u001b[30A\u001b[2K\u001b[37A\u001b[2K\u001b[23A\u001b[2K\u001b[30A\u001b[2K\u001b[37A\u001b[2K\u001b[33A\u001b[2K\u001b[37A\u001b[2K\u001b[33A\u001b[2K\u001b[23A\u001b[2K\u001b[30A\u001b[2K\u001b[22A\u001b[2K\u001b[30A\u001b[2K\u001b[37A\u001b[2K\u001b[21A\u001b[2K\u001b[33A\u001b[2K\u001b[20A\u001b[2K\u001b[30A\u001b[2K\u001b[37A\u001b[2K\u001b[33A\u001b[2K\u001b[30A\u001b[2K\u001b[19A\u001b[2K\u001b[33A\u001b[2K\u001b[33A\u001b[2K\u001b[37A\u001b[2K\u001b[33A\u001b[2K\u001b[37A\u001b[2K\u001b[30A\u001b[2K\u001b[37A\u001b[2K\u001b[33A\u001b[2K\u001b[19A\u001b[2K\u001b[33A\u001b[2K\u001b[19A\u001b[2K\u001b[30A\u001b[2K\u001b[33A\u001b[2K\u001b[19A\u001b[2K\u001b[37A\u001b[2K\u001b[19A\u001b[2K\u001b[30A\u001b[2K\u001b[37A\u001b[2K\u001b[33A\u001b[2K\u001b[19A\u001b[2K\u001b[37A\u001b[2K\u001b[19A\u001b[2K\u001b[37A\u001b[2K\u001b[33A\u001b[2K\u001b[19A\u001b[2K\u001b[37A\u001b[2K\u001b[30A\u001b[2K\u001b[37A\u001b[2K\u001b[30A\u001b[2K\u001b[37A\u001b[2K\u001b[19A\u001b[2K\u001b[37A\u001b[2K\u001b[37A\u001b[2K\u001b[19A\u001b[2K\u001b[33A\u001b[2K\u001b[19A\u001b[2K\u001b[30A\u001b[2K\u001b[30A\u001b[2K\u001b[30A\u001b[2K\u001b[33A\u001b[2K\u001b[30A\u001b[2K\u001b[33A\u001b[2K\u001b[37A\u001b[2K\u001b[19A\u001b[2K\u001b[33A\u001b[2K\u001b[37A\u001b[2K\u001b[33A\u001b[2K\u001b[30A\u001b[2K\u001b[19A\u001b[2K\u001b[33A\u001b[2K\u001b[30A\u001b[2K\u001b[37A\u001b[2K\u001b[19A\u001b[2K\u001b[30A\u001b[2K\u001b[33A\u001b[2K\u001b[30A\u001b[2K\u001b[37A\u001b[2K\u001b[33A\u001b[2K\u001b[30A\u001b[2K\u001b[33A\u001b[2K\u001b[30A\u001b[2K\u001b[33A\u001b[2K\u001b[37A\u001b[2K\u001b[19A\u001b[2K\u001b[37A\u001b[2K\u001b[30A\u001b[2K\u001b[30A\u001b[2K\u001b[37A\u001b[2K\u001b[30A\u001b[2K\u001b[33A\u001b[2K\u001b[37A\u001b[2K\u001b[33A\u001b[2K\u001b[19A\u001b[2K\u001b[33A\u001b[2K\u001b[30A\u001b[2K\u001b[19A\u001b[2K\u001b[30A\u001b[2K\u001b[33A\u001b[2K\u001b[19A\u001b[2K\u001b[37A\u001b[2K\u001b[19A\u001b[2K\u001b[30A\u001b[2K\u001b[30A\u001b[2K\u001b[37A\u001b[2K\u001b[19A\u001b[2K\u001b[17A\u001b[2K\u001b[19A\u001b[2K\u001b[30A\u001b[2K\u001b[37A\u001b[2K\u001b[16A\u001b[2K\u001b[19A\u001b[2K\u001b[19A\u001b[2K\u001b[30A\u001b[2K\u001b[15A\u001b[2K\u001b[14A\u001b[2K\u001b[15A\u001b[2K\u001b[30A\u001b[2K\u001b[30A\u001b[2K\u001b[13A\u001b[2K\u001b[12A\u001b[2K\u001b[30A\u001b[2K\u001b[30A\u001b[2K\u001b[30A\u001b[2K\u001b[9A\u001b[2K\u001b[30A\u001b[2K\u001b[7A\u001b[2K\u001b[30A\u001b[2K\u001b[37A\u001b[2K\u001b[30A\u001b[2K\u001b[30A\u001b[2K\u001b[8A\u001b[2K\u001b[5A\u001b[2K\u001b[30A\u001b[2K\u001b[8A\u001b[2K\u001b[37A\u001b[2K\u001b[8A\u001b[2K\u001b[37A\u001b[2K\u001b[8A\u001b[2K\u001b[37A\u001b[2K\u001b[30A\u001b[2K\u001b[5A\u001b[2K\u001b[30A\u001b[2K\u001b[5A\u001b[2K\u001b[30A\u001b[2K\u001b[8A\u001b[2K\u001b[37A\u001b[2K\u001b[8A\u001b[2K\u001b[5A\u001b[2K\u001b[30A\u001b[2K\u001b[8A\u001b[2K\u001b[30A\u001b[2K\u001b[8A\u001b[2K\u001b[5A\u001b[2K\u001b[8A\u001b[2K\u001b[5A\u001b[2K\u001b[30A\u001b[2K\u001b[8A\u001b[2K\u001b[30A\u001b[2K\u001b[8A\u001b[2K\u001b[37A\u001b[2K\u001b[5A\u001b[2K\u001b[8A\u001b[2K\u001b[30A\u001b[2K\u001b[5A\u001b[2K\u001b[37A\u001b[2K\u001b[5A\u001b[2K\u001b[30A\u001b[2K\u001b[8A\u001b[2K\u001b[30A\u001b[2K\u001b[37A\u001b[2K\u001b[8A\u001b[2K\u001b[5A\u001b[2K\u001b[30A\u001b[2K\u001b[5A\u001b[2K\u001b[8A\u001b[2K\u001b[37A\u001b[2K\u001b[5A\u001b[2K\u001b[37A\u001b[2K\u001b[8A\u001b[2K\u001b[5A\u001b[2K\u001b[8A\u001b[2K\u001b[5A\u001b[2KExtracting  588.3MB/1.291GB\u001b[30A\u001b[2K\u001b[8A\u001b[2K\u001b[30A\u001b[2K\u001b[30A\u001b[2K\u001b[8A\u001b[2K\u001b[5A\u001b[2K\u001b[8A\u001b[2K\u001b[5A\u001b[2K\u001b[37A\u001b[2K\u001b[5A\u001b[2K\u001b[37A\u001b[2K\u001b[5A\u001b[2K\u001b[30A\u001b[2K\u001b[5A\u001b[2K\u001b[30A\u001b[2K\u001b[5A\u001b[2K\u001b[30A\u001b[2K\u001b[8A\u001b[2K\u001b[5A\u001b[2K\u001b[5A\u001b[2K\u001b[8A\u001b[2K\u001b[37A\u001b[2K\u001b[8A\u001b[2K\u001b[30A\u001b[2K\u001b[30A\u001b[2K\u001b[30A\u001b[2K\u001b[3A\u001b[2K\u001b[30A\u001b[2K\u001b[30A\u001b[2K\u001b[8A\u001b[2K\u001b[30A\u001b[2K\u001b[2A\u001b[2K\u001b[30A\u001b[2K\u001b[2A\u001b[2K\u001b[37A\u001b[2K\u001b[30A\u001b[2K\u001b[8A\u001b[2K\u001b[30A\u001b[2K\u001b[8A\u001b[2K\u001b[30A\u001b[2K\u001b[8A\u001b[2K\u001b[30A\u001b[2K\u001b[8A\u001b[2K\u001b[37A\u001b[2K\u001b[2A\u001b[2K\u001b[37A\u001b[2K\u001b[2A\u001b[2K\u001b[37A\u001b[2K\u001b[8A\u001b[2K\u001b[2A\u001b[2K\u001b[37A\u001b[2K\u001b[30A\u001b[2K\u001b[37A\u001b[2K\u001b[8A\u001b[2K\u001b[37A\u001b[2K\u001b[8A\u001b[2K\u001b[37A\u001b[2K\u001b[30A\u001b[2K\u001b[2A\u001b[2K\u001b[30A\u001b[2K\u001b[8A\u001b[2K\u001b[30A\u001b[2K\u001b[8A\u001b[2K\u001b[2A\u001b[2K\u001b[30A\u001b[2K\u001b[37A\u001b[2K\u001b[30A\u001b[2K\u001b[37A\u001b[2K\u001b[30A\u001b[2K\u001b[37A\u001b[2K\u001b[30A\u001b[2K\u001b[37A\u001b[2K\u001b[30A\u001b[2K\u001b[37A\u001b[2K\u001b[2A\u001b[2K\u001b[8A\u001b[2K\u001b[37A\u001b[2K\u001b[2A\u001b[2K\u001b[30A\u001b[2K\u001b[37A\u001b[2K\u001b[30A\u001b[2K\u001b[37A\u001b[2K\u001b[30A\u001b[2K\u001b[37A\u001b[2K\u001b[30A\u001b[2K\u001b[37A\u001b[2K\u001b[8A\u001b[2K\u001b[37A\u001b[2K\u001b[2A\u001b[2K\u001b[30A\u001b[2K\u001b[8A\u001b[2K\u001b[30A\u001b[2K\u001b[8A\u001b[2K\u001b[30A\u001b[2K\u001b[8A\u001b[2K\u001b[2A\u001b[2K\u001b[8A\u001b[2K\u001b[2A\u001b[2K\u001b[8A\u001b[2K\u001b[37A\u001b[2K\u001b[30A\u001b[2K\u001b[2A\u001b[2K\u001b[30A\u001b[2K\u001b[8A\u001b[2K\u001b[2A\u001b[2K\u001b[8A\u001b[2K\u001b[2A\u001b[2K\u001b[8A\u001b[2K\u001b[37A\u001b[2K\u001b[8A\u001b[2K\u001b[37A\u001b[2K\u001b[2A\u001b[2K\u001b[37A\u001b[2K\u001b[30A\u001b[2K\u001b[2A\u001b[2K\u001b[37A\u001b[2K\u001b[2A\u001b[2K\u001b[30A\u001b[2K\u001b[2A\u001b[2K\u001b[8A\u001b[2K\u001b[2A\u001b[2K\u001b[8A\u001b[2K\u001b[2A\u001b[2K\u001b[8A\u001b[2K\u001b[30A\u001b[2K\u001b[8A\u001b[2K\u001b[30A\u001b[2K\u001b[37A\u001b[2K\u001b[30A\u001b[2K\u001b[37A\u001b[2K\u001b[30A\u001b[2K\u001b[8A\u001b[2K\u001b[37A\u001b[2K\u001b[2A\u001b[2K\u001b[37A\u001b[2K\u001b[2A\u001b[2K\u001b[37A\u001b[2K\u001b[2A\u001b[2K\u001b[2A\u001b[2K\u001b[30A\u001b[2K\u001b[2A\u001b[2K\u001b[8A\u001b[2K\u001b[2A\u001b[2K\u001b[8A\u001b[2K\u001b[37A\u001b[2K\u001b[2A\u001b[2K\u001b[37A\u001b[2K\u001b[30A\u001b[2K\u001b[2A\u001b[2K\u001b[8A\u001b[2K\u001b[2A\u001b[2K\u001b[8A\u001b[2K\u001b[37A\u001b[2K\u001b[8A\u001b[2K\u001b[30A\u001b[2K\u001b[8A\u001b[2K\u001b[30A\u001b[2K\u001b[37A\u001b[2K\u001b[30A\u001b[2K\u001b[2A\u001b[2K\u001b[37A\u001b[2K\u001b[8A\u001b[2K\u001b[30A\u001b[2K\u001b[8A\u001b[2K\u001b[2A\u001b[2K\u001b[8A\u001b[2K\u001b[2A\u001b[2K\u001b[37A\u001b[2K\u001b[30A\u001b[2K\u001b[8A\u001b[2K\u001b[2A\u001b[2K\u001b[30A\u001b[2K\u001b[2A\u001b[2K\u001b[8A\u001b[2K\u001b[2A\u001b[2K\u001b[8A\u001b[2K\u001b[37A\u001b[2K\u001b[2A\u001b[2K\u001b[2A\u001b[2K\u001b[2A\u001b[2K\u001b[37A\u001b[2K\u001b[8A\u001b[2K\u001b[37A\u001b[2K\u001b[2A\u001b[2K\u001b[37A\u001b[2K\u001b[8A\u001b[2K\u001b[37A\u001b[2K\u001b[8A\u001b[2K\u001b[37A\u001b[2K\u001b[8A\u001b[2K\u001b[37A\u001b[2K\u001b[8A\u001b[2K\u001b[8A\u001b[2K\u001b[2A\u001b[2K\u001b[2A\u001b[2K\u001b[8A\u001b[2K\u001b[2A\u001b[2K\u001b[8A\u001b[2K\u001b[2A\u001b[2K\u001b[37A\u001b[2K\u001b[2A\u001b[2K\u001b[37A\u001b[2K\u001b[2A\u001b[2K\u001b[8A\u001b[2K\u001b[8A\u001b[2K\u001b[37A\u001b[2K\u001b[2A\u001b[2K\u001b[37A\u001b[2K\u001b[8A\u001b[2K\u001b[37A\u001b[2K\u001b[37A\u001b[2K\u001b[8A\u001b[2K\u001b[2A\u001b[2K\u001b[8A\u001b[2K\u001b[2A\u001b[2K\u001b[8A\u001b[2K\u001b[8A\u001b[2K\u001b[37A\u001b[2K\u001b[8A\u001b[2K\u001b[37A\u001b[2K\u001b[8A\u001b[2K\u001b[37A\u001b[2K\u001b[8A\u001b[2K\u001b[2A\u001b[2K\u001b[37A\u001b[2K\u001b[2A\u001b[2K\u001b[8A\u001b[2K\u001b[37A\u001b[2K\u001b[2A\u001b[2K\u001b[37A\u001b[2K\u001b[2A\u001b[2K\u001b[2A\u001b[2K\u001b[37A\u001b[2K\u001b[2A\u001b[2K\u001b[8A\u001b[2K\u001b[2A\u001b[2K\u001b[8A\u001b[2K\u001b[37A\u001b[2K\u001b[2A\u001b[2K\u001b[37A\u001b[2K\u001b[2A\u001b[2K\u001b[8A\u001b[2K\u001b[2A\u001b[2K\u001b[8A\u001b[2K\u001b[37A\u001b[2K\u001b[2A\u001b[2K\u001b[2A\u001b[2K\u001b[8A\u001b[2K\u001b[2A\u001b[2K\u001b[8A\u001b[2K\u001b[2A\u001b[2K\u001b[8A\u001b[2K\u001b[37A\u001b[2K\u001b[8A\u001b[2K\u001b[2A\u001b[2K\u001b[37A\u001b[2K\u001b[2A\u001b[2K\u001b[8A\u001b[2K\u001b[2A\u001b[2K\u001b[37A\u001b[2K\u001b[2A\u001b[2K\u001b[8A\u001b[2K\u001b[37A\u001b[2K\u001b[8A\u001b[2K\u001b[2A\u001b[2K\u001b[8A\u001b[2K\u001b[2A\u001b[2K\u001b[37A\u001b[2K\u001b[2A\u001b[2K\u001b[8A\u001b[2K\u001b[37A\u001b[2K\u001b[8A\u001b[2K\u001b[37A\u001b[2K\u001b[8A\u001b[2K\u001b[37A\u001b[2K\u001b[8A\u001b[2K\u001b[8A\u001b[2K\u001b[2A\u001b[2K\u001b[8A\u001b[2K\u001b[2A\u001b[2K\u001b[8A\u001b[2K\u001b[37A\u001b[2K\u001b[8A\u001b[2K\u001b[37A\u001b[2KExtracting  749.8MB/1.291GB\u001b[37A\u001b[2K\u001b[8A\u001b[2K\u001b[37A\u001b[2K\u001b[8A\u001b[2K\u001b[37A\u001b[2K\u001b[37A\u001b[2K\u001b[2A\u001b[2K\u001b[37A\u001b[2K\u001b[2A\u001b[2K\u001b[37A\u001b[2K\u001b[2A\u001b[2K\u001b[2A\u001b[2K\u001b[2A\u001b[2K\u001b[37A\u001b[2K\u001b[2A\u001b[2K\u001b[37A\u001b[2K\u001b[2A\u001b[2K\u001b[37A\u001b[2K\u001b[2A\u001b[2K\u001b[37A\u001b[2K\u001b[2A\u001b[2K\u001b[37A\u001b[2K\u001b[2A\u001b[2K\u001b[37A\u001b[2K\u001b[2A\u001b[2K\u001b[37A\u001b[2K\u001b[2A\u001b[2K\u001b[37A\u001b[2K\u001b[2A\u001b[2K\u001b[37A\u001b[2K\u001b[2A\u001b[2K\u001b[37A\u001b[2K\u001b[2A\u001b[2K\u001b[37A\u001b[2K\u001b[37A\u001b[2K\u001b[2A\u001b[2K\u001b[2A\u001b[2K\u001b[37A\u001b[2K\u001b[2A\u001b[2K\u001b[37A\u001b[2K\u001b[37A\u001b[2K\u001b[37A\u001b[2K\u001b[2A\u001b[2K\u001b[37A\u001b[2K\u001b[2A\u001b[2K\u001b[2A\u001b[2K\u001b[2A\u001b[2K\u001b[37A\u001b[2K\u001b[2A\u001b[2K\u001b[37A\u001b[2K\u001b[2A\u001b[2K\u001b[37A\u001b[2K\u001b[2A\u001b[2K\u001b[37A\u001b[2K\u001b[2A\u001b[2K\u001b[37A\u001b[2K\u001b[37A\u001b[2K\u001b[2A\u001b[2K\u001b[2A\u001b[2K\u001b[37A\u001b[2K\u001b[2A\u001b[2K\u001b[37A\u001b[2K\u001b[2A\u001b[2K\u001b[37A\u001b[2K\u001b[37A\u001b[2K\u001b[2A\u001b[2K\u001b[37A\u001b[2K\u001b[2A\u001b[2K\u001b[2A\u001b[2K\u001b[2A\u001b[2K\u001b[37A\u001b[2K\u001b[2A\u001b[2K\u001b[37A\u001b[2K\u001b[2A\u001b[2K\u001b[37A\u001b[2K\u001b[2A\u001b[2K\u001b[37A\u001b[2K\u001b[2A\u001b[2K\u001b[37A\u001b[2K\u001b[2A\u001b[2K\u001b[37A\u001b[2K\u001b[2A\u001b[2K\u001b[37A\u001b[2K\u001b[2A\u001b[2K\u001b[2A\u001b[2K\u001b[2A\u001b[2K\u001b[37A\u001b[2K\u001b[2A\u001b[2K\u001b[37A\u001b[2K\u001b[2A\u001b[2K\u001b[37A\u001b[2K\u001b[2A\u001b[2K\u001b[2A\u001b[2K\u001b[2A\u001b[2K\u001b[37A\u001b[2K\u001b[2A\u001b[2K\u001b[37A\u001b[2K\u001b[2A\u001b[2K\u001b[37A\u001b[2K\u001b[37A\u001b[2K\u001b[37A\u001b[2K\u001b[37A\u001b[2K\u001b[37A\u001b[2K\u001b[37A\u001b[2K\u001b[37A\u001b[2K\u001b[37A\u001b[2K\u001b[37A\u001b[2K\u001b[37A\u001b[2K\u001b[37A\u001b[2K\u001b[37A\u001b[2K\u001b[37A\u001b[2K\u001b[37A\u001b[2K\u001b[37A\u001b[2K\u001b[37A\u001b[2K\u001b[37A\u001b[2K\u001b[37A\u001b[2K\u001b[37A\u001b[2K\u001b[37A\u001b[2K\u001b[37A\u001b[2K\u001b[37A\u001b[2K\u001b[37A\u001b[2K\u001b[37A\u001b[2K\u001b[37A\u001b[2K\u001b[37A\u001b[2K\u001b[37A\u001b[2K\u001b[37A\u001b[2K\u001b[37A\u001b[2K\u001b[37A\u001b[2K\u001b[37A\u001b[2K\u001b[37A\u001b[2K\u001b[37A\u001b[2K\u001b[37A\u001b[2K\u001b[37A\u001b[2K\u001b[37A\u001b[2K\u001b[37A\u001b[2K\u001b[37A\u001b[2K\u001b[37A\u001b[2K\u001b[37A\u001b[2K\u001b[37A\u001b[2K\u001b[37A\u001b[2K\u001b[37A\u001b[2K\u001b[37A\u001b[2K\u001b[37A\u001b[2K\u001b[37A\u001b[2K\u001b[37A\u001b[2K\u001b[37A\u001b[2K\u001b[37A\u001b[2K\u001b[37A\u001b[2K\u001b[37A\u001b[2K\u001b[37A\u001b[2K\u001b[37A\u001b[2K\u001b[37A\u001b[2K\u001b[37A\u001b[2K\u001b[37A\u001b[2K\u001b[37A\u001b[2K\u001b[37A\u001b[2K\u001b[37A\u001b[2K\u001b[37A\u001b[2K\u001b[37A\u001b[2K\u001b[37A\u001b[2K\u001b[37A\u001b[2K\u001b[37A\u001b[2K\u001b[37A\u001b[2K\u001b[36A\u001b[2K\u001b[36A\u001b[2K\u001b[35A\u001b[2K\u001b[35A\u001b[2K\u001b[34A\u001b[2K\u001b[34A\u001b[2K\u001b[33A\u001b[2K\u001b[33A\u001b[2K\u001b[33A\u001b[2K\u001b[33A\u001b[2K\u001b[33A\u001b[2K\u001b[33A\u001b[2K\u001b[33A\u001b[2K\u001b[33A\u001b[2K\u001b[33A\u001b[2K\u001b[33A\u001b[2K\u001b[33A\u001b[2K\u001b[33A\u001b[2K\u001b[33A\u001b[2K\u001b[33A\u001b[2K\u001b[33A\u001b[2K\u001b[33A\u001b[2K\u001b[33A\u001b[2K\u001b[33A\u001b[2K\u001b[33A\u001b[2K\u001b[33A\u001b[2K\u001b[33A\u001b[2K\u001b[33A\u001b[2K\u001b[33A\u001b[2K\u001b[33A\u001b[2K\u001b[33A\u001b[2K\u001b[33A\u001b[2K\u001b[33A\u001b[2K\u001b[33A\u001b[2K\u001b[33A\u001b[2K\u001b[33A\u001b[2K\u001b[33A\u001b[2K\u001b[33A\u001b[2K\u001b[33A\u001b[2K\u001b[33A\u001b[2K\u001b[33A\u001b[2K\u001b[33A\u001b[2K\u001b[33A\u001b[2K\u001b[33A\u001b[2K\u001b[33A\u001b[2K\u001b[33A\u001b[2K\u001b[33A\u001b[2K\u001b[33A\u001b[2K\u001b[33A\u001b[2K\u001b[33A\u001b[2K\u001b[33A\u001b[2K\u001b[33A\u001b[2K\u001b[33A\u001b[2K\u001b[33A\u001b[2K\u001b[33A\u001b[2K\u001b[33A\u001b[2K\u001b[33A\u001b[2K\u001b[33A\u001b[2K\u001b[33A\u001b[2K\u001b[33A\u001b[2K\u001b[33A\u001b[2K\u001b[33A\u001b[2K\u001b[33A\u001b[2K\u001b[33A\u001b[2K\u001b[33A\u001b[2K\u001b[33A\u001b[2K\u001b[33A\u001b[2K\u001b[33A\u001b[2K\u001b[33A\u001b[2K\u001b[33A\u001b[2K\u001b[33A\u001b[2K\u001b[33A\u001b[2K\u001b[33A\u001b[2K\u001b[33A\u001b[2K\u001b[33A\u001b[2K\u001b[33A\u001b[2K\u001b[33A\u001b[2K\u001b[33A\u001b[2K\u001b[33A\u001b[2K\u001b[33A\u001b[2K\u001b[33A\u001b[2K\u001b[33A\u001b[2K\u001b[33A\u001b[2K\u001b[33A\u001b[2K\u001b[33A\u001b[2K\u001b[33A\u001b[2K\u001b[33A\u001b[2K\u001b[33A\u001b[2K\u001b[33A\u001b[2K\u001b[33A\u001b[2K\u001b[33A\u001b[2K\u001b[33A\u001b[2K\u001b[33A\u001b[2K\u001b[33A\u001b[2K\u001b[33A\u001b[2K\u001b[33A\u001b[2K\u001b[33A\u001b[2K\u001b[33A\u001b[2K\u001b[33A\u001b[2K\u001b[33A\u001b[2K\u001b[33A\u001b[2K\u001b[33A\u001b[2K\u001b[33A\u001b[2K\u001b[33A\u001b[2K\u001b[33A\u001b[2K\u001b[33A\u001b[2K\u001b[33A\u001b[2K\u001b[33A\u001b[2K\u001b[33A\u001b[2K\u001b[33A\u001b[2K\u001b[33A\u001b[2K\u001b[33A\u001b[2K\u001b[33A\u001b[2K\u001b[33A\u001b[2K\u001b[33A\u001b[2K\u001b[33A\u001b[2K\u001b[33A\u001b[2K\u001b[33A\u001b[2K\u001b[33A\u001b[2K\u001b[33A\u001b[2K\u001b[33A\u001b[2K\u001b[33A\u001b[2K\u001b[33A\u001b[2K\u001b[33A\u001b[2K\u001b[33A\u001b[2K\u001b[33A\u001b[2K\u001b[33A\u001b[2K\u001b[33A\u001b[2K\u001b[33A\u001b[2K\u001b[33A\u001b[2K\u001b[33A\u001b[2K\u001b[33A\u001b[2K\u001b[33A\u001b[2K\u001b[33A\u001b[2K\u001b[33A\u001b[2K\u001b[33A\u001b[2K\u001b[33A\u001b[2K\u001b[33A\u001b[2K\u001b[33A\u001b[2K\u001b[33A\u001b[2K\u001b[33A\u001b[2K\u001b[33A\u001b[2K\u001b[33A\u001b[2K\u001b[33A\u001b[2K\u001b[33A\u001b[2K\u001b[33A\u001b[2K\u001b[33A\u001b[2K\u001b[33A\u001b[2K\u001b[33A\u001b[2K\u001b[33A\u001b[2K\u001b[33A\u001b[2K\u001b[33A\u001b[2K\u001b[33A\u001b[2K\u001b[33A\u001b[2K\u001b[33A\u001b[2K\u001b[33A\u001b[2K\u001b[33A\u001b[2K\u001b[33A\u001b[2K\u001b[33A\u001b[2K\u001b[33A\u001b[2K\u001b[33A\u001b[2K\u001b[33A\u001b[2K\u001b[33A\u001b[2K\u001b[33A\u001b[2K\u001b[33A\u001b[2K\u001b[33A\u001b[2K\u001b[33A\u001b[2K\u001b[33A\u001b[2K\u001b[33A\u001b[2K\u001b[33A\u001b[2K\u001b[33A\u001b[2K\u001b[33A\u001b[2K\u001b[33A\u001b[2K\u001b[33A\u001b[2K\u001b[33A\u001b[2K\u001b[33A\u001b[2K\u001b[33A\u001b[2K\u001b[33A\u001b[2K\u001b[33A\u001b[2K\u001b[33A\u001b[2K\u001b[33A\u001b[2K\u001b[33A\u001b[2K\u001b[33A\u001b[2K\u001b[33A\u001b[2K\u001b[33A\u001b[2K\u001b[33A\u001b[2K\u001b[33A\u001b[2K\u001b[33A\u001b[2K\u001b[33A\u001b[2K\u001b[33A\u001b[2K\u001b[33A\u001b[2K\u001b[33A\u001b[2K\u001b[33A\u001b[2K\u001b[33A\u001b[2K\u001b[33A\u001b[2K\u001b[33A\u001b[2K\u001b[33A\u001b[2K\u001b[33A\u001b[2K\u001b[33A\u001b[2K\u001b[33A\u001b[2K\u001b[33A\u001b[2K\u001b[33A\u001b[2K\u001b[33A\u001b[2K\u001b[33A\u001b[2K\u001b[33A\u001b[2K\u001b[33A\u001b[2K\u001b[33A\u001b[2K\u001b[33A\u001b[2K\u001b[33A\u001b[2K\u001b[33A\u001b[2K\u001b[33A\u001b[2K\u001b[33A\u001b[2K\u001b[33A\u001b[2K\u001b[33A\u001b[2K\u001b[33A\u001b[2K\u001b[33A\u001b[2K\u001b[33A\u001b[2K\u001b[33A\u001b[2K\u001b[33A\u001b[2K\u001b[33A\u001b[2K\u001b[33A\u001b[2K\u001b[33A\u001b[2K\u001b[33A\u001b[2K\u001b[33A\u001b[2K\u001b[33A\u001b[2K\u001b[33A\u001b[2K\u001b[33A\u001b[2K\u001b[33A\u001b[2K\u001b[33A\u001b[2K\u001b[33A\u001b[2K\u001b[33A\u001b[2K\u001b[33A\u001b[2K\u001b[33A\u001b[2K\u001b[33A\u001b[2K\u001b[33A\u001b[2K\u001b[33A\u001b[2K\u001b[33A\u001b[2K\u001b[33A\u001b[2K\u001b[33A\u001b[2K\u001b[33A\u001b[2K\u001b[33A\u001b[2K\u001b[33A\u001b[2K\u001b[33A\u001b[2K\u001b[33A\u001b[2K\u001b[33A\u001b[2K\u001b[33A\u001b[2K\u001b[33A\u001b[2K\u001b[33A\u001b[2K\u001b[33A\u001b[2K\u001b[33A\u001b[2K\u001b[33A\u001b[2K\u001b[33A\u001b[2K\u001b[33A\u001b[2K\u001b[33A\u001b[2K\u001b[33A\u001b[2K\u001b[33A\u001b[2K\u001b[33A\u001b[2K\u001b[33A\u001b[2K\u001b[33A\u001b[2K\u001b[33A\u001b[2K\u001b[33A\u001b[2K\u001b[33A\u001b[2K\u001b[33A\u001b[2K\u001b[33A\u001b[2K\u001b[33A\u001b[2K\u001b[33A\u001b[2K\u001b[33A\u001b[2K\u001b[33A\u001b[2K\u001b[33A\u001b[2K\u001b[33A\u001b[2K\u001b[33A\u001b[2K\u001b[33A\u001b[2K\u001b[33A\u001b[2K\u001b[33A\u001b[2K\u001b[33A\u001b[2K\u001b[33A\u001b[2K\u001b[33A\u001b[2K\u001b[33A\u001b[2K\u001b[33A\u001b[2K\u001b[33A\u001b[2K\u001b[33A\u001b[2K\u001b[33A\u001b[2K\u001b[33A\u001b[2K\u001b[33A\u001b[2K\u001b[33A\u001b[2K\u001b[33A\u001b[2K\u001b[33A\u001b[2K\u001b[33A\u001b[2K\u001b[33A\u001b[2K\u001b[33A\u001b[2K\u001b[33A\u001b[2K\u001b[33A\u001b[2K\u001b[33A\u001b[2K\u001b[33A\u001b[2K\u001b[33A\u001b[2K\u001b[33A\u001b[2K\u001b[33A\u001b[2K\u001b[33A\u001b[2K\u001b[33A\u001b[2K\u001b[33A\u001b[2K\u001b[33A\u001b[2K\u001b[33A\u001b[2K\u001b[33A\u001b[2K\u001b[33A\u001b[2K\u001b[33A\u001b[2K\u001b[33A\u001b[2K\u001b[33A\u001b[2K\u001b[33A\u001b[2K\u001b[33A\u001b[2K\u001b[33A\u001b[2K\u001b[33A\u001b[2K\u001b[33A\u001b[2K\u001b[33A\u001b[2K\u001b[33A\u001b[2K\u001b[33A\u001b[2K\u001b[33A\u001b[2K\u001b[33A\u001b[2K\u001b[33A\u001b[2K\u001b[33A\u001b[2K\u001b[33A\u001b[2K\u001b[33A\u001b[2K\u001b[33A\u001b[2K\u001b[33A\u001b[2K\u001b[33A\u001b[2K\u001b[33A\u001b[2K\u001b[33A\u001b[2K\u001b[33A\u001b[2K\u001b[33A\u001b[2K\u001b[33A\u001b[2K\u001b[33A\u001b[2K\u001b[33A\u001b[2K\u001b[33A\u001b[2K\u001b[33A\u001b[2K\u001b[33A\u001b[2K\u001b[32A\u001b[2K\u001b[32A\u001b[2K\u001b[31A\u001b[2K\u001b[31A\u001b[2K\u001b[31A\u001b[2K\u001b[31A\u001b[2K\u001b[31A\u001b[2K\u001b[31A\u001b[2K\u001b[31A\u001b[2K\u001b[31A\u001b[2K\u001b[31A\u001b[2K\u001b[31A\u001b[2K\u001b[31A\u001b[2K\u001b[31A\u001b[2K\u001b[31A\u001b[2K\u001b[31A\u001b[2K\u001b[31A\u001b[2K\u001b[31A\u001b[2K\u001b[31A\u001b[2K\u001b[31A\u001b[2K\u001b[31A\u001b[2K\u001b[31A\u001b[2K\u001b[31A\u001b[2K\u001b[31A\u001b[2K\u001b[31A\u001b[2K\u001b[31A\u001b[2K\u001b[31A\u001b[2K\u001b[31A\u001b[2K\u001b[31A\u001b[2K\u001b[31A\u001b[2K\u001b[31A\u001b[2K\u001b[31A\u001b[2K\u001b[31A\u001b[2K\u001b[31A\u001b[2K\u001b[31A\u001b[2K\u001b[31A\u001b[2K\u001b[31A\u001b[2K\u001b[31A\u001b[2K\u001b[31A\u001b[2K\u001b[31A\u001b[2K\u001b[31A\u001b[2K\u001b[31A\u001b[2K\u001b[31A\u001b[2K\u001b[31A\u001b[2K\u001b[31A\u001b[2K\u001b[31A\u001b[2K\u001b[31A\u001b[2K\u001b[31A\u001b[2K\u001b[31A\u001b[2K\u001b[31A\u001b[2K\u001b[31A\u001b[2K\u001b[31A\u001b[2K\u001b[31A\u001b[2K\u001b[31A\u001b[2K\u001b[31A\u001b[2K\u001b[31A\u001b[2K\u001b[31A\u001b[2K\u001b[31A\u001b[2K\u001b[31A\u001b[2K\u001b[31A\u001b[2K\u001b[31A\u001b[2K\u001b[31A\u001b[2K\u001b[31A\u001b[2K\u001b[31A\u001b[2K\u001b[31A\u001b[2K\u001b[31A\u001b[2K\u001b[31A\u001b[2K\u001b[31A\u001b[2K\u001b[31A\u001b[2K\u001b[31A\u001b[2K\u001b[31A\u001b[2K\u001b[31A\u001b[2K\u001b[31A\u001b[2K\u001b[31A\u001b[2K\u001b[31A\u001b[2K\u001b[31A\u001b[2K\u001b[31A\u001b[2K\u001b[31A\u001b[2K\u001b[31A\u001b[2K\u001b[31A\u001b[2K\u001b[31A\u001b[2K\u001b[31A\u001b[2K\u001b[31A\u001b[2K\u001b[31A\u001b[2K\u001b[31A\u001b[2K\u001b[31A\u001b[2K\u001b[31A\u001b[2K\u001b[31A\u001b[2K\u001b[31A\u001b[2K\u001b[31A\u001b[2K\u001b[31A\u001b[2K\u001b[31A\u001b[2K\u001b[31A\u001b[2K\u001b[31A\u001b[2K\u001b[31A\u001b[2K\u001b[31A\u001b[2K\u001b[31A\u001b[2K\u001b[31A\u001b[2K\u001b[31A\u001b[2K\u001b[31A\u001b[2K\u001b[31A\u001b[2K\u001b[31A\u001b[2K\u001b[31A\u001b[2K\u001b[31A\u001b[2K\u001b[31A\u001b[2K\u001b[31A\u001b[2K\u001b[31A\u001b[2K\u001b[31A\u001b[2K\u001b[31A\u001b[2K\u001b[31A\u001b[2K\u001b[31A\u001b[2K\u001b[31A\u001b[2K\u001b[31A\u001b[2K\u001b[31A\u001b[2K\u001b[31A\u001b[2K\u001b[31A\u001b[2K\u001b[31A\u001b[2K\u001b[31A\u001b[2K\u001b[31A\u001b[2K\u001b[31A\u001b[2K\u001b[31A\u001b[2K\u001b[31A\u001b[2K\u001b[31A\u001b[2K\u001b[31A\u001b[2K\u001b[31A\u001b[2K\u001b[31A\u001b[2K\u001b[31A\u001b[2K\u001b[31A\u001b[2K\u001b[31A\u001b[2K\u001b[31A\u001b[2K\u001b[31A\u001b[2K\u001b[31A\u001b[2K\u001b[31A\u001b[2K\u001b[31A\u001b[2K\u001b[31A\u001b[2K\u001b[31A\u001b[2K\u001b[31A\u001b[2K\u001b[31A\u001b[2K\u001b[31A\u001b[2K\u001b[31A\u001b[2K\u001b[31A\u001b[2K\u001b[31A\u001b[2K\u001b[31A\u001b[2K\u001b[31A\u001b[2K\u001b[31A\u001b[2K\u001b[31A\u001b[2K\u001b[31A\u001b[2K\u001b[31A\u001b[2K\u001b[31A\u001b[2K\u001b[31A\u001b[2K\u001b[31A\u001b[2K\u001b[31A\u001b[2K\u001b[31A\u001b[2K\u001b[31A\u001b[2K\u001b[31A\u001b[2K\u001b[31A\u001b[2K\u001b[31A\u001b[2K\u001b[31A\u001b[2K\u001b[31A\u001b[2K\u001b[31A\u001b[2K\u001b[31A\u001b[2K\u001b[31A\u001b[2K\u001b[31A\u001b[2K\u001b[31A\u001b[2K\u001b[31A\u001b[2K\u001b[31A\u001b[2K\u001b[31A\u001b[2K\u001b[31A\u001b[2K\u001b[31A\u001b[2K\u001b[31A\u001b[2K\u001b[31A\u001b[2K\u001b[31A\u001b[2K\u001b[31A\u001b[2K\u001b[31A\u001b[2K\u001b[31A\u001b[2K\u001b[31A\u001b[2K\u001b[31A\u001b[2K\u001b[31A\u001b[2K\u001b[31A\u001b[2K\u001b[31A\u001b[2K\u001b[31A\u001b[2K\u001b[31A\u001b[2K\u001b[31A\u001b[2K\u001b[31A\u001b[2K\u001b[30A\u001b[2K\u001b[30A\u001b[2K\u001b[30A\u001b[2K\u001b[30A\u001b[2K\u001b[30A\u001b[2K\u001b[30A\u001b[2K\u001b[30A\u001b[2K\u001b[30A\u001b[2K\u001b[30A\u001b[2K\u001b[30A\u001b[2K\u001b[30A\u001b[2K\u001b[30A\u001b[2K\u001b[30A\u001b[2K\u001b[30A\u001b[2K\u001b[30A\u001b[2K\u001b[30A\u001b[2K\u001b[30A\u001b[2K\u001b[30A\u001b[2K\u001b[30A\u001b[2K\u001b[30A\u001b[2K\u001b[30A\u001b[2K\u001b[30A\u001b[2K\u001b[30A\u001b[2K\u001b[30A\u001b[2K\u001b[30A\u001b[2K\u001b[30A\u001b[2K\u001b[30A\u001b[2K\u001b[30A\u001b[2K\u001b[30A\u001b[2K\u001b[30A\u001b[2K\u001b[30A\u001b[2K\u001b[30A\u001b[2K\u001b[30A\u001b[2K\u001b[30A\u001b[2K\u001b[30A\u001b[2K\u001b[30A\u001b[2K\u001b[30A\u001b[2K\u001b[30A\u001b[2K\u001b[30A\u001b[2K\u001b[30A\u001b[2K\u001b[30A\u001b[2K\u001b[30A\u001b[2K\u001b[30A\u001b[2K\u001b[30A\u001b[2K\u001b[30A\u001b[2K\u001b[30A\u001b[2K\u001b[30A\u001b[2K\u001b[30A\u001b[2K\u001b[30A\u001b[2K\u001b[30A\u001b[2K\u001b[30A\u001b[2K\u001b[30A\u001b[2K\u001b[30A\u001b[2K\u001b[30A\u001b[2K\u001b[30A\u001b[2K\u001b[30A\u001b[2K\u001b[30A\u001b[2K\u001b[30A\u001b[2K\u001b[30A\u001b[2K\u001b[30A\u001b[2K\u001b[30A\u001b[2K\u001b[30A\u001b[2K\u001b[30A\u001b[2K\u001b[30A\u001b[2K\u001b[30A\u001b[2K\u001b[30A\u001b[2K\u001b[30A\u001b[2K\u001b[30A\u001b[2K\u001b[30A\u001b[2K\u001b[30A\u001b[2K\u001b[30A\u001b[2K\u001b[30A\u001b[2K\u001b[30A\u001b[2K\u001b[30A\u001b[2K\u001b[30A\u001b[2K\u001b[30A\u001b[2K\u001b[30A\u001b[2KExtracting  633.4MB/1.642GB\u001b[30A\u001b[2K\u001b[30A\u001b[2K\u001b[30A\u001b[2K\u001b[30A\u001b[2K\u001b[30A\u001b[2K\u001b[30A\u001b[2K\u001b[30A\u001b[2K\u001b[30A\u001b[2K\u001b[30A\u001b[2K\u001b[30A\u001b[2K\u001b[30A\u001b[2K\u001b[30A\u001b[2K\u001b[30A\u001b[2K\u001b[30A\u001b[2K\u001b[30A\u001b[2K\u001b[30A\u001b[2K\u001b[30A\u001b[2K\u001b[30A\u001b[2K\u001b[30A\u001b[2K\u001b[30A\u001b[2K\u001b[30A\u001b[2K\u001b[30A\u001b[2K\u001b[30A\u001b[2K\u001b[30A\u001b[2K\u001b[30A\u001b[2K\u001b[30A\u001b[2K\u001b[30A\u001b[2K\u001b[30A\u001b[2K\u001b[30A\u001b[2K\u001b[30A\u001b[2K\u001b[30A\u001b[2K\u001b[30A\u001b[2K\u001b[30A\u001b[2K\u001b[30A\u001b[2K\u001b[30A\u001b[2K\u001b[30A\u001b[2K\u001b[30A\u001b[2K\u001b[30A\u001b[2K\u001b[30A\u001b[2K\u001b[30A\u001b[2K\u001b[30A\u001b[2K\u001b[30A\u001b[2K\u001b[30A\u001b[2K\u001b[30A\u001b[2K\u001b[30A\u001b[2K\u001b[30A\u001b[2K\u001b[30A\u001b[2K\u001b[30A\u001b[2K\u001b[30A\u001b[2K\u001b[30A\u001b[2K\u001b[30A\u001b[2K\u001b[30A\u001b[2K\u001b[30A\u001b[2K\u001b[30A\u001b[2K\u001b[30A\u001b[2K\u001b[30A\u001b[2K\u001b[30A\u001b[2K\u001b[30A\u001b[2K\u001b[30A\u001b[2K\u001b[30A\u001b[2K\u001b[30A\u001b[2K\u001b[30A\u001b[2K\u001b[30A\u001b[2K\u001b[30A\u001b[2K\u001b[30A\u001b[2K\u001b[30A\u001b[2K\u001b[30A\u001b[2K\u001b[30A\u001b[2K\u001b[30A\u001b[2K\u001b[30A\u001b[2K\u001b[30A\u001b[2K\u001b[30A\u001b[2K\u001b[30A\u001b[2K\u001b[30A\u001b[2K\u001b[30A\u001b[2K\u001b[30A\u001b[2K\u001b[30A\u001b[2K\u001b[30A\u001b[2K\u001b[30A\u001b[2K\u001b[30A\u001b[2K\u001b[30A\u001b[2K\u001b[30A\u001b[2K\u001b[30A\u001b[2K\u001b[30A\u001b[2K\u001b[30A\u001b[2K\u001b[30A\u001b[2K\u001b[30A\u001b[2K\u001b[30A\u001b[2K\u001b[30A\u001b[2K\u001b[30A\u001b[2K\u001b[30A\u001b[2K\u001b[30A\u001b[2K\u001b[30A\u001b[2K\u001b[30A\u001b[2K\u001b[30A\u001b[2K\u001b[30A\u001b[2K\u001b[30A\u001b[2K\u001b[30A\u001b[2K\u001b[30A\u001b[2K\u001b[30A\u001b[2K\u001b[30A\u001b[2K\u001b[30A\u001b[2K\u001b[30A\u001b[2K\u001b[30A\u001b[2K\u001b[30A\u001b[2K\u001b[30A\u001b[2K\u001b[30A\u001b[2K\u001b[30A\u001b[2K\u001b[30A\u001b[2K\u001b[30A\u001b[2K\u001b[30A\u001b[2K\u001b[30A\u001b[2K\u001b[30A\u001b[2K\u001b[30A\u001b[2K\u001b[30A\u001b[2K\u001b[30A\u001b[2K\u001b[30A\u001b[2K\u001b[29A\u001b[2K\u001b[29A\u001b[2K\u001b[28A\u001b[2K\u001b[27A\u001b[2K\u001b[27A\u001b[2K\u001b[27A\u001b[2K\u001b[27A\u001b[2K\u001b[27A\u001b[2K\u001b[27A\u001b[2K\u001b[27A\u001b[2K\u001b[27A\u001b[2K\u001b[27A\u001b[2K\u001b[27A\u001b[2K\u001b[27A\u001b[2K\u001b[27A\u001b[2K\u001b[27A\u001b[2K\u001b[27A\u001b[2K\u001b[27A\u001b[2K\u001b[27A\u001b[2K\u001b[27A\u001b[2K\u001b[27A\u001b[2K\u001b[27A\u001b[2K\u001b[27A\u001b[2K\u001b[27A\u001b[2K\u001b[27A\u001b[2K\u001b[27A\u001b[2K\u001b[27A\u001b[2K\u001b[27A\u001b[2K\u001b[27A\u001b[2K\u001b[27A\u001b[2K\u001b[27A\u001b[2K\u001b[27A\u001b[2K\u001b[27A\u001b[2K\u001b[27A\u001b[2K\u001b[27A\u001b[2K\u001b[27A\u001b[2K\u001b[27A\u001b[2K\u001b[27A\u001b[2K\u001b[27A\u001b[2K\u001b[27A\u001b[2K\u001b[27A\u001b[2K\u001b[27A\u001b[2K\u001b[27A\u001b[2K\u001b[27A\u001b[2K\u001b[27A\u001b[2K\u001b[27A\u001b[2K\u001b[27A\u001b[2K\u001b[27A\u001b[2K\u001b[27A\u001b[2K\u001b[27A\u001b[2K\u001b[27A\u001b[2K\u001b[27A\u001b[2K\u001b[27A\u001b[2K\u001b[27A\u001b[2K\u001b[27A\u001b[2K\u001b[27A\u001b[2K\u001b[27A\u001b[2K\u001b[27A\u001b[2K\u001b[27A\u001b[2K\u001b[27A\u001b[2K\u001b[27A\u001b[2K\u001b[27A\u001b[2K\u001b[27A\u001b[2K\u001b[27A\u001b[2K\u001b[27A\u001b[2K\u001b[27A\u001b[2K\u001b[27A\u001b[2K\u001b[27A\u001b[2K\u001b[27A\u001b[2K\u001b[27A\u001b[2K\u001b[27A\u001b[2K\u001b[27A\u001b[2K\u001b[27A\u001b[2K\u001b[27A\u001b[2K\u001b[27A\u001b[2K\u001b[27A\u001b[2K\u001b[26A\u001b[2K\u001b[26A\u001b[2K\u001b[26A\u001b[2K\u001b[26A\u001b[2K\u001b[26A\u001b[2K\u001b[26A\u001b[2K\u001b[26A\u001b[2K\u001b[26A\u001b[2K\u001b[26A\u001b[2K\u001b[26A\u001b[2K\u001b[26A\u001b[2K\u001b[26A\u001b[2K\u001b[26A\u001b[2K\u001b[26A\u001b[2K\u001b[26A\u001b[2K\u001b[26A\u001b[2K\u001b[26A\u001b[2K\u001b[26A\u001b[2K\u001b[26A\u001b[2K\u001b[26A\u001b[2K\u001b[26A\u001b[2K\u001b[26A\u001b[2K\u001b[26A\u001b[2K\u001b[26A\u001b[2K\u001b[26A\u001b[2K\u001b[26A\u001b[2K\u001b[26A\u001b[2K\u001b[26A\u001b[2K\u001b[26A\u001b[2K\u001b[26A\u001b[2K\u001b[26A\u001b[2K\u001b[26A\u001b[2K\u001b[26A\u001b[2K\u001b[26A\u001b[2K\u001b[26A\u001b[2K\u001b[26A\u001b[2K\u001b[26A\u001b[2K\u001b[26A\u001b[2K\u001b[26A\u001b[2K\u001b[26A\u001b[2K\u001b[26A\u001b[2K\u001b[26A\u001b[2K\u001b[26A\u001b[2K\u001b[26A\u001b[2K\u001b[26A\u001b[2K\u001b[26A\u001b[2K\u001b[26A\u001b[2K\u001b[26A\u001b[2K\u001b[26A\u001b[2K\u001b[26A\u001b[2K\u001b[26A\u001b[2K\u001b[26A\u001b[2K\u001b[26A\u001b[2K\u001b[26A\u001b[2K\u001b[26A\u001b[2K\u001b[26A\u001b[2K\u001b[26A\u001b[2K\u001b[26A\u001b[2K\u001b[26A\u001b[2K\u001b[26A\u001b[2K\u001b[26A\u001b[2K\u001b[26A\u001b[2K\u001b[26A\u001b[2K\u001b[26A\u001b[2K\u001b[26A\u001b[2K\u001b[26A\u001b[2K\u001b[26A\u001b[2K\u001b[26A\u001b[2K\u001b[26A\u001b[2K\u001b[26A\u001b[2K\u001b[26A\u001b[2K\u001b[26A\u001b[2K\u001b[26A\u001b[2K\u001b[26A\u001b[2K\u001b[26A\u001b[2K\u001b[26A\u001b[2K\u001b[26A\u001b[2K\u001b[26A\u001b[2K\u001b[26A\u001b[2K\u001b[26A\u001b[2K\u001b[26A\u001b[2K\u001b[26A\u001b[2K\u001b[26A\u001b[2K\u001b[26A\u001b[2K\u001b[26A\u001b[2K\u001b[26A\u001b[2K\u001b[26A\u001b[2K\u001b[26A\u001b[2K\u001b[25A\u001b[2K\u001b[25A\u001b[2K\u001b[25A\u001b[2K\u001b[25A\u001b[2K\u001b[25A\u001b[2K\u001b[25A\u001b[2K\u001b[25A\u001b[2K\u001b[24A\u001b[2K\u001b[24A\u001b[2K\u001b[24A\u001b[2K\u001b[23A\u001b[2K\u001b[23A\u001b[2K\u001b[23A\u001b[2K\u001b[23A\u001b[2K\u001b[22A\u001b[2K\u001b[22A\u001b[2K\u001b[21A\u001b[2K\u001b[20A\u001b[2K\u001b[19A\u001b[2K\u001b[19A\u001b[2K\u001b[19A\u001b[2K\u001b[19A\u001b[2K\u001b[19A\u001b[2K\u001b[19A\u001b[2K\u001b[19A\u001b[2K\u001b[19A\u001b[2K\u001b[19A\u001b[2K\u001b[19A\u001b[2K\u001b[19A\u001b[2K\u001b[19A\u001b[2K\u001b[19A\u001b[2K\u001b[19A\u001b[2K\u001b[19A\u001b[2K\u001b[19A\u001b[2K\u001b[19A\u001b[2K\u001b[19A\u001b[2K\u001b[19A\u001b[2K\u001b[19A\u001b[2K\u001b[19A\u001b[2K\u001b[19A\u001b[2K\u001b[19A\u001b[2K\u001b[19A\u001b[2K\u001b[19A\u001b[2K\u001b[19A\u001b[2K\u001b[19A\u001b[2K\u001b[19A\u001b[2K\u001b[19A\u001b[2K\u001b[19A\u001b[2K\u001b[19A\u001b[2K\u001b[19A\u001b[2K\u001b[19A\u001b[2K\u001b[19A\u001b[2K\u001b[19A\u001b[2K\u001b[19A\u001b[2K\u001b[19A\u001b[2K\u001b[19A\u001b[2K\u001b[18A\u001b[2K\u001b[18A\u001b[2K\u001b[17A\u001b[2K\u001b[16A\u001b[2K\u001b[15A\u001b[2K\u001b[14A\u001b[2K\u001b[13A\u001b[2K\u001b[12A\u001b[2K\u001b[11A\u001b[2K\u001b[11A\u001b[2K\u001b[10A\u001b[2K\u001b[9A\u001b[2K\u001b[8A\u001b[2K\u001b[8A\u001b[2K\u001b[8A\u001b[2K\u001b[8A\u001b[2K\u001b[8A\u001b[2K\u001b[8A\u001b[2K\u001b[8A\u001b[2K\u001b[8A\u001b[2K\u001b[8A\u001b[2K\u001b[8A\u001b[2K\u001b[8A\u001b[2K\u001b[8A\u001b[2K\u001b[8A\u001b[2K\u001b[8A\u001b[2K\u001b[8A\u001b[2K\u001b[8A\u001b[2K\u001b[8A\u001b[2K\u001b[8A\u001b[2K\u001b[8A\u001b[2K\u001b[8A\u001b[2K\u001b[8A\u001b[2K\u001b[8A\u001b[2K\u001b[8A\u001b[2K\u001b[8A\u001b[2K\u001b[8A\u001b[2K\u001b[8A\u001b[2K\u001b[8A\u001b[2K\u001b[8A\u001b[2K\u001b[8A\u001b[2K\u001b[8A\u001b[2K\u001b[8A\u001b[2K\u001b[8A\u001b[2K\u001b[8A\u001b[2K\u001b[8A\u001b[2K\u001b[8A\u001b[2K\u001b[8A\u001b[2K\u001b[8A\u001b[2K\u001b[8A\u001b[2K\u001b[8A\u001b[2K\u001b[8A\u001b[2K\u001b[8A\u001b[2K\u001b[8A\u001b[2K\u001b[8A\u001b[2K\u001b[8A\u001b[2K\u001b[8A\u001b[2K\u001b[8A\u001b[2K\u001b[8A\u001b[2K\u001b[8A\u001b[2K\u001b[8A\u001b[2K\u001b[8A\u001b[2K\u001b[8A\u001b[2K\u001b[8A\u001b[2K\u001b[8A\u001b[2K\u001b[8A\u001b[2K\u001b[8A\u001b[2K\u001b[8A\u001b[2K\u001b[8A\u001b[2K\u001b[8A\u001b[2K\u001b[8A\u001b[2K\u001b[8A\u001b[2K\u001b[8A\u001b[2K\u001b[8A\u001b[2K\u001b[8A\u001b[2K\u001b[8A\u001b[2K\u001b[8A\u001b[2K\u001b[8A\u001b[2K\u001b[8A\u001b[2K\u001b[8A\u001b[2K\u001b[8A\u001b[2K\u001b[8A\u001b[2K\u001b[8A\u001b[2K\u001b[8A\u001b[2K\u001b[8A\u001b[2K\u001b[8A\u001b[2K\u001b[8A\u001b[2K\u001b[8A\u001b[2K\u001b[8A\u001b[2K\u001b[8A\u001b[2K\u001b[8A\u001b[2K\u001b[8A\u001b[2K\u001b[8A\u001b[2K\u001b[8A\u001b[2K\u001b[8A\u001b[2K\u001b[8A\u001b[2K\u001b[8A\u001b[2K\u001b[8A\u001b[2K\u001b[8A\u001b[2K\u001b[8A\u001b[2K\u001b[8A\u001b[2K\u001b[8A\u001b[2K\u001b[8A\u001b[2K\u001b[8A\u001b[2K\u001b[8A\u001b[2K\u001b[8A\u001b[2K\u001b[8A\u001b[2K\u001b[8A\u001b[2K\u001b[8A\u001b[2K\u001b[8A\u001b[2K\u001b[8A\u001b[2K\u001b[8A\u001b[2K\u001b[8A\u001b[2K\u001b[8A\u001b[2K\u001b[8A\u001b[2K\u001b[8A\u001b[2K\u001b[8A\u001b[2K\u001b[8A\u001b[2K\u001b[8A\u001b[2K\u001b[8A\u001b[2K\u001b[8A\u001b[2K\u001b[8A\u001b[2K\u001b[8A\u001b[2K\u001b[8A\u001b[2K\u001b[8A\u001b[2K\u001b[8A\u001b[2K\u001b[8A\u001b[2K\u001b[8A\u001b[2K\u001b[8A\u001b[2K\u001b[8A\u001b[2K\u001b[8A\u001b[2K\u001b[8A\u001b[2K\u001b[8A\u001b[2K\u001b[8A\u001b[2K\u001b[8A\u001b[2K\u001b[8A\u001b[2K\u001b[8A\u001b[2K\u001b[8A\u001b[2K\u001b[8A\u001b[2K\u001b[8A\u001b[2K\u001b[8A\u001b[2K\u001b[8A\u001b[2K\u001b[8A\u001b[2K\u001b[8A\u001b[2K\u001b[8A\u001b[2K\u001b[8A\u001b[2K\u001b[8A\u001b[2K\u001b[8A\u001b[2K\u001b[8A\u001b[2K\u001b[8A\u001b[2K\u001b[8A\u001b[2K\u001b[8A\u001b[2K\u001b[8A\u001b[2K\u001b[8A\u001b[2K\u001b[8A\u001b[2K\u001b[8A\u001b[2K\u001b[8A\u001b[2K\u001b[8A\u001b[2K\u001b[8A\u001b[2K\u001b[8A\u001b[2K\u001b[8A\u001b[2K\u001b[8A\u001b[2K\u001b[8A\u001b[2K\u001b[8A\u001b[2K\u001b[8A\u001b[2K\u001b[8A\u001b[2K\u001b[8A\u001b[2K\u001b[8A\u001b[2K\u001b[8A\u001b[2K\u001b[8A\u001b[2K\u001b[8A\u001b[2K\u001b[8A\u001b[2K\u001b[8A\u001b[2K\u001b[8A\u001b[2K\u001b[8A\u001b[2K\u001b[8A\u001b[2K\u001b[8A\u001b[2K\u001b[8A\u001b[2K\u001b[8A\u001b[2K\u001b[8A\u001b[2K\u001b[8A\u001b[2K\u001b[8A\u001b[2K\u001b[8A\u001b[2K\u001b[8A\u001b[2K\u001b[8A\u001b[2K\u001b[8A\u001b[2K\u001b[8A\u001b[2K\u001b[8A\u001b[2K\u001b[8A\u001b[2K\u001b[8A\u001b[2K\u001b[8A\u001b[2K\u001b[8A\u001b[2K\u001b[8A\u001b[2K\u001b[8A\u001b[2K\u001b[8A\u001b[2K\u001b[8A\u001b[2K\u001b[8A\u001b[2K\u001b[8A\u001b[2K\u001b[8A\u001b[2K\u001b[8A\u001b[2K\u001b[8A\u001b[2K\u001b[8A\u001b[2K\u001b[8A\u001b[2K\u001b[8A\u001b[2K\u001b[8A\u001b[2K\u001b[8A\u001b[2K\u001b[8A\u001b[2K\u001b[8A\u001b[2K\u001b[8A\u001b[2K\u001b[8A\u001b[2K\u001b[8A\u001b[2K\u001b[8A\u001b[2K\u001b[8A\u001b[2K\u001b[8A\u001b[2K\u001b[8A\u001b[2K\u001b[8A\u001b[2K\u001b[8A\u001b[2K\u001b[8A\u001b[2K\u001b[8A\u001b[2K\u001b[8A\u001b[2K\u001b[8A\u001b[2K\u001b[8A\u001b[2K\u001b[8A\u001b[2K\u001b[8A\u001b[2K\u001b[8A\u001b[2K\u001b[8A\u001b[2K\u001b[8A\u001b[2K\u001b[8A\u001b[2K\u001b[8A\u001b[2K\u001b[8A\u001b[2K\u001b[8A\u001b[2K\u001b[8A\u001b[2K\u001b[8A\u001b[2K\u001b[8A\u001b[2K\u001b[8A\u001b[2K\u001b[8A\u001b[2K\u001b[8A\u001b[2K\u001b[8A\u001b[2K\u001b[8A\u001b[2K\u001b[8A\u001b[2K\u001b[8A\u001b[2K\u001b[8A\u001b[2K\u001b[8A\u001b[2K\u001b[8A\u001b[2K\u001b[8A\u001b[2K\u001b[8A\u001b[2K\u001b[8A\u001b[2K\u001b[8A\u001b[2K\u001b[8A\u001b[2K\u001b[8A\u001b[2K\u001b[8A\u001b[2K\u001b[8A\u001b[2K\u001b[8A\u001b[2K\u001b[8A\u001b[2K\u001b[8A\u001b[2K\u001b[8A\u001b[2K\u001b[8A\u001b[2K\u001b[8A\u001b[2K\u001b[8A\u001b[2K\u001b[8A\u001b[2K\u001b[8A\u001b[2K\u001b[8A\u001b[2K\u001b[8A\u001b[2K\u001b[8A\u001b[2K\u001b[8A\u001b[2K\u001b[8A\u001b[2K\u001b[8A\u001b[2K\u001b[8A\u001b[2K\u001b[8A\u001b[2K\u001b[8A\u001b[2K\u001b[8A\u001b[2K\u001b[8A\u001b[2K\u001b[8A\u001b[2K\u001b[8A\u001b[2K\u001b[8A\u001b[2K\u001b[8A\u001b[2K\u001b[8A\u001b[2K\u001b[8A\u001b[2K\u001b[8A\u001b[2K\u001b[8A\u001b[2K\u001b[8A\u001b[2K\u001b[8A\u001b[2K\u001b[8A\u001b[2K\u001b[8A\u001b[2K\u001b[8A\u001b[2K\u001b[8A\u001b[2K\u001b[8A\u001b[2K\u001b[8A\u001b[2K\u001b[8A\u001b[2K\u001b[8A\u001b[2K\u001b[8A\u001b[2K\u001b[8A\u001b[2K\u001b[8A\u001b[2K\u001b[8A\u001b[2K\u001b[8A\u001b[2K\u001b[8A\u001b[2K\u001b[8A\u001b[2K\u001b[8A\u001b[2K\u001b[8A\u001b[2K\u001b[8A\u001b[2K\u001b[8A\u001b[2K\u001b[8A\u001b[2K\u001b[8A\u001b[2K\u001b[8A\u001b[2K\u001b[8A\u001b[2K\u001b[8A\u001b[2K\u001b[8A\u001b[2K\u001b[8A\u001b[2K\u001b[8A\u001b[2K\u001b[8A\u001b[2K\u001b[8A\u001b[2K\u001b[8A\u001b[2K\u001b[8A\u001b[2K\u001b[8A\u001b[2K\u001b[8A\u001b[2K\u001b[8A\u001b[2K\u001b[8A\u001b[2K\u001b[8A\u001b[2K\u001b[8A\u001b[2K\u001b[8A\u001b[2K\u001b[8A\u001b[2K\u001b[8A\u001b[2K\u001b[8A\u001b[2K\u001b[8A\u001b[2K\u001b[8A\u001b[2K\u001b[8A\u001b[2K\u001b[8A\u001b[2K\u001b[8A\u001b[2K\u001b[8A\u001b[2K\u001b[8A\u001b[2K\u001b[8A\u001b[2K\u001b[8A\u001b[2K\u001b[8A\u001b[2K\u001b[8A\u001b[2K\u001b[8A\u001b[2K\u001b[8A\u001b[2K\u001b[8A\u001b[2K\u001b[8A\u001b[2K\u001b[8A\u001b[2K\u001b[8A\u001b[2K\u001b[8A\u001b[2K\u001b[8A\u001b[2K\u001b[8A\u001b[2K\u001b[7A\u001b[2K\u001b[7A\u001b[2K\u001b[6A\u001b[2K\u001b[5A\u001b[2K\u001b[5A\u001b[2K\u001b[5A\u001b[2K\u001b[5A\u001b[2K\u001b[5A\u001b[2K\u001b[5A\u001b[2K\u001b[5A\u001b[2K\u001b[5A\u001b[2K\u001b[5A\u001b[2K\u001b[5A\u001b[2K\u001b[5A\u001b[2K\u001b[4A\u001b[2K\u001b[3A\u001b[2K\u001b[2A\u001b[2K\u001b[2A\u001b[2K\u001b[2A\u001b[2K\u001b[2A\u001b[2K\u001b[2A\u001b[2K\u001b[2A\u001b[2K\u001b[2A\u001b[2K\u001b[2A\u001b[2K\u001b[2A\u001b[2K\u001b[2A\u001b[2K\u001b[2A\u001b[2K\u001b[2A\u001b[2K\u001b[2A\u001b[2K\u001b[2A\u001b[2K\u001b[2A\u001b[2K\u001b[2A\u001b[2K\u001b[2A\u001b[2K\u001b[2A\u001b[2K\u001b[2A\u001b[2K\u001b[2A\u001b[2K\u001b[2A\u001b[2K\u001b[2A\u001b[2K\u001b[2A\u001b[2K\u001b[2A\u001b[2K\u001b[2A\u001b[2K\u001b[2A\u001b[2K\u001b[2A\u001b[2K\u001b[2A\u001b[2K\u001b[2A\u001b[2K\u001b[2A\u001b[2K\u001b[2A\u001b[2K\u001b[2A\u001b[2K\u001b[2A\u001b[2K\u001b[2A\u001b[2K\u001b[2A\u001b[2K\u001b[2A\u001b[2K\u001b[2A\u001b[2K\u001b[2A\u001b[2K\u001b[2A\u001b[2K\u001b[2A\u001b[2K\u001b[2A\u001b[2K\u001b[2A\u001b[2K\u001b[2A\u001b[2K\u001b[2A\u001b[2K\u001b[2A\u001b[2K\u001b[2A\u001b[2K\u001b[2A\u001b[2K\u001b[2A\u001b[2K\u001b[2A\u001b[2K\u001b[2A\u001b[2K\u001b[2A\u001b[2K\u001b[2A\u001b[2K\u001b[2A\u001b[2K\u001b[2A\u001b[2K\u001b[2A\u001b[2K\u001b[2A\u001b[2K\u001b[2A\u001b[2K\u001b[2A\u001b[2K\u001b[2A\u001b[2K\u001b[2A\u001b[2K\u001b[2A\u001b[2K\u001b[2A\u001b[2K\u001b[2A\u001b[2K\u001b[2A\u001b[2K\u001b[2A\u001b[2K\u001b[2A\u001b[2K\u001b[2A\u001b[2K\u001b[2A\u001b[2K\u001b[2A\u001b[2K\u001b[2A\u001b[2K\u001b[2A\u001b[2K\u001b[2A\u001b[2K\u001b[2A\u001b[2K\u001b[2A\u001b[2K\u001b[2A\u001b[2K\u001b[2A\u001b[2K\u001b[2A\u001b[2K\u001b[2A\u001b[2K\u001b[2A\u001b[2K\u001b[2A\u001b[2K\u001b[2A\u001b[2K\u001b[2A\u001b[2K\u001b[2A\u001b[2K\u001b[2A\u001b[2K\u001b[2A\u001b[2K\u001b[2A\u001b[2K\u001b[2A\u001b[2K\u001b[2A\u001b[2K\u001b[2A\u001b[2K\u001b[2A\u001b[2K\u001b[2A\u001b[2K\u001b[2A\u001b[2K\u001b[2A\u001b[2K\u001b[2A\u001b[2K\u001b[2A\u001b[2K\u001b[2A\u001b[2K\u001b[2A\u001b[2K\u001b[2A\u001b[2K\u001b[2A\u001b[2K\u001b[2A\u001b[2K\u001b[2A\u001b[2K\u001b[2A\u001b[2K\u001b[2A\u001b[2K\u001b[2A\u001b[2K\u001b[2A\u001b[2K\u001b[2A\u001b[2K\u001b[2A\u001b[2K\u001b[2A\u001b[2K\u001b[2A\u001b[2K\u001b[2A\u001b[2K\u001b[2A\u001b[2K\u001b[2A\u001b[2K\u001b[2A\u001b[2K\u001b[2A\u001b[2K\u001b[2A\u001b[2K\u001b[2A\u001b[2K\u001b[2A\u001b[2K\u001b[2A\u001b[2K\u001b[2A\u001b[2K\u001b[2A\u001b[2K\u001b[2A\u001b[2K\u001b[2A\u001b[2K\u001b[2A\u001b[2K\u001b[2A\u001b[2K\u001b[2A\u001b[2K\u001b[2A\u001b[2K\u001b[2A\u001b[2K\u001b[2A\u001b[2K\u001b[2A\u001b[2K\u001b[2A\u001b[2K\u001b[2A\u001b[2K\u001b[2A\u001b[2K\u001b[2A\u001b[2K\u001b[2A\u001b[2K\u001b[2A\u001b[2K\u001b[2A\u001b[2K\u001b[2A\u001b[2K\u001b[2A\u001b[2K\u001b[2A\u001b[2K\u001b[2A\u001b[2K\u001b[2A\u001b[2K\u001b[2A\u001b[2K\u001b[2A\u001b[2K\u001b[2A\u001b[2K\u001b[2A\u001b[2K\u001b[2A\u001b[2K\u001b[2A\u001b[2K\u001b[2A\u001b[2K\u001b[2A\u001b[2K\u001b[2A\u001b[2K\u001b[2A\u001b[2K\u001b[2A\u001b[2K\u001b[2A\u001b[2K\u001b[2A\u001b[2K\u001b[2A\u001b[2K\u001b[2A\u001b[2K\u001b[2A\u001b[2K\u001b[2A\u001b[2K\u001b[2A\u001b[2K\u001b[2A\u001b[2K\u001b[2A\u001b[2K\u001b[2A\u001b[2K\u001b[2A\u001b[2K\u001b[2A\u001b[2K\u001b[2A\u001b[2K\u001b[2A\u001b[2K\u001b[2A\u001b[2K\u001b[2A\u001b[2K\u001b[2A\u001b[2K\u001b[2A\u001b[2K\u001b[2A\u001b[2K\u001b[2A\u001b[2K\u001b[2A\u001b[2K\u001b[2A\u001b[2K\u001b[2A\u001b[2K\u001b[2A\u001b[2K\u001b[2A\u001b[2K\u001b[2A\u001b[2K\u001b[2A\u001b[2K\u001b[2A\u001b[2K\u001b[2A\u001b[2K\u001b[2A\u001b[2K\u001b[2A\u001b[2K\u001b[2A\u001b[2K\u001b[2A\u001b[2K\u001b[2A\u001b[2K\u001b[2A\u001b[2K\u001b[2A\u001b[2K\u001b[2A\u001b[2K\u001b[2A\u001b[2K\u001b[2A\u001b[2K\u001b[2A\u001b[2K\u001b[2A\u001b[2K\u001b[2A\u001b[2K\u001b[2A\u001b[2K\u001b[2A\u001b[2K\u001b[2A\u001b[2K\u001b[1A\u001b[2K\n",
      "Status: Downloaded newer image for gcr.io/able-analyst-416817/gemma-chatbot-fine-tunning:latest\n",
      "2024-03-18 16:48:13.942487: I tensorflow/core/util/port.cc:113] oneDNN custom operations are on. You may see slightly different numerical results due to floating-point round-off errors from different computation orders. To turn them off, set the environment variable `TF_ENABLE_ONEDNN_OPTS=0`.\n",
      "2024-03-18 16:48:14.004831: I tensorflow/core/platform/cpu_feature_guard.cc:210] This TensorFlow binary is optimized to use available CPU instructions in performance-critical operations.\n",
      "To enable the following instructions: AVX2 AVX512F AVX512_VNNI FMA, in other operations, rebuild TensorFlow with the appropriate compiler flags.\n",
      "2024-03-18 16:48:15.165231: W tensorflow/compiler/tf2tensorrt/utils/py_utils.cc:38] TF-TRT Warning: Could not find TensorRT\n",
      "Downloading from https://www.kaggle.com/api/v1/models/keras/gemma/keras/gemma_2b_en/2/download/config.json...\n",
      "<class 'list'> ['[\"Sender: FoooodddAndres Perez: Coming :)\", \"Sender: Can I maybe borrow your iron? Andres Perez: It\\'s not my iron But yeah haha Or is it?\"]']\n",
      "<class 'str'> {'finetuned_model_dir': './gemma_2b_en', 'finetuned_weights_path': './gemma_2b_en/model.weights.h5'}\n",
      "Hasta aqui jala\n",
      "andrehpereh1\n",
      "5859e39806d9456749dcbac685f04bc9\n",
      "100%|██████████| 555/555 [00:00<00:00, 1.91MB/s]\n",
      "Downloading from https://www.kaggle.com/api/v1/models/keras/gemma/keras/gemma_2b_en/2/download/model.weights.h5...\n",
      "100%|██████████| 4.67G/4.67G [00:49<00:00, 101MB/s] \n",
      "Downloading from https://www.kaggle.com/api/v1/models/keras/gemma/keras/gemma_2b_en/2/download/tokenizer.json...\n",
      "100%|██████████| 401/401 [00:00<00:00, 1.15MB/s]\n",
      "Downloading from https://www.kaggle.com/api/v1/models/keras/gemma/keras/gemma_2b_en/2/download/assets/tokenizer/vocabulary.spm...\n",
      "100%|██████████| 4.04M/4.04M [00:00<00:00, 16.1MB/s]\n",
      "normalizer.cc(51) LOG(INFO) precompiled_charsmap is empty. use identity normalization.\n",
      "Aqui ya no\n",
      "Preprocessor: \"gemma_causal_lm_preprocessor\"\n",
      "┏━━━━━━━━━━━━━━━━━━━━━━━━━━━━━━━━━━━━━━━━━━━━━━━━━━━━┳━━━━━━━━━━━━━━━━━━━━━━━━━━\n",
      "┃ Tokenizer (type)                                   ┃                          \n",
      "┡━━━━━━━━━━━━━━━━━━━━━━━━━━━━━━━━━━━━━━━━━━━━━━━━━━━━╇━━━━━━━━━━━━━━━━━━━━━━━━━━\n",
      "│ gemma_tokenizer (GemmaTokenizer)                   │                          \n",
      "└────────────────────────────────────────────────────┴──────────────────────────\n",
      "Model: \"gemma_causal_lm\"\n",
      "┏━━━━━━━━━━━━━━━━━━━━━━━━━━━━━━━┳━━━━━━━━━━━━━━━━━━━━━━━━━━━┳━━━━━━━━━━━━━━━━━┳━\n",
      "┃ Layer (type)                  ┃ Output Shape              ┃         Param # ┃ \n",
      "┡━━━━━━━━━━━━━━━━━━━━━━━━━━━━━━━╇━━━━━━━━━━━━━━━━━━━━━━━━━━━╇━━━━━━━━━━━━━━━━━╇━\n",
      "│ padding_mask (InputLayer)     │ (None, None)              │               0 │ \n",
      "├───────────────────────────────┼───────────────────────────┼─────────────────┼─\n",
      "│ token_ids (InputLayer)        │ (None, None)              │               0 │ \n",
      "├───────────────────────────────┼───────────────────────────┼─────────────────┼─\n",
      "│ gemma_backbone                │ (None, None, 2048)        │   2,506,172,416 │ \n",
      "│ (GemmaBackbone)               │                           │                 │ \n",
      "├───────────────────────────────┼───────────────────────────┼─────────────────┼─\n",
      "│ token_embedding               │ (None, None, 256000)      │     524,288,000 │ \n",
      "│ (ReversibleEmbedding)         │                           │                 │ \n",
      "└───────────────────────────────┴───────────────────────────┴─────────────────┴─\n",
      " Total params: 2,506,172,416 (9.34 GB)\n",
      " Trainable params: 2,506,172,416 (9.34 GB)\n",
      " Non-trainable params: 0 (0.00 B)\n",
      "Preprocessor: \"gemma_causal_lm_preprocessor\"\n",
      "┏━━━━━━━━━━━━━━━━━━━━━━━━━━━━━━━━━━━━━━━━━━━━━━━━━━━━┳━━━━━━━━━━━━━━━━━━━━━━━━━━\n",
      "┃ Tokenizer (type)                                   ┃                          \n",
      "┡━━━━━━━━━━━━━━━━━━━━━━━━━━━━━━━━━━━━━━━━━━━━━━━━━━━━╇━━━━━━━━━━━━━━━━━━━━━━━━━━\n",
      "│ gemma_tokenizer (GemmaTokenizer)                   │                          \n",
      "└────────────────────────────────────────────────────┴──────────────────────────\n",
      "Model: \"gemma_causal_lm\"\n",
      "┏━━━━━━━━━━━━━━━━━━━━━━━━━━━━━━━┳━━━━━━━━━━━━━━━━━━━━━━━━━━━┳━━━━━━━━━━━━━━━━━┳━\n",
      "┃ Layer (type)                  ┃ Output Shape              ┃         Param # ┃ \n",
      "┡━━━━━━━━━━━━━━━━━━━━━━━━━━━━━━━╇━━━━━━━━━━━━━━━━━━━━━━━━━━━╇━━━━━━━━━━━━━━━━━╇━\n",
      "│ padding_mask (InputLayer)     │ (None, None)              │               0 │ \n",
      "├───────────────────────────────┼───────────────────────────┼─────────────────┼─\n",
      "│ token_ids (InputLayer)        │ (None, None)              │               0 │ \n",
      "├───────────────────────────────┼───────────────────────────┼─────────────────┼─\n",
      "│ gemma_backbone                │ (None, None, 2048)        │   2,508,218,368 │ \n",
      "│ (GemmaBackbone)               │                           │                 │ \n",
      "├───────────────────────────────┼───────────────────────────┼─────────────────┼─\n",
      "│ token_embedding               │ (None, None, 256000)      │     524,288,000 │ \n",
      "│ (ReversibleEmbedding)         │                           │                 │ \n",
      "└───────────────────────────────┴───────────────────────────┴─────────────────┴─\n",
      " Total params: 2,508,218,368 (9.34 GB)\n",
      " Trainable params: 2,045,952 (7.80 MB)\n",
      " Non-trainable params: 2,506,172,416 (9.34 GB)\n",
      "Epoch 1/2\n",
      "2024-03-18 16:49:51.191701: E tensorflow/core/util/util.cc:131] oneDNN supports DT_INT64 only on platforms with AVX-512. Falling back to the default Eigen-based implementation if present.\n",
      "WARNING: All log messages before absl::InitializeLog() is called are written to STDERR\n",
      "I0000 00:00:1710780613.826860      38 service.cc:145] XLA service 0x7f8770013960 initialized for platform Host (this does not guarantee that XLA will be used). Devices:\n",
      "I0000 00:00:1710780613.826908      38 service.cc:153]   StreamExecutor device (0): Host, Default Version\n",
      "2024-03-18 16:50:14.618130: I tensorflow/compiler/mlir/tensorflow/utils/dump_mlir_util.cc:268] disabling MLIR crash reproducer, set env var `MLIR_CRASH_REPRODUCER_DIRECTORY` to enable.\n",
      "W0000 00:00:1710780616.532369      38 assert_op.cc:38] Ignoring Assert operator compile_loss/sparse_categorical_crossentropy/SparseSoftmaxCrossEntropyWithLogits/assert_equal_1/Assert/Assert\n",
      "I0000 00:00:1710780656.984836      38 device_compiler.h:188] Compiled cluster using XLA!  This line is logged at most once for the lifetime of the process.\n",
      "\u001b[1m1/1\u001b[0m \u001b[32m━━━━━━━━━━━━━━━━━━━━\u001b[0m\u001b[37m\u001b[0m \u001b[1m75s\u001b[0m 75s/step - loss: 0.8387 - sparse_categorical_accuracy: 0.2750\n",
      "Epoch 2/2\n",
      "\u001b[1m1/1\u001b[0m \u001b[32m━━━━━━━━━━━━━━━━━━━━\u001b[0m\u001b[37m\u001b[0m \u001b[1m8s\u001b[0m 8s/step - loss: 0.8370 - sparse_categorical_accuracy: 0.2750\n",
      "Saving model in  ./gemma_2b_en\n"
     ]
    }
   ],
   "source": [
    "import json\n",
    "data = '\"[\\\\\"Sender: FoooodddAndres Perez: Coming :)\\\\\", \\\\\"Sender: Can I maybe borrow your iron? Andres Perez: It\\'s not my iron But yeah haha Or is it?\\\\\"]\"'\n",
    "model_paths = \"\"\"{\"finetuned_model_dir\": \"./gemma_2b_en\", \"finetuned_weights_path\": \"./gemma_2b_en/model.weights.h5\"}\"\"\"\n",
    "\n",
    "#!docker run gcr.io/able-analyst-416817/gemma-chatbot-fine-tunning:latest import test_container \"test_container.add_test('[a, b]', {'a': \"b\"})\"\n",
    "\n",
    "!docker run gcr.io/able-analyst-416817/gemma-chatbot-fine-tunning:latest trainer.py --data {data} --model-paths {model_paths_json}"
   ]
  },
  {
   "cell_type": "code",
   "execution_count": 61,
   "id": "d2d84c44-c65c-4ae1-9a4c-6d293f139495",
   "metadata": {
    "tags": []
   },
   "outputs": [
    {
     "ename": "TypeError",
     "evalue": "string indices must be integers",
     "output_type": "error",
     "traceback": [
      "\u001b[0;31m---------------------------------------------------------------------------\u001b[0m",
      "\u001b[0;31mTypeError\u001b[0m                                 Traceback (most recent call last)",
      "Cell \u001b[0;32mIn[61], line 1\u001b[0m\n\u001b[0;32m----> 1\u001b[0m \u001b[43mmodel_paths\u001b[49m\u001b[43m[\u001b[49m\u001b[38;5;124;43m'\u001b[39;49m\u001b[38;5;124;43mfinetuned_weights_path\u001b[39;49m\u001b[38;5;124;43m'\u001b[39;49m\u001b[43m]\u001b[49m\n",
      "\u001b[0;31mTypeError\u001b[0m: string indices must be integers"
     ]
    }
   ],
   "source": [
    "model_paths['finetuned_weights_path']"
   ]
  },
  {
   "cell_type": "code",
   "execution_count": 185,
   "id": "e6404c6c-d998-4253-bbf3-3f83b29abe94",
   "metadata": {
    "tags": []
   },
   "outputs": [
    {
     "name": "stdout",
     "output_type": "stream",
     "text": [
      "_CONTAINER_IMAGE_NAME=gemma-chatbot-experimental,TAG_NAME=latest\n",
      "3\n",
      "experimental.py <class 'str'>\n",
      "\"[\\\"Sender: FoooodddAndres Perez: Coming :)\\\", \\\"Sender: Can I maybe borrow your iron? Andres Perez: It's not my iron But yeah haha Or is it?\\\"]\" <class 'str'>\n",
      "{\"finetuned_model_dir\": \"./gemma_2b_en\", \"finetuned_weights_path\": \"./gemma_2b_en/model.weights.h5\"} <class 'str'>\n",
      "This is type param1 <class 'str'>\n",
      "<class 'dict'>\n",
      "<class 'str'>\n",
      "<class 'str'>\n",
      "Jalo todo bien\n"
     ]
    }
   ],
   "source": [
    "import json\n",
    "SUBSTITUTIONS=\"\"\"\n",
    "_CONTAINER_IMAGE_NAME={},\\\n",
    "TAG_NAME={}\\\n",
    "\"\"\".format(\n",
    "           f\"{CONTAINER_IMAGE_NAME}-experimental\",\n",
    "           TAG_NAME,\n",
    "           ).strip()\n",
    "print(SUBSTITUTIONS)\n",
    "data = '\"[\\\\\"Sender: FoooodddAndres Perez: Coming :)\\\\\", \\\\\"Sender: Can I maybe borrow your iron? Andres Perez: It\\'s not my iron But yeah haha Or is it?\\\\\"]\"'\n",
    "model_paths = \"\"\"{\"finetuned_model_dir\": \"./gemma_2b_en\", \"finetuned_weights_path\": \"./gemma_2b_en/model.weights.h5\"}\"\"\"\n",
    "data_json = json.dumps(data)\n",
    "model_paths_json = json.dumps(model_paths)\n",
    "#!gcloud builds submit . --timeout=15m --config \"components/experimental/cloudbuild.yaml\" --substitutions {SUBSTITUTIONS} --region={GCP_REGION}\n",
    "!docker run gcr.io/able-analyst-416817/gemma-chatbot-experimental:latest experimental.py {data_json} {model_paths_json}\n"
   ]
  },
  {
   "cell_type": "code",
   "execution_count": 13,
   "id": "bff6c518-79e1-4ec6-a832-39ae6f364ed6",
   "metadata": {
    "tags": []
   },
   "outputs": [
    {
     "name": "stdout",
     "output_type": "stream",
     "text": [
      "_CONTAINER_IMAGE_NAME=gemma-chatbot-fine-tunning,_GCP_REGION=us-central1,TAG_NAME=latest\n"
     ]
    }
   ],
   "source": [
    "#Re-runs the image to restart the website, service account might be needed with this one.  (Development, when tested should be moved to the main cloudbuild in the project folder)\n",
    "SUBSTITUTIONS=\"\"\"\n",
    "_CONTAINER_IMAGE_NAME={},\\\n",
    "_GCP_REGION={},\\\n",
    "TAG_NAME={}\\\n",
    "\"\"\".format(\n",
    "           f\"{CONTAINER_IMAGE_NAME}-running-app\",\n",
    "           GCP_REGION,\n",
    "           TAG_NAME, \n",
    "           ).strip()\n",
    "print(SUBSTITUTIONS)\n",
    "!gcloud builds submit . --timeout=15m --config \"components/app_flask/cloudbuild.yaml\" --substitutions {SUBSTITUTIONS} --region={GCP_REGION}\n",
    "!gcloud builds submit . --timeout=15m --config \"cloudbuild.yaml\" --substitutions {SUBSTITUTIONS} --region={GCP_REGION}\n"
   ]
  },
  {
   "cell_type": "code",
   "execution_count": null,
   "id": "30e1cae7-c300-4cd1-aa97-c7fef2efaa5a",
   "metadata": {
    "tags": []
   },
   "outputs": [],
   "source": []
  },
  {
   "cell_type": "code",
   "execution_count": null,
   "id": "4b05aa3f-9a40-41db-8553-b65d7dee4352",
   "metadata": {
    "tags": []
   },
   "outputs": [],
   "source": [
    "SUBSTITUTIONS=\"\"\"\n",
    "_CONTAINER_IMAGE_NAME={},\\\n",
    "_GCP_REGION={},\\\n",
    "TAG_NAME={}\\\n",
    "\"\"\".format(\n",
    "           f\"{CONTAINER_IMAGE_NAME}-running-app\",\n",
    "           GCP_REGION,\n",
    "           TAG_NAME, \n",
    "           ).strip()\n",
    "print(SUBSTITUTIONS)\n",
    "!gcloud builds submit . --timeout=15m --config \"components/app_flask/cloudbuild.yaml\" --substitutions {SUBSTITUTIONS} --region={GCP_REGION}\n",
    "!gcloud builds submit . --timeout=15m --config \"cloudbuild.yaml\" --substitutions {SUBSTITUTIONS} --region={GCP_REGION}"
   ]
  },
  {
   "cell_type": "code",
   "execution_count": null,
   "id": "8cb10f3c-b135-470b-a74b-0c825e0f0761",
   "metadata": {},
   "outputs": [],
   "source": []
  },
  {
   "cell_type": "code",
   "execution_count": null,
   "id": "e0aa1979-e2f1-41ce-a3f4-bab8465866e5",
   "metadata": {
    "tags": []
   },
   "outputs": [],
   "source": []
  },
  {
   "cell_type": "code",
   "execution_count": 5,
   "id": "53b974a3-cab2-425e-bfc5-dcb01d45b5ba",
   "metadata": {
    "tags": []
   },
   "outputs": [],
   "source": [
    "from config import Config\n",
    "from util import get_model_paths_and_config, upload2bs\n",
    "\n",
    "res = !gcloud config get core/project\n",
    "PROJECT_ID = res[0]\n",
    "from google.cloud import compute_v1\n",
    "\n",
    "project = PROJECT_ID  # Replace with your project ID\n",
    "\n",
    "# Regions to consider\n",
    "regions = [\"us-central1\", \"europe-west4\", \"asia-east1\"]  \n",
    "\n",
    "client = compute_v1.AcceleratorTypesClient()\n",
    "\n",
    "for region in regions:\n",
    "    zone_client = compute_v1.ZonesClient()\n",
    "    all_zones = zone_client.list(project=project)\n",
    "\n",
    "    zone_list = [zone for zone in all_zones if zone.region == f\"regions/{region}\"]\n",
    "\n",
    "    for zone in zone_list:\n",
    "        result = client.describe(\n",
    "            project=project, zone=zone.name, accelerator_type=\"nvidia-l4\"\n",
    "        )\n",
    "        # If the result isn't an error, the 'nvidia-l4' type is available\n",
    "        GCP_REGION = region  # Update your region variable\n",
    "        break "
   ]
  },
  {
   "cell_type": "code",
   "execution_count": 6,
   "id": "11402c19-d1b8-4b8c-a959-932ca09fcf18",
   "metadata": {
    "tags": []
   },
   "outputs": [
    {
     "name": "stdout",
     "output_type": "stream",
     "text": [
      "12:24:11.294 - INFO - Executing task \u001b[96m'add'\u001b[0m\n",
      "12:24:11.295 - INFO - Streamed logs:\n",
      "\n"
     ]
    },
    {
     "name": "stderr",
     "output_type": "stream",
     "text": [
      "/opt/conda/lib/python3.10/site-packages/kfp/dsl/component_decorator.py:119: FutureWarning: Python 3.7 has reached end-of-life. The default base_image used by the @dsl.component decorator will switch from 'python:3.7' to 'python:3.8' on April 23, 2024. To ensure your existing components work with versions of the KFP SDK released after that date, you should provide an explicit base_image argument and ensure your component works as intended on Python 3.8.\n",
      "  return component_factory.create_component_from_func(\n"
     ]
    },
    {
     "name": "stdout",
     "output_type": "stream",
     "text": [
      "    Pulling image 'python:3.7'\n",
      "    Image pull complete\n",
      "\n",
      "    WARNING: Running pip as the 'root' user can result in broken permissions and conflicting behaviour with the system package manager. It is recommended to use a virtual environment instead: https://pip.pypa.io/warnings/venv\n",
      "    [KFP Executor 2024-03-19 12:24:40,053 INFO]: Looking for component `add` in --component_module_path `/tmp/tmp.EOYBBcdz35/ephemeral_component.py`\n",
      "    [KFP Executor 2024-03-19 12:24:40,053 INFO]: Loading KFP component \"add\" from /tmp/tmp.EOYBBcdz35/ephemeral_component.py (directory \"/tmp/tmp.EOYBBcdz35\" and module name \"ephemeral_component\")\n",
      "    [KFP Executor 2024-03-19 12:24:40,054 INFO]: Got executor_input:\n",
      "    {\n",
      "        \"inputs\": {\n",
      "            \"parameterValues\": {\n",
      "                \"a\": 1,\n",
      "                \"b\": 2\n",
      "            }\n",
      "        },\n",
      "        \"outputs\": {\n",
      "            \"parameters\": {\n",
      "                \"Output\": {\n",
      "                    \"outputFile\": \"/home/jupyter/chatbot/local_outputs/add-2024-03-19-12-24-11-294086/add/Output\"\n",
      "                }\n",
      "            },\n",
      "            \"outputFile\": \"/home/jupyter/chatbot/local_outputs/add-2024-03-19-12-24-11-294086/add/executor_output.json\"\n",
      "        }\n",
      "    }\n",
      "    /usr/local/lib/python3.7/runpy.py:109: FutureWarning: Python 3.7 has reached end-of-life. KFP will drop support for Python 3.7 on April 23, 2024. To use new versions of the KFP SDK after that date, you will need to upgrade to Python >= 3.8. See https://devguide.python.org/versions/ for more details.\n",
      "      __import__(pkg_name)\n",
      "    [KFP Executor 2024-03-19 12:24:40,074 INFO]: Wrote executor output file to /home/jupyter/chatbot/local_outputs/add-2024-03-19-12-24-11-294086/add/executor_output.json.\n",
      "12:24:40.282 - INFO - Task \u001b[96m'add'\u001b[0m finished with status \u001b[92mSUCCESS\u001b[0m\n",
      "12:24:40.285 - INFO - Task \u001b[96m'add'\u001b[0m outputs:\n",
      "    Output: 3\n",
      "--------------------------------------------------------------------------------\n",
      "12:24:40.290 - INFO - Running pipeline: \u001b[95m'math-pipeline'\u001b[0m\n",
      "--------------------------------------------------------------------------------\n",
      "12:24:40.292 - INFO - Executing task \u001b[96m'add'\u001b[0m\n",
      "12:24:40.293 - INFO - Streamed logs:\n",
      "\n",
      "    Found image 'python:3.7'\n",
      "\n",
      "    WARNING: Running pip as the 'root' user can result in broken permissions and conflicting behaviour with the system package manager. It is recommended to use a virtual environment instead: https://pip.pypa.io/warnings/venv\n",
      "    [KFP Executor 2024-03-19 12:24:45,739 INFO]: Looking for component `add` in --component_module_path `/tmp/tmp.WTI6AJHdMW/ephemeral_component.py`\n",
      "    [KFP Executor 2024-03-19 12:24:45,739 INFO]: Loading KFP component \"add\" from /tmp/tmp.WTI6AJHdMW/ephemeral_component.py (directory \"/tmp/tmp.WTI6AJHdMW\" and module name \"ephemeral_component\")\n",
      "    [KFP Executor 2024-03-19 12:24:45,740 INFO]: Got executor_input:\n",
      "    {\n",
      "        \"inputs\": {\n",
      "            \"parameterValues\": {\n",
      "                \"b\": 2,\n",
      "                \"a\": 1\n",
      "            }\n",
      "        },\n",
      "        \"outputs\": {\n",
      "            \"parameters\": {\n",
      "                \"Output\": {\n",
      "                    \"outputFile\": \"/home/jupyter/chatbot/local_outputs/math-pipeline-2024-03-19-12-24-40-289852/add/Output\"\n",
      "                }\n",
      "            },\n",
      "            \"outputFile\": \"/home/jupyter/chatbot/local_outputs/math-pipeline-2024-03-19-12-24-40-289852/add/executor_output.json\"\n",
      "        }\n",
      "    }\n",
      "    [KFP Executor 2024-03-19 12:24:45,741 INFO]: Wrote executor output file to /home/jupyter/chatbot/local_outputs/math-pipeline-2024-03-19-12-24-40-289852/add/executor_output.json.\n",
      "    /usr/local/lib/python3.7/runpy.py:109: FutureWarning: Python 3.7 has reached end-of-life. KFP will drop support for Python 3.7 on April 23, 2024. To use new versions of the KFP SDK after that date, you will need to upgrade to Python >= 3.8. See https://devguide.python.org/versions/ for more details.\n",
      "      __import__(pkg_name)\n",
      "12:24:45.960 - INFO - Task \u001b[96m'add'\u001b[0m finished with status \u001b[92mSUCCESS\u001b[0m\n",
      "12:24:45.962 - INFO - Task \u001b[96m'add'\u001b[0m outputs:\n",
      "    Output: 3\n",
      "--------------------------------------------------------------------------------\n",
      "12:24:45.964 - INFO - Executing task \u001b[96m'add-2'\u001b[0m\n",
      "12:24:45.965 - INFO - Streamed logs:\n",
      "\n",
      "    Found image 'python:3.7'\n",
      "\n",
      "    WARNING: Running pip as the 'root' user can result in broken permissions and conflicting behaviour with the system package manager. It is recommended to use a virtual environment instead: https://pip.pypa.io/warnings/venv\n",
      "    [KFP Executor 2024-03-19 12:24:51,419 INFO]: Looking for component `add` in --component_module_path `/tmp/tmp.krxiNg32tG/ephemeral_component.py`\n",
      "    [KFP Executor 2024-03-19 12:24:51,419 INFO]: Loading KFP component \"add\" from /tmp/tmp.krxiNg32tG/ephemeral_component.py (directory \"/tmp/tmp.krxiNg32tG\" and module name \"ephemeral_component\")\n",
      "    [KFP Executor 2024-03-19 12:24:51,420 INFO]: Got executor_input:\n",
      "    {\n",
      "        \"inputs\": {\n",
      "            \"parameterValues\": {\n",
      "                \"a\": 3,\n",
      "                \"b\": 3\n",
      "            }\n",
      "        },\n",
      "        \"outputs\": {\n",
      "            \"parameters\": {\n",
      "                \"Output\": {\n",
      "                    \"outputFile\": \"/home/jupyter/chatbot/local_outputs/math-pipeline-2024-03-19-12-24-40-289852/add-2/Output\"\n",
      "                }\n",
      "            },\n",
      "            \"outputFile\": \"/home/jupyter/chatbot/local_outputs/math-pipeline-2024-03-19-12-24-40-289852/add-2/executor_output.json\"\n",
      "        }\n",
      "    }\n",
      "    [KFP Executor 2024-03-19 12:24:51,458 INFO]: Wrote executor output file to /home/jupyter/chatbot/local_outputs/math-pipeline-2024-03-19-12-24-40-289852/add-2/executor_output.json.\n",
      "    /usr/local/lib/python3.7/runpy.py:109: FutureWarning: Python 3.7 has reached end-of-life. KFP will drop support for Python 3.7 on April 23, 2024. To use new versions of the KFP SDK after that date, you will need to upgrade to Python >= 3.8. See https://devguide.python.org/versions/ for more details.\n",
      "      __import__(pkg_name)\n",
      "12:24:51.735 - INFO - Task \u001b[96m'add-2'\u001b[0m finished with status \u001b[92mSUCCESS\u001b[0m\n",
      "12:24:51.737 - INFO - Task \u001b[96m'add-2'\u001b[0m outputs:\n",
      "    Output: 6\n",
      "--------------------------------------------------------------------------------\n",
      "12:24:51.739 - INFO - Pipeline \u001b[95m'math-pipeline'\u001b[0m finished with status \u001b[92mSUCCESS\u001b[0m\n"
     ]
    }
   ],
   "source": [
    "from kfp import local\n",
    "from kfp import dsl\n",
    "\n",
    "local.init(runner=local.DockerRunner())\n",
    "\n",
    "@dsl.component\n",
    "def add(a: int, b: int) -> int:\n",
    "    return a + b\n",
    "\n",
    "# run a single component\n",
    "task = add(a=1, b=2)\n",
    "assert task.output == 3\n",
    "\n",
    "# or run it in a pipeline\n",
    "@dsl.pipeline\n",
    "def math_pipeline(x: int, y: int, z: int) -> int:\n",
    "    t1 = add(a=x, b=y)\n",
    "    t2 = add(a=t1.output, b=z)\n",
    "    return t2.output\n",
    "\n",
    "pipeline_task = math_pipeline(x=1, y=2, z=3)\n",
    "assert pipeline_task.output == 6"
   ]
  },
  {
   "cell_type": "code",
   "execution_count": 36,
   "id": "5cf7ac36-bc0e-4e00-928f-1c7247b9685e",
   "metadata": {
    "tags": []
   },
   "outputs": [],
   "source": []
  },
  {
   "cell_type": "code",
   "execution_count": 37,
   "id": "09398956-e97e-411b-a1fe-9e05ff61e6d9",
   "metadata": {
    "tags": []
   },
   "outputs": [],
   "source": []
  },
  {
   "cell_type": "code",
   "execution_count": null,
   "id": "dafdfdea-c57b-4a26-ac5f-2775ff291bbb",
   "metadata": {
    "tags": []
   },
   "outputs": [],
   "source": []
  },
  {
   "cell_type": "code",
   "execution_count": null,
   "id": "fed69c43-8407-460b-bd2d-1ac0ed39a610",
   "metadata": {},
   "outputs": [],
   "source": []
  }
 ],
 "metadata": {
  "environment": {
   "kernel": "python3",
   "name": "tf2-gpu.2-15.m118",
   "type": "gcloud",
   "uri": "us-docker.pkg.dev/deeplearning-platform-release/gcr.io/tf2-gpu.2-15:m118"
  },
  "kernelspec": {
   "display_name": "Python 3",
   "language": "python",
   "name": "python3"
  },
  "language_info": {
   "codemirror_mode": {
    "name": "ipython",
    "version": 3
   },
   "file_extension": ".py",
   "mimetype": "text/x-python",
   "name": "python",
   "nbconvert_exporter": "python",
   "pygments_lexer": "ipython3",
   "version": "3.10.13"
  }
 },
 "nbformat": 4,
 "nbformat_minor": 5
}
