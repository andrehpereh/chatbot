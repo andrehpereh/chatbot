{
 "cells": [
  {
   "cell_type": "code",
   "execution_count": 47,
   "id": "8b5ec7c1-1e80-4be7-9d73-043bbbb9b4e8",
   "metadata": {},
   "outputs": [
    {
     "name": "stdout",
     "output_type": "stream",
     "text": [
      "able-analyst-416817\n"
     ]
    }
   ],
   "source": [
    "import os\n",
    "os.environ['PROJECT_ID'] = 'able-analyst-416817'\n",
    "print(os.environ.get('PROJECT_ID'))"
   ]
  },
  {
   "cell_type": "code",
   "execution_count": 57,
   "id": "56ea9444-bd83-44e8-8cd3-7fa40cae015e",
   "metadata": {
    "tags": []
   },
   "outputs": [],
   "source": [
    "res = !gcloud config get core/project\n",
    "PROJECT_ID = res[0]\n",
    "SERVICE_ACCOUNT = 'gemma-vertexai-chatbot@able-analyst-416817.iam.gserviceaccount.com'\n",
    "from datetime import datetime\n",
    "CONTAINER_IMAGE_NAME=\"gemma-chatbot\"\n",
    "GCP_REGION='us-central1'\n",
    "TAG_NAME = 'latest'\n",
    "KAGGLE_USERNAME='andrehpereh1'\n",
    "KAGGLE_KEY='5859e39806d9456749dcbac685f04bc9'\n",
    "CONTAINER_IMAGE_NAME_DATA_PREP = f\"{CONTAINER_IMAGE_NAME}-data-preparation\"\n",
    "CONTAINER_IMAGE_NAME_FINE_TUNE = f\"{CONTAINER_IMAGE_NAME}-fine-tunning\"\n",
    "CONTAINER_IMAGE_NAME_RUN_APP = f\"{CONTAINER_IMAGE_NAME}-running-app\"\n",
    "CONTAINER_IMAGE_NAME_PIPELINE = f\"{CONTAINER_IMAGE_NAME}-pipeline-app\"\n",
    "CONTAINER_IMAGE_RUNNING_APP = f\"{CONTAINER_IMAGE_NAME}-running-app\"\n",
    "BUCKET_NAME = 'able-analyst-416817-chatbot-v1'\n",
    "# BUCKET_URI = f\"gs://{BUCKET_NAME}\"\n",
    "FINE_TUNE_FLAG=  False\n",
    "EPOCHS=12\n",
    "MODEL_NAME=\"gemma_2b_en\"\n"
   ]
  },
  {
   "cell_type": "code",
   "execution_count": 12,
   "id": "5f4acc04-293c-4e1f-889a-efd74f3e143f",
   "metadata": {
    "tags": []
   },
   "outputs": [
    {
     "name": "stdout",
     "output_type": "stream",
     "text": [
      "jhdbcjd\n",
      "cdsac/\n"
     ]
    }
   ],
   "source": [
    "user = os.getenv(\"USER_NAME\", \"\")\n",
    "print(os.path.join(user , \"jhdbcjd\"))\n",
    "print(os.path.join(\"cdsac\", user))\n"
   ]
  },
  {
   "cell_type": "code",
   "execution_count": null,
   "id": "4efb8fdb-fb38-41b2-adec-c23e82577771",
   "metadata": {},
   "outputs": [],
   "source": [
    "substitutions=\"\"\"\n",
    "_CONTAINER_IMAGE_NAME_DATA_PREP={},\\\n",
    "TAG_NAME={}\\\n",
    "\"\"\".format(\n",
    "           CONTAINER_IMAGE_NAME_DATA_PREP,\n",
    "           TAG_NAME, \n",
    "           ).strip()\n",
    "print(substitutions)\n",
    "\n",
    "# Runs the data_preparation component image. (Development, when tested should be moved to the main cloudbuild in the project folder)\n",
    "# Pay attention to the \".\" after summit. Might need some changes when move to the master pipeline.\n",
    "!gcloud builds submit . --timeout=15m --config \"components/data_preparation/cloudbuild.yaml\" --substitutions {substitutions} --region={GCP_REGION}\n",
    "# DO not forget the tag"
   ]
  },
  {
   "cell_type": "code",
   "execution_count": null,
   "id": "5e348a00-9742-41d7-b16f-3b1538dc6672",
   "metadata": {},
   "outputs": [],
   "source": [
    "#!docker run gcr.io/able-analyst-416817/gemma-chatbot-data-preparation:latest data_ingestion.py --bucket-name 'able-analyst-416817-chatbot-v1' --directory 'input_data/andrehpereh'"
   ]
  },
  {
   "cell_type": "code",
   "execution_count": null,
   "id": "f92bc864-cf50-48d3-b50f-d781d6598660",
   "metadata": {},
   "outputs": [],
   "source": []
  },
  {
   "cell_type": "code",
   "execution_count": null,
   "id": "0cfb1a23-f805-4f92-9146-16cb101a4d52",
   "metadata": {},
   "outputs": [],
   "source": [
    "substitutions=\"\"\"\n",
    "_CONTAINER_IMAGE_NAME_FINE_TUNE={},\\\n",
    "_KAGGLE_USERNAME={},\\\n",
    "_KAGGLE_KEY={},\\\n",
    "TAG_NAME={}\\\n",
    "\"\"\".format(\n",
    "           CONTAINER_IMAGE_NAME_FINE_TUNE,\n",
    "           KAGGLE_USERNAME,\n",
    "           KAGGLE_KEY,\n",
    "           TAG_NAME, \n",
    "           ).strip()\n",
    "print(substitutions)\n",
    "\n",
    "# Builds image\n",
    "!gcloud builds submit . --config \"components/fine_tunning/cloudbuild.yaml\" --substitutions {substitutions} --region={GCP_REGION}"
   ]
  },
  {
   "cell_type": "code",
   "execution_count": null,
   "id": "abd61e9c-6cc9-4b86-9c44-c15f620facfe",
   "metadata": {},
   "outputs": [],
   "source": [
    "import json\n",
    "\n",
    "data = [\"Sender: FoooodddAndres Perez: Coming :)\", \"Sender: Can I maybe borrow your iron? Andres Perez: It\\'s not my iron But yeah haha Or is it?\"]\n",
    "model_paths = \"\"\"{\"finetuned_model_dir\": \"./gemma_2b_en\", \"finetuned_weights_path\": \"./gemma_2b_en/model.weights.h5\"}\"\"\"\n",
    "print(len(data))\n",
    "model_paths = json.dumps(model_paths)\n",
    "#!docker run gcr.io/able-analyst-416817/gemma-chatbot-fine-tunning:latest trainer.py --data {data} --model-paths {model_paths}\n",
    "#!python ./components/fine_tunning/trainer.py --data {data} --model-paths {model_paths}\n",
    "#!python ./components/fine_tunning/conversion_function.py --weights-file {model_paths_and_config['finetuned_weights_path']} --size {model_paths_and_config['model_size']} --vocab-path {model_paths_and_config['finetuned_vocab_path']} --output-dir {model_paths_and_config['huggingface_model_dir']}"
   ]
  },
  {
   "cell_type": "code",
   "execution_count": null,
   "id": "588ed344-320c-4cb3-82b2-d94467dc5f0e",
   "metadata": {},
   "outputs": [],
   "source": []
  },
  {
   "cell_type": "code",
   "execution_count": null,
   "id": "ba87d49e-615a-475a-a9e8-6e53760d9dce",
   "metadata": {},
   "outputs": [],
   "source": [
    "substitutions=\"\"\"\n",
    "_CONTAINER_IMAGE_NAME_RUN_APP={},\\\n",
    "_GCP_REGION={},\\\n",
    "TAG_NAME={}\\\n",
    "\"\"\".format(\n",
    "           CONTAINER_IMAGE_NAME_RUN_APP,\n",
    "           GCP_REGION,\n",
    "           TAG_NAME, \n",
    "           ).strip()\n",
    "print(substitutions)\n",
    "!gcloud builds submit . --timeout=15m --config \"components/app_flask/cloudbuild.yaml\" --substitutions {substitutions} --region={GCP_REGION}"
   ]
  },
  {
   "cell_type": "code",
   "execution_count": 12,
   "id": "7e1e4f3e-2dd2-4b7c-9218-3b48ee2d2afb",
   "metadata": {},
   "outputs": [
    {
     "name": "stdout",
     "output_type": "stream",
     "text": [
      "./gemma_2b_en\n",
      "This is the dictionary {'model_size': '2b', 'finetuned_model_dir': './gemma_2b_en', 'finetuned_weights_path': './gemma_2b_en/model.weights.h5', 'finetuned_vocab_path': './gemma_2b_en/vocabulary.spm', 'huggingface_model_dir': './gemma_2b_en_huggingface', 'deployed_model_blob': 'gemma_2b_en/20240323192751', 'deployed_model_uri': 'gs://able-analyst-416817-chatbot-v1/gemma_2b_en/20240323192751', 'fine_tuned_keras_blob': 'gemma_2b_en/keras/20240323192751', 'model_name_vllm': 'gemma_2b_en-vllm', 'machine_type': 'g2-standard-8', 'accelerator_type': 'NVIDIA_L4', 'accelerator_count': 1}\n",
      "/home/jupyter/chatbot/fine_tune_pipeline_test.json\n"
     ]
    }
   ],
   "source": [
    "!kfp dsl compile --py './components/pipeline/pipeline/pipeline.py' --output \"fine_tune_pipeline_test.json\" --function fine_tune_pipeline"
   ]
  },
  {
   "cell_type": "code",
   "execution_count": 11,
   "id": "12ad583b-7665-46ff-86a0-480e3895161e",
   "metadata": {
    "tags": []
   },
   "outputs": [
    {
     "name": "stdout",
     "output_type": "stream",
     "text": [
      "/home/jupyter/chatbot\n"
     ]
    }
   ],
   "source": [
    "!pwd"
   ]
  },
  {
   "cell_type": "code",
   "execution_count": 61,
   "id": "6f671c3e-7269-4712-8adc-c5831e4bcc95",
   "metadata": {
    "tags": []
   },
   "outputs": [
    {
     "name": "stdout",
     "output_type": "stream",
     "text": [
      "_CONTAINER_IMAGE_NAME_PIPELINE=gemma-chatbot-pipeline-app,TAG_NAME=latest,_BUCKET_NAME=able-analyst-416817-chatbot-v1,_FINE_TUNE_FLAG=False,_EPOCHS=12,_MODEL_NAME=gemma_2b_en\n",
      "Creating temporary tarball archive of 133 file(s) totalling 2.2 MiB before compression.\n",
      "Uploading tarball of [.] to [gs://able-analyst-416817_cloudbuild/source/1711662324.024028-8727799214a7486cb39c69dd36965550.tgz]\n",
      "Created [https://cloudbuild.googleapis.com/v1/projects/able-analyst-416817/locations/us-central1/builds/91eeca00-ce1b-490a-9cec-c08fc7ed5f4a].\n",
      "Logs are available at [ https://console.cloud.google.com/cloud-build/builds;region=us-central1/91eeca00-ce1b-490a-9cec-c08fc7ed5f4a?project=24796876098 ].\n",
      "----------------------------- REMOTE BUILD OUTPUT ------------------------------\n",
      "starting build \"91eeca00-ce1b-490a-9cec-c08fc7ed5f4a\"\n",
      "\n",
      "FETCHSOURCE\n",
      "Fetching storage object: gs://able-analyst-416817_cloudbuild/source/1711662324.024028-8727799214a7486cb39c69dd36965550.tgz#1711662324778321\n",
      "Copying gs://able-analyst-416817_cloudbuild/source/1711662324.024028-8727799214a7486cb39c69dd36965550.tgz#1711662324778321...\n",
      "/ [1 files][771.3 KiB/771.3 KiB]                                                \n",
      "Operation completed over 1 objects/771.3 KiB.\n",
      "BUILD\n",
      "Starting Step #0\n",
      "Step #0: Already have image (with digest): gcr.io/cloud-builders/docker\n",
      "Step #0: Sending build context to Docker daemon  56.32kB\n",
      "Step #0: Step 1/10 : FROM python:3.9-slim\n",
      "Step #0: 3.9-slim: Pulling from library/python\n",
      "Step #0: 8a1e25ce7c4f: Already exists\n",
      "Step #0: 1103112ebfc4: Pulling fs layer\n",
      "Step #0: 6e52db3290c0: Pulling fs layer\n",
      "Step #0: 937bce5dbc70: Pulling fs layer\n",
      "Step #0: 05e63546fee1: Pulling fs layer\n",
      "Step #0: 05e63546fee1: Waiting\n",
      "Step #0: 937bce5dbc70: Verifying Checksum\n",
      "Step #0: 937bce5dbc70: Download complete\n",
      "Step #0: 1103112ebfc4: Verifying Checksum\n",
      "Step #0: 1103112ebfc4: Download complete\n",
      "Step #0: 6e52db3290c0: Verifying Checksum\n",
      "Step #0: 6e52db3290c0: Download complete\n",
      "Step #0: 05e63546fee1: Verifying Checksum\n",
      "Step #0: 05e63546fee1: Download complete\n",
      "Step #0: 1103112ebfc4: Pull complete\n",
      "Step #0: 6e52db3290c0: Pull complete\n",
      "Step #0: 937bce5dbc70: Pull complete\n",
      "Step #0: 05e63546fee1: Pull complete\n",
      "Step #0: Digest: sha256:0b4b0801ae9ae61bb57bc738b1efbe4e16b927fd581774c8edfed90f0e0f01ad\n",
      "Step #0: Status: Downloaded newer image for python:3.9-slim\n",
      "Step #0:  ---> 04efcd1709fb\n",
      "Step #0: Step 2/10 : WORKDIR /pipeline\n",
      "Step #0:  ---> Running in b53b46722cdd\n",
      "Step #0: Removing intermediate container b53b46722cdd\n",
      "Step #0:  ---> 715724cf211e\n",
      "Step #0: Step 3/10 : RUN ls\n",
      "Step #0:  ---> Running in ec7c9793f3f3\n",
      "Step #0: Removing intermediate container ec7c9793f3f3\n",
      "Step #0:  ---> e6fedbea20b7\n",
      "Step #0: Step 4/10 : COPY requirements.txt .\n",
      "Step #0:  ---> 368a1c003f04\n",
      "Step #0: Step 5/10 : RUN pip install -U -r requirements.txt\n",
      "Step #0:  ---> Running in 0795b6174e48\n",
      "Step #0: Collecting kfp\n",
      "Step #0:   Downloading kfp-2.7.0.tar.gz (441 kB)\n",
      "Step #0:      ━━━━━━━━━━━━━━━━━━━━━━━━━━━━━━━━━━━━━━━ 441.8/441.8 kB 3.7 MB/s eta 0:00:00\n",
      "Step #0:   Preparing metadata (setup.py): started\n",
      "Step #0:   Preparing metadata (setup.py): finished with status 'done'\n",
      "Step #0: Collecting google-cloud-aiplatform\n",
      "Step #0:   Downloading google_cloud_aiplatform-1.45.0-py2.py3-none-any.whl (4.3 MB)\n",
      "Step #0:      ━━━━━━━━━━━━━━━━━━━━━━━━━━━━━━━━━━━━━━━━ 4.3/4.3 MB 33.9 MB/s eta 0:00:00\n",
      "Step #0: Collecting google-cloud-pipeline-components\n",
      "Step #0:   Downloading google_cloud_pipeline_components-2.12.0-py3-none-any.whl (1.4 MB)\n",
      "Step #0:      ━━━━━━━━━━━━━━━━━━━━━━━━━━━━━━━━━━━━━━━━ 1.4/1.4 MB 26.8 MB/s eta 0:00:00\n",
      "Step #0: Collecting pyarrow\n",
      "Step #0:   Downloading pyarrow-15.0.2-cp39-cp39-manylinux_2_28_x86_64.whl (38.3 MB)\n",
      "Step #0:      ━━━━━━━━━━━━━━━━━━━━━━━━━━━━━━━━━━━━━━━━ 38.3/38.3 MB 29.9 MB/s eta 0:00:00\n",
      "Step #0: Collecting click<9,>=8.0.0\n",
      "Step #0:   Downloading click-8.1.7-py3-none-any.whl (97 kB)\n",
      "Step #0:      ━━━━━━━━━━━━━━━━━━━━━━━━━━━━━━━━━━━━━━━━ 97.9/97.9 kB 16.8 MB/s eta 0:00:00\n",
      "Step #0: Collecting docstring-parser<1,>=0.7.3\n",
      "Step #0:   Downloading docstring_parser-0.16-py3-none-any.whl (36 kB)\n",
      "Step #0: Collecting google-api-core!=2.0.*,!=2.1.*,!=2.2.*,!=2.3.0,<3.0.0dev,>=1.31.5\n",
      "Step #0:   Downloading google_api_core-2.18.0-py3-none-any.whl (138 kB)\n",
      "Step #0:      ━━━━━━━━━━━━━━━━━━━━━━━━━━━━━━━━━━━━━━ 138.3/138.3 kB 22.4 MB/s eta 0:00:00\n",
      "Step #0: Collecting google-auth<3,>=1.6.1\n",
      "Step #0:   Downloading google_auth-2.29.0-py2.py3-none-any.whl (189 kB)\n",
      "Step #0:      ━━━━━━━━━━━━━━━━━━━━━━━━━━━━━━━━━━━━━━ 189.2/189.2 kB 28.6 MB/s eta 0:00:00\n",
      "Step #0: Collecting google-cloud-storage<3,>=2.2.1\n",
      "Step #0:   Downloading google_cloud_storage-2.16.0-py2.py3-none-any.whl (125 kB)\n",
      "Step #0:      ━━━━━━━━━━━━━━━━━━━━━━━━━━━━━━━━━━━━━━ 125.6/125.6 kB 21.7 MB/s eta 0:00:00\n",
      "Step #0: Collecting kfp-pipeline-spec==0.3.0\n",
      "Step #0:   Downloading kfp_pipeline_spec-0.3.0-py3-none-any.whl (12 kB)\n",
      "Step #0: Collecting kfp-server-api<2.1.0,>=2.0.0\n",
      "Step #0:   Downloading kfp-server-api-2.0.5.tar.gz (63 kB)\n",
      "Step #0:      ━━━━━━━━━━━━━━━━━━━━━━━━━━━━━━━━━━━━━━━━ 63.4/63.4 kB 11.7 MB/s eta 0:00:00\n",
      "Step #0:   Preparing metadata (setup.py): started\n",
      "Step #0:   Preparing metadata (setup.py): finished with status 'done'\n",
      "Step #0: Collecting kubernetes<27,>=8.0.0\n",
      "Step #0:   Downloading kubernetes-26.1.0-py2.py3-none-any.whl (1.4 MB)\n",
      "Step #0:      ━━━━━━━━━━━━━━━━━━━━━━━━━━━━━━━━━━━━━━━━ 1.4/1.4 MB 59.2 MB/s eta 0:00:00\n",
      "Step #0: Collecting protobuf<5,>=4.21.1\n",
      "Step #0:   Downloading protobuf-4.25.3-cp37-abi3-manylinux2014_x86_64.whl (294 kB)\n",
      "Step #0:      ━━━━━━━━━━━━━━━━━━━━━━━━━━━━━━━━━━━━━━ 294.6/294.6 kB 37.0 MB/s eta 0:00:00\n",
      "Step #0: Collecting PyYAML<7,>=5.3\n",
      "Step #0:   Downloading PyYAML-6.0.1-cp39-cp39-manylinux_2_17_x86_64.manylinux2014_x86_64.whl (738 kB)\n",
      "Step #0:      ━━━━━━━━━━━━━━━━━━━━━━━━━━━━━━━━━━━━━━ 738.9/738.9 kB 51.3 MB/s eta 0:00:00\n",
      "Step #0: Collecting requests-toolbelt<1,>=0.8.0\n",
      "Step #0:   Downloading requests_toolbelt-0.10.1-py2.py3-none-any.whl (54 kB)\n",
      "Step #0:      ━━━━━━━━━━━━━━━━━━━━━━━━━━━━━━━━━━━━━━━━ 54.5/54.5 kB 8.6 MB/s eta 0:00:00\n",
      "Step #0: Collecting tabulate<1,>=0.8.6\n",
      "Step #0:   Downloading tabulate-0.9.0-py3-none-any.whl (35 kB)\n",
      "Step #0: Collecting urllib3<2.0.0\n",
      "Step #0:   Downloading urllib3-1.26.18-py2.py3-none-any.whl (143 kB)\n",
      "Step #0:      ━━━━━━━━━━━━━━━━━━━━━━━━━━━━━━━━━━━━━━ 143.8/143.8 kB 22.8 MB/s eta 0:00:00\n",
      "Step #0: Collecting google-cloud-bigquery!=3.20.0,<4.0.0dev,>=1.15.0\n",
      "Step #0:   Downloading google_cloud_bigquery-3.19.0-py2.py3-none-any.whl (232 kB)\n",
      "Step #0:      ━━━━━━━━━━━━━━━━━━━━━━━━━━━━━━━━━━━━━━ 232.6/232.6 kB 31.4 MB/s eta 0:00:00\n",
      "Step #0: Collecting proto-plus<2.0.0dev,>=1.22.0\n",
      "Step #0:   Downloading proto_plus-1.23.0-py3-none-any.whl (48 kB)\n",
      "Step #0:      ━━━━━━━━━━━━━━━━━━━━━━━━━━━━━━━━━━━━━━━━ 48.8/48.8 kB 7.6 MB/s eta 0:00:00\n",
      "Step #0: Collecting shapely<3.0.0dev\n",
      "Step #0:   Downloading shapely-2.0.3-cp39-cp39-manylinux_2_17_x86_64.manylinux2014_x86_64.whl (2.5 MB)\n",
      "Step #0:      ━━━━━━━━━━━━━━━━━━━━━━━━━━━━━━━━━━━━━━━━ 2.5/2.5 MB 48.3 MB/s eta 0:00:00\n",
      "Step #0: Collecting packaging>=14.3\n",
      "Step #0:   Downloading packaging-24.0-py3-none-any.whl (53 kB)\n",
      "Step #0:      ━━━━━━━━━━━━━━━━━━━━━━━━━━━━━━━━━━━━━━━━ 53.5/53.5 kB 8.2 MB/s eta 0:00:00\n",
      "Step #0: Collecting google-cloud-resource-manager<3.0.0dev,>=1.3.3\n",
      "Step #0:   Downloading google_cloud_resource_manager-1.12.3-py2.py3-none-any.whl (333 kB)\n",
      "Step #0:      ━━━━━━━━━━━━━━━━━━━━━━━━━━━━━━━━━━━━━━ 333.7/333.7 kB 36.7 MB/s eta 0:00:00\n",
      "Step #0: Collecting pydantic<3\n",
      "Step #0:   Downloading pydantic-2.6.4-py3-none-any.whl (394 kB)\n",
      "Step #0:      ━━━━━━━━━━━━━━━━━━━━━━━━━━━━━━━━━━━━━━ 394.9/394.9 kB 40.1 MB/s eta 0:00:00\n",
      "Step #0: Collecting Jinja2<4,>=3.1.2\n",
      "Step #0:   Downloading Jinja2-3.1.3-py3-none-any.whl (133 kB)\n",
      "Step #0:      ━━━━━━━━━━━━━━━━━━━━━━━━━━━━━━━━━━━━━━ 133.2/133.2 kB 20.7 MB/s eta 0:00:00\n",
      "Step #0: Collecting numpy<2,>=1.16.6\n",
      "Step #0:   Downloading numpy-1.26.4-cp39-cp39-manylinux_2_17_x86_64.manylinux2014_x86_64.whl (18.2 MB)\n",
      "Step #0:      ━━━━━━━━━━━━━━━━━━━━━━━━━━━━━━━━━━━━━━━━ 18.2/18.2 MB 34.4 MB/s eta 0:00:00\n",
      "Step #0: Collecting requests<3.0.0.dev0,>=2.18.0\n",
      "Step #0:   Downloading requests-2.31.0-py3-none-any.whl (62 kB)\n",
      "Step #0:      ━━━━━━━━━━━━━━━━━━━━━━━━━━━━━━━━━━━━━━━━ 62.6/62.6 kB 4.2 MB/s eta 0:00:00\n",
      "Step #0: Collecting googleapis-common-protos<2.0.dev0,>=1.56.2\n",
      "Step #0:   Downloading googleapis_common_protos-1.63.0-py2.py3-none-any.whl (229 kB)\n",
      "Step #0:      ━━━━━━━━━━━━━━━━━━━━━━━━━━━━━━━━━━━━━━ 229.1/229.1 kB 23.7 MB/s eta 0:00:00\n",
      "Step #0: Collecting grpcio-status<2.0.dev0,>=1.33.2\n",
      "Step #0:   Downloading grpcio_status-1.62.1-py3-none-any.whl (14 kB)\n",
      "Step #0: Collecting grpcio<2.0dev,>=1.33.2\n",
      "Step #0:   Downloading grpcio-1.62.1-cp39-cp39-manylinux_2_17_x86_64.manylinux2014_x86_64.whl (5.6 MB)\n",
      "Step #0:      ━━━━━━━━━━━━━━━━━━━━━━━━━━━━━━━━━━━━━━━━ 5.6/5.6 MB 32.7 MB/s eta 0:00:00\n",
      "Step #0: Collecting pyasn1-modules>=0.2.1\n",
      "Step #0:   Downloading pyasn1_modules-0.4.0-py3-none-any.whl (181 kB)\n",
      "Step #0:      ━━━━━━━━━━━━━━━━━━━━━━━━━━━━━━━━━━━━━━ 181.2/181.2 kB 25.2 MB/s eta 0:00:00\n",
      "Step #0: Collecting cachetools<6.0,>=2.0.0\n",
      "Step #0:   Downloading cachetools-5.3.3-py3-none-any.whl (9.3 kB)\n",
      "Step #0: Collecting rsa<5,>=3.1.4\n",
      "Step #0:   Downloading rsa-4.9-py3-none-any.whl (34 kB)\n",
      "Step #0: Collecting google-resumable-media<3.0dev,>=0.6.0\n",
      "Step #0:   Downloading google_resumable_media-2.7.0-py2.py3-none-any.whl (80 kB)\n",
      "Step #0:      ━━━━━━━━━━━━━━━━━━━━━━━━━━━━━━━━━━━━━━━━ 80.6/80.6 kB 12.1 MB/s eta 0:00:00\n",
      "Step #0: Collecting python-dateutil<3.0dev,>=2.7.2\n",
      "Step #0:   Downloading python_dateutil-2.9.0.post0-py2.py3-none-any.whl (229 kB)\n",
      "Step #0:      ━━━━━━━━━━━━━━━━━━━━━━━━━━━━━━━━━━━━━━ 229.9/229.9 kB 28.7 MB/s eta 0:00:00\n",
      "Step #0: Collecting google-cloud-core<3.0.0dev,>=1.6.0\n",
      "Step #0:   Downloading google_cloud_core-2.4.1-py2.py3-none-any.whl (29 kB)\n",
      "Step #0: Collecting grpc-google-iam-v1<1.0.0dev,>=0.12.4\n",
      "Step #0:   Downloading grpc_google_iam_v1-0.13.0-py2.py3-none-any.whl (25 kB)\n",
      "Step #0: Collecting google-crc32c<2.0dev,>=1.0\n",
      "Step #0:   Downloading google_crc32c-1.5.0-cp39-cp39-manylinux_2_17_x86_64.manylinux2014_x86_64.whl (32 kB)\n",
      "Step #0: Collecting MarkupSafe>=2.0\n",
      "Step #0:   Downloading MarkupSafe-2.1.5-cp39-cp39-manylinux_2_17_x86_64.manylinux2014_x86_64.whl (25 kB)\n",
      "Step #0: Collecting six>=1.10\n",
      "Step #0:   Downloading six-1.16.0-py2.py3-none-any.whl (11 kB)\n",
      "Step #0: Collecting certifi\n",
      "Step #0:   Downloading certifi-2024.2.2-py3-none-any.whl (163 kB)\n",
      "Step #0:      ━━━━━━━━━━━━━━━━━━━━━━━━━━━━━━━━━━━━━━ 163.8/163.8 kB 25.2 MB/s eta 0:00:00\n",
      "Step #0: Collecting websocket-client!=0.40.0,!=0.41.*,!=0.42.*,>=0.32.0\n",
      "Step #0:   Downloading websocket_client-1.7.0-py3-none-any.whl (58 kB)\n",
      "Step #0:      ━━━━━━━━━━━━━━━━━━━━━━━━━━━━━━━━━━━━━━━━ 58.5/58.5 kB 8.5 MB/s eta 0:00:00\n",
      "Step #0: Requirement already satisfied: setuptools>=21.0.0 in /usr/local/lib/python3.9/site-packages (from kubernetes<27,>=8.0.0->kfp->-r requirements.txt (line 1)) (58.1.0)\n",
      "Step #0: Collecting requests-oauthlib\n",
      "Step #0:   Downloading requests_oauthlib-2.0.0-py2.py3-none-any.whl (24 kB)\n",
      "Step #0: Collecting typing-extensions>=4.6.1\n",
      "Step #0:   Downloading typing_extensions-4.10.0-py3-none-any.whl (33 kB)\n",
      "Step #0: Collecting pydantic-core==2.16.3\n",
      "Step #0:   Downloading pydantic_core-2.16.3-cp39-cp39-manylinux_2_17_x86_64.manylinux2014_x86_64.whl (2.2 MB)\n",
      "Step #0:      ━━━━━━━━━━━━━━━━━━━━━━━━━━━━━━━━━━━━━━━━ 2.2/2.2 MB 30.2 MB/s eta 0:00:00\n",
      "Step #0: Collecting annotated-types>=0.4.0\n",
      "Step #0:   Downloading annotated_types-0.6.0-py3-none-any.whl (12 kB)\n",
      "Step #0: Collecting pyasn1<0.7.0,>=0.4.6\n",
      "Step #0:   Downloading pyasn1-0.6.0-py2.py3-none-any.whl (85 kB)\n",
      "Step #0:      ━━━━━━━━━━━━━━━━━━━━━━━━━━━━━━━━━━━━━━━━ 85.3/85.3 kB 12.2 MB/s eta 0:00:00\n",
      "Step #0: Collecting idna<4,>=2.5\n",
      "Step #0:   Downloading idna-3.6-py3-none-any.whl (61 kB)\n",
      "Step #0:      ━━━━━━━━━━━━━━━━━━━━━━━━━━━━━━━━━━━━━━━━ 61.6/61.6 kB 9.1 MB/s eta 0:00:00\n",
      "Step #0: Collecting charset-normalizer<4,>=2\n",
      "Step #0:   Downloading charset_normalizer-3.3.2-cp39-cp39-manylinux_2_17_x86_64.manylinux2014_x86_64.whl (142 kB)\n",
      "Step #0:      ━━━━━━━━━━━━━━━━━━━━━━━━━━━━━━━━━━━━━━ 142.3/142.3 kB 19.5 MB/s eta 0:00:00\n",
      "Step #0: Collecting oauthlib>=3.0.0\n",
      "Step #0:   Downloading oauthlib-3.2.2-py3-none-any.whl (151 kB)\n",
      "Step #0:      ━━━━━━━━━━━━━━━━━━━━━━━━━━━━━━━━━━━━━━ 151.7/151.7 kB 21.9 MB/s eta 0:00:00\n",
      "Step #0: Building wheels for collected packages: kfp, kfp-server-api\n",
      "Step #0:   Building wheel for kfp (setup.py): started\n",
      "Step #0:   Building wheel for kfp (setup.py): finished with status 'done'\n",
      "Step #0:   Created wheel for kfp: filename=kfp-2.7.0-py3-none-any.whl size=610438 sha256=1e2271f7d4ff75c8e9ed34ea60b688db77627de92fb793e393c3624ad1f71136\n",
      "Step #0:   Stored in directory: /root/.cache/pip/wheels/6b/21/04/3a90a57cfed7fb3b132d75ef1617fdeaa85916b04551d5369d\n",
      "Step #0:   Building wheel for kfp-server-api (setup.py): started\n",
      "Step #0:   Building wheel for kfp-server-api (setup.py): finished with status 'done'\n",
      "Step #0:   Created wheel for kfp-server-api: filename=kfp_server_api-2.0.5-py3-none-any.whl size=114750 sha256=f2a5173d476669b686b9dc7416ccba7b609082bd06ffe9f7bf14b4769dde6e79\n",
      "Step #0:   Stored in directory: /root/.cache/pip/wheels/a6/c9/de/9f6964cdffc4d454c0a96d34f9b5ea5e51fc3224ec379222ff\n",
      "Step #0: Successfully built kfp kfp-server-api\n",
      "Step #0: Installing collected packages: websocket-client, urllib3, typing-extensions, tabulate, six, PyYAML, pyasn1, protobuf, packaging, oauthlib, numpy, MarkupSafe, idna, grpcio, google-crc32c, docstring-parser, click, charset-normalizer, certifi, cachetools, annotated-types, shapely, rsa, requests, python-dateutil, pydantic-core, pyasn1-modules, pyarrow, proto-plus, kfp-pipeline-spec, Jinja2, googleapis-common-protos, google-resumable-media, requests-toolbelt, requests-oauthlib, pydantic, kfp-server-api, grpcio-status, google-auth, kubernetes, grpc-google-iam-v1, google-api-core, google-cloud-core, google-cloud-storage, google-cloud-resource-manager, google-cloud-bigquery, kfp, google-cloud-aiplatform, google-cloud-pipeline-components\n",
      "Step #0: Successfully installed Jinja2-3.1.3 MarkupSafe-2.1.5 PyYAML-6.0.1 annotated-types-0.6.0 cachetools-5.3.3 certifi-2024.2.2 charset-normalizer-3.3.2 click-8.1.7 docstring-parser-0.16 google-api-core-2.18.0 google-auth-2.29.0 google-cloud-aiplatform-1.45.0 google-cloud-bigquery-3.19.0 google-cloud-core-2.4.1 google-cloud-pipeline-components-2.12.0 google-cloud-resource-manager-1.12.3 google-cloud-storage-2.16.0 google-crc32c-1.5.0 google-resumable-media-2.7.0 googleapis-common-protos-1.63.0 grpc-google-iam-v1-0.13.0 grpcio-1.62.1 grpcio-status-1.62.1 idna-3.6 kfp-2.7.0 kfp-pipeline-spec-0.3.0 kfp-server-api-2.0.5 kubernetes-26.1.0 numpy-1.26.4 oauthlib-3.2.2 packaging-24.0 proto-plus-1.23.0 protobuf-4.25.3 pyarrow-15.0.2 pyasn1-0.6.0 pyasn1-modules-0.4.0 pydantic-2.6.4 pydantic-core-2.16.3 python-dateutil-2.9.0.post0 requests-2.31.0 requests-oauthlib-2.0.0 requests-toolbelt-0.10.1 rsa-4.9 shapely-2.0.3 six-1.16.0 tabulate-0.9.0 typing-extensions-4.10.0 urllib3-1.26.18 websocket-client-1.7.0\n",
      "Step #0: \u001b[91mWARNING: Running pip as the 'root' user can result in broken permissions and conflicting behaviour with the system package manager. It is recommended to use a virtual environment instead: https://pip.pypa.io/warnings/venv\n",
      "Step #0: \u001b[0m\u001b[91m\n",
      "Step #0: [notice] A new release of pip is available: 23.0.1 -> 24.0\n",
      "Step #0: [notice] To update, run: pip install --upgrade pip\n",
      "Step #0: \u001b[0mRemoving intermediate container 0795b6174e48\n",
      "Step #0:  ---> 1b2c40e96cd9\n",
      "Step #0: Step 6/10 : COPY . /pipeline\n",
      "Step #0:  ---> ce4711889795\n",
      "Step #0: Step 7/10 : WORKDIR /pipeline\n",
      "Step #0:  ---> Running in 1e711260e927\n",
      "Step #0: Removing intermediate container 1e711260e927\n",
      "Step #0:  ---> 7023d253e3b5\n",
      "Step #0: Step 8/10 : RUN ls\n",
      "Step #0:  ---> Running in a61a1540ba88\n",
      "Step #0: Dockerfile\n",
      "Step #0: __init__.py\n",
      "Step #0: __pycache__\n",
      "Step #0: app.py\n",
      "Step #0: cloudbuild.yaml\n",
      "Step #0: config.py\n",
      "Step #0: pipeline.py\n",
      "Step #0: requirements.txt\n",
      "Step #0: util.py\n",
      "Step #0: Removing intermediate container a61a1540ba88\n",
      "Step #0:  ---> 58ebb325963d\n",
      "Step #0: Step 9/10 : RUN pwd\n",
      "Step #0:  ---> Running in eececb472862\n",
      "Step #0: /pipeline\n",
      "Step #0: Removing intermediate container eececb472862\n",
      "Step #0:  ---> 153e928732fb\n",
      "Step #0: Step 10/10 : RUN pip list\n",
      "Step #0:  ---> Running in 907ffccc997d\n",
      "Step #0: Package                          Version\n",
      "Step #0: -------------------------------- -----------\n",
      "Step #0: annotated-types                  0.6.0\n",
      "Step #0: cachetools                       5.3.3\n",
      "Step #0: certifi                          2024.2.2\n",
      "Step #0: charset-normalizer               3.3.2\n",
      "Step #0: click                            8.1.7\n",
      "Step #0: docstring_parser                 0.16\n",
      "Step #0: google-api-core                  2.18.0\n",
      "Step #0: google-auth                      2.29.0\n",
      "Step #0: google-cloud-aiplatform          1.45.0\n",
      "Step #0: google-cloud-bigquery            3.19.0\n",
      "Step #0: google-cloud-core                2.4.1\n",
      "Step #0: google-cloud-pipeline-components 2.12.0\n",
      "Step #0: google-cloud-resource-manager    1.12.3\n",
      "Step #0: google-cloud-storage             2.16.0\n",
      "Step #0: google-crc32c                    1.5.0\n",
      "Step #0: google-resumable-media           2.7.0\n",
      "Step #0: googleapis-common-protos         1.63.0\n",
      "Step #0: grpc-google-iam-v1               0.13.0\n",
      "Step #0: grpcio                           1.62.1\n",
      "Step #0: grpcio-status                    1.62.1\n",
      "Step #0: idna                             3.6\n",
      "Step #0: Jinja2                           3.1.3\n",
      "Step #0: kfp                              2.7.0\n",
      "Step #0: kfp-pipeline-spec                0.3.0\n",
      "Step #0: kfp-server-api                   2.0.5\n",
      "Step #0: kubernetes                       26.1.0\n",
      "Step #0: MarkupSafe                       2.1.5\n",
      "Step #0: numpy                            1.26.4\n",
      "Step #0: oauthlib                         3.2.2\n",
      "Step #0: packaging                        24.0\n",
      "Step #0: pip                              23.0.1\n",
      "Step #0: proto-plus                       1.23.0\n",
      "Step #0: protobuf                         4.25.3\n",
      "Step #0: pyarrow                          15.0.2\n",
      "Step #0: pyasn1                           0.6.0\n",
      "Step #0: pyasn1_modules                   0.4.0\n",
      "Step #0: pydantic                         2.6.4\n",
      "Step #0: pydantic_core                    2.16.3\n",
      "Step #0: python-dateutil                  2.9.0.post0\n",
      "Step #0: PyYAML                           6.0.1\n",
      "Step #0: requests                         2.31.0\n",
      "Step #0: requests-oauthlib                2.0.0\n",
      "Step #0: requests-toolbelt                0.10.1\n",
      "Step #0: rsa                              4.9\n",
      "Step #0: setuptools                       58.1.0\n",
      "Step #0: shapely                          2.0.3\n",
      "Step #0: six                              1.16.0\n",
      "Step #0: tabulate                         0.9.0\n",
      "Step #0: typing_extensions                4.10.0\n",
      "Step #0: urllib3                          1.26.18\n",
      "Step #0: websocket-client                 1.7.0\n",
      "Step #0: wheel                            0.43.0\n",
      "Step #0: \u001b[91m\n",
      "Step #0: [notice] A new release of pip is available: 23.0.1 -> 24.0\n",
      "Step #0: [notice] To update, run: pip install --upgrade pip\n",
      "Step #0: \u001b[0mRemoving intermediate container 907ffccc997d\n",
      "Step #0:  ---> a49d30d778c0\n",
      "Step #0: Successfully built a49d30d778c0\n",
      "Step #0: Successfully tagged gcr.io/able-analyst-416817/gemma-chatbot-pipeline-app:latest\n",
      "Finished Step #0\n",
      "Starting Step #1\n",
      "Step #1: Already have image (with digest): gcr.io/cloud-builders/docker\n",
      "Step #1: The push refers to repository [gcr.io/able-analyst-416817/gemma-chatbot-pipeline-app]\n",
      "Step #1: 31dba8dfedff: Preparing\n",
      "Step #1: 58f070ed700f: Preparing\n",
      "Step #1: 6075eabbd381: Preparing\n",
      "Step #1: 5c612a352933: Preparing\n",
      "Step #1: 3a5cb775b534: Preparing\n",
      "Step #1: 5d78e4c3c132: Preparing\n",
      "Step #1: 9138b29cde77: Preparing\n",
      "Step #1: 4c8474755d1b: Preparing\n",
      "Step #1: c8f253aef560: Preparing\n",
      "Step #1: a483da8ab3e9: Preparing\n",
      "Step #1: 9138b29cde77: Waiting\n",
      "Step #1: 4c8474755d1b: Waiting\n",
      "Step #1: c8f253aef560: Waiting\n",
      "Step #1: a483da8ab3e9: Waiting\n",
      "Step #1: 5d78e4c3c132: Waiting\n",
      "Step #1: 5c612a352933: Pushed\n",
      "Step #1: 3a5cb775b534: Pushed\n",
      "Step #1: 58f070ed700f: Pushed\n",
      "Step #1: 31dba8dfedff: Pushed\n",
      "Step #1: 9138b29cde77: Layer already exists\n",
      "Step #1: 5d78e4c3c132: Layer already exists\n",
      "Step #1: 4c8474755d1b: Layer already exists\n",
      "Step #1: a483da8ab3e9: Layer already exists\n",
      "Step #1: c8f253aef560: Layer already exists\n",
      "Step #1: 6075eabbd381: Pushed\n",
      "Step #1: latest: digest: sha256:61f4ff942e7573b6405e5264c993a5cc0bb130dd1a5527bbe6a8b237a5044a5a size: 2414\n",
      "Finished Step #1\n",
      "Starting Step #2\n",
      "Step #2: Already have image (with digest): gcr.io/able-analyst-416817/gemma-chatbot-pipeline-app:latest\n",
      "Step #2: Aqui esta el mismo pedo {{channel:task=;name=bucket_name;type=String;}}\n",
      "Step #2: Aqui esta el mismo pedo <class 'kfp.dsl.pipeline_channel.PipelineParameterChannel'>\n",
      "Step #2: This is the model name gemma_2b_en\n",
      "Step #2: ./gemma_2b_en\n",
      "Step #2: This is the dictionary {'model_size': '2b', 'finetuned_model_dir': './gemma_2b_en', 'finetuned_weights_path': './gemma_2b_en/model.weights.h5', 'finetuned_vocab_path': './gemma_2b_en/vocabulary.spm', 'huggingface_model_dir': './gemma_2b_en_huggingface', 'deployed_model_blob': 'andrehpereh1/20240328214652/gemma_2b_en/huggingface', 'deployed_model_uri': 'gs://able-analyst-416817-chatbot-v1/andrehpereh1/20240328214652/gemma_2b_en/huggingface', 'fine_tuned_keras_blob': 'andrehpereh1/20240328214652/gemma_2b_en/keras', 'model_name_vllm': 'gemma_2b_en-vllm', 'machine_type': 'g2-standard-8', 'accelerator_type': 'NVIDIA_L4', 'accelerator_count': 1}\n",
      "Step #2: This is the model name gemma_2b_en Ahuevito\n",
      "Step #2: Creating PipelineJob\n",
      "Step #2: PipelineJob created. Resource name: projects/24796876098/locations/us-central1/pipelineJobs/model-deployment-20240328214654\n",
      "Step #2: To use this PipelineJob in another session:\n",
      "Step #2: pipeline_job = aiplatform.PipelineJob.get('projects/24796876098/locations/us-central1/pipelineJobs/model-deployment-20240328214654')\n",
      "Step #2: View Pipeline Job:\n",
      "Step #2: https://console.cloud.google.com/vertex-ai/locations/us-central1/pipelines/runs/model-deployment-20240328214654?project=24796876098\n",
      "Step #2: PipelineJob projects/24796876098/locations/us-central1/pipelineJobs/model-deployment-20240328214654 current state:\n",
      "Step #2: PipelineState.PIPELINE_STATE_RUNNING\n",
      "Step #2: PipelineJob projects/24796876098/locations/us-central1/pipelineJobs/model-deployment-20240328214654 current state:\n",
      "Step #2: PipelineState.PIPELINE_STATE_RUNNING\n",
      "Step #2: PipelineJob projects/24796876098/locations/us-central1/pipelineJobs/model-deployment-20240328214654 current state:\n",
      "Step #2: PipelineState.PIPELINE_STATE_RUNNING\n",
      "Step #2: PipelineJob projects/24796876098/locations/us-central1/pipelineJobs/model-deployment-20240328214654 current state:\n",
      "Step #2: PipelineState.PIPELINE_STATE_RUNNING\n",
      "Step #2: PipelineJob run completed. Resource name: projects/24796876098/locations/us-central1/pipelineJobs/model-deployment-20240328214654\n",
      "Finished Step #2\n",
      "PUSH\n",
      "DONE\n",
      "--------------------------------------------------------------------------------\n",
      "ID                                    CREATE_TIME                DURATION  SOURCE                                                                                             IMAGES  STATUS\n",
      "91eeca00-ce1b-490a-9cec-c08fc7ed5f4a  2024-03-28T21:45:24+00:00  3M18S     gs://able-analyst-416817_cloudbuild/source/1711662324.024028-8727799214a7486cb39c69dd36965550.tgz  -       SUCCESS\n"
     ]
    }
   ],
   "source": [
    "substitutions=\"\"\"\n",
    "_CONTAINER_IMAGE_NAME_PIPELINE={},\\\n",
    "TAG_NAME={},\\\n",
    "_BUCKET_NAME={},\\\n",
    "_FINE_TUNE_FLAG={},\\\n",
    "_EPOCHS={},\\\n",
    "_MODEL_NAME={}\n",
    "\"\"\".format(\n",
    "           CONTAINER_IMAGE_NAME_PIPELINE,\n",
    "           TAG_NAME,\n",
    "           BUCKET_NAME,\n",
    "           FINE_TUNE_FLAG,\n",
    "           EPOCHS,\n",
    "           MODEL_NAME\n",
    "           ).strip()\n",
    "print(substitutions)\n",
    "!gcloud builds submit . --config \"components/pipeline/cloudbuild.yaml\" --substitutions {substitutions} --region={GCP_REGION}"
   ]
  },
  {
   "cell_type": "code",
   "execution_count": null,
   "id": "5290781a-2b70-4823-8668-ebd8ce3022b4",
   "metadata": {
    "tags": []
   },
   "outputs": [],
   "source": [
    "# !python \"./components/pipeline/pipeline.py\""
   ]
  },
  {
   "cell_type": "code",
   "execution_count": null,
   "id": "d7ad76d7-5a6b-4b27-ad0e-633679ee2fdd",
   "metadata": {
    "tags": []
   },
   "outputs": [],
   "source": [
    "substitutions=f\"_CONTAINER_IMAGE_RUNNING_APP={CONTAINER_IMAGE_RUNNING_APP},TAG_NAME={TAG_NAME}\"\n",
    "print(substitutions)\n",
    "!gcloud builds submit . --config \"./components/app_flask/cloudbuild.yaml\" --substitutions {substitutions} --region={GCP_REGION}"
   ]
  },
  {
   "cell_type": "code",
   "execution_count": 53,
   "id": "0e6a1251-caa0-4f0c-b3e1-b4ff0f46c4e6",
   "metadata": {
    "tags": []
   },
   "outputs": [
    {
     "data": {
      "text/plain": [
       "<Response [500]>"
      ]
     },
     "execution_count": 53,
     "metadata": {},
     "output_type": "execute_result"
    }
   ],
   "source": []
  },
  {
   "cell_type": "code",
   "execution_count": 38,
   "id": "538bc302-ec53-432b-a9fd-7dec88d6cf87",
   "metadata": {
    "tags": []
   },
   "outputs": [
    {
     "name": "stdout",
     "output_type": "stream",
     "text": [
      "This is all {'steps': [{'name': 'gcr.io/cloud-builders/docker', 'args': ['build', '-t', 'gcr.io/$PROJECT_ID/$_CONTAINER_IMAGE_NAME_DATA_PREP:$TAG_NAME', '.'], 'dir': './components/data_preparation'}, {'name': 'gcr.io/cloud-builders/docker', 'args': ['push', 'gcr.io/$PROJECT_ID/$_CONTAINER_IMAGE_NAME_DATA_PREP:$TAG_NAME']}, {'name': 'gcr.io/cloud-builders/docker', 'args': ['build', '-t', 'gcr.io/$PROJECT_ID/$_CONTAINER_IMAGE_NAME_FINE_TUNE:$TAG_NAME', '--build-arg', 'KAGGLE_KEY=$_KAGGLE_KEY', '--build-arg', 'KAGGLE_USERNAME=$_KAGGLE_USERNAME', '.'], 'dir': './components/fine_tunning'}, {'name': 'gcr.io/cloud-builders/docker', 'args': ['push', 'gcr.io/$PROJECT_ID/$_CONTAINER_IMAGE_NAME_FINE_TUNE:$TAG_NAME']}, {'name': 'gcr.io/cloud-builders/docker', 'args': ['build', '-t', 'gcr.io/$PROJECT_ID/$_CONTAINER_IMAGE_NAME_PIPELINE:$TAG_NAME', '.'], 'dir': './components/pipeline'}, {'name': 'gcr.io/cloud-builders/docker', 'args': ['push', 'gcr.io/$PROJECT_ID/$_CONTAINER_IMAGE_NAME_PIPELINE:$TAG_NAME']}, {'name': 'gcr.io/$PROJECT_ID/$_CONTAINER_IMAGE_NAME_PIPELINE:$TAG_NAME', 'dir': './components/pipeline', 'args': ['python', 'pipeline.py'], 'env': ['BUCKET_NAME=$_BUCKET_NAME', 'FINE_TUNE_FLAG=$_FINE_TUNE_FLAG', 'EPOCHS=$_EPOCHS', 'MODEL_NAME=$_MODEL_NAME']}, {'name': 'gcr.io/cloud-builders/docker', 'args': ['build', '-t', 'gcr.io/$PROJECT_ID/$_CONTAINER_IMAGE_RUNNING_APP:$TAG_NAME', '.'], 'dir': './components/app_flask'}, {'name': 'gcr.io/cloud-builders/docker', 'args': ['push', 'gcr.io/$PROJECT_ID/$_CONTAINER_IMAGE_RUNNING_APP:$TAG_NAME']}, {'name': 'gcr.io/cloud-builders/gcloud', 'args': ['run', 'deploy', 'chattingwithandreh', '--image', 'gcr.io/$PROJECT_ID/$_CONTAINER_IMAGE_RUNNING_APP:$TAG_NAME', '--region', '$LOCATION', '--platform', 'managed', '--allow-unauthenticated', '--port', '5000']}]}\n"
     ]
    }
   ],
   "source": [
    "from cluodbuild_compiler import merge_cloudbuild_files, find_missing_elements\n",
    "child_files = [ \n",
    "    \"./components/data_preparation/cloudbuild.yaml\", \n",
    "    \"./components/fine_tunning/cloudbuild.yaml\", \n",
    "    \"./components/pipeline/cloudbuild.yaml\",\n",
    "    \"./components/app_flask/cloudbuild.yaml\"\n",
    "]\n",
    "\n",
    "descriptions = [ \n",
    "    \"Data Preparation\",\n",
    "    \"Model Training\", \n",
    "    \"Vertex AI Pipeline Deployment\",\n",
    "    \"App flask application (Cloud Run)\"\n",
    "]\n",
    "all_variables = merge_cloudbuild_files(child_files, descriptions, timeout_hours = 20)"
   ]
  },
  {
   "cell_type": "code",
   "execution_count": 41,
   "id": "30b93d85-e688-4360-bb2f-dc880b6c98fd",
   "metadata": {
    "tags": []
   },
   "outputs": [
    {
     "name": "stdout",
     "output_type": "stream",
     "text": [
      "_CONTAINER_IMAGE_NAME_DATA_PREP=gemma-chatbot-data-preparation,_CONTAINER_IMAGE_NAME_FINE_TUNE=gemma-chatbot-fine-tunning,_CONTAINER_IMAGE_NAME_PIPELINE=gemma-chatbot-pipeline-app,_CONTAINER_IMAGE_RUNNING_APP=gemma-chatbot-running-app,_BUCKET_NAME=able-analyst-416817-chatbot-v1_KAGGLE_USERNAME=andrehpereh1,_KAGGLE_KEY=5859e39806d9456749dcbac685f04bc9,_KAGGLE_USERNAME=andrehpereh1,_FINE_TUNE_FLAG=False,_EPOCHS=12,_MODEL_NAME=gemma_2b_en,TAG_NAME=latest\n"
     ]
    }
   ],
   "source": [
    "substitutions=f\"_CONTAINER_IMAGE_NAME_DATA_PREP={CONTAINER_IMAGE_NAME_DATA_PREP},_CONTAINER_IMAGE_NAME_FINE_TUNE={CONTAINER_IMAGE_NAME_FINE_TUNE}\\\n",
    ",_CONTAINER_IMAGE_NAME_PIPELINE={CONTAINER_IMAGE_NAME_PIPELINE},_CONTAINER_IMAGE_RUNNING_APP={CONTAINER_IMAGE_RUNNING_APP},_BUCKET_NAME={BUCKET_NAME}\\\n",
    "_KAGGLE_USERNAME={KAGGLE_USERNAME},_KAGGLE_KEY={KAGGLE_KEY},_KAGGLE_USERNAME={KAGGLE_USERNAME},_FINE_TUNE_FLAG={FINE_TUNE_FLAG},_EPOCHS={EPOCHS},_MODEL_NAME={MODEL_NAME},TAG_NAME={TAG_NAME}\"\n",
    "print(substitutions)"
   ]
  },
  {
   "cell_type": "code",
   "execution_count": 42,
   "id": "cb7fca8a-cd28-4bc5-943d-bffb1615ab42",
   "metadata": {
    "tags": []
   },
   "outputs": [
    {
     "name": "stdout",
     "output_type": "stream",
     "text": [
      "[]\n"
     ]
    }
   ],
   "source": [
    "missing_elements = find_missing_elements(all_variables, substitutions)\n",
    "print(missing_elements)\n"
   ]
  },
  {
   "cell_type": "code",
   "execution_count": null,
   "id": "590d0666-b0e6-4926-b830-7c2e62518110",
   "metadata": {
    "tags": []
   },
   "outputs": [],
   "source": [
    "!gcloud builds submit . --config \"./master_cloudbuild.json\" --substitutions {substitutions} --region={GCP_REGION}"
   ]
  },
  {
   "cell_type": "code",
   "execution_count": 1,
   "id": "7829947f-513a-4c2a-87c2-c0644cd417af",
   "metadata": {
    "tags": []
   },
   "outputs": [],
   "source": [
    "from werkzeug.datastructures import FileStorage"
   ]
  },
  {
   "cell_type": "code",
   "execution_count": 2,
   "id": "bc3449a7-6c22-4f74-a1dc-695b3454d526",
   "metadata": {
    "tags": []
   },
   "outputs": [],
   "source": [
    "from google.cloud import bigquery, storage, pubsub_v1"
   ]
  },
  {
   "cell_type": "code",
   "execution_count": 3,
   "id": "51b16b58-4948-4ac3-8e62-4bf44a276f68",
   "metadata": {
    "tags": []
   },
   "outputs": [
    {
     "name": "stdout",
     "output_type": "stream",
     "text": [
      "\u001b[1;31mERROR:\u001b[0m (gcloud.pubsub.subscriptions.pull) argument SUBSCRIPTION: Must be specified.\n",
      "Usage: gcloud pubsub subscriptions pull SUBSCRIPTION [optional flags]\n",
      "  optional flags may be  --auto-ack | --filter | --help | --limit |\n",
      "                         --page-size | --sort-by | --uri\n",
      "\n",
      "For detailed information on this command and its flags, run:\n",
      "  gcloud pubsub subscriptions pull --help\n"
     ]
    }
   ],
   "source": [
    "!gcloud pubsub subscriptions pull"
   ]
  },
  {
   "cell_type": "code",
   "execution_count": null,
   "id": "c6bae1df-efbf-408e-b9d3-89aa40b8e148",
   "metadata": {
    "tags": []
   },
   "outputs": [],
   "source": [
    "!gcloud pubsub subscriptions pull --auto-ack your-pipeline-trigger-topic-sub"
   ]
  },
  {
   "cell_type": "code",
   "execution_count": null,
   "id": "a428edba-6c98-49dc-a6c7-e2cfe63daf15",
   "metadata": {},
   "outputs": [],
   "source": [
    "import os\n",
    "from google.cloud import pubsub_v1\n",
    "\n",
    "# Project and subscription details\n",
    "project_id = \"able-analyst-416817\"  \n",
    "subscription_name = \"your-pipeline-trigger-topic-sub\"\n",
    "\n",
    "# Create Subscriber client\n",
    "subscriber = pubsub_v1.SubscriberClient()\n",
    "subscription_path = subscriber.subscription_path(project_id, subscription_name)\n",
    "\n",
    "def callback(message):\n",
    "    print(f\"Received message: {message.data}\")\n",
    "    message.ack()  # Acknowledge the message\n",
    "\n",
    "# Pulling messages\n",
    "streaming_pull_future = subscriber.subscribe(subscription_path, callback=callback)\n",
    "print(f\"Listening for messages on {subscription_path}..\\n\")\n",
    "\n",
    "# Wrap subscriber in a 'with' block to automatically close the client when done.\n",
    "with subscriber:\n",
    "    try:\n",
    "        # When `timeout` is notset, result() will block indefinitely,\n",
    "        # unless an exception is encountered.\n",
    "        streaming_pull_future.result()  # Continuously pulls messages\n",
    "    except TimeoutError: \n",
    "        streaming_pull_future.cancel()  # Trigger shutdown\n",
    "        streaming_pull_future.result()  # Block until shutdown is complete \n"
   ]
  },
  {
   "cell_type": "code",
   "execution_count": 3,
   "id": "97b082d8-111f-4973-ad6c-56a8dbdc1a77",
   "metadata": {},
   "outputs": [
    {
     "name": "stdout",
     "output_type": "stream",
     "text": [
      "LEVEL  NAME        TIME_UTC                 LOG\n",
      "       function-1  2024-03-27 08:24:48.845  This is the file  125\n",
      "       function-1  2024-03-27 08:24:48.845  This is the file  93\n",
      "       function-1  2024-03-27 08:24:48.845  This is the file  125\n",
      "       function-1  2024-03-27 08:24:48.845  This is the file  34\n",
      "       function-1  2024-03-27 08:24:48.845  This is the file  116\n"
     ]
    }
   ],
   "source": [
    "! gcloud functions logs read \\\n",
    "  --gen2 \\\n",
    "  --region='us-central1' \\\n",
    "  --limit=5 \\\n",
    "  'function-1'"
   ]
  },
  {
   "cell_type": "code",
   "execution_count": null,
   "id": "c41cdb33-d6b9-4ec7-a2dc-13a34441bf0e",
   "metadata": {},
   "outputs": [],
   "source": [
    "!gcloud builds submit . --config \"./master_cloudbuild.json\" --substitutions {substitutions} --region={GCP_REGION}"
   ]
  }
 ],
 "metadata": {
  "environment": {
   "kernel": "python3",
   "name": "tf2-cpu.2-11.m118",
   "type": "gcloud",
   "uri": "us-docker.pkg.dev/deeplearning-platform-release/gcr.io/tf2-cpu.2-11:m118"
  },
  "kernelspec": {
   "display_name": "Python 3 (Local)",
   "language": "python",
   "name": "python3"
  },
  "language_info": {
   "codemirror_mode": {
    "name": "ipython",
    "version": 3
   },
   "file_extension": ".py",
   "mimetype": "text/x-python",
   "name": "python",
   "nbconvert_exporter": "python",
   "pygments_lexer": "ipython3",
   "version": "3.10.13"
  }
 },
 "nbformat": 4,
 "nbformat_minor": 5
}
